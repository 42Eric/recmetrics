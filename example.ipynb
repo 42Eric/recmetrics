{
 "cells": [
  {
   "cell_type": "code",
   "execution_count": 2,
   "metadata": {},
   "outputs": [],
   "source": [
    "import pandas as pd\n",
    "import numpy as np\n",
    "from recommender_metrics.plots import LongTailPlot, CoveragePlot, MarkPlot\n",
    "from recommender_metrics.metrics import mark, coverage, personalization, intra_list_similarity\n",
    "import matplotlib.pyplot as plt"
   ]
  },
  {
   "cell_type": "markdown",
   "metadata": {},
   "source": [
    "# MovieLense Dataset\n",
    "Using the MovieLens 20M Dataset dataset for examples. You can download this data here: https://grouplens.org/datasets/movielens/20m/"
   ]
  },
  {
   "cell_type": "code",
   "execution_count": 3,
   "metadata": {},
   "outputs": [],
   "source": [
    "ratings = pd.read_csv('../movie_similarity_flask_api/data/ml-20m/ratings.csv')\n",
    "ratings = ratings.query('rating >=3')\n",
    "ratings.reset_index(drop=True, inplace=True)"
   ]
  },
  {
   "cell_type": "code",
   "execution_count": 4,
   "metadata": {},
   "outputs": [],
   "source": [
    "#only consider ratings from users who have rated over 1000 movies\n",
    "users = ratings.userId.value_counts()\n",
    "users = users[users>1000].index.tolist()"
   ]
  },
  {
   "cell_type": "code",
   "execution_count": 5,
   "metadata": {},
   "outputs": [
    {
     "name": "stdout",
     "output_type": "stream",
     "text": [
      "(1317902, 4)\n"
     ]
    },
    {
     "data": {
      "text/html": [
       "<div>\n",
       "<style scoped>\n",
       "    .dataframe tbody tr th:only-of-type {\n",
       "        vertical-align: middle;\n",
       "    }\n",
       "\n",
       "    .dataframe tbody tr th {\n",
       "        vertical-align: top;\n",
       "    }\n",
       "\n",
       "    .dataframe thead th {\n",
       "        text-align: right;\n",
       "    }\n",
       "</style>\n",
       "<table border=\"1\" class=\"dataframe\">\n",
       "  <thead>\n",
       "    <tr style=\"text-align: right;\">\n",
       "      <th></th>\n",
       "      <th>userId</th>\n",
       "      <th>movieId</th>\n",
       "      <th>rating</th>\n",
       "      <th>timestamp</th>\n",
       "    </tr>\n",
       "  </thead>\n",
       "  <tbody>\n",
       "    <tr>\n",
       "      <th>15918</th>\n",
       "      <td>156</td>\n",
       "      <td>1</td>\n",
       "      <td>5.0</td>\n",
       "      <td>1037739266</td>\n",
       "    </tr>\n",
       "    <tr>\n",
       "      <th>15919</th>\n",
       "      <td>156</td>\n",
       "      <td>2</td>\n",
       "      <td>5.0</td>\n",
       "      <td>1040937649</td>\n",
       "    </tr>\n",
       "    <tr>\n",
       "      <th>15920</th>\n",
       "      <td>156</td>\n",
       "      <td>4</td>\n",
       "      <td>3.0</td>\n",
       "      <td>1038801803</td>\n",
       "    </tr>\n",
       "  </tbody>\n",
       "</table>\n",
       "</div>"
      ],
      "text/plain": [
       "       userId  movieId  rating   timestamp\n",
       "15918     156        1     5.0  1037739266\n",
       "15919     156        2     5.0  1040937649\n",
       "15920     156        4     3.0  1038801803"
      ]
     },
     "execution_count": 5,
     "metadata": {},
     "output_type": "execute_result"
    }
   ],
   "source": [
    "ratings = ratings.query('userId in @users')\n",
    "print ratings.shape\n",
    "ratings.head(3)"
   ]
  },
  {
   "cell_type": "code",
   "execution_count": 29,
   "metadata": {},
   "outputs": [
    {
     "data": {
      "text/html": [
       "<div>\n",
       "<style scoped>\n",
       "    .dataframe tbody tr th:only-of-type {\n",
       "        vertical-align: middle;\n",
       "    }\n",
       "\n",
       "    .dataframe tbody tr th {\n",
       "        vertical-align: top;\n",
       "    }\n",
       "\n",
       "    .dataframe thead th {\n",
       "        text-align: right;\n",
       "    }\n",
       "</style>\n",
       "<table border=\"1\" class=\"dataframe\">\n",
       "  <thead>\n",
       "    <tr style=\"text-align: right;\">\n",
       "      <th></th>\n",
       "      <th>Action</th>\n",
       "      <th>Romance</th>\n",
       "      <th>Western</th>\n",
       "      <th>Comedy</th>\n",
       "      <th>Crime</th>\n",
       "    </tr>\n",
       "    <tr>\n",
       "      <th>movieId</th>\n",
       "      <th></th>\n",
       "      <th></th>\n",
       "      <th></th>\n",
       "      <th></th>\n",
       "      <th></th>\n",
       "    </tr>\n",
       "  </thead>\n",
       "  <tbody>\n",
       "    <tr>\n",
       "      <th>1</th>\n",
       "      <td>0</td>\n",
       "      <td>0</td>\n",
       "      <td>0</td>\n",
       "      <td>0</td>\n",
       "      <td>0</td>\n",
       "    </tr>\n",
       "    <tr>\n",
       "      <th>2</th>\n",
       "      <td>0</td>\n",
       "      <td>0</td>\n",
       "      <td>0</td>\n",
       "      <td>0</td>\n",
       "      <td>0</td>\n",
       "    </tr>\n",
       "    <tr>\n",
       "      <th>3</th>\n",
       "      <td>0</td>\n",
       "      <td>0</td>\n",
       "      <td>0</td>\n",
       "      <td>1</td>\n",
       "      <td>0</td>\n",
       "    </tr>\n",
       "    <tr>\n",
       "      <th>4</th>\n",
       "      <td>0</td>\n",
       "      <td>0</td>\n",
       "      <td>0</td>\n",
       "      <td>1</td>\n",
       "      <td>0</td>\n",
       "    </tr>\n",
       "    <tr>\n",
       "      <th>5</th>\n",
       "      <td>0</td>\n",
       "      <td>0</td>\n",
       "      <td>0</td>\n",
       "      <td>1</td>\n",
       "      <td>0</td>\n",
       "    </tr>\n",
       "  </tbody>\n",
       "</table>\n",
       "</div>"
      ],
      "text/plain": [
       "         Action  Romance  Western  Comedy  Crime\n",
       "movieId                                         \n",
       "1             0        0        0       0      0\n",
       "2             0        0        0       0      0\n",
       "3             0        0        0       1      0\n",
       "4             0        0        0       1      0\n",
       "5             0        0        0       1      0"
      ]
     },
     "execution_count": 29,
     "metadata": {},
     "output_type": "execute_result"
    }
   ],
   "source": [
    "# get movie features\n",
    "\n",
    "rated_movies = ratings.movieId.tolist()\n",
    "movies = pd.read_csv('../movie_similarity_flask_api/data/ml-20m/movies.csv')\n",
    "movies = movies.query('movieId in @rated_movies')\n",
    "movies.set_index(\"movieId\", inplace=True, drop=True)\n",
    "\n",
    "movies = movies.genres.str.split(\"|\", expand=True)\n",
    "movies.reset_index(inplace=True)\n",
    "movies = pd.melt(movies, id_vars='movieId', value_vars=[0, 1, 2, 3, 4, 5, 6, 7, 8, 9])\n",
    "movies.set_index('movieId', inplace=True)\n",
    "\n",
    "movies = pd.get_dummies(movies.value)\n",
    "movies = movies[['Action', 'Romance', 'Western', 'Comedy', 'Crime']]\n",
    "movies.head()"
   ]
  },
  {
   "cell_type": "markdown",
   "metadata": {},
   "source": [
    "# Long Tail Plot Example"
   ]
  },
  {
   "cell_type": "code",
   "execution_count": 7,
   "metadata": {},
   "outputs": [
    {
     "data": {
      "image/png": "[encoded data removed]",
      "text/plain": [
       "<Figure size 1080x504 with 1 Axes>"
      ]
     },
     "metadata": {
      "needs_background": "light"
     },
     "output_type": "display_data"
    }
   ],
   "source": [
    "import matplotlib.pyplot as plt\n",
    "\n",
    "fig = plt.figure(figsize=(15, 7))\n",
    "    \n",
    "LongTailPlot(df=ratings, \n",
    "             item_id_column=\"movieId\", \n",
    "             interaction_type=\"movie ratings\", \n",
    "             percentage=0.5,\n",
    "             x_labels=False)"
   ]
  },
  {
   "cell_type": "markdown",
   "metadata": {},
   "source": [
    "# Simple Popularity Recommender\n",
    "Creating a simple popularity recommender to demonstrate recommender metrics in action. The popularity recommender simply recommends the top 10 movies to every user."
   ]
  },
  {
   "cell_type": "markdown",
   "metadata": {},
   "source": [
    "## test/train split"
   ]
  },
  {
   "cell_type": "code",
   "execution_count": 8,
   "metadata": {},
   "outputs": [
    {
     "name": "stderr",
     "output_type": "stream",
     "text": [
      "/Users/clairelongo/Documents/Work/prof_dev/recommender_metrics/venv/lib/python2.7/site-packages/ipykernel_launcher.py:11: FutureWarning: using a dict on a Series for aggregation\n",
      "is deprecated and will be removed in a future version\n",
      "  # This is added back by InteractiveShellApp.init_path()\n"
     ]
    },
    {
     "data": {
      "text/html": [
       "<div>\n",
       "<style scoped>\n",
       "    .dataframe tbody tr th:only-of-type {\n",
       "        vertical-align: middle;\n",
       "    }\n",
       "\n",
       "    .dataframe tbody tr th {\n",
       "        vertical-align: top;\n",
       "    }\n",
       "\n",
       "    .dataframe thead th {\n",
       "        text-align: right;\n",
       "    }\n",
       "</style>\n",
       "<table border=\"1\" class=\"dataframe\">\n",
       "  <thead>\n",
       "    <tr style=\"text-align: right;\">\n",
       "      <th></th>\n",
       "      <th>actual</th>\n",
       "    </tr>\n",
       "    <tr>\n",
       "      <th>userId</th>\n",
       "      <th></th>\n",
       "    </tr>\n",
       "  </thead>\n",
       "  <tbody>\n",
       "    <tr>\n",
       "      <th>156</th>\n",
       "      <td>[1025, 4610, 2049, 5131, 514, 2062, 3501, 5650...</td>\n",
       "    </tr>\n",
       "    <tr>\n",
       "      <th>208</th>\n",
       "      <td>[3088, 105504, 36, 2599, 1584, 52, 1077, 568, ...</td>\n",
       "    </tr>\n",
       "    <tr>\n",
       "      <th>359</th>\n",
       "      <td>[2560, 5635, 4103, 522, 67087, 539, 82461, 553...</td>\n",
       "    </tr>\n",
       "    <tr>\n",
       "      <th>394</th>\n",
       "      <td>[4612, 1029, 44555, 3090, 26131, 2076, 2090, 1...</td>\n",
       "    </tr>\n",
       "    <tr>\n",
       "      <th>572</th>\n",
       "      <td>[3081, 1036, 3087, 1047, 24, 39449, 27, 2084, ...</td>\n",
       "    </tr>\n",
       "  </tbody>\n",
       "</table>\n",
       "</div>"
      ],
      "text/plain": [
       "                                                   actual\n",
       "userId                                                   \n",
       "156     [1025, 4610, 2049, 5131, 514, 2062, 3501, 5650...\n",
       "208     [3088, 105504, 36, 2599, 1584, 52, 1077, 568, ...\n",
       "359     [2560, 5635, 4103, 522, 67087, 539, 82461, 553...\n",
       "394     [4612, 1029, 44555, 3090, 26131, 2076, 2090, 1...\n",
       "572     [3081, 1036, 3087, 1047, 24, 39449, 27, 2084, ..."
      ]
     },
     "execution_count": 8,
     "metadata": {},
     "output_type": "execute_result"
    }
   ],
   "source": [
    "# the test data contains 100 movies from each user that are rated greater than 3 stars\n",
    "test_index = ratings.copy()\n",
    "test_index = test_index.groupby('userId')\n",
    "test_index = test_index.apply(lambda x: x.sample(min(100, len(x))))\n",
    "\n",
    "test_index.drop(axis=1, columns=\"userId\", inplace=True)\n",
    "test_index.reset_index(inplace=True, drop=False)\n",
    "test_index = test_index.level_1.values.tolist()\n",
    "\n",
    "test_df = ratings.loc[test_index]\n",
    "test = test_df.copy().groupby('userId')['movieId'].agg({'actual': (lambda x: list(set(x)))})\n",
    "test.head()"
   ]
  },
  {
   "cell_type": "code",
   "execution_count": 9,
   "metadata": {},
   "outputs": [
    {
     "data": {
      "text/html": [
       "<div>\n",
       "<style scoped>\n",
       "    .dataframe tbody tr th:only-of-type {\n",
       "        vertical-align: middle;\n",
       "    }\n",
       "\n",
       "    .dataframe tbody tr th {\n",
       "        vertical-align: top;\n",
       "    }\n",
       "\n",
       "    .dataframe thead th {\n",
       "        text-align: right;\n",
       "    }\n",
       "</style>\n",
       "<table border=\"1\" class=\"dataframe\">\n",
       "  <thead>\n",
       "    <tr style=\"text-align: right;\">\n",
       "      <th></th>\n",
       "      <th>userId</th>\n",
       "      <th>movieId</th>\n",
       "      <th>rating</th>\n",
       "      <th>timestamp</th>\n",
       "    </tr>\n",
       "  </thead>\n",
       "  <tbody>\n",
       "    <tr>\n",
       "      <th>15918</th>\n",
       "      <td>156</td>\n",
       "      <td>1</td>\n",
       "      <td>5.0</td>\n",
       "      <td>1037739266</td>\n",
       "    </tr>\n",
       "    <tr>\n",
       "      <th>15919</th>\n",
       "      <td>156</td>\n",
       "      <td>2</td>\n",
       "      <td>5.0</td>\n",
       "      <td>1040937649</td>\n",
       "    </tr>\n",
       "    <tr>\n",
       "      <th>15920</th>\n",
       "      <td>156</td>\n",
       "      <td>4</td>\n",
       "      <td>3.0</td>\n",
       "      <td>1038801803</td>\n",
       "    </tr>\n",
       "    <tr>\n",
       "      <th>15921</th>\n",
       "      <td>156</td>\n",
       "      <td>5</td>\n",
       "      <td>3.0</td>\n",
       "      <td>1040944583</td>\n",
       "    </tr>\n",
       "    <tr>\n",
       "      <th>15922</th>\n",
       "      <td>156</td>\n",
       "      <td>6</td>\n",
       "      <td>4.0</td>\n",
       "      <td>1037822117</td>\n",
       "    </tr>\n",
       "  </tbody>\n",
       "</table>\n",
       "</div>"
      ],
      "text/plain": [
       "       userId  movieId  rating   timestamp\n",
       "15918     156        1     5.0  1037739266\n",
       "15919     156        2     5.0  1040937649\n",
       "15920     156        4     3.0  1038801803\n",
       "15921     156        5     3.0  1040944583\n",
       "15922     156        6     4.0  1037822117"
      ]
     },
     "execution_count": 9,
     "metadata": {},
     "output_type": "execute_result"
    }
   ],
   "source": [
    "train_long = ratings[~ratings.index.isin(test_index)].dropna()\n",
    "train_long.head()"
   ]
  },
  {
   "cell_type": "markdown",
   "metadata": {},
   "source": [
    "## Popularity Recommendations"
   ]
  },
  {
   "cell_type": "code",
   "execution_count": 10,
   "metadata": {},
   "outputs": [
    {
     "data": {
      "text/html": [
       "<div>\n",
       "<style scoped>\n",
       "    .dataframe tbody tr th:only-of-type {\n",
       "        vertical-align: middle;\n",
       "    }\n",
       "\n",
       "    .dataframe tbody tr th {\n",
       "        vertical-align: top;\n",
       "    }\n",
       "\n",
       "    .dataframe thead th {\n",
       "        text-align: right;\n",
       "    }\n",
       "</style>\n",
       "<table border=\"1\" class=\"dataframe\">\n",
       "  <thead>\n",
       "    <tr style=\"text-align: right;\">\n",
       "      <th></th>\n",
       "      <th>actual</th>\n",
       "      <th>pop_predictions</th>\n",
       "    </tr>\n",
       "    <tr>\n",
       "      <th>userId</th>\n",
       "      <th></th>\n",
       "      <th></th>\n",
       "    </tr>\n",
       "  </thead>\n",
       "  <tbody>\n",
       "    <tr>\n",
       "      <th>156</th>\n",
       "      <td>[1025, 4610, 2049, 5131, 514, 2062, 3501, 5650...</td>\n",
       "      <td>[1198, 1270, 593, 318, 2571, 2762, 1240, 608, ...</td>\n",
       "    </tr>\n",
       "    <tr>\n",
       "      <th>208</th>\n",
       "      <td>[3088, 105504, 36, 2599, 1584, 52, 1077, 568, ...</td>\n",
       "      <td>[1198, 1270, 593, 318, 2571, 2762, 1240, 608, ...</td>\n",
       "    </tr>\n",
       "    <tr>\n",
       "      <th>359</th>\n",
       "      <td>[2560, 5635, 4103, 522, 67087, 539, 82461, 553...</td>\n",
       "      <td>[1198, 1270, 593, 318, 2571, 2762, 1240, 608, ...</td>\n",
       "    </tr>\n",
       "    <tr>\n",
       "      <th>394</th>\n",
       "      <td>[4612, 1029, 44555, 3090, 26131, 2076, 2090, 1...</td>\n",
       "      <td>[1198, 1270, 593, 318, 2571, 2762, 1240, 608, ...</td>\n",
       "    </tr>\n",
       "    <tr>\n",
       "      <th>572</th>\n",
       "      <td>[3081, 1036, 3087, 1047, 24, 39449, 27, 2084, ...</td>\n",
       "      <td>[1198, 1270, 593, 318, 2571, 2762, 1240, 608, ...</td>\n",
       "    </tr>\n",
       "  </tbody>\n",
       "</table>\n",
       "</div>"
      ],
      "text/plain": [
       "                                                   actual  \\\n",
       "userId                                                      \n",
       "156     [1025, 4610, 2049, 5131, 514, 2062, 3501, 5650...   \n",
       "208     [3088, 105504, 36, 2599, 1584, 52, 1077, 568, ...   \n",
       "359     [2560, 5635, 4103, 522, 67087, 539, 82461, 553...   \n",
       "394     [4612, 1029, 44555, 3090, 26131, 2076, 2090, 1...   \n",
       "572     [3081, 1036, 3087, 1047, 24, 39449, 27, 2084, ...   \n",
       "\n",
       "                                          pop_predictions  \n",
       "userId                                                     \n",
       "156     [1198, 1270, 593, 318, 2571, 2762, 1240, 608, ...  \n",
       "208     [1198, 1270, 593, 318, 2571, 2762, 1240, 608, ...  \n",
       "359     [1198, 1270, 593, 318, 2571, 2762, 1240, 608, ...  \n",
       "394     [1198, 1270, 593, 318, 2571, 2762, 1240, 608, ...  \n",
       "572     [1198, 1270, 593, 318, 2571, 2762, 1240, 608, ...  "
      ]
     },
     "execution_count": 10,
     "metadata": {},
     "output_type": "execute_result"
    }
   ],
   "source": [
    "#make popularity recommendations for all members in the test data\n",
    "popularity_recs = train_long.movieId.value_counts().head(10).index.tolist()\n",
    "\n",
    "recs = []\n",
    "for user in test.index.tolist():\n",
    "    pop_predictions = popularity_recs\n",
    "    recs.append(pop_predictions)\n",
    "        \n",
    "test['pop_predictions'] = recs\n",
    "test.head()"
   ]
  },
  {
   "cell_type": "code",
   "execution_count": 11,
   "metadata": {},
   "outputs": [],
   "source": [
    "actual = test.actual.values.tolist()\n",
    "pop_predictions = test.pop_predictions.values.tolist()"
   ]
  },
  {
   "cell_type": "markdown",
   "metadata": {},
   "source": [
    "# Collaborative Filter"
   ]
  },
  {
   "cell_type": "code",
   "execution_count": 12,
   "metadata": {},
   "outputs": [
    {
     "data": {
      "text/html": [
       "<div>\n",
       "<style scoped>\n",
       "    .dataframe tbody tr th:only-of-type {\n",
       "        vertical-align: middle;\n",
       "    }\n",
       "\n",
       "    .dataframe tbody tr th {\n",
       "        vertical-align: top;\n",
       "    }\n",
       "\n",
       "    .dataframe thead th {\n",
       "        text-align: right;\n",
       "    }\n",
       "</style>\n",
       "<table border=\"1\" class=\"dataframe\">\n",
       "  <thead>\n",
       "    <tr style=\"text-align: right;\">\n",
       "      <th>movieId</th>\n",
       "      <th>1</th>\n",
       "      <th>2</th>\n",
       "      <th>3</th>\n",
       "      <th>4</th>\n",
       "      <th>5</th>\n",
       "      <th>6</th>\n",
       "      <th>7</th>\n",
       "      <th>8</th>\n",
       "      <th>9</th>\n",
       "      <th>10</th>\n",
       "      <th>...</th>\n",
       "      <th>131160</th>\n",
       "      <th>131168</th>\n",
       "      <th>131176</th>\n",
       "      <th>131231</th>\n",
       "      <th>131239</th>\n",
       "      <th>131241</th>\n",
       "      <th>131243</th>\n",
       "      <th>131248</th>\n",
       "      <th>131250</th>\n",
       "      <th>131256</th>\n",
       "    </tr>\n",
       "    <tr>\n",
       "      <th>userId</th>\n",
       "      <th></th>\n",
       "      <th></th>\n",
       "      <th></th>\n",
       "      <th></th>\n",
       "      <th></th>\n",
       "      <th></th>\n",
       "      <th></th>\n",
       "      <th></th>\n",
       "      <th></th>\n",
       "      <th></th>\n",
       "      <th></th>\n",
       "      <th></th>\n",
       "      <th></th>\n",
       "      <th></th>\n",
       "      <th></th>\n",
       "      <th></th>\n",
       "      <th></th>\n",
       "      <th></th>\n",
       "      <th></th>\n",
       "      <th></th>\n",
       "      <th></th>\n",
       "    </tr>\n",
       "  </thead>\n",
       "  <tbody>\n",
       "    <tr>\n",
       "      <th>156</th>\n",
       "      <td>5.0</td>\n",
       "      <td>5.0</td>\n",
       "      <td>0.0</td>\n",
       "      <td>3.0</td>\n",
       "      <td>3.0</td>\n",
       "      <td>4.0</td>\n",
       "      <td>4.0</td>\n",
       "      <td>0.0</td>\n",
       "      <td>3.0</td>\n",
       "      <td>4.0</td>\n",
       "      <td>...</td>\n",
       "      <td>0.0</td>\n",
       "      <td>0.0</td>\n",
       "      <td>0.0</td>\n",
       "      <td>0.0</td>\n",
       "      <td>0.0</td>\n",
       "      <td>0.0</td>\n",
       "      <td>0.0</td>\n",
       "      <td>0.0</td>\n",
       "      <td>0.0</td>\n",
       "      <td>0.0</td>\n",
       "    </tr>\n",
       "    <tr>\n",
       "      <th>208</th>\n",
       "      <td>4.0</td>\n",
       "      <td>0.0</td>\n",
       "      <td>0.0</td>\n",
       "      <td>0.0</td>\n",
       "      <td>0.0</td>\n",
       "      <td>0.0</td>\n",
       "      <td>0.0</td>\n",
       "      <td>0.0</td>\n",
       "      <td>0.0</td>\n",
       "      <td>0.0</td>\n",
       "      <td>...</td>\n",
       "      <td>0.0</td>\n",
       "      <td>0.0</td>\n",
       "      <td>0.0</td>\n",
       "      <td>0.0</td>\n",
       "      <td>0.0</td>\n",
       "      <td>0.0</td>\n",
       "      <td>0.0</td>\n",
       "      <td>0.0</td>\n",
       "      <td>0.0</td>\n",
       "      <td>0.0</td>\n",
       "    </tr>\n",
       "    <tr>\n",
       "      <th>359</th>\n",
       "      <td>5.0</td>\n",
       "      <td>0.0</td>\n",
       "      <td>0.0</td>\n",
       "      <td>0.0</td>\n",
       "      <td>0.0</td>\n",
       "      <td>5.0</td>\n",
       "      <td>0.0</td>\n",
       "      <td>0.0</td>\n",
       "      <td>0.0</td>\n",
       "      <td>4.0</td>\n",
       "      <td>...</td>\n",
       "      <td>0.0</td>\n",
       "      <td>0.0</td>\n",
       "      <td>0.0</td>\n",
       "      <td>0.0</td>\n",
       "      <td>0.0</td>\n",
       "      <td>0.0</td>\n",
       "      <td>0.0</td>\n",
       "      <td>0.0</td>\n",
       "      <td>0.0</td>\n",
       "      <td>0.0</td>\n",
       "    </tr>\n",
       "  </tbody>\n",
       "</table>\n",
       "<p>3 rows × 21803 columns</p>\n",
       "</div>"
      ],
      "text/plain": [
       "movieId  1       2       3       4       5       6       7       8       \\\n",
       "userId                                                                    \n",
       "156         5.0     5.0     0.0     3.0     3.0     4.0     4.0     0.0   \n",
       "208         4.0     0.0     0.0     0.0     0.0     0.0     0.0     0.0   \n",
       "359         5.0     0.0     0.0     0.0     0.0     5.0     0.0     0.0   \n",
       "\n",
       "movieId  9       10       ...    131160  131168  131176  131231  131239  \\\n",
       "userId                    ...                                             \n",
       "156         3.0     4.0   ...       0.0     0.0     0.0     0.0     0.0   \n",
       "208         0.0     0.0   ...       0.0     0.0     0.0     0.0     0.0   \n",
       "359         0.0     4.0   ...       0.0     0.0     0.0     0.0     0.0   \n",
       "\n",
       "movieId  131241  131243  131248  131250  131256  \n",
       "userId                                           \n",
       "156         0.0     0.0     0.0     0.0     0.0  \n",
       "208         0.0     0.0     0.0     0.0     0.0  \n",
       "359         0.0     0.0     0.0     0.0     0.0  \n",
       "\n",
       "[3 rows x 21803 columns]"
      ]
     },
     "execution_count": 12,
     "metadata": {},
     "output_type": "execute_result"
    }
   ],
   "source": [
    "train_pivot = train_long.pivot(index = 'userId', columns ='movieId', values = 'rating').fillna(0)\n",
    "user_index = train_pivot.index.tolist()\n",
    "movie_index = train_pivot.columns.tolist()\n",
    "train_pivot.head(3)"
   ]
  },
  {
   "cell_type": "code",
   "execution_count": 13,
   "metadata": {},
   "outputs": [],
   "source": [
    "from scipy.sparse import csr_matrix\n",
    "from scipy.sparse.linalg import svds\n",
    "\n",
    "#svd\n",
    "U, sigma, Vt = svds(train_pivot, k=100) # k is the number of factors\n",
    "eigvals = sigma**2 / np.cumsum(sigma)[-1]\n",
    "eigvals = eigvals[::-1]\n",
    "sigma = np.diag(sigma)\n",
    "\n",
    "#reconstruct ratings matrix\n",
    "cf_model = np.dot(np.dot(U, sigma), Vt) \n",
    "cf_model = pd.DataFrame(cf_model, index=user_index, columns=movie_index)"
   ]
  },
  {
   "cell_type": "code",
   "execution_count": 14,
   "metadata": {},
   "outputs": [
    {
     "data": {
      "text/html": [
       "<div>\n",
       "<style scoped>\n",
       "    .dataframe tbody tr th:only-of-type {\n",
       "        vertical-align: middle;\n",
       "    }\n",
       "\n",
       "    .dataframe tbody tr th {\n",
       "        vertical-align: top;\n",
       "    }\n",
       "\n",
       "    .dataframe thead th {\n",
       "        text-align: right;\n",
       "    }\n",
       "</style>\n",
       "<table border=\"1\" class=\"dataframe\">\n",
       "  <thead>\n",
       "    <tr style=\"text-align: right;\">\n",
       "      <th></th>\n",
       "      <th>1</th>\n",
       "      <th>2</th>\n",
       "      <th>3</th>\n",
       "      <th>4</th>\n",
       "      <th>5</th>\n",
       "      <th>6</th>\n",
       "      <th>7</th>\n",
       "      <th>8</th>\n",
       "      <th>9</th>\n",
       "      <th>10</th>\n",
       "      <th>...</th>\n",
       "      <th>131160</th>\n",
       "      <th>131168</th>\n",
       "      <th>131176</th>\n",
       "      <th>131231</th>\n",
       "      <th>131239</th>\n",
       "      <th>131241</th>\n",
       "      <th>131243</th>\n",
       "      <th>131248</th>\n",
       "      <th>131250</th>\n",
       "      <th>131256</th>\n",
       "    </tr>\n",
       "  </thead>\n",
       "  <tbody>\n",
       "    <tr>\n",
       "      <th>156</th>\n",
       "      <td>3.849096</td>\n",
       "      <td>3.858067</td>\n",
       "      <td>1.484838</td>\n",
       "      <td>2.292566</td>\n",
       "      <td>1.337767</td>\n",
       "      <td>3.312277</td>\n",
       "      <td>3.937976</td>\n",
       "      <td>0.608705</td>\n",
       "      <td>1.790538</td>\n",
       "      <td>4.176349</td>\n",
       "      <td>...</td>\n",
       "      <td>-0.001637</td>\n",
       "      <td>-0.001343</td>\n",
       "      <td>-0.034880</td>\n",
       "      <td>-0.027125</td>\n",
       "      <td>-0.001637</td>\n",
       "      <td>-0.001637</td>\n",
       "      <td>-0.001637</td>\n",
       "      <td>-0.001637</td>\n",
       "      <td>-0.001637</td>\n",
       "      <td>-0.001637</td>\n",
       "    </tr>\n",
       "    <tr>\n",
       "      <th>208</th>\n",
       "      <td>3.914828</td>\n",
       "      <td>0.213319</td>\n",
       "      <td>0.152150</td>\n",
       "      <td>0.640478</td>\n",
       "      <td>-0.206548</td>\n",
       "      <td>1.332362</td>\n",
       "      <td>0.363749</td>\n",
       "      <td>-0.063816</td>\n",
       "      <td>0.209328</td>\n",
       "      <td>0.230566</td>\n",
       "      <td>...</td>\n",
       "      <td>-0.010355</td>\n",
       "      <td>0.003159</td>\n",
       "      <td>0.005244</td>\n",
       "      <td>0.007403</td>\n",
       "      <td>-0.010355</td>\n",
       "      <td>-0.010355</td>\n",
       "      <td>-0.010355</td>\n",
       "      <td>-0.010355</td>\n",
       "      <td>-0.010355</td>\n",
       "      <td>-0.010355</td>\n",
       "    </tr>\n",
       "    <tr>\n",
       "      <th>359</th>\n",
       "      <td>4.448181</td>\n",
       "      <td>1.602935</td>\n",
       "      <td>0.270345</td>\n",
       "      <td>-0.408816</td>\n",
       "      <td>0.312489</td>\n",
       "      <td>4.240336</td>\n",
       "      <td>1.309779</td>\n",
       "      <td>0.037913</td>\n",
       "      <td>0.190047</td>\n",
       "      <td>2.180178</td>\n",
       "      <td>...</td>\n",
       "      <td>-0.007601</td>\n",
       "      <td>0.006624</td>\n",
       "      <td>-0.023059</td>\n",
       "      <td>-0.002051</td>\n",
       "      <td>-0.007601</td>\n",
       "      <td>-0.007601</td>\n",
       "      <td>-0.007601</td>\n",
       "      <td>-0.007601</td>\n",
       "      <td>-0.007601</td>\n",
       "      <td>-0.007601</td>\n",
       "    </tr>\n",
       "    <tr>\n",
       "      <th>394</th>\n",
       "      <td>4.013930</td>\n",
       "      <td>0.187124</td>\n",
       "      <td>0.235051</td>\n",
       "      <td>0.026676</td>\n",
       "      <td>0.168067</td>\n",
       "      <td>1.749029</td>\n",
       "      <td>-0.069004</td>\n",
       "      <td>0.023189</td>\n",
       "      <td>0.145258</td>\n",
       "      <td>1.525934</td>\n",
       "      <td>...</td>\n",
       "      <td>-0.018682</td>\n",
       "      <td>-0.012335</td>\n",
       "      <td>-0.032578</td>\n",
       "      <td>-0.084014</td>\n",
       "      <td>-0.018682</td>\n",
       "      <td>-0.018682</td>\n",
       "      <td>-0.018682</td>\n",
       "      <td>-0.018682</td>\n",
       "      <td>-0.018682</td>\n",
       "      <td>-0.018682</td>\n",
       "    </tr>\n",
       "    <tr>\n",
       "      <th>572</th>\n",
       "      <td>3.771648</td>\n",
       "      <td>2.040491</td>\n",
       "      <td>2.589601</td>\n",
       "      <td>-0.167024</td>\n",
       "      <td>1.817722</td>\n",
       "      <td>1.391835</td>\n",
       "      <td>0.636827</td>\n",
       "      <td>0.260301</td>\n",
       "      <td>0.156788</td>\n",
       "      <td>1.932903</td>\n",
       "      <td>...</td>\n",
       "      <td>-0.023247</td>\n",
       "      <td>0.007717</td>\n",
       "      <td>0.043356</td>\n",
       "      <td>0.016746</td>\n",
       "      <td>-0.023247</td>\n",
       "      <td>-0.023247</td>\n",
       "      <td>-0.023247</td>\n",
       "      <td>-0.023247</td>\n",
       "      <td>-0.023247</td>\n",
       "      <td>-0.023247</td>\n",
       "    </tr>\n",
       "  </tbody>\n",
       "</table>\n",
       "<p>5 rows × 21803 columns</p>\n",
       "</div>"
      ],
      "text/plain": [
       "       1         2         3         4         5         6         7       \\\n",
       "156  3.849096  3.858067  1.484838  2.292566  1.337767  3.312277  3.937976   \n",
       "208  3.914828  0.213319  0.152150  0.640478 -0.206548  1.332362  0.363749   \n",
       "359  4.448181  1.602935  0.270345 -0.408816  0.312489  4.240336  1.309779   \n",
       "394  4.013930  0.187124  0.235051  0.026676  0.168067  1.749029 -0.069004   \n",
       "572  3.771648  2.040491  2.589601 -0.167024  1.817722  1.391835  0.636827   \n",
       "\n",
       "       8         9         10        ...       131160    131168    131176  \\\n",
       "156  0.608705  1.790538  4.176349    ...    -0.001637 -0.001343 -0.034880   \n",
       "208 -0.063816  0.209328  0.230566    ...    -0.010355  0.003159  0.005244   \n",
       "359  0.037913  0.190047  2.180178    ...    -0.007601  0.006624 -0.023059   \n",
       "394  0.023189  0.145258  1.525934    ...    -0.018682 -0.012335 -0.032578   \n",
       "572  0.260301  0.156788  1.932903    ...    -0.023247  0.007717  0.043356   \n",
       "\n",
       "       131231    131239    131241    131243    131248    131250    131256  \n",
       "156 -0.027125 -0.001637 -0.001637 -0.001637 -0.001637 -0.001637 -0.001637  \n",
       "208  0.007403 -0.010355 -0.010355 -0.010355 -0.010355 -0.010355 -0.010355  \n",
       "359 -0.002051 -0.007601 -0.007601 -0.007601 -0.007601 -0.007601 -0.007601  \n",
       "394 -0.084014 -0.018682 -0.018682 -0.018682 -0.018682 -0.018682 -0.018682  \n",
       "572  0.016746 -0.023247 -0.023247 -0.023247 -0.023247 -0.023247 -0.023247  \n",
       "\n",
       "[5 rows x 21803 columns]"
      ]
     },
     "execution_count": 14,
     "metadata": {},
     "output_type": "execute_result"
    }
   ],
   "source": [
    "cf_model.head()"
   ]
  },
  {
   "cell_type": "markdown",
   "metadata": {},
   "source": [
    "## Collaborative Filter Recommendations"
   ]
  },
  {
   "cell_type": "code",
   "execution_count": 15,
   "metadata": {},
   "outputs": [],
   "source": [
    "def get_users_predictions(user_id, n, model, train_long):\n",
    "    recommended_items = pd.DataFrame(model.loc[user_id])\n",
    "    recommended_items.columns = [\"predicted_rating\"]\n",
    "    recommended_items = recommended_items.sort_values('predicted_rating', ascending=False)    \n",
    "    rated_items_from_train = train_long.query('userId == @user_id').movieId.tolist()\n",
    "    recommended_items = recommended_items[~recommended_items.index.isin(rated_items_from_train)]\n",
    "    recommended_items = recommended_items.head(n)\n",
    "    return recommended_items.index.tolist()"
   ]
  },
  {
   "cell_type": "code",
   "execution_count": 16,
   "metadata": {},
   "outputs": [
    {
     "data": {
      "text/plain": [
       "[3702, 593, 4855, 3708, 1721, 4014, 3361, 1259, 4018, 2467]"
      ]
     },
     "execution_count": 16,
     "metadata": {},
     "output_type": "execute_result"
    }
   ],
   "source": [
    "get_users_predictions(156, 10, cf_model, train_long)"
   ]
  },
  {
   "cell_type": "code",
   "execution_count": 17,
   "metadata": {},
   "outputs": [
    {
     "data": {
      "text/html": [
       "<div>\n",
       "<style scoped>\n",
       "    .dataframe tbody tr th:only-of-type {\n",
       "        vertical-align: middle;\n",
       "    }\n",
       "\n",
       "    .dataframe tbody tr th {\n",
       "        vertical-align: top;\n",
       "    }\n",
       "\n",
       "    .dataframe thead th {\n",
       "        text-align: right;\n",
       "    }\n",
       "</style>\n",
       "<table border=\"1\" class=\"dataframe\">\n",
       "  <thead>\n",
       "    <tr style=\"text-align: right;\">\n",
       "      <th></th>\n",
       "      <th>actual</th>\n",
       "      <th>pop_predictions</th>\n",
       "      <th>cf_predictions</th>\n",
       "    </tr>\n",
       "    <tr>\n",
       "      <th>userId</th>\n",
       "      <th></th>\n",
       "      <th></th>\n",
       "      <th></th>\n",
       "    </tr>\n",
       "  </thead>\n",
       "  <tbody>\n",
       "    <tr>\n",
       "      <th>156</th>\n",
       "      <td>[1025, 4610, 2049, 5131, 514, 2062, 3501, 5650...</td>\n",
       "      <td>[1198, 1270, 593, 318, 2571, 2762, 1240, 608, ...</td>\n",
       "      <td>[3702, 593, 4855, 3708, 1721, 4014, 3361, 1259...</td>\n",
       "    </tr>\n",
       "    <tr>\n",
       "      <th>208</th>\n",
       "      <td>[3088, 105504, 36, 2599, 1584, 52, 1077, 568, ...</td>\n",
       "      <td>[1198, 1270, 593, 318, 2571, 2762, 1240, 608, ...</td>\n",
       "      <td>[1077, 912, 2599, 3007, 515, 3359, 3260, 6331,...</td>\n",
       "    </tr>\n",
       "    <tr>\n",
       "      <th>359</th>\n",
       "      <td>[2560, 5635, 4103, 522, 67087, 539, 82461, 553...</td>\n",
       "      <td>[1198, 1270, 593, 318, 2571, 2762, 1240, 608, ...</td>\n",
       "      <td>[1200, 356, 30707, 1408, 47610, 6539, 1266, 37...</td>\n",
       "    </tr>\n",
       "    <tr>\n",
       "      <th>394</th>\n",
       "      <td>[4612, 1029, 44555, 3090, 26131, 2076, 2090, 1...</td>\n",
       "      <td>[1198, 1270, 593, 318, 2571, 2762, 1240, 608, ...</td>\n",
       "      <td>[162, 111, 6331, 1, 903, 3730, 1265, 1189, 800...</td>\n",
       "    </tr>\n",
       "    <tr>\n",
       "      <th>572</th>\n",
       "      <td>[3081, 1036, 3087, 1047, 24, 39449, 27, 2084, ...</td>\n",
       "      <td>[1198, 1270, 593, 318, 2571, 2762, 1240, 608, ...</td>\n",
       "      <td>[44195, 1036, 2291, 3087, 51540, 55765, 34162,...</td>\n",
       "    </tr>\n",
       "  </tbody>\n",
       "</table>\n",
       "</div>"
      ],
      "text/plain": [
       "                                                   actual  \\\n",
       "userId                                                      \n",
       "156     [1025, 4610, 2049, 5131, 514, 2062, 3501, 5650...   \n",
       "208     [3088, 105504, 36, 2599, 1584, 52, 1077, 568, ...   \n",
       "359     [2560, 5635, 4103, 522, 67087, 539, 82461, 553...   \n",
       "394     [4612, 1029, 44555, 3090, 26131, 2076, 2090, 1...   \n",
       "572     [3081, 1036, 3087, 1047, 24, 39449, 27, 2084, ...   \n",
       "\n",
       "                                          pop_predictions  \\\n",
       "userId                                                      \n",
       "156     [1198, 1270, 593, 318, 2571, 2762, 1240, 608, ...   \n",
       "208     [1198, 1270, 593, 318, 2571, 2762, 1240, 608, ...   \n",
       "359     [1198, 1270, 593, 318, 2571, 2762, 1240, 608, ...   \n",
       "394     [1198, 1270, 593, 318, 2571, 2762, 1240, 608, ...   \n",
       "572     [1198, 1270, 593, 318, 2571, 2762, 1240, 608, ...   \n",
       "\n",
       "                                           cf_predictions  \n",
       "userId                                                     \n",
       "156     [3702, 593, 4855, 3708, 1721, 4014, 3361, 1259...  \n",
       "208     [1077, 912, 2599, 3007, 515, 3359, 3260, 6331,...  \n",
       "359     [1200, 356, 30707, 1408, 47610, 6539, 1266, 37...  \n",
       "394     [162, 111, 6331, 1, 903, 3730, 1265, 1189, 800...  \n",
       "572     [44195, 1036, 2291, 3087, 51540, 55765, 34162,...  "
      ]
     },
     "execution_count": 17,
     "metadata": {},
     "output_type": "execute_result"
    }
   ],
   "source": [
    "#make popularity recommendations for all members in the test data\n",
    "\n",
    "recs = []\n",
    "for user in user_index:\n",
    "    cf_predictions = get_users_predictions(user, 10, cf_model, train_long)\n",
    "    recs.append(cf_predictions)\n",
    "        \n",
    "test['cf_predictions'] = recs\n",
    "test.head()"
   ]
  },
  {
   "cell_type": "code",
   "execution_count": 18,
   "metadata": {},
   "outputs": [],
   "source": [
    "cf_predictions = test.cf_predictions.values.tolist()"
   ]
  },
  {
   "cell_type": "markdown",
   "metadata": {},
   "source": [
    "# Recall"
   ]
  },
  {
   "cell_type": "code",
   "execution_count": 19,
   "metadata": {},
   "outputs": [
    {
     "data": {
      "text/plain": [
       "[0.0007717041800643086,\n",
       " 0.0011682743837084673,\n",
       " 0.0014612361557699177,\n",
       " 0.0016488031439799932,\n",
       " 0.0018202929617720613,\n",
       " 0.0019882100750267953,\n",
       " 0.002124483233807993,\n",
       " 0.00224238248354004,\n",
       " 0.00231502747579918,\n",
       " 0.0024147059323908196]"
      ]
     },
     "execution_count": 19,
     "metadata": {},
     "output_type": "execute_result"
    }
   ],
   "source": [
    "pop_mark = []\n",
    "for K in np.arange(1, 11):\n",
    "    pop_mark.extend([mark(actual, pop_predictions, k=K)])\n",
    "pop_mark"
   ]
  },
  {
   "cell_type": "code",
   "execution_count": 20,
   "metadata": {},
   "outputs": [
    {
     "data": {
      "text/plain": [
       "[0.007663451232583065,\n",
       " 0.014571275455519827,\n",
       " 0.0205091103965702,\n",
       " 0.026229903536977496,\n",
       " 0.03143247588424437,\n",
       " 0.036264558770989636,\n",
       " 0.04082894401061604,\n",
       " 0.045205953656918284,\n",
       " 0.04950629901835689,\n",
       " 0.05340983599584886]"
      ]
     },
     "execution_count": 20,
     "metadata": {},
     "output_type": "execute_result"
    }
   ],
   "source": [
    "cf_mark = []\n",
    "for K in np.arange(1, 11):\n",
    "    cf_mark.extend([mark(actual, cf_predictions, k=K)])\n",
    "cf_mark"
   ]
  },
  {
   "cell_type": "markdown",
   "metadata": {},
   "source": [
    "# Mark Plot"
   ]
  },
  {
   "cell_type": "code",
   "execution_count": 21,
   "metadata": {},
   "outputs": [
    {
     "data": {
      "image/png": "[encoded data removed]",
      "text/plain": [
       "<Figure size 1080x504 with 1 Axes>"
      ]
     },
     "metadata": {
      "needs_background": "light"
     },
     "output_type": "display_data"
    }
   ],
   "source": [
    "mark_scores = [pop_mark, cf_mark]\n",
    "index = range(1,10+1)\n",
    "names = ['Popularity Recommender', 'Collaborative Filter']\n",
    "\n",
    "fig = plt.figure(figsize=(15, 7))\n",
    "MarkPlot(mark_scores, model_names=names, k_range=index)"
   ]
  },
  {
   "cell_type": "markdown",
   "metadata": {},
   "source": [
    "# Coverage"
   ]
  },
  {
   "cell_type": "code",
   "execution_count": 22,
   "metadata": {},
   "outputs": [],
   "source": [
    "catalog = train_long.movieId.unique().tolist()\n",
    "pop_coverage = coverage(pop_predictions, catalog)\n",
    "cf_coverage = coverage(cf_predictions, catalog)"
   ]
  },
  {
   "cell_type": "markdown",
   "metadata": {},
   "source": [
    "# Coverage Plot"
   ]
  },
  {
   "cell_type": "code",
   "execution_count": 23,
   "metadata": {},
   "outputs": [
    {
     "data": {
      "image/png": "[encoded data removed]",
      "text/plain": [
       "<Figure size 504x360 with 1 Axes>"
      ]
     },
     "metadata": {
      "needs_background": "light"
     },
     "output_type": "display_data"
    }
   ],
   "source": [
    "coverage_scores = [pop_coverage, cf_coverage]\n",
    "model_names = ['Popularity Recommender', 'Collaborative Filter']\n",
    "\n",
    "fig = plt.figure(figsize=(7, 5))\n",
    "CoveragePlot(coverage_scores, model_names)"
   ]
  },
  {
   "cell_type": "markdown",
   "metadata": {},
   "source": [
    "# Personalization"
   ]
  },
  {
   "cell_type": "code",
   "execution_count": 26,
   "metadata": {},
   "outputs": [],
   "source": [
    "example_predictions = [\n",
    "    ['A', 'B', 'C', 'D'],\n",
    "    ['A', 'B', 'C', 'Y']\n",
    "]"
   ]
  },
  {
   "cell_type": "code",
   "execution_count": 27,
   "metadata": {},
   "outputs": [
    {
     "data": {
      "text/plain": [
       "0.25"
      ]
     },
     "execution_count": 27,
     "metadata": {},
     "output_type": "execute_result"
    }
   ],
   "source": [
    "personalization(predicted=example_predictions)"
   ]
  },
  {
   "cell_type": "markdown",
   "metadata": {},
   "source": [
    "# Intra-list Similarity"
   ]
  },
  {
   "cell_type": "code",
   "execution_count": 39,
   "metadata": {},
   "outputs": [
    {
     "data": {
      "text/html": [
       "<div>\n",
       "<style scoped>\n",
       "    .dataframe tbody tr th:only-of-type {\n",
       "        vertical-align: middle;\n",
       "    }\n",
       "\n",
       "    .dataframe tbody tr th {\n",
       "        vertical-align: top;\n",
       "    }\n",
       "\n",
       "    .dataframe thead th {\n",
       "        text-align: right;\n",
       "    }\n",
       "</style>\n",
       "<table border=\"1\" class=\"dataframe\">\n",
       "  <thead>\n",
       "    <tr style=\"text-align: right;\">\n",
       "      <th></th>\n",
       "      <th>Action</th>\n",
       "      <th>Romance</th>\n",
       "      <th>Western</th>\n",
       "      <th>Comedy</th>\n",
       "      <th>Crime</th>\n",
       "    </tr>\n",
       "    <tr>\n",
       "      <th>movieId</th>\n",
       "      <th></th>\n",
       "      <th></th>\n",
       "      <th></th>\n",
       "      <th></th>\n",
       "      <th></th>\n",
       "    </tr>\n",
       "  </thead>\n",
       "  <tbody>\n",
       "    <tr>\n",
       "      <th>3</th>\n",
       "      <td>0</td>\n",
       "      <td>0</td>\n",
       "      <td>0</td>\n",
       "      <td>1</td>\n",
       "      <td>0</td>\n",
       "    </tr>\n",
       "    <tr>\n",
       "      <th>4</th>\n",
       "      <td>0</td>\n",
       "      <td>0</td>\n",
       "      <td>0</td>\n",
       "      <td>1</td>\n",
       "      <td>0</td>\n",
       "    </tr>\n",
       "    <tr>\n",
       "      <th>5</th>\n",
       "      <td>0</td>\n",
       "      <td>0</td>\n",
       "      <td>0</td>\n",
       "      <td>1</td>\n",
       "      <td>0</td>\n",
       "    </tr>\n",
       "    <tr>\n",
       "      <th>6</th>\n",
       "      <td>1</td>\n",
       "      <td>0</td>\n",
       "      <td>0</td>\n",
       "      <td>0</td>\n",
       "      <td>0</td>\n",
       "    </tr>\n",
       "    <tr>\n",
       "      <th>7</th>\n",
       "      <td>0</td>\n",
       "      <td>0</td>\n",
       "      <td>0</td>\n",
       "      <td>1</td>\n",
       "      <td>0</td>\n",
       "    </tr>\n",
       "  </tbody>\n",
       "</table>\n",
       "</div>"
      ],
      "text/plain": [
       "         Action  Romance  Western  Comedy  Crime\n",
       "movieId                                         \n",
       "3             0        0        0       1      0\n",
       "4             0        0        0       1      0\n",
       "5             0        0        0       1      0\n",
       "6             1        0        0       0      0\n",
       "7             0        0        0       1      0"
      ]
     },
     "execution_count": 39,
     "metadata": {},
     "output_type": "execute_result"
    }
   ],
   "source": [
    "movies[movies.sum(axis=1)>0].head(5)"
   ]
  },
  {
   "cell_type": "code",
   "execution_count": 41,
   "metadata": {},
   "outputs": [
    {
     "data": {
      "text/plain": [
       "0.07709896391568417"
      ]
     },
     "execution_count": 41,
     "metadata": {},
     "output_type": "execute_result"
    }
   ],
   "source": [
    "intra_list_similarity(predicted=cf_predictions, feature_df=movies)"
   ]
  },
  {
   "cell_type": "code",
   "execution_count": null,
   "metadata": {},
   "outputs": [],
   "source": []
  }
 ],
 "metadata": {
  "kernelspec": {
   "display_name": "recommender_metrics",
   "language": "python",
   "name": "recommender_metrics"
  },
  "language_info": {
   "codemirror_mode": {
    "name": "ipython",
    "version": 2
   },
   "file_extension": ".py",
   "mimetype": "text/x-python",
   "name": "python",
   "nbconvert_exporter": "python",
   "pygments_lexer": "ipython2",
   "version": "2.7.15"
  },
  "toc": {
   "colors": {
    "hover_highlight": "#DAA520",
    "navigate_num": "#000000",
    "navigate_text": "#333333",
    "running_highlight": "#FF0000",
    "selected_highlight": "#FFD700",
    "sidebar_border": "#EEEEEE",
    "wrapper_background": "#FFFFFF"
   },
   "moveMenuLeft": true,
   "nav_menu": {
    "height": "171px",
    "width": "252px"
   },
   "navigate_menu": true,
   "number_sections": true,
   "sideBar": true,
   "skip_h1_title": false,
   "threshold": 4,
   "toc_cell": false,
   "toc_section_display": "block",
   "toc_window_display": false,
   "widenNotebook": false
  }
 },
 "nbformat": 4,
 "nbformat_minor": 2
}
