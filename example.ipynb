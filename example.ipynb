{
 "cells": [
  {
   "cell_type": "code",
   "execution_count": 1,
   "metadata": {},
   "outputs": [],
   "source": [
    "import pandas as pd\n",
    "import numpy as np\n",
    "from recmetrics.plots import LongTailPlot, MarkPlot, CoveragePlot\n",
    "from recmetrics.metrics import mark, coverage, personalization, intra_list_similarity\n",
    "import matplotlib.pyplot as plt"
   ]
  },
  {
   "cell_type": "markdown",
   "metadata": {},
   "source": [
    "# MovieLense Dataset\n",
    "Using the MovieLens 20M Dataset dataset for examples. You can download this data here: https://grouplens.org/datasets/movielens/20m/"
   ]
  },
  {
   "cell_type": "code",
   "execution_count": 2,
   "metadata": {},
   "outputs": [],
   "source": [
    "ratings = pd.read_csv('../movie_similarity_flask_api/data/ml-20m/ratings.csv')\n",
    "ratings = ratings.query('rating >=3')\n",
    "ratings.reset_index(drop=True, inplace=True)"
   ]
  },
  {
   "cell_type": "code",
   "execution_count": 3,
   "metadata": {},
   "outputs": [],
   "source": [
    "#only consider ratings from users who have rated over n movies\n",
    "n=1000\n",
    "users = ratings.userId.value_counts()\n",
    "users = users[users>n].index.tolist()"
   ]
  },
  {
   "cell_type": "code",
   "execution_count": 4,
   "metadata": {},
   "outputs": [
    {
     "name": "stdout",
     "output_type": "stream",
     "text": [
      "(1317902, 4)\n"
     ]
    },
    {
     "data": {
      "text/html": [
       "<div>\n",
       "<style scoped>\n",
       "    .dataframe tbody tr th:only-of-type {\n",
       "        vertical-align: middle;\n",
       "    }\n",
       "\n",
       "    .dataframe tbody tr th {\n",
       "        vertical-align: top;\n",
       "    }\n",
       "\n",
       "    .dataframe thead th {\n",
       "        text-align: right;\n",
       "    }\n",
       "</style>\n",
       "<table border=\"1\" class=\"dataframe\">\n",
       "  <thead>\n",
       "    <tr style=\"text-align: right;\">\n",
       "      <th></th>\n",
       "      <th>userId</th>\n",
       "      <th>movieId</th>\n",
       "      <th>rating</th>\n",
       "      <th>timestamp</th>\n",
       "    </tr>\n",
       "  </thead>\n",
       "  <tbody>\n",
       "    <tr>\n",
       "      <th>15918</th>\n",
       "      <td>156</td>\n",
       "      <td>1</td>\n",
       "      <td>5.0</td>\n",
       "      <td>1037739266</td>\n",
       "    </tr>\n",
       "    <tr>\n",
       "      <th>15919</th>\n",
       "      <td>156</td>\n",
       "      <td>2</td>\n",
       "      <td>5.0</td>\n",
       "      <td>1040937649</td>\n",
       "    </tr>\n",
       "    <tr>\n",
       "      <th>15920</th>\n",
       "      <td>156</td>\n",
       "      <td>4</td>\n",
       "      <td>3.0</td>\n",
       "      <td>1038801803</td>\n",
       "    </tr>\n",
       "  </tbody>\n",
       "</table>\n",
       "</div>"
      ],
      "text/plain": [
       "       userId  movieId  rating   timestamp\n",
       "15918     156        1     5.0  1037739266\n",
       "15919     156        2     5.0  1040937649\n",
       "15920     156        4     3.0  1038801803"
      ]
     },
     "execution_count": 4,
     "metadata": {},
     "output_type": "execute_result"
    }
   ],
   "source": [
    "ratings = ratings.query('userId in @users')\n",
    "print ratings.shape\n",
    "ratings.head(3)"
   ]
  },
  {
   "cell_type": "code",
   "execution_count": 5,
   "metadata": {},
   "outputs": [
    {
     "data": {
      "text/html": [
       "<div>\n",
       "<style scoped>\n",
       "    .dataframe tbody tr th:only-of-type {\n",
       "        vertical-align: middle;\n",
       "    }\n",
       "\n",
       "    .dataframe tbody tr th {\n",
       "        vertical-align: top;\n",
       "    }\n",
       "\n",
       "    .dataframe thead th {\n",
       "        text-align: right;\n",
       "    }\n",
       "</style>\n",
       "<table border=\"1\" class=\"dataframe\">\n",
       "  <thead>\n",
       "    <tr style=\"text-align: right;\">\n",
       "      <th></th>\n",
       "      <th>(no genres listed)</th>\n",
       "      <th>Action</th>\n",
       "      <th>Adventure</th>\n",
       "      <th>Animation</th>\n",
       "      <th>Children</th>\n",
       "      <th>Comedy</th>\n",
       "      <th>Crime</th>\n",
       "      <th>Documentary</th>\n",
       "      <th>Drama</th>\n",
       "      <th>Fantasy</th>\n",
       "      <th>Film-Noir</th>\n",
       "      <th>Horror</th>\n",
       "      <th>IMAX</th>\n",
       "      <th>Musical</th>\n",
       "      <th>Mystery</th>\n",
       "      <th>Romance</th>\n",
       "      <th>Sci-Fi</th>\n",
       "      <th>Thriller</th>\n",
       "      <th>War</th>\n",
       "      <th>Western</th>\n",
       "    </tr>\n",
       "    <tr>\n",
       "      <th>movieId</th>\n",
       "      <th></th>\n",
       "      <th></th>\n",
       "      <th></th>\n",
       "      <th></th>\n",
       "      <th></th>\n",
       "      <th></th>\n",
       "      <th></th>\n",
       "      <th></th>\n",
       "      <th></th>\n",
       "      <th></th>\n",
       "      <th></th>\n",
       "      <th></th>\n",
       "      <th></th>\n",
       "      <th></th>\n",
       "      <th></th>\n",
       "      <th></th>\n",
       "      <th></th>\n",
       "      <th></th>\n",
       "      <th></th>\n",
       "      <th></th>\n",
       "    </tr>\n",
       "  </thead>\n",
       "  <tbody>\n",
       "    <tr>\n",
       "      <th>1</th>\n",
       "      <td>0</td>\n",
       "      <td>0</td>\n",
       "      <td>1</td>\n",
       "      <td>0</td>\n",
       "      <td>0</td>\n",
       "      <td>0</td>\n",
       "      <td>0</td>\n",
       "      <td>0</td>\n",
       "      <td>0</td>\n",
       "      <td>0</td>\n",
       "      <td>0</td>\n",
       "      <td>0</td>\n",
       "      <td>0</td>\n",
       "      <td>0</td>\n",
       "      <td>0</td>\n",
       "      <td>0</td>\n",
       "      <td>0</td>\n",
       "      <td>0</td>\n",
       "      <td>0</td>\n",
       "      <td>0</td>\n",
       "    </tr>\n",
       "    <tr>\n",
       "      <th>2</th>\n",
       "      <td>0</td>\n",
       "      <td>0</td>\n",
       "      <td>1</td>\n",
       "      <td>0</td>\n",
       "      <td>0</td>\n",
       "      <td>0</td>\n",
       "      <td>0</td>\n",
       "      <td>0</td>\n",
       "      <td>0</td>\n",
       "      <td>0</td>\n",
       "      <td>0</td>\n",
       "      <td>0</td>\n",
       "      <td>0</td>\n",
       "      <td>0</td>\n",
       "      <td>0</td>\n",
       "      <td>0</td>\n",
       "      <td>0</td>\n",
       "      <td>0</td>\n",
       "      <td>0</td>\n",
       "      <td>0</td>\n",
       "    </tr>\n",
       "    <tr>\n",
       "      <th>3</th>\n",
       "      <td>0</td>\n",
       "      <td>0</td>\n",
       "      <td>0</td>\n",
       "      <td>0</td>\n",
       "      <td>0</td>\n",
       "      <td>1</td>\n",
       "      <td>0</td>\n",
       "      <td>0</td>\n",
       "      <td>0</td>\n",
       "      <td>0</td>\n",
       "      <td>0</td>\n",
       "      <td>0</td>\n",
       "      <td>0</td>\n",
       "      <td>0</td>\n",
       "      <td>0</td>\n",
       "      <td>0</td>\n",
       "      <td>0</td>\n",
       "      <td>0</td>\n",
       "      <td>0</td>\n",
       "      <td>0</td>\n",
       "    </tr>\n",
       "    <tr>\n",
       "      <th>4</th>\n",
       "      <td>0</td>\n",
       "      <td>0</td>\n",
       "      <td>0</td>\n",
       "      <td>0</td>\n",
       "      <td>0</td>\n",
       "      <td>1</td>\n",
       "      <td>0</td>\n",
       "      <td>0</td>\n",
       "      <td>0</td>\n",
       "      <td>0</td>\n",
       "      <td>0</td>\n",
       "      <td>0</td>\n",
       "      <td>0</td>\n",
       "      <td>0</td>\n",
       "      <td>0</td>\n",
       "      <td>0</td>\n",
       "      <td>0</td>\n",
       "      <td>0</td>\n",
       "      <td>0</td>\n",
       "      <td>0</td>\n",
       "    </tr>\n",
       "    <tr>\n",
       "      <th>5</th>\n",
       "      <td>0</td>\n",
       "      <td>0</td>\n",
       "      <td>0</td>\n",
       "      <td>0</td>\n",
       "      <td>0</td>\n",
       "      <td>1</td>\n",
       "      <td>0</td>\n",
       "      <td>0</td>\n",
       "      <td>0</td>\n",
       "      <td>0</td>\n",
       "      <td>0</td>\n",
       "      <td>0</td>\n",
       "      <td>0</td>\n",
       "      <td>0</td>\n",
       "      <td>0</td>\n",
       "      <td>0</td>\n",
       "      <td>0</td>\n",
       "      <td>0</td>\n",
       "      <td>0</td>\n",
       "      <td>0</td>\n",
       "    </tr>\n",
       "  </tbody>\n",
       "</table>\n",
       "</div>"
      ],
      "text/plain": [
       "         (no genres listed)  Action  Adventure  Animation  Children  Comedy  \\\n",
       "movieId                                                                       \n",
       "1                         0       0          1          0         0       0   \n",
       "2                         0       0          1          0         0       0   \n",
       "3                         0       0          0          0         0       1   \n",
       "4                         0       0          0          0         0       1   \n",
       "5                         0       0          0          0         0       1   \n",
       "\n",
       "         Crime  Documentary  Drama  Fantasy  Film-Noir  Horror  IMAX  Musical  \\\n",
       "movieId                                                                         \n",
       "1            0            0      0        0          0       0     0        0   \n",
       "2            0            0      0        0          0       0     0        0   \n",
       "3            0            0      0        0          0       0     0        0   \n",
       "4            0            0      0        0          0       0     0        0   \n",
       "5            0            0      0        0          0       0     0        0   \n",
       "\n",
       "         Mystery  Romance  Sci-Fi  Thriller  War  Western  \n",
       "movieId                                                    \n",
       "1              0        0       0         0    0        0  \n",
       "2              0        0       0         0    0        0  \n",
       "3              0        0       0         0    0        0  \n",
       "4              0        0       0         0    0        0  \n",
       "5              0        0       0         0    0        0  "
      ]
     },
     "execution_count": 5,
     "metadata": {},
     "output_type": "execute_result"
    }
   ],
   "source": [
    "# get movie features\n",
    "\n",
    "rated_movies = ratings.movieId.tolist()\n",
    "movies = pd.read_csv('../movie_similarity_flask_api/data/ml-20m/movies.csv')\n",
    "movies = movies.query('movieId in @rated_movies')\n",
    "movies.set_index(\"movieId\", inplace=True, drop=True)\n",
    "\n",
    "movies = movies.genres.str.split(\"|\", expand=True)\n",
    "movies.reset_index(inplace=True)\n",
    "movies = pd.melt(movies, id_vars='movieId', value_vars=[0, 1, 2, 3, 4, 5, 6, 7, 8, 9])\n",
    "\n",
    "movies.drop_duplicates(\"movieId\", inplace=True)\n",
    "movies.set_index('movieId', inplace=True)\n",
    "\n",
    "movies = pd.get_dummies(movies.value)\n",
    "#movies = movies[['Action', 'Romance', 'Western', 'Comedy', 'Crime']]\n",
    "movies.head()"
   ]
  },
  {
   "cell_type": "markdown",
   "metadata": {},
   "source": [
    "## Long Tail Plot Example"
   ]
  },
  {
   "cell_type": "code",
   "execution_count": 6,
   "metadata": {},
   "outputs": [
    {
     "data": {
      "image/png": "[encoded data removed]",
      "text/plain": [
       "<Figure size 1080x504 with 1 Axes>"
      ]
     },
     "metadata": {
      "needs_background": "light"
     },
     "output_type": "display_data"
    }
   ],
   "source": [
    "import matplotlib.pyplot as plt\n",
    "\n",
    "fig = plt.figure(figsize=(15, 7))\n",
    "LongTailPlot(df=ratings, \n",
    "             item_id_column=\"movieId\", \n",
    "             interaction_type=\"movie ratings\", \n",
    "             percentage=0.5,\n",
    "             x_labels=False)"
   ]
  },
  {
   "cell_type": "markdown",
   "metadata": {},
   "source": [
    "## test/train split"
   ]
  },
  {
   "cell_type": "code",
   "execution_count": 7,
   "metadata": {},
   "outputs": [
    {
     "name": "stderr",
     "output_type": "stream",
     "text": [
      "/Users/clairelongo/Documents/Work/prof_dev/recmetrics/venv/lib/python2.7/site-packages/ipykernel_launcher.py:11: FutureWarning: using a dict on a Series for aggregation\n",
      "is deprecated and will be removed in a future version\n",
      "  # This is added back by InteractiveShellApp.init_path()\n"
     ]
    },
    {
     "data": {
      "text/html": [
       "<div>\n",
       "<style scoped>\n",
       "    .dataframe tbody tr th:only-of-type {\n",
       "        vertical-align: middle;\n",
       "    }\n",
       "\n",
       "    .dataframe tbody tr th {\n",
       "        vertical-align: top;\n",
       "    }\n",
       "\n",
       "    .dataframe thead th {\n",
       "        text-align: right;\n",
       "    }\n",
       "</style>\n",
       "<table border=\"1\" class=\"dataframe\">\n",
       "  <thead>\n",
       "    <tr style=\"text-align: right;\">\n",
       "      <th></th>\n",
       "      <th>actual</th>\n",
       "    </tr>\n",
       "    <tr>\n",
       "      <th>userId</th>\n",
       "      <th></th>\n",
       "    </tr>\n",
       "  </thead>\n",
       "  <tbody>\n",
       "    <tr>\n",
       "      <th>156</th>\n",
       "      <td>[524, 1282, 4622, 3600, 1556, 3093, 24, 3101, ...</td>\n",
       "    </tr>\n",
       "    <tr>\n",
       "      <th>208</th>\n",
       "      <td>[1544, 14, 2575, 72720, 26712, 1046, 2585, 29,...</td>\n",
       "    </tr>\n",
       "    <tr>\n",
       "      <th>359</th>\n",
       "      <td>[69640, 524, 1037, 4638, 1968, 1061, 27722, 16...</td>\n",
       "    </tr>\n",
       "    <tr>\n",
       "      <th>394</th>\n",
       "      <td>[4105, 47629, 56848, 5650, 6062, 8623, 541, 20...</td>\n",
       "    </tr>\n",
       "    <tr>\n",
       "      <th>572</th>\n",
       "      <td>[1, 111617, 69640, 3087, 5650, 39444, 7707, 31...</td>\n",
       "    </tr>\n",
       "  </tbody>\n",
       "</table>\n",
       "</div>"
      ],
      "text/plain": [
       "                                                   actual\n",
       "userId                                                   \n",
       "156     [524, 1282, 4622, 3600, 1556, 3093, 24, 3101, ...\n",
       "208     [1544, 14, 2575, 72720, 26712, 1046, 2585, 29,...\n",
       "359     [69640, 524, 1037, 4638, 1968, 1061, 27722, 16...\n",
       "394     [4105, 47629, 56848, 5650, 6062, 8623, 541, 20...\n",
       "572     [1, 111617, 69640, 3087, 5650, 39444, 7707, 31..."
      ]
     },
     "execution_count": 7,
     "metadata": {},
     "output_type": "execute_result"
    }
   ],
   "source": [
    "# the test data contains 100 movies from each user that are rated greater than 3 stars\n",
    "test_index = ratings.copy()\n",
    "test_index = test_index.groupby('userId')\n",
    "test_index = test_index.apply(lambda x: x.sample(min(100, len(x))))\n",
    "\n",
    "test_index.drop(axis=1, columns=\"userId\", inplace=True)\n",
    "test_index.reset_index(inplace=True, drop=False)\n",
    "test_index = test_index.level_1.values.tolist()\n",
    "\n",
    "test_df = ratings.loc[test_index]\n",
    "test = test_df.copy().groupby('userId')['movieId'].agg({'actual': (lambda x: list(set(x)))})\n",
    "test.head()"
   ]
  },
  {
   "cell_type": "code",
   "execution_count": 8,
   "metadata": {},
   "outputs": [
    {
     "data": {
      "text/html": [
       "<div>\n",
       "<style scoped>\n",
       "    .dataframe tbody tr th:only-of-type {\n",
       "        vertical-align: middle;\n",
       "    }\n",
       "\n",
       "    .dataframe tbody tr th {\n",
       "        vertical-align: top;\n",
       "    }\n",
       "\n",
       "    .dataframe thead th {\n",
       "        text-align: right;\n",
       "    }\n",
       "</style>\n",
       "<table border=\"1\" class=\"dataframe\">\n",
       "  <thead>\n",
       "    <tr style=\"text-align: right;\">\n",
       "      <th></th>\n",
       "      <th>userId</th>\n",
       "      <th>movieId</th>\n",
       "      <th>rating</th>\n",
       "      <th>timestamp</th>\n",
       "    </tr>\n",
       "  </thead>\n",
       "  <tbody>\n",
       "    <tr>\n",
       "      <th>15918</th>\n",
       "      <td>156</td>\n",
       "      <td>1</td>\n",
       "      <td>5.0</td>\n",
       "      <td>1037739266</td>\n",
       "    </tr>\n",
       "    <tr>\n",
       "      <th>15919</th>\n",
       "      <td>156</td>\n",
       "      <td>2</td>\n",
       "      <td>5.0</td>\n",
       "      <td>1040937649</td>\n",
       "    </tr>\n",
       "    <tr>\n",
       "      <th>15920</th>\n",
       "      <td>156</td>\n",
       "      <td>4</td>\n",
       "      <td>3.0</td>\n",
       "      <td>1038801803</td>\n",
       "    </tr>\n",
       "    <tr>\n",
       "      <th>15921</th>\n",
       "      <td>156</td>\n",
       "      <td>5</td>\n",
       "      <td>3.0</td>\n",
       "      <td>1040944583</td>\n",
       "    </tr>\n",
       "    <tr>\n",
       "      <th>15922</th>\n",
       "      <td>156</td>\n",
       "      <td>6</td>\n",
       "      <td>4.0</td>\n",
       "      <td>1037822117</td>\n",
       "    </tr>\n",
       "  </tbody>\n",
       "</table>\n",
       "</div>"
      ],
      "text/plain": [
       "       userId  movieId  rating   timestamp\n",
       "15918     156        1     5.0  1037739266\n",
       "15919     156        2     5.0  1040937649\n",
       "15920     156        4     3.0  1038801803\n",
       "15921     156        5     3.0  1040944583\n",
       "15922     156        6     4.0  1037822117"
      ]
     },
     "execution_count": 8,
     "metadata": {},
     "output_type": "execute_result"
    }
   ],
   "source": [
    "train_long = ratings[~ratings.index.isin(test_index)].dropna()\n",
    "train_long.head()"
   ]
  },
  {
   "cell_type": "markdown",
   "metadata": {},
   "source": [
    "# Popularity Recommender\n",
    "Creating a simple popularity recommender to demonstrate recommender metrics in action. The popularity recommender simply recommends the top 10 movies to every user."
   ]
  },
  {
   "cell_type": "code",
   "execution_count": 9,
   "metadata": {},
   "outputs": [
    {
     "data": {
      "text/html": [
       "<div>\n",
       "<style scoped>\n",
       "    .dataframe tbody tr th:only-of-type {\n",
       "        vertical-align: middle;\n",
       "    }\n",
       "\n",
       "    .dataframe tbody tr th {\n",
       "        vertical-align: top;\n",
       "    }\n",
       "\n",
       "    .dataframe thead th {\n",
       "        text-align: right;\n",
       "    }\n",
       "</style>\n",
       "<table border=\"1\" class=\"dataframe\">\n",
       "  <thead>\n",
       "    <tr style=\"text-align: right;\">\n",
       "      <th></th>\n",
       "      <th>actual</th>\n",
       "      <th>pop_predictions</th>\n",
       "    </tr>\n",
       "    <tr>\n",
       "      <th>userId</th>\n",
       "      <th></th>\n",
       "      <th></th>\n",
       "    </tr>\n",
       "  </thead>\n",
       "  <tbody>\n",
       "    <tr>\n",
       "      <th>156</th>\n",
       "      <td>[524, 1282, 4622, 3600, 1556, 3093, 24, 3101, ...</td>\n",
       "      <td>[1198, 593, 1270, 318, 2762, 296, 260, 608, 12...</td>\n",
       "    </tr>\n",
       "    <tr>\n",
       "      <th>208</th>\n",
       "      <td>[1544, 14, 2575, 72720, 26712, 1046, 2585, 29,...</td>\n",
       "      <td>[1198, 593, 1270, 318, 2762, 296, 260, 608, 12...</td>\n",
       "    </tr>\n",
       "    <tr>\n",
       "      <th>359</th>\n",
       "      <td>[69640, 524, 1037, 4638, 1968, 1061, 27722, 16...</td>\n",
       "      <td>[1198, 593, 1270, 318, 2762, 296, 260, 608, 12...</td>\n",
       "    </tr>\n",
       "    <tr>\n",
       "      <th>394</th>\n",
       "      <td>[4105, 47629, 56848, 5650, 6062, 8623, 541, 20...</td>\n",
       "      <td>[1198, 593, 1270, 318, 2762, 296, 260, 608, 12...</td>\n",
       "    </tr>\n",
       "    <tr>\n",
       "      <th>572</th>\n",
       "      <td>[1, 111617, 69640, 3087, 5650, 39444, 7707, 31...</td>\n",
       "      <td>[1198, 593, 1270, 318, 2762, 296, 260, 608, 12...</td>\n",
       "    </tr>\n",
       "  </tbody>\n",
       "</table>\n",
       "</div>"
      ],
      "text/plain": [
       "                                                   actual  \\\n",
       "userId                                                      \n",
       "156     [524, 1282, 4622, 3600, 1556, 3093, 24, 3101, ...   \n",
       "208     [1544, 14, 2575, 72720, 26712, 1046, 2585, 29,...   \n",
       "359     [69640, 524, 1037, 4638, 1968, 1061, 27722, 16...   \n",
       "394     [4105, 47629, 56848, 5650, 6062, 8623, 541, 20...   \n",
       "572     [1, 111617, 69640, 3087, 5650, 39444, 7707, 31...   \n",
       "\n",
       "                                          pop_predictions  \n",
       "userId                                                     \n",
       "156     [1198, 593, 1270, 318, 2762, 296, 260, 608, 12...  \n",
       "208     [1198, 593, 1270, 318, 2762, 296, 260, 608, 12...  \n",
       "359     [1198, 593, 1270, 318, 2762, 296, 260, 608, 12...  \n",
       "394     [1198, 593, 1270, 318, 2762, 296, 260, 608, 12...  \n",
       "572     [1198, 593, 1270, 318, 2762, 296, 260, 608, 12...  "
      ]
     },
     "execution_count": 9,
     "metadata": {},
     "output_type": "execute_result"
    }
   ],
   "source": [
    "#make recommendations for all members in the test data\n",
    "popularity_recs = train_long.movieId.value_counts().head(10).index.tolist()\n",
    "\n",
    "recs = []\n",
    "for user in test.index.tolist():\n",
    "    pop_predictions = popularity_recs\n",
    "    recs.append(pop_predictions)\n",
    "        \n",
    "test['pop_predictions'] = recs\n",
    "test.head()"
   ]
  },
  {
   "cell_type": "code",
   "execution_count": 10,
   "metadata": {},
   "outputs": [],
   "source": [
    "actual = test.actual.values.tolist()\n",
    "pop_predictions = test.pop_predictions.values.tolist()"
   ]
  },
  {
   "cell_type": "markdown",
   "metadata": {},
   "source": [
    "# Random Recommender\n",
    "Creating a simple random recommender to demonstrate recommender metrics in action. The random recommender simply recommends 10 random movies to every user."
   ]
  },
  {
   "cell_type": "code",
   "execution_count": 11,
   "metadata": {},
   "outputs": [
    {
     "data": {
      "text/html": [
       "<div>\n",
       "<style scoped>\n",
       "    .dataframe tbody tr th:only-of-type {\n",
       "        vertical-align: middle;\n",
       "    }\n",
       "\n",
       "    .dataframe tbody tr th {\n",
       "        vertical-align: top;\n",
       "    }\n",
       "\n",
       "    .dataframe thead th {\n",
       "        text-align: right;\n",
       "    }\n",
       "</style>\n",
       "<table border=\"1\" class=\"dataframe\">\n",
       "  <thead>\n",
       "    <tr style=\"text-align: right;\">\n",
       "      <th></th>\n",
       "      <th>actual</th>\n",
       "      <th>pop_predictions</th>\n",
       "      <th>random_predictions</th>\n",
       "    </tr>\n",
       "    <tr>\n",
       "      <th>userId</th>\n",
       "      <th></th>\n",
       "      <th></th>\n",
       "      <th></th>\n",
       "    </tr>\n",
       "  </thead>\n",
       "  <tbody>\n",
       "    <tr>\n",
       "      <th>156</th>\n",
       "      <td>[524, 1282, 4622, 3600, 1556, 3093, 24, 3101, ...</td>\n",
       "      <td>[1198, 593, 1270, 318, 2762, 296, 260, 608, 12...</td>\n",
       "      <td>[3475, 46965, 4682, 4223, 52975, 535, 4336, 40...</td>\n",
       "    </tr>\n",
       "    <tr>\n",
       "      <th>208</th>\n",
       "      <td>[1544, 14, 2575, 72720, 26712, 1046, 2585, 29,...</td>\n",
       "      <td>[1198, 593, 1270, 318, 2762, 296, 260, 608, 12...</td>\n",
       "      <td>[5943, 59369, 3088, 3016, 3499, 1025, 1594, 15...</td>\n",
       "    </tr>\n",
       "    <tr>\n",
       "      <th>359</th>\n",
       "      <td>[69640, 524, 1037, 4638, 1968, 1061, 27722, 16...</td>\n",
       "      <td>[1198, 593, 1270, 318, 2762, 296, 260, 608, 12...</td>\n",
       "      <td>[99832, 50658, 5945, 1240, 38886, 5791, 3256, ...</td>\n",
       "    </tr>\n",
       "    <tr>\n",
       "      <th>394</th>\n",
       "      <td>[4105, 47629, 56848, 5650, 6062, 8623, 541, 20...</td>\n",
       "      <td>[1198, 593, 1270, 318, 2762, 296, 260, 608, 12...</td>\n",
       "      <td>[912, 73168, 8711, 63876, 1831, 33072, 6709, 8...</td>\n",
       "    </tr>\n",
       "    <tr>\n",
       "      <th>572</th>\n",
       "      <td>[1, 111617, 69640, 3087, 5650, 39444, 7707, 31...</td>\n",
       "      <td>[1198, 593, 1270, 318, 2762, 296, 260, 608, 12...</td>\n",
       "      <td>[2221, 69986, 74916, 2571, 9013, 3160, 49651, ...</td>\n",
       "    </tr>\n",
       "  </tbody>\n",
       "</table>\n",
       "</div>"
      ],
      "text/plain": [
       "                                                   actual  \\\n",
       "userId                                                      \n",
       "156     [524, 1282, 4622, 3600, 1556, 3093, 24, 3101, ...   \n",
       "208     [1544, 14, 2575, 72720, 26712, 1046, 2585, 29,...   \n",
       "359     [69640, 524, 1037, 4638, 1968, 1061, 27722, 16...   \n",
       "394     [4105, 47629, 56848, 5650, 6062, 8623, 541, 20...   \n",
       "572     [1, 111617, 69640, 3087, 5650, 39444, 7707, 31...   \n",
       "\n",
       "                                          pop_predictions  \\\n",
       "userId                                                      \n",
       "156     [1198, 593, 1270, 318, 2762, 296, 260, 608, 12...   \n",
       "208     [1198, 593, 1270, 318, 2762, 296, 260, 608, 12...   \n",
       "359     [1198, 593, 1270, 318, 2762, 296, 260, 608, 12...   \n",
       "394     [1198, 593, 1270, 318, 2762, 296, 260, 608, 12...   \n",
       "572     [1198, 593, 1270, 318, 2762, 296, 260, 608, 12...   \n",
       "\n",
       "                                       random_predictions  \n",
       "userId                                                     \n",
       "156     [3475, 46965, 4682, 4223, 52975, 535, 4336, 40...  \n",
       "208     [5943, 59369, 3088, 3016, 3499, 1025, 1594, 15...  \n",
       "359     [99832, 50658, 5945, 1240, 38886, 5791, 3256, ...  \n",
       "394     [912, 73168, 8711, 63876, 1831, 33072, 6709, 8...  \n",
       "572     [2221, 69986, 74916, 2571, 9013, 3160, 49651, ...  "
      ]
     },
     "execution_count": 11,
     "metadata": {},
     "output_type": "execute_result"
    }
   ],
   "source": [
    "#make recommendations for all members in the test data\n",
    "\n",
    "recs = []\n",
    "for user in test.index.tolist():\n",
    "    random_predictions = train_long.movieId.sample(10).values.tolist()\n",
    "    recs.append(random_predictions)\n",
    "        \n",
    "test['random_predictions'] = recs\n",
    "test.head()"
   ]
  },
  {
   "cell_type": "code",
   "execution_count": 12,
   "metadata": {},
   "outputs": [],
   "source": [
    "random_predictions = test.random_predictions.values.tolist()"
   ]
  },
  {
   "cell_type": "markdown",
   "metadata": {},
   "source": [
    "# Collaborative Filter Recommender\n",
    "Creating a simple CF to demonstrate recommender metrics in action. The collaborative filter transforms user-item interactions into latent space, and reconstructs the user-item matrix to impute ratings missing movie ratings. The predicted rating is the dot product between the user and movie vectors in latent space. "
   ]
  },
  {
   "cell_type": "code",
   "execution_count": 13,
   "metadata": {},
   "outputs": [
    {
     "data": {
      "text/html": [
       "<div>\n",
       "<style scoped>\n",
       "    .dataframe tbody tr th:only-of-type {\n",
       "        vertical-align: middle;\n",
       "    }\n",
       "\n",
       "    .dataframe tbody tr th {\n",
       "        vertical-align: top;\n",
       "    }\n",
       "\n",
       "    .dataframe thead th {\n",
       "        text-align: right;\n",
       "    }\n",
       "</style>\n",
       "<table border=\"1\" class=\"dataframe\">\n",
       "  <thead>\n",
       "    <tr style=\"text-align: right;\">\n",
       "      <th>movieId</th>\n",
       "      <th>1</th>\n",
       "      <th>2</th>\n",
       "      <th>3</th>\n",
       "      <th>4</th>\n",
       "      <th>5</th>\n",
       "      <th>6</th>\n",
       "      <th>7</th>\n",
       "      <th>8</th>\n",
       "      <th>9</th>\n",
       "      <th>10</th>\n",
       "      <th>...</th>\n",
       "      <th>131168</th>\n",
       "      <th>131174</th>\n",
       "      <th>131176</th>\n",
       "      <th>131231</th>\n",
       "      <th>131239</th>\n",
       "      <th>131241</th>\n",
       "      <th>131243</th>\n",
       "      <th>131248</th>\n",
       "      <th>131254</th>\n",
       "      <th>131256</th>\n",
       "    </tr>\n",
       "    <tr>\n",
       "      <th>userId</th>\n",
       "      <th></th>\n",
       "      <th></th>\n",
       "      <th></th>\n",
       "      <th></th>\n",
       "      <th></th>\n",
       "      <th></th>\n",
       "      <th></th>\n",
       "      <th></th>\n",
       "      <th></th>\n",
       "      <th></th>\n",
       "      <th></th>\n",
       "      <th></th>\n",
       "      <th></th>\n",
       "      <th></th>\n",
       "      <th></th>\n",
       "      <th></th>\n",
       "      <th></th>\n",
       "      <th></th>\n",
       "      <th></th>\n",
       "      <th></th>\n",
       "      <th></th>\n",
       "    </tr>\n",
       "  </thead>\n",
       "  <tbody>\n",
       "    <tr>\n",
       "      <th>156</th>\n",
       "      <td>5.0</td>\n",
       "      <td>5.0</td>\n",
       "      <td>0.0</td>\n",
       "      <td>3.0</td>\n",
       "      <td>3.0</td>\n",
       "      <td>4.0</td>\n",
       "      <td>4.0</td>\n",
       "      <td>0.0</td>\n",
       "      <td>3.0</td>\n",
       "      <td>4.0</td>\n",
       "      <td>...</td>\n",
       "      <td>0.0</td>\n",
       "      <td>0.0</td>\n",
       "      <td>0.0</td>\n",
       "      <td>0.0</td>\n",
       "      <td>0.0</td>\n",
       "      <td>0.0</td>\n",
       "      <td>0.0</td>\n",
       "      <td>0.0</td>\n",
       "      <td>0.0</td>\n",
       "      <td>0.0</td>\n",
       "    </tr>\n",
       "    <tr>\n",
       "      <th>208</th>\n",
       "      <td>4.0</td>\n",
       "      <td>0.0</td>\n",
       "      <td>0.0</td>\n",
       "      <td>0.0</td>\n",
       "      <td>0.0</td>\n",
       "      <td>0.0</td>\n",
       "      <td>0.0</td>\n",
       "      <td>0.0</td>\n",
       "      <td>0.0</td>\n",
       "      <td>0.0</td>\n",
       "      <td>...</td>\n",
       "      <td>0.0</td>\n",
       "      <td>0.0</td>\n",
       "      <td>0.0</td>\n",
       "      <td>0.0</td>\n",
       "      <td>0.0</td>\n",
       "      <td>0.0</td>\n",
       "      <td>0.0</td>\n",
       "      <td>0.0</td>\n",
       "      <td>0.0</td>\n",
       "      <td>0.0</td>\n",
       "    </tr>\n",
       "    <tr>\n",
       "      <th>359</th>\n",
       "      <td>5.0</td>\n",
       "      <td>0.0</td>\n",
       "      <td>0.0</td>\n",
       "      <td>0.0</td>\n",
       "      <td>0.0</td>\n",
       "      <td>5.0</td>\n",
       "      <td>0.0</td>\n",
       "      <td>0.0</td>\n",
       "      <td>0.0</td>\n",
       "      <td>4.0</td>\n",
       "      <td>...</td>\n",
       "      <td>0.0</td>\n",
       "      <td>0.0</td>\n",
       "      <td>0.0</td>\n",
       "      <td>0.0</td>\n",
       "      <td>0.0</td>\n",
       "      <td>0.0</td>\n",
       "      <td>0.0</td>\n",
       "      <td>0.0</td>\n",
       "      <td>0.0</td>\n",
       "      <td>0.0</td>\n",
       "    </tr>\n",
       "  </tbody>\n",
       "</table>\n",
       "<p>3 rows × 21806 columns</p>\n",
       "</div>"
      ],
      "text/plain": [
       "movieId  1       2       3       4       5       6       7       8       \\\n",
       "userId                                                                    \n",
       "156         5.0     5.0     0.0     3.0     3.0     4.0     4.0     0.0   \n",
       "208         4.0     0.0     0.0     0.0     0.0     0.0     0.0     0.0   \n",
       "359         5.0     0.0     0.0     0.0     0.0     5.0     0.0     0.0   \n",
       "\n",
       "movieId  9       10       ...    131168  131174  131176  131231  131239  \\\n",
       "userId                    ...                                             \n",
       "156         3.0     4.0   ...       0.0     0.0     0.0     0.0     0.0   \n",
       "208         0.0     0.0   ...       0.0     0.0     0.0     0.0     0.0   \n",
       "359         0.0     4.0   ...       0.0     0.0     0.0     0.0     0.0   \n",
       "\n",
       "movieId  131241  131243  131248  131254  131256  \n",
       "userId                                           \n",
       "156         0.0     0.0     0.0     0.0     0.0  \n",
       "208         0.0     0.0     0.0     0.0     0.0  \n",
       "359         0.0     0.0     0.0     0.0     0.0  \n",
       "\n",
       "[3 rows x 21806 columns]"
      ]
     },
     "execution_count": 13,
     "metadata": {},
     "output_type": "execute_result"
    }
   ],
   "source": [
    "train_pivot = train_long.pivot(index = 'userId', columns ='movieId', values = 'rating').fillna(0)\n",
    "user_index = train_pivot.index.tolist()\n",
    "movie_index = train_pivot.columns.tolist()\n",
    "train_pivot.head(3)"
   ]
  },
  {
   "cell_type": "code",
   "execution_count": 14,
   "metadata": {},
   "outputs": [],
   "source": [
    "from scipy.sparse import csr_matrix\n",
    "from scipy.sparse.linalg import svds\n",
    "\n",
    "#svd\n",
    "U, sigma, Vt = svds(train_pivot, k=100) # k is the number of factors\n",
    "eigvals = sigma**2 / np.cumsum(sigma)[-1]\n",
    "eigvals = eigvals[::-1]\n",
    "sigma = np.diag(sigma)\n",
    "\n",
    "#reconstruct ratings matrix\n",
    "cf_model = np.dot(np.dot(U, sigma), Vt) \n",
    "cf_model = pd.DataFrame(cf_model, index=user_index, columns=movie_index)"
   ]
  },
  {
   "cell_type": "code",
   "execution_count": 15,
   "metadata": {},
   "outputs": [
    {
     "data": {
      "text/html": [
       "<div>\n",
       "<style scoped>\n",
       "    .dataframe tbody tr th:only-of-type {\n",
       "        vertical-align: middle;\n",
       "    }\n",
       "\n",
       "    .dataframe tbody tr th {\n",
       "        vertical-align: top;\n",
       "    }\n",
       "\n",
       "    .dataframe thead th {\n",
       "        text-align: right;\n",
       "    }\n",
       "</style>\n",
       "<table border=\"1\" class=\"dataframe\">\n",
       "  <thead>\n",
       "    <tr style=\"text-align: right;\">\n",
       "      <th></th>\n",
       "      <th>1</th>\n",
       "      <th>2</th>\n",
       "      <th>3</th>\n",
       "      <th>4</th>\n",
       "      <th>5</th>\n",
       "      <th>6</th>\n",
       "      <th>7</th>\n",
       "      <th>8</th>\n",
       "      <th>9</th>\n",
       "      <th>10</th>\n",
       "      <th>...</th>\n",
       "      <th>131168</th>\n",
       "      <th>131174</th>\n",
       "      <th>131176</th>\n",
       "      <th>131231</th>\n",
       "      <th>131239</th>\n",
       "      <th>131241</th>\n",
       "      <th>131243</th>\n",
       "      <th>131248</th>\n",
       "      <th>131254</th>\n",
       "      <th>131256</th>\n",
       "    </tr>\n",
       "  </thead>\n",
       "  <tbody>\n",
       "    <tr>\n",
       "      <th>156</th>\n",
       "      <td>2.971144</td>\n",
       "      <td>4.002627</td>\n",
       "      <td>1.063775</td>\n",
       "      <td>2.464281</td>\n",
       "      <td>1.539359</td>\n",
       "      <td>3.757866</td>\n",
       "      <td>3.502234</td>\n",
       "      <td>0.724789</td>\n",
       "      <td>1.841178</td>\n",
       "      <td>3.150718</td>\n",
       "      <td>...</td>\n",
       "      <td>-0.040855</td>\n",
       "      <td>-0.025221</td>\n",
       "      <td>-0.032427</td>\n",
       "      <td>-0.027567</td>\n",
       "      <td>-0.000213</td>\n",
       "      <td>-0.000213</td>\n",
       "      <td>-0.000213</td>\n",
       "      <td>-0.000213</td>\n",
       "      <td>-0.000213</td>\n",
       "      <td>-0.000213</td>\n",
       "    </tr>\n",
       "    <tr>\n",
       "      <th>208</th>\n",
       "      <td>4.127231</td>\n",
       "      <td>-0.164173</td>\n",
       "      <td>0.089002</td>\n",
       "      <td>0.454244</td>\n",
       "      <td>0.066338</td>\n",
       "      <td>1.517779</td>\n",
       "      <td>0.540115</td>\n",
       "      <td>-0.101938</td>\n",
       "      <td>0.299258</td>\n",
       "      <td>-0.082022</td>\n",
       "      <td>...</td>\n",
       "      <td>-0.015437</td>\n",
       "      <td>0.008285</td>\n",
       "      <td>0.010653</td>\n",
       "      <td>0.041431</td>\n",
       "      <td>-0.021310</td>\n",
       "      <td>-0.021310</td>\n",
       "      <td>-0.021310</td>\n",
       "      <td>-0.021310</td>\n",
       "      <td>-0.021310</td>\n",
       "      <td>-0.021310</td>\n",
       "    </tr>\n",
       "    <tr>\n",
       "      <th>359</th>\n",
       "      <td>4.028939</td>\n",
       "      <td>2.059063</td>\n",
       "      <td>0.440158</td>\n",
       "      <td>-0.424780</td>\n",
       "      <td>0.302826</td>\n",
       "      <td>4.519847</td>\n",
       "      <td>1.334106</td>\n",
       "      <td>-0.040256</td>\n",
       "      <td>0.176671</td>\n",
       "      <td>2.252665</td>\n",
       "      <td>...</td>\n",
       "      <td>-0.004970</td>\n",
       "      <td>-0.025570</td>\n",
       "      <td>-0.032876</td>\n",
       "      <td>-0.008475</td>\n",
       "      <td>-0.007442</td>\n",
       "      <td>-0.007442</td>\n",
       "      <td>-0.007442</td>\n",
       "      <td>-0.007442</td>\n",
       "      <td>-0.007442</td>\n",
       "      <td>-0.007442</td>\n",
       "    </tr>\n",
       "    <tr>\n",
       "      <th>394</th>\n",
       "      <td>3.272752</td>\n",
       "      <td>0.296073</td>\n",
       "      <td>0.022616</td>\n",
       "      <td>0.129549</td>\n",
       "      <td>0.509804</td>\n",
       "      <td>1.598241</td>\n",
       "      <td>-0.155136</td>\n",
       "      <td>0.027917</td>\n",
       "      <td>0.192891</td>\n",
       "      <td>1.165329</td>\n",
       "      <td>...</td>\n",
       "      <td>-0.014047</td>\n",
       "      <td>-0.010985</td>\n",
       "      <td>-0.014124</td>\n",
       "      <td>-0.043317</td>\n",
       "      <td>-0.032791</td>\n",
       "      <td>-0.032791</td>\n",
       "      <td>-0.032791</td>\n",
       "      <td>-0.032791</td>\n",
       "      <td>-0.032791</td>\n",
       "      <td>-0.032791</td>\n",
       "    </tr>\n",
       "    <tr>\n",
       "      <th>572</th>\n",
       "      <td>2.570895</td>\n",
       "      <td>2.058950</td>\n",
       "      <td>2.664985</td>\n",
       "      <td>0.138340</td>\n",
       "      <td>2.009729</td>\n",
       "      <td>2.028119</td>\n",
       "      <td>0.060789</td>\n",
       "      <td>0.158625</td>\n",
       "      <td>-0.177021</td>\n",
       "      <td>1.420638</td>\n",
       "      <td>...</td>\n",
       "      <td>0.017751</td>\n",
       "      <td>0.014154</td>\n",
       "      <td>0.018197</td>\n",
       "      <td>-0.062526</td>\n",
       "      <td>0.019140</td>\n",
       "      <td>0.019140</td>\n",
       "      <td>0.019140</td>\n",
       "      <td>0.019140</td>\n",
       "      <td>0.019140</td>\n",
       "      <td>0.019140</td>\n",
       "    </tr>\n",
       "  </tbody>\n",
       "</table>\n",
       "<p>5 rows × 21806 columns</p>\n",
       "</div>"
      ],
      "text/plain": [
       "       1         2         3         4         5         6         7       \\\n",
       "156  2.971144  4.002627  1.063775  2.464281  1.539359  3.757866  3.502234   \n",
       "208  4.127231 -0.164173  0.089002  0.454244  0.066338  1.517779  0.540115   \n",
       "359  4.028939  2.059063  0.440158 -0.424780  0.302826  4.519847  1.334106   \n",
       "394  3.272752  0.296073  0.022616  0.129549  0.509804  1.598241 -0.155136   \n",
       "572  2.570895  2.058950  2.664985  0.138340  2.009729  2.028119  0.060789   \n",
       "\n",
       "       8         9         10        ...       131168    131174    131176  \\\n",
       "156  0.724789  1.841178  3.150718    ...    -0.040855 -0.025221 -0.032427   \n",
       "208 -0.101938  0.299258 -0.082022    ...    -0.015437  0.008285  0.010653   \n",
       "359 -0.040256  0.176671  2.252665    ...    -0.004970 -0.025570 -0.032876   \n",
       "394  0.027917  0.192891  1.165329    ...    -0.014047 -0.010985 -0.014124   \n",
       "572  0.158625 -0.177021  1.420638    ...     0.017751  0.014154  0.018197   \n",
       "\n",
       "       131231    131239    131241    131243    131248    131254    131256  \n",
       "156 -0.027567 -0.000213 -0.000213 -0.000213 -0.000213 -0.000213 -0.000213  \n",
       "208  0.041431 -0.021310 -0.021310 -0.021310 -0.021310 -0.021310 -0.021310  \n",
       "359 -0.008475 -0.007442 -0.007442 -0.007442 -0.007442 -0.007442 -0.007442  \n",
       "394 -0.043317 -0.032791 -0.032791 -0.032791 -0.032791 -0.032791 -0.032791  \n",
       "572 -0.062526  0.019140  0.019140  0.019140  0.019140  0.019140  0.019140  \n",
       "\n",
       "[5 rows x 21806 columns]"
      ]
     },
     "execution_count": 15,
     "metadata": {},
     "output_type": "execute_result"
    }
   ],
   "source": [
    "cf_model.head()"
   ]
  },
  {
   "cell_type": "code",
   "execution_count": 16,
   "metadata": {},
   "outputs": [],
   "source": [
    "def get_users_predictions(user_id, n, model, train_long):\n",
    "    recommended_items = pd.DataFrame(model.loc[user_id])\n",
    "    recommended_items.columns = [\"predicted_rating\"]\n",
    "    recommended_items = recommended_items.sort_values('predicted_rating', ascending=False)    \n",
    "    rated_items_from_train = train_long.query('userId == @user_id').movieId.tolist()\n",
    "    recommended_items = recommended_items[~recommended_items.index.isin(rated_items_from_train)]\n",
    "    recommended_items = recommended_items.head(n)\n",
    "    return recommended_items.index.tolist()"
   ]
  },
  {
   "cell_type": "code",
   "execution_count": 17,
   "metadata": {},
   "outputs": [
    {
     "data": {
      "text/plain": [
       "[2802, 4018, 1586, 2316, 3708, 3494, 1580, 1544, 3763, 4855]"
      ]
     },
     "execution_count": 17,
     "metadata": {},
     "output_type": "execute_result"
    }
   ],
   "source": [
    "get_users_predictions(156, 10, cf_model, train_long)"
   ]
  },
  {
   "cell_type": "code",
   "execution_count": 18,
   "metadata": {},
   "outputs": [
    {
     "data": {
      "text/html": [
       "<div>\n",
       "<style scoped>\n",
       "    .dataframe tbody tr th:only-of-type {\n",
       "        vertical-align: middle;\n",
       "    }\n",
       "\n",
       "    .dataframe tbody tr th {\n",
       "        vertical-align: top;\n",
       "    }\n",
       "\n",
       "    .dataframe thead th {\n",
       "        text-align: right;\n",
       "    }\n",
       "</style>\n",
       "<table border=\"1\" class=\"dataframe\">\n",
       "  <thead>\n",
       "    <tr style=\"text-align: right;\">\n",
       "      <th></th>\n",
       "      <th>actual</th>\n",
       "      <th>pop_predictions</th>\n",
       "      <th>random_predictions</th>\n",
       "      <th>cf_predictions</th>\n",
       "    </tr>\n",
       "    <tr>\n",
       "      <th>userId</th>\n",
       "      <th></th>\n",
       "      <th></th>\n",
       "      <th></th>\n",
       "      <th></th>\n",
       "    </tr>\n",
       "  </thead>\n",
       "  <tbody>\n",
       "    <tr>\n",
       "      <th>156</th>\n",
       "      <td>[524, 1282, 4622, 3600, 1556, 3093, 24, 3101, ...</td>\n",
       "      <td>[1198, 593, 1270, 318, 2762, 296, 260, 608, 12...</td>\n",
       "      <td>[3475, 46965, 4682, 4223, 52975, 535, 4336, 40...</td>\n",
       "      <td>[2802, 4018, 1586, 2316, 3708, 3494, 1580, 154...</td>\n",
       "    </tr>\n",
       "    <tr>\n",
       "      <th>208</th>\n",
       "      <td>[1544, 14, 2575, 72720, 26712, 1046, 2585, 29,...</td>\n",
       "      <td>[1198, 593, 1270, 318, 2762, 296, 260, 608, 12...</td>\n",
       "      <td>[5943, 59369, 3088, 3016, 3499, 1025, 1594, 15...</td>\n",
       "      <td>[1077, 3424, 6711, 3481, 3152, 1296, 3362, 515...</td>\n",
       "    </tr>\n",
       "    <tr>\n",
       "      <th>359</th>\n",
       "      <td>[69640, 524, 1037, 4638, 1968, 1061, 27722, 16...</td>\n",
       "      <td>[1198, 593, 1270, 318, 2762, 296, 260, 608, 12...</td>\n",
       "      <td>[99832, 50658, 5945, 1240, 38886, 5791, 3256, ...</td>\n",
       "      <td>[1213, 1240, 2000, 36529, 1270, 34048, 648, 47...</td>\n",
       "    </tr>\n",
       "    <tr>\n",
       "      <th>394</th>\n",
       "      <td>[4105, 47629, 56848, 5650, 6062, 8623, 541, 20...</td>\n",
       "      <td>[1198, 593, 1270, 318, 2762, 296, 260, 608, 12...</td>\n",
       "      <td>[912, 73168, 8711, 63876, 1831, 33072, 6709, 8...</td>\n",
       "      <td>[541, 3260, 720, 6440, 1235, 3996, 7566, 2174,...</td>\n",
       "    </tr>\n",
       "    <tr>\n",
       "      <th>572</th>\n",
       "      <td>[1, 111617, 69640, 3087, 5650, 39444, 7707, 31...</td>\n",
       "      <td>[1198, 593, 1270, 318, 2762, 296, 260, 608, 12...</td>\n",
       "      <td>[2221, 69986, 74916, 2571, 9013, 3160, 49651, ...</td>\n",
       "      <td>[1584, 4085, 3006, 2011, 2804, 40819, 1500, 89...</td>\n",
       "    </tr>\n",
       "  </tbody>\n",
       "</table>\n",
       "</div>"
      ],
      "text/plain": [
       "                                                   actual  \\\n",
       "userId                                                      \n",
       "156     [524, 1282, 4622, 3600, 1556, 3093, 24, 3101, ...   \n",
       "208     [1544, 14, 2575, 72720, 26712, 1046, 2585, 29,...   \n",
       "359     [69640, 524, 1037, 4638, 1968, 1061, 27722, 16...   \n",
       "394     [4105, 47629, 56848, 5650, 6062, 8623, 541, 20...   \n",
       "572     [1, 111617, 69640, 3087, 5650, 39444, 7707, 31...   \n",
       "\n",
       "                                          pop_predictions  \\\n",
       "userId                                                      \n",
       "156     [1198, 593, 1270, 318, 2762, 296, 260, 608, 12...   \n",
       "208     [1198, 593, 1270, 318, 2762, 296, 260, 608, 12...   \n",
       "359     [1198, 593, 1270, 318, 2762, 296, 260, 608, 12...   \n",
       "394     [1198, 593, 1270, 318, 2762, 296, 260, 608, 12...   \n",
       "572     [1198, 593, 1270, 318, 2762, 296, 260, 608, 12...   \n",
       "\n",
       "                                       random_predictions  \\\n",
       "userId                                                      \n",
       "156     [3475, 46965, 4682, 4223, 52975, 535, 4336, 40...   \n",
       "208     [5943, 59369, 3088, 3016, 3499, 1025, 1594, 15...   \n",
       "359     [99832, 50658, 5945, 1240, 38886, 5791, 3256, ...   \n",
       "394     [912, 73168, 8711, 63876, 1831, 33072, 6709, 8...   \n",
       "572     [2221, 69986, 74916, 2571, 9013, 3160, 49651, ...   \n",
       "\n",
       "                                           cf_predictions  \n",
       "userId                                                     \n",
       "156     [2802, 4018, 1586, 2316, 3708, 3494, 1580, 154...  \n",
       "208     [1077, 3424, 6711, 3481, 3152, 1296, 3362, 515...  \n",
       "359     [1213, 1240, 2000, 36529, 1270, 34048, 648, 47...  \n",
       "394     [541, 3260, 720, 6440, 1235, 3996, 7566, 2174,...  \n",
       "572     [1584, 4085, 3006, 2011, 2804, 40819, 1500, 89...  "
      ]
     },
     "execution_count": 18,
     "metadata": {},
     "output_type": "execute_result"
    }
   ],
   "source": [
    "#make recommendations for all members in the test data\n",
    "\n",
    "recs = []\n",
    "for user in user_index:\n",
    "    cf_predictions = get_users_predictions(user, 10, cf_model, train_long)\n",
    "    recs.append(cf_predictions)\n",
    "        \n",
    "test['cf_predictions'] = recs\n",
    "test.head()"
   ]
  },
  {
   "cell_type": "code",
   "execution_count": 19,
   "metadata": {},
   "outputs": [],
   "source": [
    "cf_predictions = test.cf_predictions.values.tolist()"
   ]
  },
  {
   "cell_type": "markdown",
   "metadata": {},
   "source": [
    "# Recall"
   ]
  },
  {
   "cell_type": "code",
   "execution_count": 20,
   "metadata": {},
   "outputs": [
    {
     "data": {
      "text/plain": [
       "[0.0007502679528403,\n",
       " 0.0010878885316184352,\n",
       " 0.0013522686673812076,\n",
       " 0.0015264380135762772,\n",
       " 0.0017300821722043588,\n",
       " 0.0018729903536977492,\n",
       " 0.0020138569897412343,\n",
       " 0.00212907671107028,\n",
       " 0.0022410214532401027,\n",
       " 0.0023224791166913355]"
      ]
     },
     "execution_count": 20,
     "metadata": {},
     "output_type": "execute_result"
    }
   ],
   "source": [
    "pop_mark = []\n",
    "for K in np.arange(1, 11):\n",
    "    pop_mark.extend([mark(actual, pop_predictions, k=K)])\n",
    "pop_mark"
   ]
  },
  {
   "cell_type": "code",
   "execution_count": 21,
   "metadata": {},
   "outputs": [
    {
     "data": {
      "text/plain": [
       "[0.00025723472668810293,\n",
       " 0.0003483386923901393,\n",
       " 0.0004233654876741693,\n",
       " 0.0004930332261521972,\n",
       " 0.0005487674169346196,\n",
       " 0.0006005716327259736,\n",
       " 0.000638850609911703,\n",
       " 0.000671004950747716,\n",
       " 0.000700777488558839,\n",
       " 0.0007265009612276494]"
      ]
     },
     "execution_count": 21,
     "metadata": {},
     "output_type": "execute_result"
    }
   ],
   "source": [
    "random_mark = []\n",
    "for K in np.arange(1, 11):\n",
    "    random_mark.extend([mark(actual, random_predictions, k=K)])\n",
    "random_mark"
   ]
  },
  {
   "cell_type": "code",
   "execution_count": 22,
   "metadata": {},
   "outputs": [
    {
     "data": {
      "text/plain": [
       "[0.007867095391211146,\n",
       " 0.014501607717041799,\n",
       " 0.020535905680600215,\n",
       " 0.0262566988210075,\n",
       " 0.03172508038585209,\n",
       " 0.03666077170418006,\n",
       " 0.04140889603429797,\n",
       " 0.045730975348338684,\n",
       " 0.049743122543765624,\n",
       " 0.053716327259735616]"
      ]
     },
     "execution_count": 22,
     "metadata": {},
     "output_type": "execute_result"
    }
   ],
   "source": [
    "cf_mark = []\n",
    "for K in np.arange(1, 11):\n",
    "    cf_mark.extend([mark(actual, cf_predictions, k=K)])\n",
    "cf_mark"
   ]
  },
  {
   "cell_type": "markdown",
   "metadata": {},
   "source": [
    "# Mark Plot"
   ]
  },
  {
   "cell_type": "code",
   "execution_count": 23,
   "metadata": {},
   "outputs": [
    {
     "data": {
      "image/png": "[encoded data removed]",
      "text/plain": [
       "<Figure size 1080x504 with 1 Axes>"
      ]
     },
     "metadata": {
      "needs_background": "light"
     },
     "output_type": "display_data"
    }
   ],
   "source": [
    "mark_scores = [random_mark, pop_mark, cf_mark]\n",
    "index = range(1,10+1)\n",
    "names = ['Random Recommender', 'Popularity Recommender', 'Collaborative Filter']\n",
    "\n",
    "fig = plt.figure(figsize=(15, 7))\n",
    "MarkPlot(mark_scores, model_names=names, k_range=index)"
   ]
  },
  {
   "cell_type": "markdown",
   "metadata": {},
   "source": [
    "# Coverage"
   ]
  },
  {
   "cell_type": "code",
   "execution_count": 24,
   "metadata": {},
   "outputs": [],
   "source": [
    "catalog = train_long.movieId.unique().tolist()\n",
    "random_coverage = coverage(random_predictions, catalog)\n",
    "pop_coverage = coverage(pop_predictions, catalog)\n",
    "cf_coverage = coverage(cf_predictions, catalog)"
   ]
  },
  {
   "cell_type": "markdown",
   "metadata": {},
   "source": [
    "# Coverage Plot"
   ]
  },
  {
   "cell_type": "code",
   "execution_count": 25,
   "metadata": {},
   "outputs": [
    {
     "data": {
      "image/png": "[encoded data removed]",
      "text/plain": [
       "<Figure size 504x360 with 1 Axes>"
      ]
     },
     "metadata": {
      "needs_background": "light"
     },
     "output_type": "display_data"
    }
   ],
   "source": [
    "coverage_scores = [random_coverage, pop_coverage, cf_coverage]\n",
    "model_names = ['Random Recommender', 'Popularity Recommender', 'Collaborative Filter']\n",
    "\n",
    "fig = plt.figure(figsize=(7, 5))\n",
    "CoveragePlot(coverage_scores, model_names)"
   ]
  },
  {
   "cell_type": "markdown",
   "metadata": {},
   "source": [
    "# Personalization"
   ]
  },
  {
   "cell_type": "code",
   "execution_count": 26,
   "metadata": {},
   "outputs": [],
   "source": [
    "example_predictions = [\n",
    "    ['1', '2', 'C', 'D'],\n",
    "    ['4', '3', 'm', 'X'],\n",
    "    ['7', 'B', 't', 'X']\n",
    "]"
   ]
  },
  {
   "cell_type": "code",
   "execution_count": 27,
   "metadata": {},
   "outputs": [
    {
     "data": {
      "text/plain": [
       "0.9166666666666666"
      ]
     },
     "execution_count": 27,
     "metadata": {},
     "output_type": "execute_result"
    }
   ],
   "source": [
    "personalization(predicted=example_predictions)"
   ]
  },
  {
   "cell_type": "markdown",
   "metadata": {},
   "source": [
    "# Intra-list Similarity"
   ]
  },
  {
   "cell_type": "code",
   "execution_count": 28,
   "metadata": {},
   "outputs": [],
   "source": [
    "example_predictions = [\n",
    "    [3, 7, 5, 9],\n",
    "    [9, 6, 12, 623],\n",
    "    [7, 894, 6, 623]\n",
    "]"
   ]
  },
  {
   "cell_type": "code",
   "execution_count": 29,
   "metadata": {},
   "outputs": [
    {
     "data": {
      "text/plain": [
       "0.27777777777777773"
      ]
     },
     "execution_count": 29,
     "metadata": {},
     "output_type": "execute_result"
    }
   ],
   "source": [
    "intra_list_similarity(predicted=example_predictions, feature_df=movies[['Action', 'Comedy', 'Romance']])"
   ]
  },
  {
   "cell_type": "code",
   "execution_count": null,
   "metadata": {},
   "outputs": [],
   "source": []
  }
 ],
 "metadata": {
  "kernelspec": {
   "display_name": "recmetricsfixed",
   "language": "python",
   "name": "recmetricsfixed"
  },
  "language_info": {
   "codemirror_mode": {
    "name": "ipython",
    "version": 2
   },
   "file_extension": ".py",
   "mimetype": "text/x-python",
   "name": "python",
   "nbconvert_exporter": "python",
   "pygments_lexer": "ipython2",
   "version": "2.7.15"
  },
  "toc": {
   "colors": {
    "hover_highlight": "#DAA520",
    "navigate_num": "#000000",
    "navigate_text": "#333333",
    "running_highlight": "#FF0000",
    "selected_highlight": "#FFD700",
    "sidebar_border": "#EEEEEE",
    "wrapper_background": "#FFFFFF"
   },
   "moveMenuLeft": true,
   "nav_menu": {
    "height": "171px",
    "width": "252px"
   },
   "navigate_menu": true,
   "number_sections": true,
   "sideBar": true,
   "skip_h1_title": false,
   "threshold": 4,
   "toc_cell": false,
   "toc_section_display": "block",
   "toc_window_display": false,
   "widenNotebook": false
  }
 },
 "nbformat": 4,
 "nbformat_minor": 2
}
