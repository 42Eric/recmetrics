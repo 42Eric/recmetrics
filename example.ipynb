{
 "cells": [
  {
   "cell_type": "code",
   "execution_count": 1,
   "metadata": {},
   "outputs": [],
   "source": [
    "import pandas as pd\n",
    "import numpy as np\n",
    "import recmetrics\n",
    "import matplotlib.pyplot as plt"
   ]
  },
  {
   "cell_type": "markdown",
   "metadata": {},
   "source": [
    "# MovieLense Dataset\n",
    "Using the MovieLens 20M Dataset dataset for examples. You can download this data here: https://grouplens.org/datasets/movielens/20m/"
   ]
  },
  {
   "cell_type": "code",
   "execution_count": 2,
   "metadata": {},
   "outputs": [],
   "source": [
    "ratings = pd.read_csv('../movie_similarity_flask_api/data/ml-20m/ratings.csv')\n",
    "ratings = ratings.query('rating >=3')\n",
    "ratings.reset_index(drop=True, inplace=True)"
   ]
  },
  {
   "cell_type": "code",
   "execution_count": 3,
   "metadata": {},
   "outputs": [],
   "source": [
    "#only consider ratings from users who have rated over n movies\n",
    "n=1000\n",
    "users = ratings.userId.value_counts()\n",
    "users = users[users>n].index.tolist()"
   ]
  },
  {
   "cell_type": "code",
   "execution_count": 4,
   "metadata": {},
   "outputs": [
    {
     "name": "stdout",
     "output_type": "stream",
     "text": [
      "(1317902, 4)\n"
     ]
    },
    {
     "data": {
      "text/html": [
       "<div>\n",
       "<style scoped>\n",
       "    .dataframe tbody tr th:only-of-type {\n",
       "        vertical-align: middle;\n",
       "    }\n",
       "\n",
       "    .dataframe tbody tr th {\n",
       "        vertical-align: top;\n",
       "    }\n",
       "\n",
       "    .dataframe thead th {\n",
       "        text-align: right;\n",
       "    }\n",
       "</style>\n",
       "<table border=\"1\" class=\"dataframe\">\n",
       "  <thead>\n",
       "    <tr style=\"text-align: right;\">\n",
       "      <th></th>\n",
       "      <th>userId</th>\n",
       "      <th>movieId</th>\n",
       "      <th>rating</th>\n",
       "      <th>timestamp</th>\n",
       "    </tr>\n",
       "  </thead>\n",
       "  <tbody>\n",
       "    <tr>\n",
       "      <th>15918</th>\n",
       "      <td>156</td>\n",
       "      <td>1</td>\n",
       "      <td>5.0</td>\n",
       "      <td>1037739266</td>\n",
       "    </tr>\n",
       "    <tr>\n",
       "      <th>15919</th>\n",
       "      <td>156</td>\n",
       "      <td>2</td>\n",
       "      <td>5.0</td>\n",
       "      <td>1040937649</td>\n",
       "    </tr>\n",
       "    <tr>\n",
       "      <th>15920</th>\n",
       "      <td>156</td>\n",
       "      <td>4</td>\n",
       "      <td>3.0</td>\n",
       "      <td>1038801803</td>\n",
       "    </tr>\n",
       "  </tbody>\n",
       "</table>\n",
       "</div>"
      ],
      "text/plain": [
       "       userId  movieId  rating   timestamp\n",
       "15918     156        1     5.0  1037739266\n",
       "15919     156        2     5.0  1040937649\n",
       "15920     156        4     3.0  1038801803"
      ]
     },
     "execution_count": 4,
     "metadata": {},
     "output_type": "execute_result"
    }
   ],
   "source": [
    "ratings = ratings.query('userId in @users')\n",
    "print ratings.shape\n",
    "ratings.head(3)"
   ]
  },
  {
   "cell_type": "code",
   "execution_count": 5,
   "metadata": {},
   "outputs": [
    {
     "data": {
      "text/html": [
       "<div>\n",
       "<style scoped>\n",
       "    .dataframe tbody tr th:only-of-type {\n",
       "        vertical-align: middle;\n",
       "    }\n",
       "\n",
       "    .dataframe tbody tr th {\n",
       "        vertical-align: top;\n",
       "    }\n",
       "\n",
       "    .dataframe thead th {\n",
       "        text-align: right;\n",
       "    }\n",
       "</style>\n",
       "<table border=\"1\" class=\"dataframe\">\n",
       "  <thead>\n",
       "    <tr style=\"text-align: right;\">\n",
       "      <th></th>\n",
       "      <th>(no genres listed)</th>\n",
       "      <th>Action</th>\n",
       "      <th>Adventure</th>\n",
       "      <th>Animation</th>\n",
       "      <th>Children</th>\n",
       "      <th>Comedy</th>\n",
       "      <th>Crime</th>\n",
       "      <th>Documentary</th>\n",
       "      <th>Drama</th>\n",
       "      <th>Fantasy</th>\n",
       "      <th>Film-Noir</th>\n",
       "      <th>Horror</th>\n",
       "      <th>IMAX</th>\n",
       "      <th>Musical</th>\n",
       "      <th>Mystery</th>\n",
       "      <th>Romance</th>\n",
       "      <th>Sci-Fi</th>\n",
       "      <th>Thriller</th>\n",
       "      <th>War</th>\n",
       "      <th>Western</th>\n",
       "    </tr>\n",
       "    <tr>\n",
       "      <th>movieId</th>\n",
       "      <th></th>\n",
       "      <th></th>\n",
       "      <th></th>\n",
       "      <th></th>\n",
       "      <th></th>\n",
       "      <th></th>\n",
       "      <th></th>\n",
       "      <th></th>\n",
       "      <th></th>\n",
       "      <th></th>\n",
       "      <th></th>\n",
       "      <th></th>\n",
       "      <th></th>\n",
       "      <th></th>\n",
       "      <th></th>\n",
       "      <th></th>\n",
       "      <th></th>\n",
       "      <th></th>\n",
       "      <th></th>\n",
       "      <th></th>\n",
       "    </tr>\n",
       "  </thead>\n",
       "  <tbody>\n",
       "    <tr>\n",
       "      <th>1</th>\n",
       "      <td>0</td>\n",
       "      <td>0</td>\n",
       "      <td>1</td>\n",
       "      <td>0</td>\n",
       "      <td>0</td>\n",
       "      <td>0</td>\n",
       "      <td>0</td>\n",
       "      <td>0</td>\n",
       "      <td>0</td>\n",
       "      <td>0</td>\n",
       "      <td>0</td>\n",
       "      <td>0</td>\n",
       "      <td>0</td>\n",
       "      <td>0</td>\n",
       "      <td>0</td>\n",
       "      <td>0</td>\n",
       "      <td>0</td>\n",
       "      <td>0</td>\n",
       "      <td>0</td>\n",
       "      <td>0</td>\n",
       "    </tr>\n",
       "    <tr>\n",
       "      <th>2</th>\n",
       "      <td>0</td>\n",
       "      <td>0</td>\n",
       "      <td>1</td>\n",
       "      <td>0</td>\n",
       "      <td>0</td>\n",
       "      <td>0</td>\n",
       "      <td>0</td>\n",
       "      <td>0</td>\n",
       "      <td>0</td>\n",
       "      <td>0</td>\n",
       "      <td>0</td>\n",
       "      <td>0</td>\n",
       "      <td>0</td>\n",
       "      <td>0</td>\n",
       "      <td>0</td>\n",
       "      <td>0</td>\n",
       "      <td>0</td>\n",
       "      <td>0</td>\n",
       "      <td>0</td>\n",
       "      <td>0</td>\n",
       "    </tr>\n",
       "    <tr>\n",
       "      <th>3</th>\n",
       "      <td>0</td>\n",
       "      <td>0</td>\n",
       "      <td>0</td>\n",
       "      <td>0</td>\n",
       "      <td>0</td>\n",
       "      <td>1</td>\n",
       "      <td>0</td>\n",
       "      <td>0</td>\n",
       "      <td>0</td>\n",
       "      <td>0</td>\n",
       "      <td>0</td>\n",
       "      <td>0</td>\n",
       "      <td>0</td>\n",
       "      <td>0</td>\n",
       "      <td>0</td>\n",
       "      <td>0</td>\n",
       "      <td>0</td>\n",
       "      <td>0</td>\n",
       "      <td>0</td>\n",
       "      <td>0</td>\n",
       "    </tr>\n",
       "    <tr>\n",
       "      <th>4</th>\n",
       "      <td>0</td>\n",
       "      <td>0</td>\n",
       "      <td>0</td>\n",
       "      <td>0</td>\n",
       "      <td>0</td>\n",
       "      <td>1</td>\n",
       "      <td>0</td>\n",
       "      <td>0</td>\n",
       "      <td>0</td>\n",
       "      <td>0</td>\n",
       "      <td>0</td>\n",
       "      <td>0</td>\n",
       "      <td>0</td>\n",
       "      <td>0</td>\n",
       "      <td>0</td>\n",
       "      <td>0</td>\n",
       "      <td>0</td>\n",
       "      <td>0</td>\n",
       "      <td>0</td>\n",
       "      <td>0</td>\n",
       "    </tr>\n",
       "    <tr>\n",
       "      <th>5</th>\n",
       "      <td>0</td>\n",
       "      <td>0</td>\n",
       "      <td>0</td>\n",
       "      <td>0</td>\n",
       "      <td>0</td>\n",
       "      <td>1</td>\n",
       "      <td>0</td>\n",
       "      <td>0</td>\n",
       "      <td>0</td>\n",
       "      <td>0</td>\n",
       "      <td>0</td>\n",
       "      <td>0</td>\n",
       "      <td>0</td>\n",
       "      <td>0</td>\n",
       "      <td>0</td>\n",
       "      <td>0</td>\n",
       "      <td>0</td>\n",
       "      <td>0</td>\n",
       "      <td>0</td>\n",
       "      <td>0</td>\n",
       "    </tr>\n",
       "  </tbody>\n",
       "</table>\n",
       "</div>"
      ],
      "text/plain": [
       "         (no genres listed)  Action  Adventure  Animation  Children  Comedy  \\\n",
       "movieId                                                                       \n",
       "1                         0       0          1          0         0       0   \n",
       "2                         0       0          1          0         0       0   \n",
       "3                         0       0          0          0         0       1   \n",
       "4                         0       0          0          0         0       1   \n",
       "5                         0       0          0          0         0       1   \n",
       "\n",
       "         Crime  Documentary  Drama  Fantasy  Film-Noir  Horror  IMAX  Musical  \\\n",
       "movieId                                                                         \n",
       "1            0            0      0        0          0       0     0        0   \n",
       "2            0            0      0        0          0       0     0        0   \n",
       "3            0            0      0        0          0       0     0        0   \n",
       "4            0            0      0        0          0       0     0        0   \n",
       "5            0            0      0        0          0       0     0        0   \n",
       "\n",
       "         Mystery  Romance  Sci-Fi  Thriller  War  Western  \n",
       "movieId                                                    \n",
       "1              0        0       0         0    0        0  \n",
       "2              0        0       0         0    0        0  \n",
       "3              0        0       0         0    0        0  \n",
       "4              0        0       0         0    0        0  \n",
       "5              0        0       0         0    0        0  "
      ]
     },
     "execution_count": 5,
     "metadata": {},
     "output_type": "execute_result"
    }
   ],
   "source": [
    "# get movie features\n",
    "\n",
    "rated_movies = ratings.movieId.tolist()\n",
    "movies = pd.read_csv('../movie_similarity_flask_api/data/ml-20m/movies.csv')\n",
    "movies = movies.query('movieId in @rated_movies')\n",
    "movies.set_index(\"movieId\", inplace=True, drop=True)\n",
    "\n",
    "movies = movies.genres.str.split(\"|\", expand=True)\n",
    "movies.reset_index(inplace=True)\n",
    "movies = pd.melt(movies, id_vars='movieId', value_vars=[0, 1, 2, 3, 4, 5, 6, 7, 8, 9])\n",
    "\n",
    "movies.drop_duplicates(\"movieId\", inplace=True)\n",
    "movies.set_index('movieId', inplace=True)\n",
    "\n",
    "movies = pd.get_dummies(movies.value)\n",
    "#movies = movies[['Action', 'Romance', 'Western', 'Comedy', 'Crime']]\n",
    "movies.head()"
   ]
  },
  {
   "cell_type": "markdown",
   "metadata": {},
   "source": [
    "## Long Tail Plot Example"
   ]
  },
  {
   "cell_type": "code",
   "execution_count": 6,
   "metadata": {},
   "outputs": [
    {
     "data": {
      "image/png": "[encoded data removed]",
      "text/plain": [
       "<Figure size 1080x504 with 1 Axes>"
      ]
     },
     "metadata": {
      "needs_background": "light"
     },
     "output_type": "display_data"
    }
   ],
   "source": [
    "import matplotlib.pyplot as plt\n",
    "\n",
    "fig = plt.figure(figsize=(15, 7))\n",
    "recmetrics.LongTailPlot(df=ratings, \n",
    "             item_id_column=\"movieId\", \n",
    "             interaction_type=\"movie ratings\", \n",
    "             percentage=0.5,\n",
    "             x_labels=False)"
   ]
  },
  {
   "cell_type": "markdown",
   "metadata": {},
   "source": [
    "## test/train split"
   ]
  },
  {
   "cell_type": "code",
   "execution_count": 7,
   "metadata": {},
   "outputs": [
    {
     "name": "stderr",
     "output_type": "stream",
     "text": [
      "/Users/clairelongo/Documents/Work/prof_dev/recmetrics/venv/lib/python2.7/site-packages/ipykernel_launcher.py:11: FutureWarning: using a dict on a Series for aggregation\n",
      "is deprecated and will be removed in a future version\n",
      "  # This is added back by InteractiveShellApp.init_path()\n"
     ]
    },
    {
     "data": {
      "text/html": [
       "<div>\n",
       "<style scoped>\n",
       "    .dataframe tbody tr th:only-of-type {\n",
       "        vertical-align: middle;\n",
       "    }\n",
       "\n",
       "    .dataframe tbody tr th {\n",
       "        vertical-align: top;\n",
       "    }\n",
       "\n",
       "    .dataframe thead th {\n",
       "        text-align: right;\n",
       "    }\n",
       "</style>\n",
       "<table border=\"1\" class=\"dataframe\">\n",
       "  <thead>\n",
       "    <tr style=\"text-align: right;\">\n",
       "      <th></th>\n",
       "      <th>actual</th>\n",
       "    </tr>\n",
       "    <tr>\n",
       "      <th>userId</th>\n",
       "      <th></th>\n",
       "    </tr>\n",
       "  </thead>\n",
       "  <tbody>\n",
       "    <tr>\n",
       "      <th>156</th>\n",
       "      <td>[1025, 2561, 5131, 12, 1603, 1043, 4641, 1061,...</td>\n",
       "    </tr>\n",
       "    <tr>\n",
       "      <th>208</th>\n",
       "      <td>[3083, 2065, 3096, 3101, 34, 1060, 3114, 7219,...</td>\n",
       "    </tr>\n",
       "    <tr>\n",
       "      <th>359</th>\n",
       "      <td>[2560, 1281, 6664, 34319, 1552, 2580, 539, 824...</td>\n",
       "    </tr>\n",
       "    <tr>\n",
       "      <th>394</th>\n",
       "      <td>[6666, 2571, 529, 3090, 2094, 1073, 58, 6721, ...</td>\n",
       "    </tr>\n",
       "    <tr>\n",
       "      <th>572</th>\n",
       "      <td>[47124, 55830, 4121, 59418, 3101, 31, 43556, 1...</td>\n",
       "    </tr>\n",
       "  </tbody>\n",
       "</table>\n",
       "</div>"
      ],
      "text/plain": [
       "                                                   actual\n",
       "userId                                                   \n",
       "156     [1025, 2561, 5131, 12, 1603, 1043, 4641, 1061,...\n",
       "208     [3083, 2065, 3096, 3101, 34, 1060, 3114, 7219,...\n",
       "359     [2560, 1281, 6664, 34319, 1552, 2580, 539, 824...\n",
       "394     [6666, 2571, 529, 3090, 2094, 1073, 58, 6721, ...\n",
       "572     [47124, 55830, 4121, 59418, 3101, 31, 43556, 1..."
      ]
     },
     "execution_count": 7,
     "metadata": {},
     "output_type": "execute_result"
    }
   ],
   "source": [
    "# the test data contains 100 movies from each user that are rated greater than 3 stars\n",
    "test_index = ratings.copy()\n",
    "test_index = test_index.groupby('userId')\n",
    "test_index = test_index.apply(lambda x: x.sample(min(100, len(x))))\n",
    "\n",
    "test_index.drop(axis=1, columns=\"userId\", inplace=True)\n",
    "test_index.reset_index(inplace=True, drop=False)\n",
    "test_index = test_index.level_1.values.tolist()\n",
    "\n",
    "test_df = ratings.loc[test_index]\n",
    "test = test_df.copy().groupby('userId')['movieId'].agg({'actual': (lambda x: list(set(x)))})\n",
    "test.head()"
   ]
  },
  {
   "cell_type": "code",
   "execution_count": 8,
   "metadata": {},
   "outputs": [
    {
     "data": {
      "text/html": [
       "<div>\n",
       "<style scoped>\n",
       "    .dataframe tbody tr th:only-of-type {\n",
       "        vertical-align: middle;\n",
       "    }\n",
       "\n",
       "    .dataframe tbody tr th {\n",
       "        vertical-align: top;\n",
       "    }\n",
       "\n",
       "    .dataframe thead th {\n",
       "        text-align: right;\n",
       "    }\n",
       "</style>\n",
       "<table border=\"1\" class=\"dataframe\">\n",
       "  <thead>\n",
       "    <tr style=\"text-align: right;\">\n",
       "      <th></th>\n",
       "      <th>userId</th>\n",
       "      <th>movieId</th>\n",
       "      <th>rating</th>\n",
       "      <th>timestamp</th>\n",
       "    </tr>\n",
       "  </thead>\n",
       "  <tbody>\n",
       "    <tr>\n",
       "      <th>15918</th>\n",
       "      <td>156</td>\n",
       "      <td>1</td>\n",
       "      <td>5.0</td>\n",
       "      <td>1037739266</td>\n",
       "    </tr>\n",
       "    <tr>\n",
       "      <th>15919</th>\n",
       "      <td>156</td>\n",
       "      <td>2</td>\n",
       "      <td>5.0</td>\n",
       "      <td>1040937649</td>\n",
       "    </tr>\n",
       "    <tr>\n",
       "      <th>15920</th>\n",
       "      <td>156</td>\n",
       "      <td>4</td>\n",
       "      <td>3.0</td>\n",
       "      <td>1038801803</td>\n",
       "    </tr>\n",
       "    <tr>\n",
       "      <th>15921</th>\n",
       "      <td>156</td>\n",
       "      <td>5</td>\n",
       "      <td>3.0</td>\n",
       "      <td>1040944583</td>\n",
       "    </tr>\n",
       "    <tr>\n",
       "      <th>15922</th>\n",
       "      <td>156</td>\n",
       "      <td>6</td>\n",
       "      <td>4.0</td>\n",
       "      <td>1037822117</td>\n",
       "    </tr>\n",
       "  </tbody>\n",
       "</table>\n",
       "</div>"
      ],
      "text/plain": [
       "       userId  movieId  rating   timestamp\n",
       "15918     156        1     5.0  1037739266\n",
       "15919     156        2     5.0  1040937649\n",
       "15920     156        4     3.0  1038801803\n",
       "15921     156        5     3.0  1040944583\n",
       "15922     156        6     4.0  1037822117"
      ]
     },
     "execution_count": 8,
     "metadata": {},
     "output_type": "execute_result"
    }
   ],
   "source": [
    "train_long = ratings[~ratings.index.isin(test_index)].dropna()\n",
    "train_long.head()"
   ]
  },
  {
   "cell_type": "markdown",
   "metadata": {},
   "source": [
    "# Popularity Recommender\n",
    "Creating a simple popularity recommender to demonstrate recommender metrics in action. The popularity recommender simply recommends the top 10 movies to every user."
   ]
  },
  {
   "cell_type": "code",
   "execution_count": 9,
   "metadata": {},
   "outputs": [
    {
     "data": {
      "text/html": [
       "<div>\n",
       "<style scoped>\n",
       "    .dataframe tbody tr th:only-of-type {\n",
       "        vertical-align: middle;\n",
       "    }\n",
       "\n",
       "    .dataframe tbody tr th {\n",
       "        vertical-align: top;\n",
       "    }\n",
       "\n",
       "    .dataframe thead th {\n",
       "        text-align: right;\n",
       "    }\n",
       "</style>\n",
       "<table border=\"1\" class=\"dataframe\">\n",
       "  <thead>\n",
       "    <tr style=\"text-align: right;\">\n",
       "      <th></th>\n",
       "      <th>actual</th>\n",
       "      <th>pop_predictions</th>\n",
       "    </tr>\n",
       "    <tr>\n",
       "      <th>userId</th>\n",
       "      <th></th>\n",
       "      <th></th>\n",
       "    </tr>\n",
       "  </thead>\n",
       "  <tbody>\n",
       "    <tr>\n",
       "      <th>156</th>\n",
       "      <td>[1025, 2561, 5131, 12, 1603, 1043, 4641, 1061,...</td>\n",
       "      <td>[593, 1198, 2762, 318, 1270, 608, 2571, 1240, ...</td>\n",
       "    </tr>\n",
       "    <tr>\n",
       "      <th>208</th>\n",
       "      <td>[3083, 2065, 3096, 3101, 34, 1060, 3114, 7219,...</td>\n",
       "      <td>[593, 1198, 2762, 318, 1270, 608, 2571, 1240, ...</td>\n",
       "    </tr>\n",
       "    <tr>\n",
       "      <th>359</th>\n",
       "      <td>[2560, 1281, 6664, 34319, 1552, 2580, 539, 824...</td>\n",
       "      <td>[593, 1198, 2762, 318, 1270, 608, 2571, 1240, ...</td>\n",
       "    </tr>\n",
       "    <tr>\n",
       "      <th>394</th>\n",
       "      <td>[6666, 2571, 529, 3090, 2094, 1073, 58, 6721, ...</td>\n",
       "      <td>[593, 1198, 2762, 318, 1270, 608, 2571, 1240, ...</td>\n",
       "    </tr>\n",
       "    <tr>\n",
       "      <th>572</th>\n",
       "      <td>[47124, 55830, 4121, 59418, 3101, 31, 43556, 1...</td>\n",
       "      <td>[593, 1198, 2762, 318, 1270, 608, 2571, 1240, ...</td>\n",
       "    </tr>\n",
       "  </tbody>\n",
       "</table>\n",
       "</div>"
      ],
      "text/plain": [
       "                                                   actual  \\\n",
       "userId                                                      \n",
       "156     [1025, 2561, 5131, 12, 1603, 1043, 4641, 1061,...   \n",
       "208     [3083, 2065, 3096, 3101, 34, 1060, 3114, 7219,...   \n",
       "359     [2560, 1281, 6664, 34319, 1552, 2580, 539, 824...   \n",
       "394     [6666, 2571, 529, 3090, 2094, 1073, 58, 6721, ...   \n",
       "572     [47124, 55830, 4121, 59418, 3101, 31, 43556, 1...   \n",
       "\n",
       "                                          pop_predictions  \n",
       "userId                                                     \n",
       "156     [593, 1198, 2762, 318, 1270, 608, 2571, 1240, ...  \n",
       "208     [593, 1198, 2762, 318, 1270, 608, 2571, 1240, ...  \n",
       "359     [593, 1198, 2762, 318, 1270, 608, 2571, 1240, ...  \n",
       "394     [593, 1198, 2762, 318, 1270, 608, 2571, 1240, ...  \n",
       "572     [593, 1198, 2762, 318, 1270, 608, 2571, 1240, ...  "
      ]
     },
     "execution_count": 9,
     "metadata": {},
     "output_type": "execute_result"
    }
   ],
   "source": [
    "#make recommendations for all members in the test data\n",
    "popularity_recs = train_long.movieId.value_counts().head(10).index.tolist()\n",
    "\n",
    "recs = []\n",
    "for user in test.index.tolist():\n",
    "    pop_predictions = popularity_recs\n",
    "    recs.append(pop_predictions)\n",
    "        \n",
    "test['pop_predictions'] = recs\n",
    "test.head()"
   ]
  },
  {
   "cell_type": "code",
   "execution_count": 10,
   "metadata": {},
   "outputs": [],
   "source": [
    "actual = test.actual.values.tolist()\n",
    "pop_predictions = test.pop_predictions.values.tolist()"
   ]
  },
  {
   "cell_type": "markdown",
   "metadata": {},
   "source": [
    "# Random Recommender\n",
    "Creating a simple random recommender to demonstrate recommender metrics in action. The random recommender simply recommends 10 random movies to every user."
   ]
  },
  {
   "cell_type": "code",
   "execution_count": 11,
   "metadata": {},
   "outputs": [
    {
     "data": {
      "text/html": [
       "<div>\n",
       "<style scoped>\n",
       "    .dataframe tbody tr th:only-of-type {\n",
       "        vertical-align: middle;\n",
       "    }\n",
       "\n",
       "    .dataframe tbody tr th {\n",
       "        vertical-align: top;\n",
       "    }\n",
       "\n",
       "    .dataframe thead th {\n",
       "        text-align: right;\n",
       "    }\n",
       "</style>\n",
       "<table border=\"1\" class=\"dataframe\">\n",
       "  <thead>\n",
       "    <tr style=\"text-align: right;\">\n",
       "      <th></th>\n",
       "      <th>actual</th>\n",
       "      <th>pop_predictions</th>\n",
       "      <th>random_predictions</th>\n",
       "    </tr>\n",
       "    <tr>\n",
       "      <th>userId</th>\n",
       "      <th></th>\n",
       "      <th></th>\n",
       "      <th></th>\n",
       "    </tr>\n",
       "  </thead>\n",
       "  <tbody>\n",
       "    <tr>\n",
       "      <th>156</th>\n",
       "      <td>[1025, 2561, 5131, 12, 1603, 1043, 4641, 1061,...</td>\n",
       "      <td>[593, 1198, 2762, 318, 1270, 608, 2571, 1240, ...</td>\n",
       "      <td>[2921, 3439, 3254, 714, 2124, 33794, 595, 2541...</td>\n",
       "    </tr>\n",
       "    <tr>\n",
       "      <th>208</th>\n",
       "      <td>[3083, 2065, 3096, 3101, 34, 1060, 3114, 7219,...</td>\n",
       "      <td>[593, 1198, 2762, 318, 1270, 608, 2571, 1240, ...</td>\n",
       "      <td>[8585, 106992, 1921, 26242, 1927, 1334, 6093, ...</td>\n",
       "    </tr>\n",
       "    <tr>\n",
       "      <th>359</th>\n",
       "      <td>[2560, 1281, 6664, 34319, 1552, 2580, 539, 824...</td>\n",
       "      <td>[593, 1198, 2762, 318, 1270, 608, 2571, 1240, ...</td>\n",
       "      <td>[3138, 2739, 1393, 3074, 158, 90947, 3545, 357...</td>\n",
       "    </tr>\n",
       "    <tr>\n",
       "      <th>394</th>\n",
       "      <td>[6666, 2571, 529, 3090, 2094, 1073, 58, 6721, ...</td>\n",
       "      <td>[593, 1198, 2762, 318, 1270, 608, 2571, 1240, ...</td>\n",
       "      <td>[55269, 2470, 2020, 69481, 3529, 1354, 553, 73...</td>\n",
       "    </tr>\n",
       "    <tr>\n",
       "      <th>572</th>\n",
       "      <td>[47124, 55830, 4121, 59418, 3101, 31, 43556, 1...</td>\n",
       "      <td>[593, 1198, 2762, 318, 1270, 608, 2571, 1240, ...</td>\n",
       "      <td>[8261, 736, 2580, 8330, 3546, 1685, 36525, 597...</td>\n",
       "    </tr>\n",
       "  </tbody>\n",
       "</table>\n",
       "</div>"
      ],
      "text/plain": [
       "                                                   actual  \\\n",
       "userId                                                      \n",
       "156     [1025, 2561, 5131, 12, 1603, 1043, 4641, 1061,...   \n",
       "208     [3083, 2065, 3096, 3101, 34, 1060, 3114, 7219,...   \n",
       "359     [2560, 1281, 6664, 34319, 1552, 2580, 539, 824...   \n",
       "394     [6666, 2571, 529, 3090, 2094, 1073, 58, 6721, ...   \n",
       "572     [47124, 55830, 4121, 59418, 3101, 31, 43556, 1...   \n",
       "\n",
       "                                          pop_predictions  \\\n",
       "userId                                                      \n",
       "156     [593, 1198, 2762, 318, 1270, 608, 2571, 1240, ...   \n",
       "208     [593, 1198, 2762, 318, 1270, 608, 2571, 1240, ...   \n",
       "359     [593, 1198, 2762, 318, 1270, 608, 2571, 1240, ...   \n",
       "394     [593, 1198, 2762, 318, 1270, 608, 2571, 1240, ...   \n",
       "572     [593, 1198, 2762, 318, 1270, 608, 2571, 1240, ...   \n",
       "\n",
       "                                       random_predictions  \n",
       "userId                                                     \n",
       "156     [2921, 3439, 3254, 714, 2124, 33794, 595, 2541...  \n",
       "208     [8585, 106992, 1921, 26242, 1927, 1334, 6093, ...  \n",
       "359     [3138, 2739, 1393, 3074, 158, 90947, 3545, 357...  \n",
       "394     [55269, 2470, 2020, 69481, 3529, 1354, 553, 73...  \n",
       "572     [8261, 736, 2580, 8330, 3546, 1685, 36525, 597...  "
      ]
     },
     "execution_count": 11,
     "metadata": {},
     "output_type": "execute_result"
    }
   ],
   "source": [
    "#make recommendations for all members in the test data\n",
    "\n",
    "recs = []\n",
    "for user in test.index.tolist():\n",
    "    random_predictions = train_long.movieId.sample(10).values.tolist()\n",
    "    recs.append(random_predictions)\n",
    "        \n",
    "test['random_predictions'] = recs\n",
    "test.head()"
   ]
  },
  {
   "cell_type": "code",
   "execution_count": 12,
   "metadata": {},
   "outputs": [],
   "source": [
    "random_predictions = test.random_predictions.values.tolist()"
   ]
  },
  {
   "cell_type": "markdown",
   "metadata": {},
   "source": [
    "# Collaborative Filter Recommender\n",
    "Creating a simple CF to demonstrate recommender metrics in action. The collaborative filter transforms user-item interactions into latent space, and reconstructs the user-item matrix to impute ratings missing movie ratings. The predicted rating is the dot product between the user and movie vectors in latent space. "
   ]
  },
  {
   "cell_type": "code",
   "execution_count": 13,
   "metadata": {},
   "outputs": [
    {
     "data": {
      "text/html": [
       "<div>\n",
       "<style scoped>\n",
       "    .dataframe tbody tr th:only-of-type {\n",
       "        vertical-align: middle;\n",
       "    }\n",
       "\n",
       "    .dataframe tbody tr th {\n",
       "        vertical-align: top;\n",
       "    }\n",
       "\n",
       "    .dataframe thead th {\n",
       "        text-align: right;\n",
       "    }\n",
       "</style>\n",
       "<table border=\"1\" class=\"dataframe\">\n",
       "  <thead>\n",
       "    <tr style=\"text-align: right;\">\n",
       "      <th>movieId</th>\n",
       "      <th>1</th>\n",
       "      <th>2</th>\n",
       "      <th>3</th>\n",
       "      <th>4</th>\n",
       "      <th>5</th>\n",
       "      <th>6</th>\n",
       "      <th>7</th>\n",
       "      <th>8</th>\n",
       "      <th>9</th>\n",
       "      <th>10</th>\n",
       "      <th>...</th>\n",
       "      <th>131176</th>\n",
       "      <th>131231</th>\n",
       "      <th>131239</th>\n",
       "      <th>131241</th>\n",
       "      <th>131243</th>\n",
       "      <th>131248</th>\n",
       "      <th>131250</th>\n",
       "      <th>131252</th>\n",
       "      <th>131254</th>\n",
       "      <th>131256</th>\n",
       "    </tr>\n",
       "    <tr>\n",
       "      <th>userId</th>\n",
       "      <th></th>\n",
       "      <th></th>\n",
       "      <th></th>\n",
       "      <th></th>\n",
       "      <th></th>\n",
       "      <th></th>\n",
       "      <th></th>\n",
       "      <th></th>\n",
       "      <th></th>\n",
       "      <th></th>\n",
       "      <th></th>\n",
       "      <th></th>\n",
       "      <th></th>\n",
       "      <th></th>\n",
       "      <th></th>\n",
       "      <th></th>\n",
       "      <th></th>\n",
       "      <th></th>\n",
       "      <th></th>\n",
       "      <th></th>\n",
       "      <th></th>\n",
       "    </tr>\n",
       "  </thead>\n",
       "  <tbody>\n",
       "    <tr>\n",
       "      <th>156</th>\n",
       "      <td>5.0</td>\n",
       "      <td>5.0</td>\n",
       "      <td>0.0</td>\n",
       "      <td>3.0</td>\n",
       "      <td>3.0</td>\n",
       "      <td>4.0</td>\n",
       "      <td>4.0</td>\n",
       "      <td>0.0</td>\n",
       "      <td>3.0</td>\n",
       "      <td>4.0</td>\n",
       "      <td>...</td>\n",
       "      <td>0.0</td>\n",
       "      <td>0.0</td>\n",
       "      <td>0.0</td>\n",
       "      <td>0.0</td>\n",
       "      <td>0.0</td>\n",
       "      <td>0.0</td>\n",
       "      <td>0.0</td>\n",
       "      <td>0.0</td>\n",
       "      <td>0.0</td>\n",
       "      <td>0.0</td>\n",
       "    </tr>\n",
       "    <tr>\n",
       "      <th>208</th>\n",
       "      <td>4.0</td>\n",
       "      <td>0.0</td>\n",
       "      <td>0.0</td>\n",
       "      <td>0.0</td>\n",
       "      <td>0.0</td>\n",
       "      <td>0.0</td>\n",
       "      <td>0.0</td>\n",
       "      <td>0.0</td>\n",
       "      <td>0.0</td>\n",
       "      <td>0.0</td>\n",
       "      <td>...</td>\n",
       "      <td>0.0</td>\n",
       "      <td>0.0</td>\n",
       "      <td>0.0</td>\n",
       "      <td>0.0</td>\n",
       "      <td>0.0</td>\n",
       "      <td>0.0</td>\n",
       "      <td>0.0</td>\n",
       "      <td>0.0</td>\n",
       "      <td>0.0</td>\n",
       "      <td>0.0</td>\n",
       "    </tr>\n",
       "    <tr>\n",
       "      <th>359</th>\n",
       "      <td>5.0</td>\n",
       "      <td>0.0</td>\n",
       "      <td>0.0</td>\n",
       "      <td>0.0</td>\n",
       "      <td>0.0</td>\n",
       "      <td>5.0</td>\n",
       "      <td>0.0</td>\n",
       "      <td>0.0</td>\n",
       "      <td>0.0</td>\n",
       "      <td>4.0</td>\n",
       "      <td>...</td>\n",
       "      <td>0.0</td>\n",
       "      <td>0.0</td>\n",
       "      <td>0.0</td>\n",
       "      <td>0.0</td>\n",
       "      <td>0.0</td>\n",
       "      <td>0.0</td>\n",
       "      <td>0.0</td>\n",
       "      <td>0.0</td>\n",
       "      <td>0.0</td>\n",
       "      <td>0.0</td>\n",
       "    </tr>\n",
       "  </tbody>\n",
       "</table>\n",
       "<p>3 rows × 21809 columns</p>\n",
       "</div>"
      ],
      "text/plain": [
       "movieId  1       2       3       4       5       6       7       8       \\\n",
       "userId                                                                    \n",
       "156         5.0     5.0     0.0     3.0     3.0     4.0     4.0     0.0   \n",
       "208         4.0     0.0     0.0     0.0     0.0     0.0     0.0     0.0   \n",
       "359         5.0     0.0     0.0     0.0     0.0     5.0     0.0     0.0   \n",
       "\n",
       "movieId  9       10       ...    131176  131231  131239  131241  131243  \\\n",
       "userId                    ...                                             \n",
       "156         3.0     4.0   ...       0.0     0.0     0.0     0.0     0.0   \n",
       "208         0.0     0.0   ...       0.0     0.0     0.0     0.0     0.0   \n",
       "359         0.0     4.0   ...       0.0     0.0     0.0     0.0     0.0   \n",
       "\n",
       "movieId  131248  131250  131252  131254  131256  \n",
       "userId                                           \n",
       "156         0.0     0.0     0.0     0.0     0.0  \n",
       "208         0.0     0.0     0.0     0.0     0.0  \n",
       "359         0.0     0.0     0.0     0.0     0.0  \n",
       "\n",
       "[3 rows x 21809 columns]"
      ]
     },
     "execution_count": 13,
     "metadata": {},
     "output_type": "execute_result"
    }
   ],
   "source": [
    "train_pivot = train_long.pivot(index = 'userId', columns ='movieId', values = 'rating').fillna(0)\n",
    "user_index = train_pivot.index.tolist()\n",
    "movie_index = train_pivot.columns.tolist()\n",
    "train_pivot.head(3)"
   ]
  },
  {
   "cell_type": "code",
   "execution_count": 14,
   "metadata": {},
   "outputs": [],
   "source": [
    "from scipy.sparse import csr_matrix\n",
    "from scipy.sparse.linalg import svds\n",
    "\n",
    "#svd\n",
    "U, sigma, Vt = svds(train_pivot, k=100) # k is the number of factors\n",
    "eigvals = sigma**2 / np.cumsum(sigma)[-1]\n",
    "eigvals = eigvals[::-1]\n",
    "sigma = np.diag(sigma)\n",
    "\n",
    "#reconstruct ratings matrix\n",
    "cf_model = np.dot(np.dot(U, sigma), Vt) \n",
    "cf_model = pd.DataFrame(cf_model, index=user_index, columns=movie_index)"
   ]
  },
  {
   "cell_type": "code",
   "execution_count": 15,
   "metadata": {},
   "outputs": [
    {
     "data": {
      "text/html": [
       "<div>\n",
       "<style scoped>\n",
       "    .dataframe tbody tr th:only-of-type {\n",
       "        vertical-align: middle;\n",
       "    }\n",
       "\n",
       "    .dataframe tbody tr th {\n",
       "        vertical-align: top;\n",
       "    }\n",
       "\n",
       "    .dataframe thead th {\n",
       "        text-align: right;\n",
       "    }\n",
       "</style>\n",
       "<table border=\"1\" class=\"dataframe\">\n",
       "  <thead>\n",
       "    <tr style=\"text-align: right;\">\n",
       "      <th></th>\n",
       "      <th>1</th>\n",
       "      <th>2</th>\n",
       "      <th>3</th>\n",
       "      <th>4</th>\n",
       "      <th>5</th>\n",
       "      <th>6</th>\n",
       "      <th>7</th>\n",
       "      <th>8</th>\n",
       "      <th>9</th>\n",
       "      <th>10</th>\n",
       "      <th>...</th>\n",
       "      <th>131176</th>\n",
       "      <th>131231</th>\n",
       "      <th>131239</th>\n",
       "      <th>131241</th>\n",
       "      <th>131243</th>\n",
       "      <th>131248</th>\n",
       "      <th>131250</th>\n",
       "      <th>131252</th>\n",
       "      <th>131254</th>\n",
       "      <th>131256</th>\n",
       "    </tr>\n",
       "  </thead>\n",
       "  <tbody>\n",
       "    <tr>\n",
       "      <th>156</th>\n",
       "      <td>3.208132</td>\n",
       "      <td>5.035874</td>\n",
       "      <td>1.468654</td>\n",
       "      <td>2.315571</td>\n",
       "      <td>1.551280</td>\n",
       "      <td>3.878343</td>\n",
       "      <td>3.183399</td>\n",
       "      <td>0.867369</td>\n",
       "      <td>1.607434</td>\n",
       "      <td>3.107057</td>\n",
       "      <td>...</td>\n",
       "      <td>-0.036042</td>\n",
       "      <td>-0.036024</td>\n",
       "      <td>0.009579</td>\n",
       "      <td>0.009579</td>\n",
       "      <td>0.009579</td>\n",
       "      <td>0.009579</td>\n",
       "      <td>0.009579</td>\n",
       "      <td>0.009579</td>\n",
       "      <td>0.009579</td>\n",
       "      <td>0.009579</td>\n",
       "    </tr>\n",
       "    <tr>\n",
       "      <th>208</th>\n",
       "      <td>3.293959</td>\n",
       "      <td>-0.136676</td>\n",
       "      <td>0.142910</td>\n",
       "      <td>0.511741</td>\n",
       "      <td>-0.162068</td>\n",
       "      <td>1.541292</td>\n",
       "      <td>0.372567</td>\n",
       "      <td>-0.155259</td>\n",
       "      <td>0.291103</td>\n",
       "      <td>0.242496</td>\n",
       "      <td>...</td>\n",
       "      <td>0.024059</td>\n",
       "      <td>0.007603</td>\n",
       "      <td>-0.021581</td>\n",
       "      <td>-0.021581</td>\n",
       "      <td>-0.021581</td>\n",
       "      <td>-0.021581</td>\n",
       "      <td>-0.021581</td>\n",
       "      <td>-0.021581</td>\n",
       "      <td>-0.021581</td>\n",
       "      <td>-0.021581</td>\n",
       "    </tr>\n",
       "    <tr>\n",
       "      <th>359</th>\n",
       "      <td>3.944746</td>\n",
       "      <td>1.652088</td>\n",
       "      <td>0.474845</td>\n",
       "      <td>-0.233990</td>\n",
       "      <td>0.657829</td>\n",
       "      <td>3.987834</td>\n",
       "      <td>1.632840</td>\n",
       "      <td>-0.062786</td>\n",
       "      <td>0.391381</td>\n",
       "      <td>2.430455</td>\n",
       "      <td>...</td>\n",
       "      <td>-0.034974</td>\n",
       "      <td>-0.014073</td>\n",
       "      <td>-0.019866</td>\n",
       "      <td>-0.019866</td>\n",
       "      <td>-0.019866</td>\n",
       "      <td>-0.019866</td>\n",
       "      <td>-0.019866</td>\n",
       "      <td>-0.019866</td>\n",
       "      <td>-0.019866</td>\n",
       "      <td>-0.019866</td>\n",
       "    </tr>\n",
       "    <tr>\n",
       "      <th>394</th>\n",
       "      <td>2.725251</td>\n",
       "      <td>0.454404</td>\n",
       "      <td>0.073134</td>\n",
       "      <td>-0.166303</td>\n",
       "      <td>0.388909</td>\n",
       "      <td>2.018065</td>\n",
       "      <td>-0.061377</td>\n",
       "      <td>-0.359734</td>\n",
       "      <td>0.317420</td>\n",
       "      <td>1.340121</td>\n",
       "      <td>...</td>\n",
       "      <td>-0.053533</td>\n",
       "      <td>-0.040220</td>\n",
       "      <td>-0.020339</td>\n",
       "      <td>-0.020339</td>\n",
       "      <td>-0.020339</td>\n",
       "      <td>-0.020339</td>\n",
       "      <td>-0.020339</td>\n",
       "      <td>-0.020339</td>\n",
       "      <td>-0.020339</td>\n",
       "      <td>-0.020339</td>\n",
       "    </tr>\n",
       "    <tr>\n",
       "      <th>572</th>\n",
       "      <td>3.846007</td>\n",
       "      <td>2.400244</td>\n",
       "      <td>2.148188</td>\n",
       "      <td>-0.117901</td>\n",
       "      <td>2.072837</td>\n",
       "      <td>1.210946</td>\n",
       "      <td>0.211777</td>\n",
       "      <td>0.321039</td>\n",
       "      <td>0.146300</td>\n",
       "      <td>1.589498</td>\n",
       "      <td>...</td>\n",
       "      <td>0.034281</td>\n",
       "      <td>-0.040158</td>\n",
       "      <td>0.007488</td>\n",
       "      <td>0.007488</td>\n",
       "      <td>0.007488</td>\n",
       "      <td>0.007488</td>\n",
       "      <td>0.007488</td>\n",
       "      <td>0.007488</td>\n",
       "      <td>0.007488</td>\n",
       "      <td>0.007488</td>\n",
       "    </tr>\n",
       "  </tbody>\n",
       "</table>\n",
       "<p>5 rows × 21809 columns</p>\n",
       "</div>"
      ],
      "text/plain": [
       "       1         2         3         4         5         6         7       \\\n",
       "156  3.208132  5.035874  1.468654  2.315571  1.551280  3.878343  3.183399   \n",
       "208  3.293959 -0.136676  0.142910  0.511741 -0.162068  1.541292  0.372567   \n",
       "359  3.944746  1.652088  0.474845 -0.233990  0.657829  3.987834  1.632840   \n",
       "394  2.725251  0.454404  0.073134 -0.166303  0.388909  2.018065 -0.061377   \n",
       "572  3.846007  2.400244  2.148188 -0.117901  2.072837  1.210946  0.211777   \n",
       "\n",
       "       8         9         10        ...       131176    131231    131239  \\\n",
       "156  0.867369  1.607434  3.107057    ...    -0.036042 -0.036024  0.009579   \n",
       "208 -0.155259  0.291103  0.242496    ...     0.024059  0.007603 -0.021581   \n",
       "359 -0.062786  0.391381  2.430455    ...    -0.034974 -0.014073 -0.019866   \n",
       "394 -0.359734  0.317420  1.340121    ...    -0.053533 -0.040220 -0.020339   \n",
       "572  0.321039  0.146300  1.589498    ...     0.034281 -0.040158  0.007488   \n",
       "\n",
       "       131241    131243    131248    131250    131252    131254    131256  \n",
       "156  0.009579  0.009579  0.009579  0.009579  0.009579  0.009579  0.009579  \n",
       "208 -0.021581 -0.021581 -0.021581 -0.021581 -0.021581 -0.021581 -0.021581  \n",
       "359 -0.019866 -0.019866 -0.019866 -0.019866 -0.019866 -0.019866 -0.019866  \n",
       "394 -0.020339 -0.020339 -0.020339 -0.020339 -0.020339 -0.020339 -0.020339  \n",
       "572  0.007488  0.007488  0.007488  0.007488  0.007488  0.007488  0.007488  \n",
       "\n",
       "[5 rows x 21809 columns]"
      ]
     },
     "execution_count": 15,
     "metadata": {},
     "output_type": "execute_result"
    }
   ],
   "source": [
    "cf_model.head()"
   ]
  },
  {
   "cell_type": "code",
   "execution_count": 16,
   "metadata": {},
   "outputs": [],
   "source": [
    "def get_users_predictions(user_id, n, model, train_long):\n",
    "    recommended_items = pd.DataFrame(model.loc[user_id])\n",
    "    recommended_items.columns = [\"predicted_rating\"]\n",
    "    recommended_items = recommended_items.sort_values('predicted_rating', ascending=False)    \n",
    "    rated_items_from_train = train_long.query('userId == @user_id').movieId.tolist()\n",
    "    recommended_items = recommended_items[~recommended_items.index.isin(rated_items_from_train)]\n",
    "    recommended_items = recommended_items.head(n)\n",
    "    return recommended_items.index.tolist()"
   ]
  },
  {
   "cell_type": "code",
   "execution_count": 17,
   "metadata": {},
   "outputs": [
    {
     "data": {
      "text/plain": [
       "[3361, 3702, 3708, 4280, 1603, 1721, 4448, 1291, 151, 1678]"
      ]
     },
     "execution_count": 17,
     "metadata": {},
     "output_type": "execute_result"
    }
   ],
   "source": [
    "get_users_predictions(156, 10, cf_model, train_long)"
   ]
  },
  {
   "cell_type": "code",
   "execution_count": 18,
   "metadata": {},
   "outputs": [
    {
     "data": {
      "text/html": [
       "<div>\n",
       "<style scoped>\n",
       "    .dataframe tbody tr th:only-of-type {\n",
       "        vertical-align: middle;\n",
       "    }\n",
       "\n",
       "    .dataframe tbody tr th {\n",
       "        vertical-align: top;\n",
       "    }\n",
       "\n",
       "    .dataframe thead th {\n",
       "        text-align: right;\n",
       "    }\n",
       "</style>\n",
       "<table border=\"1\" class=\"dataframe\">\n",
       "  <thead>\n",
       "    <tr style=\"text-align: right;\">\n",
       "      <th></th>\n",
       "      <th>actual</th>\n",
       "      <th>pop_predictions</th>\n",
       "      <th>random_predictions</th>\n",
       "      <th>cf_predictions</th>\n",
       "    </tr>\n",
       "    <tr>\n",
       "      <th>userId</th>\n",
       "      <th></th>\n",
       "      <th></th>\n",
       "      <th></th>\n",
       "      <th></th>\n",
       "    </tr>\n",
       "  </thead>\n",
       "  <tbody>\n",
       "    <tr>\n",
       "      <th>156</th>\n",
       "      <td>[1025, 2561, 5131, 12, 1603, 1043, 4641, 1061,...</td>\n",
       "      <td>[593, 1198, 2762, 318, 1270, 608, 2571, 1240, ...</td>\n",
       "      <td>[2921, 3439, 3254, 714, 2124, 33794, 595, 2541...</td>\n",
       "      <td>[3361, 3702, 3708, 4280, 1603, 1721, 4448, 129...</td>\n",
       "    </tr>\n",
       "    <tr>\n",
       "      <th>208</th>\n",
       "      <td>[3083, 2065, 3096, 3101, 34, 1060, 3114, 7219,...</td>\n",
       "      <td>[593, 1198, 2762, 318, 1270, 608, 2571, 1240, ...</td>\n",
       "      <td>[8585, 106992, 1921, 26242, 1927, 1334, 6093, ...</td>\n",
       "      <td>[8949, 1077, 1288, 2289, 1247, 34, 515, 4226, ...</td>\n",
       "    </tr>\n",
       "    <tr>\n",
       "      <th>359</th>\n",
       "      <td>[2560, 1281, 6664, 34319, 1552, 2580, 539, 824...</td>\n",
       "      <td>[593, 1198, 2762, 318, 1270, 608, 2571, 1240, ...</td>\n",
       "      <td>[3138, 2739, 1393, 3074, 158, 90947, 3545, 357...</td>\n",
       "      <td>[34319, 648, 318, 44199, 34048, 1653, 36529, 2...</td>\n",
       "    </tr>\n",
       "    <tr>\n",
       "      <th>394</th>\n",
       "      <td>[6666, 2571, 529, 3090, 2094, 1073, 58, 6721, ...</td>\n",
       "      <td>[593, 1198, 2762, 318, 1270, 608, 2571, 1240, ...</td>\n",
       "      <td>[55269, 2470, 2020, 69481, 3529, 1354, 553, 73...</td>\n",
       "      <td>[5013, 903, 2300, 1225, 2174, 6440, 1649, 2716...</td>\n",
       "    </tr>\n",
       "    <tr>\n",
       "      <th>572</th>\n",
       "      <td>[47124, 55830, 4121, 59418, 3101, 31, 43556, 1...</td>\n",
       "      <td>[593, 1198, 2762, 318, 1270, 608, 2571, 1240, ...</td>\n",
       "      <td>[8261, 736, 2580, 8330, 3546, 1685, 36525, 597...</td>\n",
       "      <td>[1265, 48780, 8781, 6281, 30825, 48516, 45672,...</td>\n",
       "    </tr>\n",
       "  </tbody>\n",
       "</table>\n",
       "</div>"
      ],
      "text/plain": [
       "                                                   actual  \\\n",
       "userId                                                      \n",
       "156     [1025, 2561, 5131, 12, 1603, 1043, 4641, 1061,...   \n",
       "208     [3083, 2065, 3096, 3101, 34, 1060, 3114, 7219,...   \n",
       "359     [2560, 1281, 6664, 34319, 1552, 2580, 539, 824...   \n",
       "394     [6666, 2571, 529, 3090, 2094, 1073, 58, 6721, ...   \n",
       "572     [47124, 55830, 4121, 59418, 3101, 31, 43556, 1...   \n",
       "\n",
       "                                          pop_predictions  \\\n",
       "userId                                                      \n",
       "156     [593, 1198, 2762, 318, 1270, 608, 2571, 1240, ...   \n",
       "208     [593, 1198, 2762, 318, 1270, 608, 2571, 1240, ...   \n",
       "359     [593, 1198, 2762, 318, 1270, 608, 2571, 1240, ...   \n",
       "394     [593, 1198, 2762, 318, 1270, 608, 2571, 1240, ...   \n",
       "572     [593, 1198, 2762, 318, 1270, 608, 2571, 1240, ...   \n",
       "\n",
       "                                       random_predictions  \\\n",
       "userId                                                      \n",
       "156     [2921, 3439, 3254, 714, 2124, 33794, 595, 2541...   \n",
       "208     [8585, 106992, 1921, 26242, 1927, 1334, 6093, ...   \n",
       "359     [3138, 2739, 1393, 3074, 158, 90947, 3545, 357...   \n",
       "394     [55269, 2470, 2020, 69481, 3529, 1354, 553, 73...   \n",
       "572     [8261, 736, 2580, 8330, 3546, 1685, 36525, 597...   \n",
       "\n",
       "                                           cf_predictions  \n",
       "userId                                                     \n",
       "156     [3361, 3702, 3708, 4280, 1603, 1721, 4448, 129...  \n",
       "208     [8949, 1077, 1288, 2289, 1247, 34, 515, 4226, ...  \n",
       "359     [34319, 648, 318, 44199, 34048, 1653, 36529, 2...  \n",
       "394     [5013, 903, 2300, 1225, 2174, 6440, 1649, 2716...  \n",
       "572     [1265, 48780, 8781, 6281, 30825, 48516, 45672,...  "
      ]
     },
     "execution_count": 18,
     "metadata": {},
     "output_type": "execute_result"
    }
   ],
   "source": [
    "#make recommendations for all members in the test data\n",
    "\n",
    "recs = []\n",
    "for user in user_index:\n",
    "    cf_predictions = get_users_predictions(user, 10, cf_model, train_long)\n",
    "    recs.append(cf_predictions)\n",
    "        \n",
    "test['cf_predictions'] = recs\n",
    "test.head()"
   ]
  },
  {
   "cell_type": "code",
   "execution_count": 19,
   "metadata": {},
   "outputs": [],
   "source": [
    "cf_predictions = test.cf_predictions.values.tolist()"
   ]
  },
  {
   "cell_type": "markdown",
   "metadata": {},
   "source": [
    "# Recall"
   ]
  },
  {
   "cell_type": "code",
   "execution_count": 20,
   "metadata": {},
   "outputs": [
    {
     "data": {
      "text/plain": [
       "[0.0006538049303322615,\n",
       " 0.0011093247588424438,\n",
       " 0.0013987138263665594,\n",
       " 0.0016237942122186496,\n",
       " 0.0018595927116827437,\n",
       " 0.002000714540907467,\n",
       " 0.002172204358699536,\n",
       " 0.0023035012504465883,\n",
       " 0.0024214005001786353,\n",
       " 0.002536084315827081]"
      ]
     },
     "execution_count": 20,
     "metadata": {},
     "output_type": "execute_result"
    }
   ],
   "source": [
    "pop_mark = []\n",
    "for K in np.arange(1, 11):\n",
    "    pop_mark.extend([recmetrics.mark(actual, pop_predictions, k=K)])\n",
    "pop_mark"
   ]
  },
  {
   "cell_type": "code",
   "execution_count": 21,
   "metadata": {},
   "outputs": [
    {
     "data": {
      "text/plain": [
       "[0.0003644158628081457,\n",
       " 0.00047695605573419087,\n",
       " 0.0005698463737048947,\n",
       " 0.0006261164701679172,\n",
       " 0.0006689889246159342,\n",
       " 0.0007047159699892819,\n",
       " 0.00076443117439902,\n",
       " 0.0008113229214515388,\n",
       " 0.0008482408683373312,\n",
       " 0.0008878978887017473]"
      ]
     },
     "execution_count": 21,
     "metadata": {},
     "output_type": "execute_result"
    }
   ],
   "source": [
    "random_mark = []\n",
    "for K in np.arange(1, 11):\n",
    "    random_mark.extend([recmetrics.mark(actual, random_predictions, k=K)])\n",
    "random_mark"
   ]
  },
  {
   "cell_type": "code",
   "execution_count": 23,
   "metadata": {},
   "outputs": [
    {
     "data": {
      "text/plain": [
       "[0.00795284030010718,\n",
       " 0.014790996784565916,\n",
       " 0.020878885316184353,\n",
       " 0.026487138263665593,\n",
       " 0.03171972132904609,\n",
       " 0.03671078956770275,\n",
       " 0.04134867044352575,\n",
       " 0.045826162404940536,\n",
       " 0.049955017948587074,\n",
       " 0.053804964358019014]"
      ]
     },
     "execution_count": 23,
     "metadata": {},
     "output_type": "execute_result"
    }
   ],
   "source": [
    "cf_mark = []\n",
    "for K in np.arange(1, 11):\n",
    "    cf_mark.extend([recmetrics.mark(actual, cf_predictions, k=K)])\n",
    "cf_mark"
   ]
  },
  {
   "cell_type": "markdown",
   "metadata": {},
   "source": [
    "# Mark Plot"
   ]
  },
  {
   "cell_type": "code",
   "execution_count": 24,
   "metadata": {},
   "outputs": [
    {
     "data": {
      "image/png": "[encoded data removed]",
      "text/plain": [
       "<Figure size 1080x504 with 1 Axes>"
      ]
     },
     "metadata": {
      "needs_background": "light"
     },
     "output_type": "display_data"
    }
   ],
   "source": [
    "mark_scores = [random_mark, pop_mark, cf_mark]\n",
    "index = range(1,10+1)\n",
    "names = ['Random Recommender', 'Popularity Recommender', 'Collaborative Filter']\n",
    "\n",
    "fig = plt.figure(figsize=(15, 7))\n",
    "recmetrics.MarkPlot(mark_scores, model_names=names, k_range=index)"
   ]
  },
  {
   "cell_type": "markdown",
   "metadata": {},
   "source": [
    "# Coverage"
   ]
  },
  {
   "cell_type": "code",
   "execution_count": 25,
   "metadata": {},
   "outputs": [],
   "source": [
    "catalog = train_long.movieId.unique().tolist()\n",
    "random_coverage = recmetrics.coverage(random_predictions, catalog)\n",
    "pop_coverage = recmetrics.coverage(pop_predictions, catalog)\n",
    "cf_coverage = recmetrics.coverage(cf_predictions, catalog)"
   ]
  },
  {
   "cell_type": "markdown",
   "metadata": {},
   "source": [
    "# Coverage Plot"
   ]
  },
  {
   "cell_type": "code",
   "execution_count": 26,
   "metadata": {},
   "outputs": [
    {
     "data": {
      "image/png": "[encoded data removed]",
      "text/plain": [
       "<Figure size 504x360 with 1 Axes>"
      ]
     },
     "metadata": {
      "needs_background": "light"
     },
     "output_type": "display_data"
    }
   ],
   "source": [
    "coverage_scores = [random_coverage, pop_coverage, cf_coverage]\n",
    "model_names = ['Random Recommender', 'Popularity Recommender', 'Collaborative Filter']\n",
    "\n",
    "fig = plt.figure(figsize=(7, 5))\n",
    "recmetrics.CoveragePlot(coverage_scores, model_names)"
   ]
  },
  {
   "cell_type": "markdown",
   "metadata": {},
   "source": [
    "# Personalization"
   ]
  },
  {
   "cell_type": "code",
   "execution_count": 27,
   "metadata": {},
   "outputs": [],
   "source": [
    "example_predictions = [\n",
    "    ['1', '2', 'C', 'D'],\n",
    "    ['4', '3', 'm', 'X'],\n",
    "    ['7', 'B', 't', 'X']\n",
    "]"
   ]
  },
  {
   "cell_type": "code",
   "execution_count": 28,
   "metadata": {},
   "outputs": [
    {
     "data": {
      "text/plain": [
       "0.9166666666666666"
      ]
     },
     "execution_count": 28,
     "metadata": {},
     "output_type": "execute_result"
    }
   ],
   "source": [
    "recmetrics.personalization(predicted=example_predictions)"
   ]
  },
  {
   "cell_type": "markdown",
   "metadata": {},
   "source": [
    "# Intra-list Similarity"
   ]
  },
  {
   "cell_type": "code",
   "execution_count": 29,
   "metadata": {},
   "outputs": [],
   "source": [
    "example_predictions = [\n",
    "    [3, 7, 5, 9],\n",
    "    [9, 6, 12, 623],\n",
    "    [7, 894, 6, 623]\n",
    "]"
   ]
  },
  {
   "cell_type": "code",
   "execution_count": 31,
   "metadata": {},
   "outputs": [],
   "source": [
    "feature_df = movies[['Action', 'Comedy', 'Romance']]"
   ]
  },
  {
   "cell_type": "code",
   "execution_count": 32,
   "metadata": {},
   "outputs": [
    {
     "data": {
      "text/plain": [
       "0.27777777777777773"
      ]
     },
     "execution_count": 32,
     "metadata": {},
     "output_type": "execute_result"
    }
   ],
   "source": [
    "recmetrics.intra_list_similarity(example_predictions, feature_df)"
   ]
  },
  {
   "cell_type": "code",
   "execution_count": null,
   "metadata": {},
   "outputs": [],
   "source": []
  }
 ],
 "metadata": {
  "kernelspec": {
   "display_name": "recmetricsfixed",
   "language": "python",
   "name": "recmetricsfixed"
  },
  "language_info": {
   "codemirror_mode": {
    "name": "ipython",
    "version": 2
   },
   "file_extension": ".py",
   "mimetype": "text/x-python",
   "name": "python",
   "nbconvert_exporter": "python",
   "pygments_lexer": "ipython2",
   "version": "2.7.15"
  },
  "toc": {
   "colors": {
    "hover_highlight": "#DAA520",
    "navigate_num": "#000000",
    "navigate_text": "#333333",
    "running_highlight": "#FF0000",
    "selected_highlight": "#FFD700",
    "sidebar_border": "#EEEEEE",
    "wrapper_background": "#FFFFFF"
   },
   "moveMenuLeft": true,
   "nav_menu": {
    "height": "171px",
    "width": "252px"
   },
   "navigate_menu": true,
   "number_sections": true,
   "sideBar": true,
   "skip_h1_title": false,
   "threshold": 4,
   "toc_cell": false,
   "toc_section_display": "block",
   "toc_window_display": false,
   "widenNotebook": false
  }
 },
 "nbformat": 4,
 "nbformat_minor": 2
}
