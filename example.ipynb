{
 "cells": [
  {
   "cell_type": "code",
   "execution_count": 1,
   "metadata": {},
   "outputs": [],
   "source": [
    "import pandas as pd\n",
    "import numpy as np\n",
    "from recommender_metrics.plots import LongTailPlot, CoveragePlot, MarkPlot\n",
    "from recommender_metrics.metrics import mark, coverage, diversity, serendipity\n",
    "import matplotlib.pyplot as plt"
   ]
  },
  {
   "cell_type": "markdown",
   "metadata": {},
   "source": [
    "# MovieLense Dataset\n",
    "Using the MovieLens 20M Dataset dataset for examples. You can download this data here: https://grouplens.org/datasets/movielens/20m/"
   ]
  },
  {
   "cell_type": "code",
   "execution_count": 2,
   "metadata": {},
   "outputs": [],
   "source": [
    "ratings = pd.read_csv('../movie_similarity_flask_api/data/ml-20m/ratings.csv')\n",
    "ratings = ratings.query('rating >=3')\n",
    "ratings.reset_index(drop=True, inplace=True)"
   ]
  },
  {
   "cell_type": "code",
   "execution_count": 3,
   "metadata": {},
   "outputs": [],
   "source": [
    "#only consider ratings from users who have rated over 1000 movies\n",
    "users = ratings.userId.value_counts()\n",
    "users = users[users>1000].index.tolist()"
   ]
  },
  {
   "cell_type": "code",
   "execution_count": 4,
   "metadata": {},
   "outputs": [
    {
     "name": "stdout",
     "output_type": "stream",
     "text": [
      "(1317902, 4)\n"
     ]
    },
    {
     "data": {
      "text/html": [
       "<div>\n",
       "<style scoped>\n",
       "    .dataframe tbody tr th:only-of-type {\n",
       "        vertical-align: middle;\n",
       "    }\n",
       "\n",
       "    .dataframe tbody tr th {\n",
       "        vertical-align: top;\n",
       "    }\n",
       "\n",
       "    .dataframe thead th {\n",
       "        text-align: right;\n",
       "    }\n",
       "</style>\n",
       "<table border=\"1\" class=\"dataframe\">\n",
       "  <thead>\n",
       "    <tr style=\"text-align: right;\">\n",
       "      <th></th>\n",
       "      <th>userId</th>\n",
       "      <th>movieId</th>\n",
       "      <th>rating</th>\n",
       "      <th>timestamp</th>\n",
       "    </tr>\n",
       "  </thead>\n",
       "  <tbody>\n",
       "    <tr>\n",
       "      <th>15918</th>\n",
       "      <td>156</td>\n",
       "      <td>1</td>\n",
       "      <td>5.0</td>\n",
       "      <td>1037739266</td>\n",
       "    </tr>\n",
       "    <tr>\n",
       "      <th>15919</th>\n",
       "      <td>156</td>\n",
       "      <td>2</td>\n",
       "      <td>5.0</td>\n",
       "      <td>1040937649</td>\n",
       "    </tr>\n",
       "    <tr>\n",
       "      <th>15920</th>\n",
       "      <td>156</td>\n",
       "      <td>4</td>\n",
       "      <td>3.0</td>\n",
       "      <td>1038801803</td>\n",
       "    </tr>\n",
       "  </tbody>\n",
       "</table>\n",
       "</div>"
      ],
      "text/plain": [
       "       userId  movieId  rating   timestamp\n",
       "15918     156        1     5.0  1037739266\n",
       "15919     156        2     5.0  1040937649\n",
       "15920     156        4     3.0  1038801803"
      ]
     },
     "execution_count": 4,
     "metadata": {},
     "output_type": "execute_result"
    }
   ],
   "source": [
    "ratings = ratings.query('userId in @users')\n",
    "print ratings.shape\n",
    "ratings.head(3)"
   ]
  },
  {
   "cell_type": "markdown",
   "metadata": {},
   "source": [
    "# Long Tail Plot Example"
   ]
  },
  {
   "cell_type": "code",
   "execution_count": 5,
   "metadata": {},
   "outputs": [
    {
     "data": {
      "image/png": "[encoded data removed]",
      "text/plain": [
       "<Figure size 1080x504 with 1 Axes>"
      ]
     },
     "metadata": {
      "needs_background": "light"
     },
     "output_type": "display_data"
    }
   ],
   "source": [
    "import matplotlib.pyplot as plt\n",
    "\n",
    "fig = plt.figure(figsize=(15, 7))\n",
    "    \n",
    "LongTailPlot(df=ratings, \n",
    "             item_id_column=\"movieId\", \n",
    "             interaction_type=\"movie ratings\", \n",
    "             percentage=0.5,\n",
    "             x_labels=False)"
   ]
  },
  {
   "cell_type": "markdown",
   "metadata": {},
   "source": [
    "# Simple Popularity Recommender\n",
    "Creating a simple popularity recommender to demonstrate recommender metrics in action. The popularity recommender simply recommends the top 10 movies to every user."
   ]
  },
  {
   "cell_type": "markdown",
   "metadata": {},
   "source": [
    "## test/train split"
   ]
  },
  {
   "cell_type": "code",
   "execution_count": 6,
   "metadata": {},
   "outputs": [
    {
     "name": "stderr",
     "output_type": "stream",
     "text": [
      "/Users/clairelongo/Documents/Work/prof_dev/recommender_metrics/venv/lib/python2.7/site-packages/ipykernel_launcher.py:11: FutureWarning: using a dict on a Series for aggregation\n",
      "is deprecated and will be removed in a future version\n",
      "  # This is added back by InteractiveShellApp.init_path()\n"
     ]
    },
    {
     "data": {
      "text/html": [
       "<div>\n",
       "<style scoped>\n",
       "    .dataframe tbody tr th:only-of-type {\n",
       "        vertical-align: middle;\n",
       "    }\n",
       "\n",
       "    .dataframe tbody tr th {\n",
       "        vertical-align: top;\n",
       "    }\n",
       "\n",
       "    .dataframe thead th {\n",
       "        text-align: right;\n",
       "    }\n",
       "</style>\n",
       "<table border=\"1\" class=\"dataframe\">\n",
       "  <thead>\n",
       "    <tr style=\"text-align: right;\">\n",
       "      <th></th>\n",
       "      <th>actual</th>\n",
       "    </tr>\n",
       "    <tr>\n",
       "      <th>userId</th>\n",
       "      <th></th>\n",
       "    </tr>\n",
       "  </thead>\n",
       "  <tbody>\n",
       "    <tr>\n",
       "      <th>156</th>\n",
       "      <td>[5292, 4117, 541, 544, 34, 5382, 4646, 2095, 5...</td>\n",
       "    </tr>\n",
       "    <tr>\n",
       "      <th>208</th>\n",
       "      <td>[1537, 6659, 44555, 527, 17, 539, 34338, 6195,...</td>\n",
       "    </tr>\n",
       "    <tr>\n",
       "      <th>359</th>\n",
       "      <td>[514, 6149, 34319, 31251, 42004, 1047, 1049, 2...</td>\n",
       "    </tr>\n",
       "    <tr>\n",
       "      <th>394</th>\n",
       "      <td>[6659, 26116, 5641, 1546, 6671, 1042, 4116, 54...</td>\n",
       "    </tr>\n",
       "    <tr>\n",
       "      <th>572</th>\n",
       "      <td>[2053, 3087, 55830, 4632, 4641, 56367, 2616, 5...</td>\n",
       "    </tr>\n",
       "  </tbody>\n",
       "</table>\n",
       "</div>"
      ],
      "text/plain": [
       "                                                   actual\n",
       "userId                                                   \n",
       "156     [5292, 4117, 541, 544, 34, 5382, 4646, 2095, 5...\n",
       "208     [1537, 6659, 44555, 527, 17, 539, 34338, 6195,...\n",
       "359     [514, 6149, 34319, 31251, 42004, 1047, 1049, 2...\n",
       "394     [6659, 26116, 5641, 1546, 6671, 1042, 4116, 54...\n",
       "572     [2053, 3087, 55830, 4632, 4641, 56367, 2616, 5..."
      ]
     },
     "execution_count": 6,
     "metadata": {},
     "output_type": "execute_result"
    }
   ],
   "source": [
    "# the test data contains 100 movies from each user that are rated greater than 3 stars\n",
    "test_index = ratings.copy()\n",
    "test_index = test_index.groupby('userId')\n",
    "test_index = test_index.apply(lambda x: x.sample(min(100, len(x))))\n",
    "\n",
    "test_index.drop(axis=1, columns=\"userId\", inplace=True)\n",
    "test_index.reset_index(inplace=True, drop=False)\n",
    "test_index = test_index.level_1.values.tolist()\n",
    "\n",
    "test_df = ratings.loc[test_index]\n",
    "test = test_df.copy().groupby('userId')['movieId'].agg({'actual': (lambda x: list(set(x)))})\n",
    "test.head()"
   ]
  },
  {
   "cell_type": "code",
   "execution_count": 7,
   "metadata": {},
   "outputs": [
    {
     "data": {
      "text/html": [
       "<div>\n",
       "<style scoped>\n",
       "    .dataframe tbody tr th:only-of-type {\n",
       "        vertical-align: middle;\n",
       "    }\n",
       "\n",
       "    .dataframe tbody tr th {\n",
       "        vertical-align: top;\n",
       "    }\n",
       "\n",
       "    .dataframe thead th {\n",
       "        text-align: right;\n",
       "    }\n",
       "</style>\n",
       "<table border=\"1\" class=\"dataframe\">\n",
       "  <thead>\n",
       "    <tr style=\"text-align: right;\">\n",
       "      <th></th>\n",
       "      <th>userId</th>\n",
       "      <th>movieId</th>\n",
       "      <th>rating</th>\n",
       "      <th>timestamp</th>\n",
       "    </tr>\n",
       "  </thead>\n",
       "  <tbody>\n",
       "    <tr>\n",
       "      <th>15918</th>\n",
       "      <td>156</td>\n",
       "      <td>1</td>\n",
       "      <td>5.0</td>\n",
       "      <td>1037739266</td>\n",
       "    </tr>\n",
       "    <tr>\n",
       "      <th>15919</th>\n",
       "      <td>156</td>\n",
       "      <td>2</td>\n",
       "      <td>5.0</td>\n",
       "      <td>1040937649</td>\n",
       "    </tr>\n",
       "    <tr>\n",
       "      <th>15920</th>\n",
       "      <td>156</td>\n",
       "      <td>4</td>\n",
       "      <td>3.0</td>\n",
       "      <td>1038801803</td>\n",
       "    </tr>\n",
       "    <tr>\n",
       "      <th>15921</th>\n",
       "      <td>156</td>\n",
       "      <td>5</td>\n",
       "      <td>3.0</td>\n",
       "      <td>1040944583</td>\n",
       "    </tr>\n",
       "    <tr>\n",
       "      <th>15922</th>\n",
       "      <td>156</td>\n",
       "      <td>6</td>\n",
       "      <td>4.0</td>\n",
       "      <td>1037822117</td>\n",
       "    </tr>\n",
       "  </tbody>\n",
       "</table>\n",
       "</div>"
      ],
      "text/plain": [
       "       userId  movieId  rating   timestamp\n",
       "15918     156        1     5.0  1037739266\n",
       "15919     156        2     5.0  1040937649\n",
       "15920     156        4     3.0  1038801803\n",
       "15921     156        5     3.0  1040944583\n",
       "15922     156        6     4.0  1037822117"
      ]
     },
     "execution_count": 7,
     "metadata": {},
     "output_type": "execute_result"
    }
   ],
   "source": [
    "train_long = ratings[~ratings.index.isin(test_index)].dropna()\n",
    "train_long.head()"
   ]
  },
  {
   "cell_type": "markdown",
   "metadata": {},
   "source": [
    "## Popularity Recommendations"
   ]
  },
  {
   "cell_type": "code",
   "execution_count": 8,
   "metadata": {},
   "outputs": [
    {
     "data": {
      "text/html": [
       "<div>\n",
       "<style scoped>\n",
       "    .dataframe tbody tr th:only-of-type {\n",
       "        vertical-align: middle;\n",
       "    }\n",
       "\n",
       "    .dataframe tbody tr th {\n",
       "        vertical-align: top;\n",
       "    }\n",
       "\n",
       "    .dataframe thead th {\n",
       "        text-align: right;\n",
       "    }\n",
       "</style>\n",
       "<table border=\"1\" class=\"dataframe\">\n",
       "  <thead>\n",
       "    <tr style=\"text-align: right;\">\n",
       "      <th></th>\n",
       "      <th>actual</th>\n",
       "      <th>pop_predictions</th>\n",
       "    </tr>\n",
       "    <tr>\n",
       "      <th>userId</th>\n",
       "      <th></th>\n",
       "      <th></th>\n",
       "    </tr>\n",
       "  </thead>\n",
       "  <tbody>\n",
       "    <tr>\n",
       "      <th>156</th>\n",
       "      <td>[5292, 4117, 541, 544, 34, 5382, 4646, 2095, 5...</td>\n",
       "      <td>[1198, 1270, 593, 2571, 318, 608, 2762, 260, 5...</td>\n",
       "    </tr>\n",
       "    <tr>\n",
       "      <th>208</th>\n",
       "      <td>[1537, 6659, 44555, 527, 17, 539, 34338, 6195,...</td>\n",
       "      <td>[1198, 1270, 593, 2571, 318, 608, 2762, 260, 5...</td>\n",
       "    </tr>\n",
       "    <tr>\n",
       "      <th>359</th>\n",
       "      <td>[514, 6149, 34319, 31251, 42004, 1047, 1049, 2...</td>\n",
       "      <td>[1198, 1270, 593, 2571, 318, 608, 2762, 260, 5...</td>\n",
       "    </tr>\n",
       "    <tr>\n",
       "      <th>394</th>\n",
       "      <td>[6659, 26116, 5641, 1546, 6671, 1042, 4116, 54...</td>\n",
       "      <td>[1198, 1270, 593, 2571, 318, 608, 2762, 260, 5...</td>\n",
       "    </tr>\n",
       "    <tr>\n",
       "      <th>572</th>\n",
       "      <td>[2053, 3087, 55830, 4632, 4641, 56367, 2616, 5...</td>\n",
       "      <td>[1198, 1270, 593, 2571, 318, 608, 2762, 260, 5...</td>\n",
       "    </tr>\n",
       "  </tbody>\n",
       "</table>\n",
       "</div>"
      ],
      "text/plain": [
       "                                                   actual  \\\n",
       "userId                                                      \n",
       "156     [5292, 4117, 541, 544, 34, 5382, 4646, 2095, 5...   \n",
       "208     [1537, 6659, 44555, 527, 17, 539, 34338, 6195,...   \n",
       "359     [514, 6149, 34319, 31251, 42004, 1047, 1049, 2...   \n",
       "394     [6659, 26116, 5641, 1546, 6671, 1042, 4116, 54...   \n",
       "572     [2053, 3087, 55830, 4632, 4641, 56367, 2616, 5...   \n",
       "\n",
       "                                          pop_predictions  \n",
       "userId                                                     \n",
       "156     [1198, 1270, 593, 2571, 318, 608, 2762, 260, 5...  \n",
       "208     [1198, 1270, 593, 2571, 318, 608, 2762, 260, 5...  \n",
       "359     [1198, 1270, 593, 2571, 318, 608, 2762, 260, 5...  \n",
       "394     [1198, 1270, 593, 2571, 318, 608, 2762, 260, 5...  \n",
       "572     [1198, 1270, 593, 2571, 318, 608, 2762, 260, 5...  "
      ]
     },
     "execution_count": 8,
     "metadata": {},
     "output_type": "execute_result"
    }
   ],
   "source": [
    "#make popularity recommendations for all members in the test data\n",
    "popularity_recs = train_long.movieId.value_counts().head(10).index.tolist()\n",
    "\n",
    "recs = []\n",
    "for user in test.index.tolist():\n",
    "    pop_predictions = popularity_recs\n",
    "    recs.append(pop_predictions)\n",
    "        \n",
    "test['pop_predictions'] = recs\n",
    "test.head()"
   ]
  },
  {
   "cell_type": "code",
   "execution_count": 9,
   "metadata": {},
   "outputs": [],
   "source": [
    "actual = test.actual.values.tolist()\n",
    "pop_predictions = test.pop_predictions.values.tolist()"
   ]
  },
  {
   "cell_type": "markdown",
   "metadata": {},
   "source": [
    "# Collaborative Filter"
   ]
  },
  {
   "cell_type": "code",
   "execution_count": 10,
   "metadata": {},
   "outputs": [
    {
     "data": {
      "text/html": [
       "<div>\n",
       "<style scoped>\n",
       "    .dataframe tbody tr th:only-of-type {\n",
       "        vertical-align: middle;\n",
       "    }\n",
       "\n",
       "    .dataframe tbody tr th {\n",
       "        vertical-align: top;\n",
       "    }\n",
       "\n",
       "    .dataframe thead th {\n",
       "        text-align: right;\n",
       "    }\n",
       "</style>\n",
       "<table border=\"1\" class=\"dataframe\">\n",
       "  <thead>\n",
       "    <tr style=\"text-align: right;\">\n",
       "      <th>movieId</th>\n",
       "      <th>1</th>\n",
       "      <th>2</th>\n",
       "      <th>3</th>\n",
       "      <th>4</th>\n",
       "      <th>5</th>\n",
       "      <th>6</th>\n",
       "      <th>7</th>\n",
       "      <th>8</th>\n",
       "      <th>9</th>\n",
       "      <th>10</th>\n",
       "      <th>...</th>\n",
       "      <th>131168</th>\n",
       "      <th>131174</th>\n",
       "      <th>131176</th>\n",
       "      <th>131231</th>\n",
       "      <th>131239</th>\n",
       "      <th>131241</th>\n",
       "      <th>131248</th>\n",
       "      <th>131250</th>\n",
       "      <th>131254</th>\n",
       "      <th>131256</th>\n",
       "    </tr>\n",
       "    <tr>\n",
       "      <th>userId</th>\n",
       "      <th></th>\n",
       "      <th></th>\n",
       "      <th></th>\n",
       "      <th></th>\n",
       "      <th></th>\n",
       "      <th></th>\n",
       "      <th></th>\n",
       "      <th></th>\n",
       "      <th></th>\n",
       "      <th></th>\n",
       "      <th></th>\n",
       "      <th></th>\n",
       "      <th></th>\n",
       "      <th></th>\n",
       "      <th></th>\n",
       "      <th></th>\n",
       "      <th></th>\n",
       "      <th></th>\n",
       "      <th></th>\n",
       "      <th></th>\n",
       "      <th></th>\n",
       "    </tr>\n",
       "  </thead>\n",
       "  <tbody>\n",
       "    <tr>\n",
       "      <th>156</th>\n",
       "      <td>5.0</td>\n",
       "      <td>5.0</td>\n",
       "      <td>0.0</td>\n",
       "      <td>3.0</td>\n",
       "      <td>3.0</td>\n",
       "      <td>4.0</td>\n",
       "      <td>4.0</td>\n",
       "      <td>0.0</td>\n",
       "      <td>3.0</td>\n",
       "      <td>4.0</td>\n",
       "      <td>...</td>\n",
       "      <td>0.0</td>\n",
       "      <td>0.0</td>\n",
       "      <td>0.0</td>\n",
       "      <td>0.0</td>\n",
       "      <td>0.0</td>\n",
       "      <td>0.0</td>\n",
       "      <td>0.0</td>\n",
       "      <td>0.0</td>\n",
       "      <td>0.0</td>\n",
       "      <td>0.0</td>\n",
       "    </tr>\n",
       "    <tr>\n",
       "      <th>208</th>\n",
       "      <td>4.0</td>\n",
       "      <td>0.0</td>\n",
       "      <td>0.0</td>\n",
       "      <td>0.0</td>\n",
       "      <td>0.0</td>\n",
       "      <td>0.0</td>\n",
       "      <td>0.0</td>\n",
       "      <td>0.0</td>\n",
       "      <td>0.0</td>\n",
       "      <td>0.0</td>\n",
       "      <td>...</td>\n",
       "      <td>0.0</td>\n",
       "      <td>0.0</td>\n",
       "      <td>0.0</td>\n",
       "      <td>0.0</td>\n",
       "      <td>0.0</td>\n",
       "      <td>0.0</td>\n",
       "      <td>0.0</td>\n",
       "      <td>0.0</td>\n",
       "      <td>0.0</td>\n",
       "      <td>0.0</td>\n",
       "    </tr>\n",
       "    <tr>\n",
       "      <th>359</th>\n",
       "      <td>5.0</td>\n",
       "      <td>0.0</td>\n",
       "      <td>0.0</td>\n",
       "      <td>0.0</td>\n",
       "      <td>0.0</td>\n",
       "      <td>5.0</td>\n",
       "      <td>0.0</td>\n",
       "      <td>0.0</td>\n",
       "      <td>0.0</td>\n",
       "      <td>4.0</td>\n",
       "      <td>...</td>\n",
       "      <td>0.0</td>\n",
       "      <td>0.0</td>\n",
       "      <td>0.0</td>\n",
       "      <td>0.0</td>\n",
       "      <td>0.0</td>\n",
       "      <td>0.0</td>\n",
       "      <td>0.0</td>\n",
       "      <td>0.0</td>\n",
       "      <td>0.0</td>\n",
       "      <td>0.0</td>\n",
       "    </tr>\n",
       "  </tbody>\n",
       "</table>\n",
       "<p>3 rows × 21763 columns</p>\n",
       "</div>"
      ],
      "text/plain": [
       "movieId  1       2       3       4       5       6       7       8       \\\n",
       "userId                                                                    \n",
       "156         5.0     5.0     0.0     3.0     3.0     4.0     4.0     0.0   \n",
       "208         4.0     0.0     0.0     0.0     0.0     0.0     0.0     0.0   \n",
       "359         5.0     0.0     0.0     0.0     0.0     5.0     0.0     0.0   \n",
       "\n",
       "movieId  9       10       ...    131168  131174  131176  131231  131239  \\\n",
       "userId                    ...                                             \n",
       "156         3.0     4.0   ...       0.0     0.0     0.0     0.0     0.0   \n",
       "208         0.0     0.0   ...       0.0     0.0     0.0     0.0     0.0   \n",
       "359         0.0     4.0   ...       0.0     0.0     0.0     0.0     0.0   \n",
       "\n",
       "movieId  131241  131248  131250  131254  131256  \n",
       "userId                                           \n",
       "156         0.0     0.0     0.0     0.0     0.0  \n",
       "208         0.0     0.0     0.0     0.0     0.0  \n",
       "359         0.0     0.0     0.0     0.0     0.0  \n",
       "\n",
       "[3 rows x 21763 columns]"
      ]
     },
     "execution_count": 10,
     "metadata": {},
     "output_type": "execute_result"
    }
   ],
   "source": [
    "train_pivot = train_long.pivot(index = 'userId', columns ='movieId', values = 'rating').fillna(0)\n",
    "user_index = train_pivot.index.tolist()\n",
    "movie_index = train_pivot.columns.tolist()\n",
    "train_pivot.head(3)"
   ]
  },
  {
   "cell_type": "code",
   "execution_count": 11,
   "metadata": {},
   "outputs": [],
   "source": [
    "from scipy.sparse import csr_matrix\n",
    "from scipy.sparse.linalg import svds\n",
    "\n",
    "#svd\n",
    "U, sigma, Vt = svds(train_pivot, k=100) # k is the number of factors\n",
    "eigvals = sigma**2 / np.cumsum(sigma)[-1]\n",
    "eigvals = eigvals[::-1]\n",
    "sigma = np.diag(sigma)\n",
    "\n",
    "#reconstruct ratings matrix\n",
    "cf_model = np.dot(np.dot(U, sigma), Vt) \n",
    "cf_model = pd.DataFrame(cf_model, index=user_index, columns=movie_index)"
   ]
  },
  {
   "cell_type": "code",
   "execution_count": 12,
   "metadata": {},
   "outputs": [
    {
     "data": {
      "text/html": [
       "<div>\n",
       "<style scoped>\n",
       "    .dataframe tbody tr th:only-of-type {\n",
       "        vertical-align: middle;\n",
       "    }\n",
       "\n",
       "    .dataframe tbody tr th {\n",
       "        vertical-align: top;\n",
       "    }\n",
       "\n",
       "    .dataframe thead th {\n",
       "        text-align: right;\n",
       "    }\n",
       "</style>\n",
       "<table border=\"1\" class=\"dataframe\">\n",
       "  <thead>\n",
       "    <tr style=\"text-align: right;\">\n",
       "      <th></th>\n",
       "      <th>1</th>\n",
       "      <th>2</th>\n",
       "      <th>3</th>\n",
       "      <th>4</th>\n",
       "      <th>5</th>\n",
       "      <th>6</th>\n",
       "      <th>7</th>\n",
       "      <th>8</th>\n",
       "      <th>9</th>\n",
       "      <th>10</th>\n",
       "      <th>...</th>\n",
       "      <th>131168</th>\n",
       "      <th>131174</th>\n",
       "      <th>131176</th>\n",
       "      <th>131231</th>\n",
       "      <th>131239</th>\n",
       "      <th>131241</th>\n",
       "      <th>131248</th>\n",
       "      <th>131250</th>\n",
       "      <th>131254</th>\n",
       "      <th>131256</th>\n",
       "    </tr>\n",
       "  </thead>\n",
       "  <tbody>\n",
       "    <tr>\n",
       "      <th>156</th>\n",
       "      <td>4.370181</td>\n",
       "      <td>4.200356</td>\n",
       "      <td>1.173986</td>\n",
       "      <td>2.426841</td>\n",
       "      <td>1.816393</td>\n",
       "      <td>3.295564</td>\n",
       "      <td>4.113949</td>\n",
       "      <td>0.805556</td>\n",
       "      <td>1.667893</td>\n",
       "      <td>3.660941</td>\n",
       "      <td>...</td>\n",
       "      <td>-0.003395</td>\n",
       "      <td>-0.030653</td>\n",
       "      <td>-0.039411</td>\n",
       "      <td>-0.040264</td>\n",
       "      <td>-0.007945</td>\n",
       "      <td>-0.007945</td>\n",
       "      <td>-0.007945</td>\n",
       "      <td>-0.007945</td>\n",
       "      <td>-0.007945</td>\n",
       "      <td>-0.007945</td>\n",
       "    </tr>\n",
       "    <tr>\n",
       "      <th>208</th>\n",
       "      <td>3.444994</td>\n",
       "      <td>0.181937</td>\n",
       "      <td>-0.581069</td>\n",
       "      <td>0.279061</td>\n",
       "      <td>-0.129648</td>\n",
       "      <td>0.529848</td>\n",
       "      <td>0.016473</td>\n",
       "      <td>0.127385</td>\n",
       "      <td>0.164321</td>\n",
       "      <td>-0.129175</td>\n",
       "      <td>...</td>\n",
       "      <td>-0.004797</td>\n",
       "      <td>0.011087</td>\n",
       "      <td>0.014254</td>\n",
       "      <td>0.015522</td>\n",
       "      <td>-0.015630</td>\n",
       "      <td>-0.015630</td>\n",
       "      <td>-0.015630</td>\n",
       "      <td>-0.015630</td>\n",
       "      <td>-0.015630</td>\n",
       "      <td>-0.015630</td>\n",
       "    </tr>\n",
       "    <tr>\n",
       "      <th>359</th>\n",
       "      <td>4.646255</td>\n",
       "      <td>2.092999</td>\n",
       "      <td>0.450288</td>\n",
       "      <td>-0.084666</td>\n",
       "      <td>0.693665</td>\n",
       "      <td>4.109522</td>\n",
       "      <td>1.136496</td>\n",
       "      <td>-0.140067</td>\n",
       "      <td>0.233501</td>\n",
       "      <td>2.442226</td>\n",
       "      <td>...</td>\n",
       "      <td>0.003421</td>\n",
       "      <td>-0.012053</td>\n",
       "      <td>-0.015497</td>\n",
       "      <td>-0.035732</td>\n",
       "      <td>0.003525</td>\n",
       "      <td>0.003525</td>\n",
       "      <td>0.003525</td>\n",
       "      <td>0.003525</td>\n",
       "      <td>0.003525</td>\n",
       "      <td>0.003525</td>\n",
       "    </tr>\n",
       "    <tr>\n",
       "      <th>394</th>\n",
       "      <td>3.047033</td>\n",
       "      <td>0.356581</td>\n",
       "      <td>0.093462</td>\n",
       "      <td>-0.291562</td>\n",
       "      <td>0.584884</td>\n",
       "      <td>1.378240</td>\n",
       "      <td>0.465893</td>\n",
       "      <td>0.097270</td>\n",
       "      <td>0.156512</td>\n",
       "      <td>1.027134</td>\n",
       "      <td>...</td>\n",
       "      <td>-0.016835</td>\n",
       "      <td>-0.015094</td>\n",
       "      <td>-0.019407</td>\n",
       "      <td>-0.025153</td>\n",
       "      <td>-0.030976</td>\n",
       "      <td>-0.030976</td>\n",
       "      <td>-0.030976</td>\n",
       "      <td>-0.030976</td>\n",
       "      <td>-0.030976</td>\n",
       "      <td>-0.030976</td>\n",
       "    </tr>\n",
       "    <tr>\n",
       "      <th>572</th>\n",
       "      <td>3.520982</td>\n",
       "      <td>2.246389</td>\n",
       "      <td>2.150311</td>\n",
       "      <td>-0.341555</td>\n",
       "      <td>2.266963</td>\n",
       "      <td>1.126574</td>\n",
       "      <td>0.527057</td>\n",
       "      <td>0.248679</td>\n",
       "      <td>0.185374</td>\n",
       "      <td>1.405344</td>\n",
       "      <td>...</td>\n",
       "      <td>0.009198</td>\n",
       "      <td>0.044008</td>\n",
       "      <td>0.056582</td>\n",
       "      <td>-0.018628</td>\n",
       "      <td>-0.004694</td>\n",
       "      <td>-0.004694</td>\n",
       "      <td>-0.004694</td>\n",
       "      <td>-0.004694</td>\n",
       "      <td>-0.004694</td>\n",
       "      <td>-0.004694</td>\n",
       "    </tr>\n",
       "  </tbody>\n",
       "</table>\n",
       "<p>5 rows × 21763 columns</p>\n",
       "</div>"
      ],
      "text/plain": [
       "       1         2         3         4         5         6         7       \\\n",
       "156  4.370181  4.200356  1.173986  2.426841  1.816393  3.295564  4.113949   \n",
       "208  3.444994  0.181937 -0.581069  0.279061 -0.129648  0.529848  0.016473   \n",
       "359  4.646255  2.092999  0.450288 -0.084666  0.693665  4.109522  1.136496   \n",
       "394  3.047033  0.356581  0.093462 -0.291562  0.584884  1.378240  0.465893   \n",
       "572  3.520982  2.246389  2.150311 -0.341555  2.266963  1.126574  0.527057   \n",
       "\n",
       "       8         9         10        ...       131168    131174    131176  \\\n",
       "156  0.805556  1.667893  3.660941    ...    -0.003395 -0.030653 -0.039411   \n",
       "208  0.127385  0.164321 -0.129175    ...    -0.004797  0.011087  0.014254   \n",
       "359 -0.140067  0.233501  2.442226    ...     0.003421 -0.012053 -0.015497   \n",
       "394  0.097270  0.156512  1.027134    ...    -0.016835 -0.015094 -0.019407   \n",
       "572  0.248679  0.185374  1.405344    ...     0.009198  0.044008  0.056582   \n",
       "\n",
       "       131231    131239    131241    131248    131250    131254    131256  \n",
       "156 -0.040264 -0.007945 -0.007945 -0.007945 -0.007945 -0.007945 -0.007945  \n",
       "208  0.015522 -0.015630 -0.015630 -0.015630 -0.015630 -0.015630 -0.015630  \n",
       "359 -0.035732  0.003525  0.003525  0.003525  0.003525  0.003525  0.003525  \n",
       "394 -0.025153 -0.030976 -0.030976 -0.030976 -0.030976 -0.030976 -0.030976  \n",
       "572 -0.018628 -0.004694 -0.004694 -0.004694 -0.004694 -0.004694 -0.004694  \n",
       "\n",
       "[5 rows x 21763 columns]"
      ]
     },
     "execution_count": 12,
     "metadata": {},
     "output_type": "execute_result"
    }
   ],
   "source": [
    "cf_model.head()"
   ]
  },
  {
   "cell_type": "markdown",
   "metadata": {},
   "source": [
    "## Collaborative Filter Recommendations"
   ]
  },
  {
   "cell_type": "code",
   "execution_count": 13,
   "metadata": {},
   "outputs": [],
   "source": [
    "def get_users_predictions(user_id, n, model, train_long):\n",
    "    recommended_items = pd.DataFrame(model.loc[user_id])\n",
    "    recommended_items.columns = [\"predicted_rating\"]\n",
    "    recommended_items = recommended_items.sort_values('predicted_rating', ascending=False)    \n",
    "    rated_items_from_train = train_long.query('userId == @user_id').movieId.tolist()\n",
    "    recommended_items = recommended_items[~recommended_items.index.isin(rated_items_from_train)]\n",
    "    recommended_items = recommended_items.head(n)\n",
    "    return recommended_items.index.tolist()"
   ]
  },
  {
   "cell_type": "code",
   "execution_count": 14,
   "metadata": {},
   "outputs": [
    {
     "data": {
      "text/plain": [
       "[3361, 3702, 592, 4855, 3494, 1687, 3708, 3468, 1721, 423]"
      ]
     },
     "execution_count": 14,
     "metadata": {},
     "output_type": "execute_result"
    }
   ],
   "source": [
    "get_users_predictions(156, 10, cf_model, train_long)"
   ]
  },
  {
   "cell_type": "code",
   "execution_count": 15,
   "metadata": {},
   "outputs": [
    {
     "data": {
      "text/html": [
       "<div>\n",
       "<style scoped>\n",
       "    .dataframe tbody tr th:only-of-type {\n",
       "        vertical-align: middle;\n",
       "    }\n",
       "\n",
       "    .dataframe tbody tr th {\n",
       "        vertical-align: top;\n",
       "    }\n",
       "\n",
       "    .dataframe thead th {\n",
       "        text-align: right;\n",
       "    }\n",
       "</style>\n",
       "<table border=\"1\" class=\"dataframe\">\n",
       "  <thead>\n",
       "    <tr style=\"text-align: right;\">\n",
       "      <th></th>\n",
       "      <th>actual</th>\n",
       "      <th>pop_predictions</th>\n",
       "      <th>cf_predictions</th>\n",
       "    </tr>\n",
       "    <tr>\n",
       "      <th>userId</th>\n",
       "      <th></th>\n",
       "      <th></th>\n",
       "      <th></th>\n",
       "    </tr>\n",
       "  </thead>\n",
       "  <tbody>\n",
       "    <tr>\n",
       "      <th>156</th>\n",
       "      <td>[5292, 4117, 541, 544, 34, 5382, 4646, 2095, 5...</td>\n",
       "      <td>[1198, 1270, 593, 2571, 318, 608, 2762, 260, 5...</td>\n",
       "      <td>[3361, 3702, 592, 4855, 3494, 1687, 3708, 3468...</td>\n",
       "    </tr>\n",
       "    <tr>\n",
       "      <th>208</th>\n",
       "      <td>[1537, 6659, 44555, 527, 17, 539, 34338, 6195,...</td>\n",
       "      <td>[1198, 1270, 593, 2571, 318, 608, 2762, 260, 5...</td>\n",
       "      <td>[3362, 3083, 1307, 44555, 235, 3359, 2858, 206...</td>\n",
       "    </tr>\n",
       "    <tr>\n",
       "      <th>359</th>\n",
       "      <td>[514, 6149, 34319, 31251, 42004, 1047, 1049, 2...</td>\n",
       "      <td>[1198, 1270, 593, 2571, 318, 608, 2762, 260, 5...</td>\n",
       "      <td>[6539, 36529, 47610, 1127, 7090, 318, 34319, 3...</td>\n",
       "    </tr>\n",
       "    <tr>\n",
       "      <th>394</th>\n",
       "      <td>[6659, 26116, 5641, 1546, 6671, 1042, 4116, 54...</td>\n",
       "      <td>[1198, 1270, 593, 2571, 318, 608, 2762, 260, 5...</td>\n",
       "      <td>[296, 1449, 3996, 720, 5060, 994, 541, 745, 28...</td>\n",
       "    </tr>\n",
       "    <tr>\n",
       "      <th>572</th>\n",
       "      <td>[2053, 3087, 55830, 4632, 4641, 56367, 2616, 5...</td>\n",
       "      <td>[1198, 1270, 593, 2571, 318, 608, 2762, 260, 5...</td>\n",
       "      <td>[1265, 44191, 48516, 3087, 1961, 500, 5445, 29...</td>\n",
       "    </tr>\n",
       "  </tbody>\n",
       "</table>\n",
       "</div>"
      ],
      "text/plain": [
       "                                                   actual  \\\n",
       "userId                                                      \n",
       "156     [5292, 4117, 541, 544, 34, 5382, 4646, 2095, 5...   \n",
       "208     [1537, 6659, 44555, 527, 17, 539, 34338, 6195,...   \n",
       "359     [514, 6149, 34319, 31251, 42004, 1047, 1049, 2...   \n",
       "394     [6659, 26116, 5641, 1546, 6671, 1042, 4116, 54...   \n",
       "572     [2053, 3087, 55830, 4632, 4641, 56367, 2616, 5...   \n",
       "\n",
       "                                          pop_predictions  \\\n",
       "userId                                                      \n",
       "156     [1198, 1270, 593, 2571, 318, 608, 2762, 260, 5...   \n",
       "208     [1198, 1270, 593, 2571, 318, 608, 2762, 260, 5...   \n",
       "359     [1198, 1270, 593, 2571, 318, 608, 2762, 260, 5...   \n",
       "394     [1198, 1270, 593, 2571, 318, 608, 2762, 260, 5...   \n",
       "572     [1198, 1270, 593, 2571, 318, 608, 2762, 260, 5...   \n",
       "\n",
       "                                           cf_predictions  \n",
       "userId                                                     \n",
       "156     [3361, 3702, 592, 4855, 3494, 1687, 3708, 3468...  \n",
       "208     [3362, 3083, 1307, 44555, 235, 3359, 2858, 206...  \n",
       "359     [6539, 36529, 47610, 1127, 7090, 318, 34319, 3...  \n",
       "394     [296, 1449, 3996, 720, 5060, 994, 541, 745, 28...  \n",
       "572     [1265, 44191, 48516, 3087, 1961, 500, 5445, 29...  "
      ]
     },
     "execution_count": 15,
     "metadata": {},
     "output_type": "execute_result"
    }
   ],
   "source": [
    "#make popularity recommendations for all members in the test data\n",
    "\n",
    "recs = []\n",
    "for user in user_index:\n",
    "    cf_predictions = get_users_predictions(user, 10, cf_model, train_long)\n",
    "    recs.append(cf_predictions)\n",
    "        \n",
    "test['cf_predictions'] = recs\n",
    "test.head()"
   ]
  },
  {
   "cell_type": "code",
   "execution_count": 16,
   "metadata": {},
   "outputs": [],
   "source": [
    "cf_predictions = test.cf_predictions.values.tolist()"
   ]
  },
  {
   "cell_type": "markdown",
   "metadata": {},
   "source": [
    "# Recall"
   ]
  },
  {
   "cell_type": "code",
   "execution_count": 88,
   "metadata": {},
   "outputs": [
    {
     "data": {
      "text/plain": [
       "[0.0007931404072883172,\n",
       " 0.0011414790996784566,\n",
       " 0.0014165773490532334,\n",
       " 0.001590746695248303,\n",
       " 0.0017600928903179708,\n",
       " 0.0018904966059306895,\n",
       " 0.00204055019649875,\n",
       " 0.0021611289746337977,\n",
       " 0.0022528283910920564,\n",
       " 0.002363224961295701]"
      ]
     },
     "execution_count": 88,
     "metadata": {},
     "output_type": "execute_result"
    }
   ],
   "source": [
    "pop_mark = []\n",
    "for K in np.arange(1, 11):\n",
    "    pop_mark.extend([mark(actual, pop_predictions, k=K)])\n",
    "pop_mark"
   ]
  },
  {
   "cell_type": "code",
   "execution_count": 89,
   "metadata": {},
   "outputs": [
    {
     "data": {
      "text/plain": [
       "[0.008017148981779205,\n",
       " 0.014833869239013933,\n",
       " 0.020800285816362986,\n",
       " 0.026371025366202214,\n",
       " 0.03171722043586995,\n",
       " 0.03664576634512326,\n",
       " 0.04132498851630685,\n",
       " 0.045707357219415094,\n",
       " 0.04996363922489324,\n",
       " 0.05387789431599721]"
      ]
     },
     "execution_count": 89,
     "metadata": {},
     "output_type": "execute_result"
    }
   ],
   "source": [
    "cf_mark = []\n",
    "for K in np.arange(1, 11):\n",
    "    cf_mark.extend([mark(actual, cf_predictions, k=K)])\n",
    "cf_mark"
   ]
  },
  {
   "cell_type": "code",
   "execution_count": 90,
   "metadata": {},
   "outputs": [
    {
     "data": {
      "text/plain": [
       "[0.004072883172561629,\n",
       " 0.00654876741693462,\n",
       " 0.008467309753483386,\n",
       " 0.009844587352625939,\n",
       " 0.011212218649517686,\n",
       " 0.012359056806002142,\n",
       " 0.013391058030929414,\n",
       " 0.014326213443576789,\n",
       " 0.01512530835842733,\n",
       " 0.015912017897548442]"
      ]
     },
     "execution_count": 90,
     "metadata": {},
     "output_type": "execute_result"
    }
   ],
   "source": [
    "cf_scaled_mark = []\n",
    "for K in np.arange(1, 11):\n",
    "    cf_scaled_mark.extend([mark(actual, cf_scaled_predictions, k=K)])\n",
    "cf_scaled_mark"
   ]
  },
  {
   "cell_type": "markdown",
   "metadata": {},
   "source": [
    "# Mark Plot"
   ]
  },
  {
   "cell_type": "code",
   "execution_count": 91,
   "metadata": {},
   "outputs": [
    {
     "data": {
      "image/png": "[encoded data removed]",
      "text/plain": [
       "<Figure size 1080x504 with 1 Axes>"
      ]
     },
     "metadata": {
      "needs_background": "light"
     },
     "output_type": "display_data"
    }
   ],
   "source": [
    "mark_scores = [pop_mark, cf_mark, cf_scaled_mark]\n",
    "index = range(1,10+1)\n",
    "names = ['Popularity Recommender', 'Collaborative Filter', 'Scaled Collaborative Filter']\n",
    "\n",
    "fig = plt.figure(figsize=(15, 7))\n",
    "MarkPlot(mark_scores, model_names=names, k_range=index)"
   ]
  },
  {
   "cell_type": "markdown",
   "metadata": {},
   "source": [
    "# Coverage"
   ]
  },
  {
   "cell_type": "code",
   "execution_count": 92,
   "metadata": {},
   "outputs": [],
   "source": [
    "catalog = train_long.movieId.unique().tolist()\n",
    "pop_coverage = coverage(pop_predictions, catalog)\n",
    "cf_coverage = coverage(cf_predictions, catalog)\n",
    "cf_scaled_coverage = coverage(cf_scaled_predictions, catalog)"
   ]
  },
  {
   "cell_type": "markdown",
   "metadata": {},
   "source": [
    "# Coverage Plot"
   ]
  },
  {
   "cell_type": "code",
   "execution_count": 93,
   "metadata": {},
   "outputs": [
    {
     "data": {
      "image/png": "[encoded data removed]",
      "text/plain": [
       "<Figure size 504x360 with 1 Axes>"
      ]
     },
     "metadata": {
      "needs_background": "light"
     },
     "output_type": "display_data"
    }
   ],
   "source": [
    "coverage_scores = [pop_coverage, cf_coverage, cf_scaled_coverage]\n",
    "model_names = ['Popularity Recommender', 'Collaborative Filter', 'Scaled Collaborative Filter']\n",
    "\n",
    "fig = plt.figure(figsize=(7, 5))\n",
    "CoveragePlot(coverage_scores, model_names)"
   ]
  },
  {
   "cell_type": "markdown",
   "metadata": {},
   "source": [
    "# Diveristy"
   ]
  },
  {
   "cell_type": "code",
   "execution_count": 32,
   "metadata": {},
   "outputs": [
    {
     "ename": "SyntaxError",
     "evalue": "invalid syntax (<ipython-input-32-f3d68f944bf7>, line 2)",
     "output_type": "error",
     "traceback": [
      "\u001b[0;36m  File \u001b[0;32m\"<ipython-input-32-f3d68f944bf7>\"\u001b[0;36m, line \u001b[0;32m2\u001b[0m\n\u001b[0;31m    add intralist diversity\u001b[0m\n\u001b[0m                ^\u001b[0m\n\u001b[0;31mSyntaxError\u001b[0m\u001b[0;31m:\u001b[0m invalid syntax\n"
     ]
    }
   ],
   "source": [
    "# TO DO\n",
    "add intralist diversity\n",
    "and add a method for bubbling up diverse products"
   ]
  },
  {
   "cell_type": "markdown",
   "metadata": {},
   "source": [
    "# Serendipity"
   ]
  },
  {
   "cell_type": "code",
   "execution_count": null,
   "metadata": {},
   "outputs": [],
   "source": [
    "add method for bubbling up serendipitous recs"
   ]
  },
  {
   "cell_type": "markdown",
   "metadata": {},
   "source": [
    "# Item precision and recall"
   ]
  },
  {
   "cell_type": "code",
   "execution_count": null,
   "metadata": {},
   "outputs": [],
   "source": [
    "# add Predicted rating distripution plot by movie id\n",
    "# Add function to adjust predicted rating dby volume"
   ]
  },
  {
   "cell_type": "code",
   "execution_count": 86,
   "metadata": {},
   "outputs": [],
   "source": [
    "import seaborn as sns\n",
    "\n",
    "def ScoresDistributionPlot(train, item_id, model):\n",
    "    users_who_liked = train.query('movieId == @item_id').userId.unique().tolist()\n",
    "    users_who_did_not_like = train.query('movieId != @item_id').userId.unique().tolist()\n",
    "\n",
    "    predicted_movie_ratings_1 = model.loc[users_who_liked,item_id]\n",
    "    predicted_movie_ratings_2 = model.loc[users_who_did_not_like,item_id]\n",
    "    ax = sns.distplot(predicted_movie_ratings_1, color=\"red\",label=\"derp\", bins=5)\n",
    "    ax = sns.distplot(predicted_movie_ratings_2, color=\"blue\",label=\"derp\", bins=25)\n",
    "    \n",
    "    plt.show()"
   ]
  },
  {
   "cell_type": "code",
   "execution_count": 87,
   "metadata": {},
   "outputs": [
    {
     "data": {
      "image/png": "[encoded data removed]",
      "text/plain": [
       "<Figure size 432x288 with 1 Axes>"
      ]
     },
     "metadata": {
      "needs_background": "light"
     },
     "output_type": "display_data"
    }
   ],
   "source": [
    "item_id = 28\n",
    "\n",
    "ScoresDistributionPlot(train_longngong, item_id, cf_model)"
   ]
  },
  {
   "cell_type": "code",
   "execution_count": 82,
   "metadata": {},
   "outputs": [],
   "source": [
    "def adjust_rec_score(item_id, model, train):\n",
    "    users = train.query('movieId == @item_id').userId.unique().tolist() #users in test who rated this movie\n",
    "    true_scores = model.loc[users_who_liked,item_id]\n",
    "\n",
    "    scores_mean = np.mean(true_scores)\n",
    "    threshold = 3-scores_mean\n",
    "    \n",
    "    new_scores = model.loc[:,item_id]+threshold\n",
    "    return new_scores"
   ]
  },
  {
   "cell_type": "code",
   "execution_count": 57,
   "metadata": {},
   "outputs": [
    {
     "name": "stdout",
     "output_type": "stream",
     "text": [
      "19896\n"
     ]
    }
   ],
   "source": [
    "# Find all products not in coverage\n",
    "cf_predicted_flattened = [p for sublist in cf_predictions for p in sublist]\n",
    "unique_predictions = list(set(cf_predicted_flattened))\n",
    "\n",
    "# all items in train\n",
    "train_items = pd.Series(volume.index.values)\n",
    "\n",
    "#all items from train in not in coverage\n",
    "items_not_covered = train_items[~train_items.isin(unique_predictions)].unique().tolist()\n",
    "print len(items_not_covered)"
   ]
  },
  {
   "cell_type": "code",
   "execution_count": 83,
   "metadata": {},
   "outputs": [],
   "source": [
    "#adjust_rec_score(28, cf_model, train_long)\n",
    "cf_scaled_model = cf_model.copy()\n",
    "\n",
    "for item_id in items_not_covered:\n",
    "    cf_scaled_model.loc[:,item_id] = adjust_rec_score(item_id, cf_model, train_long)"
   ]
  },
  {
   "cell_type": "code",
   "execution_count": 84,
   "metadata": {},
   "outputs": [
    {
     "data": {
      "text/html": [
       "<div>\n",
       "<style scoped>\n",
       "    .dataframe tbody tr th:only-of-type {\n",
       "        vertical-align: middle;\n",
       "    }\n",
       "\n",
       "    .dataframe tbody tr th {\n",
       "        vertical-align: top;\n",
       "    }\n",
       "\n",
       "    .dataframe thead th {\n",
       "        text-align: right;\n",
       "    }\n",
       "</style>\n",
       "<table border=\"1\" class=\"dataframe\">\n",
       "  <thead>\n",
       "    <tr style=\"text-align: right;\">\n",
       "      <th></th>\n",
       "      <th>actual</th>\n",
       "      <th>pop_predictions</th>\n",
       "      <th>cf_predictions</th>\n",
       "      <th>cf_scaled_predictions</th>\n",
       "    </tr>\n",
       "    <tr>\n",
       "      <th>userId</th>\n",
       "      <th></th>\n",
       "      <th></th>\n",
       "      <th></th>\n",
       "      <th></th>\n",
       "    </tr>\n",
       "  </thead>\n",
       "  <tbody>\n",
       "    <tr>\n",
       "      <th>156</th>\n",
       "      <td>[5292, 4117, 541, 544, 34, 5382, 4646, 2095, 5...</td>\n",
       "      <td>[1198, 1270, 593, 2571, 318, 608, 2762, 260, 5...</td>\n",
       "      <td>[3361, 3702, 592, 4855, 3494, 1687, 3708, 3468...</td>\n",
       "      <td>[2533, 3802, 1833, 2531, 3264, 479, 2263, 3744...</td>\n",
       "    </tr>\n",
       "    <tr>\n",
       "      <th>208</th>\n",
       "      <td>[1537, 6659, 44555, 527, 17, 539, 34338, 6195,...</td>\n",
       "      <td>[1198, 1270, 593, 2571, 318, 608, 2762, 260, 5...</td>\n",
       "      <td>[3362, 3083, 1307, 44555, 235, 3359, 2858, 206...</td>\n",
       "      <td>[3925, 3747, 2677, 96488, 3700, 112552, 32943,...</td>\n",
       "    </tr>\n",
       "    <tr>\n",
       "      <th>359</th>\n",
       "      <td>[514, 6149, 34319, 31251, 42004, 1047, 1049, 2...</td>\n",
       "      <td>[1198, 1270, 593, 2571, 318, 608, 2762, 260, 5...</td>\n",
       "      <td>[6539, 36529, 47610, 1127, 7090, 318, 34319, 3...</td>\n",
       "      <td>[6618, 8370, 6283, 27788, 3972, 6322, 7324, 87...</td>\n",
       "    </tr>\n",
       "    <tr>\n",
       "      <th>394</th>\n",
       "      <td>[6659, 26116, 5641, 1546, 6671, 1042, 4116, 54...</td>\n",
       "      <td>[1198, 1270, 593, 2571, 318, 608, 2762, 260, 5...</td>\n",
       "      <td>[296, 1449, 3996, 720, 5060, 994, 541, 745, 28...</td>\n",
       "      <td>[5385, 296, 8228, 1202, 6584, 38304, 5288, 562...</td>\n",
       "    </tr>\n",
       "    <tr>\n",
       "      <th>572</th>\n",
       "      <td>[2053, 3087, 55830, 4632, 4641, 56367, 2616, 5...</td>\n",
       "      <td>[1198, 1270, 593, 2571, 318, 608, 2762, 260, 5...</td>\n",
       "      <td>[1265, 44191, 48516, 3087, 1961, 500, 5445, 29...</td>\n",
       "      <td>[40614, 1265, 45062, 58803, 71379, 4084, 42730...</td>\n",
       "    </tr>\n",
       "  </tbody>\n",
       "</table>\n",
       "</div>"
      ],
      "text/plain": [
       "                                                   actual  \\\n",
       "userId                                                      \n",
       "156     [5292, 4117, 541, 544, 34, 5382, 4646, 2095, 5...   \n",
       "208     [1537, 6659, 44555, 527, 17, 539, 34338, 6195,...   \n",
       "359     [514, 6149, 34319, 31251, 42004, 1047, 1049, 2...   \n",
       "394     [6659, 26116, 5641, 1546, 6671, 1042, 4116, 54...   \n",
       "572     [2053, 3087, 55830, 4632, 4641, 56367, 2616, 5...   \n",
       "\n",
       "                                          pop_predictions  \\\n",
       "userId                                                      \n",
       "156     [1198, 1270, 593, 2571, 318, 608, 2762, 260, 5...   \n",
       "208     [1198, 1270, 593, 2571, 318, 608, 2762, 260, 5...   \n",
       "359     [1198, 1270, 593, 2571, 318, 608, 2762, 260, 5...   \n",
       "394     [1198, 1270, 593, 2571, 318, 608, 2762, 260, 5...   \n",
       "572     [1198, 1270, 593, 2571, 318, 608, 2762, 260, 5...   \n",
       "\n",
       "                                           cf_predictions  \\\n",
       "userId                                                      \n",
       "156     [3361, 3702, 592, 4855, 3494, 1687, 3708, 3468...   \n",
       "208     [3362, 3083, 1307, 44555, 235, 3359, 2858, 206...   \n",
       "359     [6539, 36529, 47610, 1127, 7090, 318, 34319, 3...   \n",
       "394     [296, 1449, 3996, 720, 5060, 994, 541, 745, 28...   \n",
       "572     [1265, 44191, 48516, 3087, 1961, 500, 5445, 29...   \n",
       "\n",
       "                                    cf_scaled_predictions  \n",
       "userId                                                     \n",
       "156     [2533, 3802, 1833, 2531, 3264, 479, 2263, 3744...  \n",
       "208     [3925, 3747, 2677, 96488, 3700, 112552, 32943,...  \n",
       "359     [6618, 8370, 6283, 27788, 3972, 6322, 7324, 87...  \n",
       "394     [5385, 296, 8228, 1202, 6584, 38304, 5288, 562...  \n",
       "572     [40614, 1265, 45062, 58803, 71379, 4084, 42730...  "
      ]
     },
     "execution_count": 84,
     "metadata": {},
     "output_type": "execute_result"
    }
   ],
   "source": [
    "#make popularity recommendations for all members in the test data\n",
    "\n",
    "recs = []\n",
    "for user in user_index:\n",
    "    cf_scaled_predictions = get_users_predictions(user, 10, cf_scaled_model, train_long)\n",
    "    recs.append(cf_scaled_predictions)\n",
    "        \n",
    "test['cf_scaled_predictions'] = recs\n",
    "test.head()"
   ]
  },
  {
   "cell_type": "code",
   "execution_count": 85,
   "metadata": {},
   "outputs": [],
   "source": [
    "cf_scaled_predictions = test.cf_scaled_predictions.values.tolist()"
   ]
  },
  {
   "cell_type": "code",
   "execution_count": null,
   "metadata": {},
   "outputs": [],
   "source": []
  },
  {
   "cell_type": "code",
   "execution_count": null,
   "metadata": {},
   "outputs": [],
   "source": []
  },
  {
   "cell_type": "code",
   "execution_count": null,
   "metadata": {},
   "outputs": [],
   "source": []
  },
  {
   "cell_type": "code",
   "execution_count": null,
   "metadata": {},
   "outputs": [],
   "source": [
    "# idea\n",
    "To simuate and prove pop bias in mar@k and map@k\n",
    "1. train one CF on movielnese pop data,  all movies with volume over 1000\n",
    "\n",
    "2. and anotehr on downsampled movielense data with ewual volume of all movies. \n",
    "all movies with volume over 1000 and downsaple volume of every movie to 1000 \n",
    "\n",
    "Show coverage of each model\n",
    "\n",
    "Show mar@k and map@k. Item level p and r. coverage. \n",
    "volume dist of recs from each model. "
   ]
  }
 ],
 "metadata": {
  "kernelspec": {
   "display_name": "recommender_metrics",
   "language": "python",
   "name": "recommender_metrics"
  },
  "language_info": {
   "codemirror_mode": {
    "name": "ipython",
    "version": 2
   },
   "file_extension": ".py",
   "mimetype": "text/x-python",
   "name": "python",
   "nbconvert_exporter": "python",
   "pygments_lexer": "ipython2",
   "version": "2.7.15"
  },
  "toc": {
   "colors": {
    "hover_highlight": "#DAA520",
    "navigate_num": "#000000",
    "navigate_text": "#333333",
    "running_highlight": "#FF0000",
    "selected_highlight": "#FFD700",
    "sidebar_border": "#EEEEEE",
    "wrapper_background": "#FFFFFF"
   },
   "moveMenuLeft": true,
   "nav_menu": {
    "height": "171px",
    "width": "252px"
   },
   "navigate_menu": true,
   "number_sections": true,
   "sideBar": true,
   "skip_h1_title": false,
   "threshold": 4,
   "toc_cell": false,
   "toc_section_display": "block",
   "toc_window_display": false,
   "widenNotebook": false
  }
 },
 "nbformat": 4,
 "nbformat_minor": 2
}
