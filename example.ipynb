{
 "cells": [
  {
   "cell_type": "code",
   "execution_count": 7,
   "metadata": {},
   "outputs": [],
   "source": [
    "import pandas as pd\n",
    "import numpy as np\n",
    "import recmetrics\n",
    "import matplotlib.pyplot as plt\n",
    "from surprise import Reader, SVD, Dataset\n",
    "from surprise.model_selection import train_test_split"
   ]
  },
  {
   "cell_type": "markdown",
   "metadata": {},
   "source": [
    "# MovieLense Dataset\n",
    "Using the MovieLens 20M Dataset dataset for examples. You can download this data here: https://grouplens.org/datasets/movielens/20m/"
   ]
  },
  {
   "cell_type": "code",
   "execution_count": 8,
   "metadata": {},
   "outputs": [],
   "source": [
    "ratings = pd.read_csv('../movie_similarity_flask_api/data/ml-20m/ratings.csv')\n",
    "ratings = ratings.query('rating >=3')\n",
    "ratings.reset_index(drop=True, inplace=True)"
   ]
  },
  {
   "cell_type": "code",
   "execution_count": 9,
   "metadata": {},
   "outputs": [],
   "source": [
    "#only consider ratings from users who have rated over n movies\n",
    "n=1000\n",
    "users = ratings.userId.value_counts()\n",
    "users = users[users>n].index.tolist()"
   ]
  },
  {
   "cell_type": "code",
   "execution_count": 10,
   "metadata": {},
   "outputs": [
    {
     "name": "stdout",
     "output_type": "stream",
     "text": [
      "(1317902, 4)\n"
     ]
    },
    {
     "data": {
      "text/html": [
       "<div>\n",
       "<style scoped>\n",
       "    .dataframe tbody tr th:only-of-type {\n",
       "        vertical-align: middle;\n",
       "    }\n",
       "\n",
       "    .dataframe tbody tr th {\n",
       "        vertical-align: top;\n",
       "    }\n",
       "\n",
       "    .dataframe thead th {\n",
       "        text-align: right;\n",
       "    }\n",
       "</style>\n",
       "<table border=\"1\" class=\"dataframe\">\n",
       "  <thead>\n",
       "    <tr style=\"text-align: right;\">\n",
       "      <th></th>\n",
       "      <th>userId</th>\n",
       "      <th>movieId</th>\n",
       "      <th>rating</th>\n",
       "      <th>timestamp</th>\n",
       "    </tr>\n",
       "  </thead>\n",
       "  <tbody>\n",
       "    <tr>\n",
       "      <th>15918</th>\n",
       "      <td>156</td>\n",
       "      <td>1</td>\n",
       "      <td>5.0</td>\n",
       "      <td>1037739266</td>\n",
       "    </tr>\n",
       "    <tr>\n",
       "      <th>15919</th>\n",
       "      <td>156</td>\n",
       "      <td>2</td>\n",
       "      <td>5.0</td>\n",
       "      <td>1040937649</td>\n",
       "    </tr>\n",
       "    <tr>\n",
       "      <th>15920</th>\n",
       "      <td>156</td>\n",
       "      <td>4</td>\n",
       "      <td>3.0</td>\n",
       "      <td>1038801803</td>\n",
       "    </tr>\n",
       "  </tbody>\n",
       "</table>\n",
       "</div>"
      ],
      "text/plain": [
       "       userId  movieId  rating   timestamp\n",
       "15918     156        1     5.0  1037739266\n",
       "15919     156        2     5.0  1040937649\n",
       "15920     156        4     3.0  1038801803"
      ]
     },
     "execution_count": 10,
     "metadata": {},
     "output_type": "execute_result"
    }
   ],
   "source": [
    "ratings = ratings.query('userId in @users')\n",
    "print ratings.shape\n",
    "ratings.head(3)"
   ]
  },
  {
   "cell_type": "code",
   "execution_count": 11,
   "metadata": {},
   "outputs": [
    {
     "data": {
      "text/html": [
       "<div>\n",
       "<style scoped>\n",
       "    .dataframe tbody tr th:only-of-type {\n",
       "        vertical-align: middle;\n",
       "    }\n",
       "\n",
       "    .dataframe tbody tr th {\n",
       "        vertical-align: top;\n",
       "    }\n",
       "\n",
       "    .dataframe thead th {\n",
       "        text-align: right;\n",
       "    }\n",
       "</style>\n",
       "<table border=\"1\" class=\"dataframe\">\n",
       "  <thead>\n",
       "    <tr style=\"text-align: right;\">\n",
       "      <th></th>\n",
       "      <th>(no genres listed)</th>\n",
       "      <th>Action</th>\n",
       "      <th>Adventure</th>\n",
       "      <th>Animation</th>\n",
       "      <th>Children</th>\n",
       "      <th>Comedy</th>\n",
       "      <th>Crime</th>\n",
       "      <th>Documentary</th>\n",
       "      <th>Drama</th>\n",
       "      <th>Fantasy</th>\n",
       "      <th>Film-Noir</th>\n",
       "      <th>Horror</th>\n",
       "      <th>IMAX</th>\n",
       "      <th>Musical</th>\n",
       "      <th>Mystery</th>\n",
       "      <th>Romance</th>\n",
       "      <th>Sci-Fi</th>\n",
       "      <th>Thriller</th>\n",
       "      <th>War</th>\n",
       "      <th>Western</th>\n",
       "    </tr>\n",
       "    <tr>\n",
       "      <th>movieId</th>\n",
       "      <th></th>\n",
       "      <th></th>\n",
       "      <th></th>\n",
       "      <th></th>\n",
       "      <th></th>\n",
       "      <th></th>\n",
       "      <th></th>\n",
       "      <th></th>\n",
       "      <th></th>\n",
       "      <th></th>\n",
       "      <th></th>\n",
       "      <th></th>\n",
       "      <th></th>\n",
       "      <th></th>\n",
       "      <th></th>\n",
       "      <th></th>\n",
       "      <th></th>\n",
       "      <th></th>\n",
       "      <th></th>\n",
       "      <th></th>\n",
       "    </tr>\n",
       "  </thead>\n",
       "  <tbody>\n",
       "    <tr>\n",
       "      <th>1</th>\n",
       "      <td>0</td>\n",
       "      <td>0</td>\n",
       "      <td>1</td>\n",
       "      <td>0</td>\n",
       "      <td>0</td>\n",
       "      <td>0</td>\n",
       "      <td>0</td>\n",
       "      <td>0</td>\n",
       "      <td>0</td>\n",
       "      <td>0</td>\n",
       "      <td>0</td>\n",
       "      <td>0</td>\n",
       "      <td>0</td>\n",
       "      <td>0</td>\n",
       "      <td>0</td>\n",
       "      <td>0</td>\n",
       "      <td>0</td>\n",
       "      <td>0</td>\n",
       "      <td>0</td>\n",
       "      <td>0</td>\n",
       "    </tr>\n",
       "    <tr>\n",
       "      <th>2</th>\n",
       "      <td>0</td>\n",
       "      <td>0</td>\n",
       "      <td>1</td>\n",
       "      <td>0</td>\n",
       "      <td>0</td>\n",
       "      <td>0</td>\n",
       "      <td>0</td>\n",
       "      <td>0</td>\n",
       "      <td>0</td>\n",
       "      <td>0</td>\n",
       "      <td>0</td>\n",
       "      <td>0</td>\n",
       "      <td>0</td>\n",
       "      <td>0</td>\n",
       "      <td>0</td>\n",
       "      <td>0</td>\n",
       "      <td>0</td>\n",
       "      <td>0</td>\n",
       "      <td>0</td>\n",
       "      <td>0</td>\n",
       "    </tr>\n",
       "    <tr>\n",
       "      <th>3</th>\n",
       "      <td>0</td>\n",
       "      <td>0</td>\n",
       "      <td>0</td>\n",
       "      <td>0</td>\n",
       "      <td>0</td>\n",
       "      <td>1</td>\n",
       "      <td>0</td>\n",
       "      <td>0</td>\n",
       "      <td>0</td>\n",
       "      <td>0</td>\n",
       "      <td>0</td>\n",
       "      <td>0</td>\n",
       "      <td>0</td>\n",
       "      <td>0</td>\n",
       "      <td>0</td>\n",
       "      <td>0</td>\n",
       "      <td>0</td>\n",
       "      <td>0</td>\n",
       "      <td>0</td>\n",
       "      <td>0</td>\n",
       "    </tr>\n",
       "    <tr>\n",
       "      <th>4</th>\n",
       "      <td>0</td>\n",
       "      <td>0</td>\n",
       "      <td>0</td>\n",
       "      <td>0</td>\n",
       "      <td>0</td>\n",
       "      <td>1</td>\n",
       "      <td>0</td>\n",
       "      <td>0</td>\n",
       "      <td>0</td>\n",
       "      <td>0</td>\n",
       "      <td>0</td>\n",
       "      <td>0</td>\n",
       "      <td>0</td>\n",
       "      <td>0</td>\n",
       "      <td>0</td>\n",
       "      <td>0</td>\n",
       "      <td>0</td>\n",
       "      <td>0</td>\n",
       "      <td>0</td>\n",
       "      <td>0</td>\n",
       "    </tr>\n",
       "    <tr>\n",
       "      <th>5</th>\n",
       "      <td>0</td>\n",
       "      <td>0</td>\n",
       "      <td>0</td>\n",
       "      <td>0</td>\n",
       "      <td>0</td>\n",
       "      <td>1</td>\n",
       "      <td>0</td>\n",
       "      <td>0</td>\n",
       "      <td>0</td>\n",
       "      <td>0</td>\n",
       "      <td>0</td>\n",
       "      <td>0</td>\n",
       "      <td>0</td>\n",
       "      <td>0</td>\n",
       "      <td>0</td>\n",
       "      <td>0</td>\n",
       "      <td>0</td>\n",
       "      <td>0</td>\n",
       "      <td>0</td>\n",
       "      <td>0</td>\n",
       "    </tr>\n",
       "  </tbody>\n",
       "</table>\n",
       "</div>"
      ],
      "text/plain": [
       "         (no genres listed)  Action  Adventure  Animation  Children  Comedy  \\\n",
       "movieId                                                                       \n",
       "1                         0       0          1          0         0       0   \n",
       "2                         0       0          1          0         0       0   \n",
       "3                         0       0          0          0         0       1   \n",
       "4                         0       0          0          0         0       1   \n",
       "5                         0       0          0          0         0       1   \n",
       "\n",
       "         Crime  Documentary  Drama  Fantasy  Film-Noir  Horror  IMAX  Musical  \\\n",
       "movieId                                                                         \n",
       "1            0            0      0        0          0       0     0        0   \n",
       "2            0            0      0        0          0       0     0        0   \n",
       "3            0            0      0        0          0       0     0        0   \n",
       "4            0            0      0        0          0       0     0        0   \n",
       "5            0            0      0        0          0       0     0        0   \n",
       "\n",
       "         Mystery  Romance  Sci-Fi  Thriller  War  Western  \n",
       "movieId                                                    \n",
       "1              0        0       0         0    0        0  \n",
       "2              0        0       0         0    0        0  \n",
       "3              0        0       0         0    0        0  \n",
       "4              0        0       0         0    0        0  \n",
       "5              0        0       0         0    0        0  "
      ]
     },
     "execution_count": 11,
     "metadata": {},
     "output_type": "execute_result"
    }
   ],
   "source": [
    "# get movie features\n",
    "\n",
    "rated_movies = ratings.movieId.tolist()\n",
    "movies = pd.read_csv('../movie_similarity_flask_api/data/ml-20m/movies.csv')\n",
    "movies = movies.query('movieId in @rated_movies')\n",
    "movies.set_index(\"movieId\", inplace=True, drop=True)\n",
    "\n",
    "movies = movies.genres.str.split(\"|\", expand=True)\n",
    "movies.reset_index(inplace=True)\n",
    "movies = pd.melt(movies, id_vars='movieId', value_vars=[0, 1, 2, 3, 4, 5, 6, 7, 8, 9])\n",
    "\n",
    "movies.drop_duplicates(\"movieId\", inplace=True)\n",
    "movies.set_index('movieId', inplace=True)\n",
    "\n",
    "movies = pd.get_dummies(movies.value)\n",
    "#movies = movies[['Action', 'Romance', 'Western', 'Comedy', 'Crime']]\n",
    "movies.head()"
   ]
  },
  {
   "cell_type": "markdown",
   "metadata": {},
   "source": [
    "## Long Tail Plot Example"
   ]
  },
  {
   "cell_type": "code",
   "execution_count": 12,
   "metadata": {},
   "outputs": [
    {
     "data": {
      "image/png": "[encoded data removed]",
      "text/plain": [
       "<Figure size 1080x504 with 1 Axes>"
      ]
     },
     "metadata": {
      "needs_background": "light"
     },
     "output_type": "display_data"
    }
   ],
   "source": [
    "import matplotlib.pyplot as plt\n",
    "\n",
    "fig = plt.figure(figsize=(15, 7))\n",
    "recmetrics.LongTailPlot(df=ratings, \n",
    "             item_id_column=\"movieId\", \n",
    "             interaction_type=\"movie ratings\", \n",
    "             percentage=0.5,\n",
    "             x_labels=False)"
   ]
  },
  {
   "cell_type": "markdown",
   "metadata": {},
   "source": [
    "# Collaborative Filter Recommender\n",
    "Creating a simple CF to demonstrate recommender metrics in action. I've implemented collaborative filtering using a SVD approach in the surprise package. The surprise package also takes care of the test train split. The collaborative filter transforms user-item interactions into latent space, and reconstructs the user-item matrix to impute ratings missing movie ratings. The predicted rating is the dot product between the user and movie vectors in latent space. "
   ]
  },
  {
   "cell_type": "code",
   "execution_count": 13,
   "metadata": {},
   "outputs": [],
   "source": [
    "#format data for surprise\n",
    "reader = Reader(rating_scale=(0, 5))\n",
    "data = Dataset.load_from_df(ratings[['userId', 'movieId', 'rating']], reader)\n",
    "trainset, testset = train_test_split(data, test_size=0.25)"
   ]
  },
  {
   "cell_type": "code",
   "execution_count": 14,
   "metadata": {},
   "outputs": [
    {
     "data": {
      "text/plain": [
       "<surprise.prediction_algorithms.matrix_factorization.SVD at 0x114ea1150>"
      ]
     },
     "execution_count": 14,
     "metadata": {},
     "output_type": "execute_result"
    }
   ],
   "source": [
    "#train SVD recommender \n",
    "algo = SVD()\n",
    "algo.fit(trainset)"
   ]
  },
  {
   "cell_type": "code",
   "execution_count": 15,
   "metadata": {},
   "outputs": [
    {
     "data": {
      "text/html": [
       "<div>\n",
       "<style scoped>\n",
       "    .dataframe tbody tr th:only-of-type {\n",
       "        vertical-align: middle;\n",
       "    }\n",
       "\n",
       "    .dataframe tbody tr th {\n",
       "        vertical-align: top;\n",
       "    }\n",
       "\n",
       "    .dataframe thead th {\n",
       "        text-align: right;\n",
       "    }\n",
       "</style>\n",
       "<table border=\"1\" class=\"dataframe\">\n",
       "  <thead>\n",
       "    <tr style=\"text-align: right;\">\n",
       "      <th></th>\n",
       "      <th>userId</th>\n",
       "      <th>movieId</th>\n",
       "      <th>actual</th>\n",
       "      <th>cf_predictions</th>\n",
       "    </tr>\n",
       "  </thead>\n",
       "  <tbody>\n",
       "    <tr>\n",
       "      <th>0</th>\n",
       "      <td>131904</td>\n",
       "      <td>96811</td>\n",
       "      <td>3.0</td>\n",
       "      <td>3.529538</td>\n",
       "    </tr>\n",
       "    <tr>\n",
       "      <th>1</th>\n",
       "      <td>65919</td>\n",
       "      <td>523</td>\n",
       "      <td>4.0</td>\n",
       "      <td>3.564024</td>\n",
       "    </tr>\n",
       "    <tr>\n",
       "      <th>2</th>\n",
       "      <td>117054</td>\n",
       "      <td>3441</td>\n",
       "      <td>3.0</td>\n",
       "      <td>3.474852</td>\n",
       "    </tr>\n",
       "    <tr>\n",
       "      <th>3</th>\n",
       "      <td>51995</td>\n",
       "      <td>49272</td>\n",
       "      <td>3.5</td>\n",
       "      <td>4.392490</td>\n",
       "    </tr>\n",
       "    <tr>\n",
       "      <th>4</th>\n",
       "      <td>982</td>\n",
       "      <td>3635</td>\n",
       "      <td>3.0</td>\n",
       "      <td>3.238261</td>\n",
       "    </tr>\n",
       "  </tbody>\n",
       "</table>\n",
       "</div>"
      ],
      "text/plain": [
       "   userId  movieId  actual  cf_predictions\n",
       "0  131904    96811     3.0        3.529538\n",
       "1   65919      523     4.0        3.564024\n",
       "2  117054     3441     3.0        3.474852\n",
       "3   51995    49272     3.5        4.392490\n",
       "4     982     3635     3.0        3.238261"
      ]
     },
     "execution_count": 15,
     "metadata": {},
     "output_type": "execute_result"
    }
   ],
   "source": [
    "#make predictions on test set. \n",
    "test = algo.test(testset)\n",
    "test = pd.DataFrame(test)\n",
    "test.drop(\"details\", inplace=True, axis=1)\n",
    "test.columns = ['userId', 'movieId', 'actual', 'cf_predictions']\n",
    "test.head()"
   ]
  },
  {
   "cell_type": "code",
   "execution_count": 16,
   "metadata": {},
   "outputs": [
    {
     "name": "stdout",
     "output_type": "stream",
     "text": [
      "0.26675325067103167\n",
      "0.516481607292\n"
     ]
    }
   ],
   "source": [
    "#evaluate model with MSE and RMSE\n",
    "print recmetrics.mse(test.actual, test.cf_predictions)\n",
    "print recmetrics.rmse(test.actual, test.cf_predictions)"
   ]
  },
  {
   "cell_type": "code",
   "execution_count": 17,
   "metadata": {},
   "outputs": [],
   "source": [
    "#create model (matrix of predicted values)\n",
    "cf_model = test.pivot_table(index='userId', columns='movieId', values='cf_predictions').fillna(0)"
   ]
  },
  {
   "cell_type": "code",
   "execution_count": 18,
   "metadata": {},
   "outputs": [],
   "source": [
    "def get_users_predictions(user_id, n, model):\n",
    "    recommended_items = pd.DataFrame(model.loc[user_id])\n",
    "    recommended_items.columns = [\"predicted_rating\"]\n",
    "    recommended_items = recommended_items.sort_values('predicted_rating', ascending=False)    \n",
    "    recommended_items = recommended_items.head(n)\n",
    "    return recommended_items.index.tolist()"
   ]
  },
  {
   "cell_type": "code",
   "execution_count": 19,
   "metadata": {},
   "outputs": [
    {
     "data": {
      "text/plain": [
       "[2028, 1291, 589, 457, 47, 1954, 858, 4886, 2918, 2716]"
      ]
     },
     "execution_count": 19,
     "metadata": {},
     "output_type": "execute_result"
    }
   ],
   "source": [
    "#get example prediction\n",
    "get_users_predictions(156, 10, cf_model)"
   ]
  },
  {
   "cell_type": "code",
   "execution_count": 20,
   "metadata": {},
   "outputs": [
    {
     "name": "stderr",
     "output_type": "stream",
     "text": [
      "/Users/clairelongo/Documents/Work/prof_dev/recmetrics/venv/lib/python2.7/site-packages/ipykernel_launcher.py:2: FutureWarning: using a dict on a Series for aggregation\n",
      "is deprecated and will be removed in a future version\n",
      "  \n"
     ]
    },
    {
     "data": {
      "text/html": [
       "<div>\n",
       "<style scoped>\n",
       "    .dataframe tbody tr th:only-of-type {\n",
       "        vertical-align: middle;\n",
       "    }\n",
       "\n",
       "    .dataframe tbody tr th {\n",
       "        vertical-align: top;\n",
       "    }\n",
       "\n",
       "    .dataframe thead th {\n",
       "        text-align: right;\n",
       "    }\n",
       "</style>\n",
       "<table border=\"1\" class=\"dataframe\">\n",
       "  <thead>\n",
       "    <tr style=\"text-align: right;\">\n",
       "      <th></th>\n",
       "      <th>actual</th>\n",
       "      <th>cf_predictions</th>\n",
       "    </tr>\n",
       "    <tr>\n",
       "      <th>userId</th>\n",
       "      <th></th>\n",
       "      <th></th>\n",
       "    </tr>\n",
       "  </thead>\n",
       "  <tbody>\n",
       "    <tr>\n",
       "      <th>156</th>\n",
       "      <td>[4, 5, 4102, 2058, 2067, 20, 4117, 2071, 2073,...</td>\n",
       "      <td>[2028, 1291, 589, 457, 47, 1954, 858, 4886, 29...</td>\n",
       "    </tr>\n",
       "    <tr>\n",
       "      <th>208</th>\n",
       "      <td>[3072, 1537, 89090, 83976, 2732, 11, 81932, 93...</td>\n",
       "      <td>[2019, 6896, 527, 1178, 3089, 1230, 1193, 1256...</td>\n",
       "    </tr>\n",
       "    <tr>\n",
       "      <th>359</th>\n",
       "      <td>[1537, 33794, 5635, 37382, 1544, 3081, 1546, 2...</td>\n",
       "      <td>[593, 2571, 1148, 7153, 899, 1200, 2028, 5782,...</td>\n",
       "    </tr>\n",
       "    <tr>\n",
       "      <th>394</th>\n",
       "      <td>[1537, 2987, 1028, 6230, 2054, 3461, 1546, 103...</td>\n",
       "      <td>[923, 858, 1217, 1260, 908, 1267, 26131, 1213,...</td>\n",
       "    </tr>\n",
       "    <tr>\n",
       "      <th>572</th>\n",
       "      <td>[2561, 69122, 4011, 48520, 5125, 2054, 69640, ...</td>\n",
       "      <td>[50, 3147, 4226, 64614, 1193, 99114, 68157, 49...</td>\n",
       "    </tr>\n",
       "  </tbody>\n",
       "</table>\n",
       "</div>"
      ],
      "text/plain": [
       "                                                   actual  \\\n",
       "userId                                                      \n",
       "156     [4, 5, 4102, 2058, 2067, 20, 4117, 2071, 2073,...   \n",
       "208     [3072, 1537, 89090, 83976, 2732, 11, 81932, 93...   \n",
       "359     [1537, 33794, 5635, 37382, 1544, 3081, 1546, 2...   \n",
       "394     [1537, 2987, 1028, 6230, 2054, 3461, 1546, 103...   \n",
       "572     [2561, 69122, 4011, 48520, 5125, 2054, 69640, ...   \n",
       "\n",
       "                                           cf_predictions  \n",
       "userId                                                     \n",
       "156     [2028, 1291, 589, 457, 47, 1954, 858, 4886, 29...  \n",
       "208     [2019, 6896, 527, 1178, 3089, 1230, 1193, 1256...  \n",
       "359     [593, 2571, 1148, 7153, 899, 1200, 2028, 5782,...  \n",
       "394     [923, 858, 1217, 1260, 908, 1267, 26131, 1213,...  \n",
       "572     [50, 3147, 4226, 64614, 1193, 99114, 68157, 49...  "
      ]
     },
     "execution_count": 20,
     "metadata": {},
     "output_type": "execute_result"
    }
   ],
   "source": [
    "#format test data\n",
    "test = test.copy().groupby('userId')['movieId'].agg({'actual': (lambda x: list(set(x)))})\n",
    "#make recommendations for all members in the test data\n",
    "recs = []\n",
    "for user in test.index:\n",
    "    cf_predictions = get_users_predictions(user, 10, cf_model)\n",
    "    recs.append(cf_predictions)\n",
    "        \n",
    "test['cf_predictions'] = recs\n",
    "test.head()"
   ]
  },
  {
   "cell_type": "markdown",
   "metadata": {},
   "source": [
    "# Popularity Recommender\n",
    "Creating a simple popularity recommender to demonstrate recommender metrics in action. The popularity recommender simply recommends the top 10 movies to every user."
   ]
  },
  {
   "cell_type": "code",
   "execution_count": 21,
   "metadata": {},
   "outputs": [
    {
     "data": {
      "text/html": [
       "<div>\n",
       "<style scoped>\n",
       "    .dataframe tbody tr th:only-of-type {\n",
       "        vertical-align: middle;\n",
       "    }\n",
       "\n",
       "    .dataframe tbody tr th {\n",
       "        vertical-align: top;\n",
       "    }\n",
       "\n",
       "    .dataframe thead th {\n",
       "        text-align: right;\n",
       "    }\n",
       "</style>\n",
       "<table border=\"1\" class=\"dataframe\">\n",
       "  <thead>\n",
       "    <tr style=\"text-align: right;\">\n",
       "      <th></th>\n",
       "      <th>actual</th>\n",
       "      <th>cf_predictions</th>\n",
       "      <th>pop_predictions</th>\n",
       "    </tr>\n",
       "    <tr>\n",
       "      <th>userId</th>\n",
       "      <th></th>\n",
       "      <th></th>\n",
       "      <th></th>\n",
       "    </tr>\n",
       "  </thead>\n",
       "  <tbody>\n",
       "    <tr>\n",
       "      <th>156</th>\n",
       "      <td>[4, 5, 4102, 2058, 2067, 20, 4117, 2071, 2073,...</td>\n",
       "      <td>[2028, 1291, 589, 457, 47, 1954, 858, 4886, 29...</td>\n",
       "      <td>[1198, 1270, 593, 2762, 318, 2571, 260, 1240, ...</td>\n",
       "    </tr>\n",
       "    <tr>\n",
       "      <th>208</th>\n",
       "      <td>[3072, 1537, 89090, 83976, 2732, 11, 81932, 93...</td>\n",
       "      <td>[2019, 6896, 527, 1178, 3089, 1230, 1193, 1256...</td>\n",
       "      <td>[1198, 1270, 593, 2762, 318, 2571, 260, 1240, ...</td>\n",
       "    </tr>\n",
       "    <tr>\n",
       "      <th>359</th>\n",
       "      <td>[1537, 33794, 5635, 37382, 1544, 3081, 1546, 2...</td>\n",
       "      <td>[593, 2571, 1148, 7153, 899, 1200, 2028, 5782,...</td>\n",
       "      <td>[1198, 1270, 593, 2762, 318, 2571, 260, 1240, ...</td>\n",
       "    </tr>\n",
       "    <tr>\n",
       "      <th>394</th>\n",
       "      <td>[1537, 2987, 1028, 6230, 2054, 3461, 1546, 103...</td>\n",
       "      <td>[923, 858, 1217, 1260, 908, 1267, 26131, 1213,...</td>\n",
       "      <td>[1198, 1270, 593, 2762, 318, 2571, 260, 1240, ...</td>\n",
       "    </tr>\n",
       "    <tr>\n",
       "      <th>572</th>\n",
       "      <td>[2561, 69122, 4011, 48520, 5125, 2054, 69640, ...</td>\n",
       "      <td>[50, 3147, 4226, 64614, 1193, 99114, 68157, 49...</td>\n",
       "      <td>[1198, 1270, 593, 2762, 318, 2571, 260, 1240, ...</td>\n",
       "    </tr>\n",
       "  </tbody>\n",
       "</table>\n",
       "</div>"
      ],
      "text/plain": [
       "                                                   actual  \\\n",
       "userId                                                      \n",
       "156     [4, 5, 4102, 2058, 2067, 20, 4117, 2071, 2073,...   \n",
       "208     [3072, 1537, 89090, 83976, 2732, 11, 81932, 93...   \n",
       "359     [1537, 33794, 5635, 37382, 1544, 3081, 1546, 2...   \n",
       "394     [1537, 2987, 1028, 6230, 2054, 3461, 1546, 103...   \n",
       "572     [2561, 69122, 4011, 48520, 5125, 2054, 69640, ...   \n",
       "\n",
       "                                           cf_predictions  \\\n",
       "userId                                                      \n",
       "156     [2028, 1291, 589, 457, 47, 1954, 858, 4886, 29...   \n",
       "208     [2019, 6896, 527, 1178, 3089, 1230, 1193, 1256...   \n",
       "359     [593, 2571, 1148, 7153, 899, 1200, 2028, 5782,...   \n",
       "394     [923, 858, 1217, 1260, 908, 1267, 26131, 1213,...   \n",
       "572     [50, 3147, 4226, 64614, 1193, 99114, 68157, 49...   \n",
       "\n",
       "                                          pop_predictions  \n",
       "userId                                                     \n",
       "156     [1198, 1270, 593, 2762, 318, 2571, 260, 1240, ...  \n",
       "208     [1198, 1270, 593, 2762, 318, 2571, 260, 1240, ...  \n",
       "359     [1198, 1270, 593, 2762, 318, 2571, 260, 1240, ...  \n",
       "394     [1198, 1270, 593, 2762, 318, 2571, 260, 1240, ...  \n",
       "572     [1198, 1270, 593, 2762, 318, 2571, 260, 1240, ...  "
      ]
     },
     "execution_count": 21,
     "metadata": {},
     "output_type": "execute_result"
    }
   ],
   "source": [
    "#make recommendations for all members in the test data\n",
    "popularity_recs = ratings.movieId.value_counts().head(10).index.tolist()\n",
    "\n",
    "recs = []\n",
    "for user in test.index:\n",
    "    pop_predictions = popularity_recs\n",
    "    recs.append(pop_predictions)\n",
    "        \n",
    "test['pop_predictions'] = recs\n",
    "test.head()"
   ]
  },
  {
   "cell_type": "markdown",
   "metadata": {},
   "source": [
    "# Random Recommender\n",
    "Creating a simple random recommender to demonstrate recommender metrics in action. The random recommender simply recommends 10 random movies to every user."
   ]
  },
  {
   "cell_type": "code",
   "execution_count": 22,
   "metadata": {},
   "outputs": [
    {
     "data": {
      "text/html": [
       "<div>\n",
       "<style scoped>\n",
       "    .dataframe tbody tr th:only-of-type {\n",
       "        vertical-align: middle;\n",
       "    }\n",
       "\n",
       "    .dataframe tbody tr th {\n",
       "        vertical-align: top;\n",
       "    }\n",
       "\n",
       "    .dataframe thead th {\n",
       "        text-align: right;\n",
       "    }\n",
       "</style>\n",
       "<table border=\"1\" class=\"dataframe\">\n",
       "  <thead>\n",
       "    <tr style=\"text-align: right;\">\n",
       "      <th></th>\n",
       "      <th>actual</th>\n",
       "      <th>cf_predictions</th>\n",
       "      <th>pop_predictions</th>\n",
       "      <th>random_predictions</th>\n",
       "    </tr>\n",
       "    <tr>\n",
       "      <th>userId</th>\n",
       "      <th></th>\n",
       "      <th></th>\n",
       "      <th></th>\n",
       "      <th></th>\n",
       "    </tr>\n",
       "  </thead>\n",
       "  <tbody>\n",
       "    <tr>\n",
       "      <th>156</th>\n",
       "      <td>[4, 5, 4102, 2058, 2067, 20, 4117, 2071, 2073,...</td>\n",
       "      <td>[2028, 1291, 589, 457, 47, 1954, 858, 4886, 29...</td>\n",
       "      <td>[1198, 1270, 593, 2762, 318, 2571, 260, 1240, ...</td>\n",
       "      <td>[25769, 55553, 4040, 8961, 1252, 5963, 4496, 5...</td>\n",
       "    </tr>\n",
       "    <tr>\n",
       "      <th>208</th>\n",
       "      <td>[3072, 1537, 89090, 83976, 2732, 11, 81932, 93...</td>\n",
       "      <td>[2019, 6896, 527, 1178, 3089, 1230, 1193, 1256...</td>\n",
       "      <td>[1198, 1270, 593, 2762, 318, 2571, 260, 1240, ...</td>\n",
       "      <td>[4784, 72407, 53468, 27773, 5036, 553, 1147, 6...</td>\n",
       "    </tr>\n",
       "    <tr>\n",
       "      <th>359</th>\n",
       "      <td>[1537, 33794, 5635, 37382, 1544, 3081, 1546, 2...</td>\n",
       "      <td>[593, 2571, 1148, 7153, 899, 1200, 2028, 5782,...</td>\n",
       "      <td>[1198, 1270, 593, 2762, 318, 2571, 260, 1240, ...</td>\n",
       "      <td>[2671, 914, 4885, 3394, 747, 553, 41566, 3469,...</td>\n",
       "    </tr>\n",
       "    <tr>\n",
       "      <th>394</th>\n",
       "      <td>[1537, 2987, 1028, 6230, 2054, 3461, 1546, 103...</td>\n",
       "      <td>[923, 858, 1217, 1260, 908, 1267, 26131, 1213,...</td>\n",
       "      <td>[1198, 1270, 593, 2762, 318, 2571, 260, 1240, ...</td>\n",
       "      <td>[33679, 3997, 1299, 56171, 116397, 2533, 2321,...</td>\n",
       "    </tr>\n",
       "    <tr>\n",
       "      <th>572</th>\n",
       "      <td>[2561, 69122, 4011, 48520, 5125, 2054, 69640, ...</td>\n",
       "      <td>[50, 3147, 4226, 64614, 1193, 99114, 68157, 49...</td>\n",
       "      <td>[1198, 1270, 593, 2762, 318, 2571, 260, 1240, ...</td>\n",
       "      <td>[38061, 434, 2991, 3448, 3510, 3981, 4128, 250...</td>\n",
       "    </tr>\n",
       "  </tbody>\n",
       "</table>\n",
       "</div>"
      ],
      "text/plain": [
       "                                                   actual  \\\n",
       "userId                                                      \n",
       "156     [4, 5, 4102, 2058, 2067, 20, 4117, 2071, 2073,...   \n",
       "208     [3072, 1537, 89090, 83976, 2732, 11, 81932, 93...   \n",
       "359     [1537, 33794, 5635, 37382, 1544, 3081, 1546, 2...   \n",
       "394     [1537, 2987, 1028, 6230, 2054, 3461, 1546, 103...   \n",
       "572     [2561, 69122, 4011, 48520, 5125, 2054, 69640, ...   \n",
       "\n",
       "                                           cf_predictions  \\\n",
       "userId                                                      \n",
       "156     [2028, 1291, 589, 457, 47, 1954, 858, 4886, 29...   \n",
       "208     [2019, 6896, 527, 1178, 3089, 1230, 1193, 1256...   \n",
       "359     [593, 2571, 1148, 7153, 899, 1200, 2028, 5782,...   \n",
       "394     [923, 858, 1217, 1260, 908, 1267, 26131, 1213,...   \n",
       "572     [50, 3147, 4226, 64614, 1193, 99114, 68157, 49...   \n",
       "\n",
       "                                          pop_predictions  \\\n",
       "userId                                                      \n",
       "156     [1198, 1270, 593, 2762, 318, 2571, 260, 1240, ...   \n",
       "208     [1198, 1270, 593, 2762, 318, 2571, 260, 1240, ...   \n",
       "359     [1198, 1270, 593, 2762, 318, 2571, 260, 1240, ...   \n",
       "394     [1198, 1270, 593, 2762, 318, 2571, 260, 1240, ...   \n",
       "572     [1198, 1270, 593, 2762, 318, 2571, 260, 1240, ...   \n",
       "\n",
       "                                       random_predictions  \n",
       "userId                                                     \n",
       "156     [25769, 55553, 4040, 8961, 1252, 5963, 4496, 5...  \n",
       "208     [4784, 72407, 53468, 27773, 5036, 553, 1147, 6...  \n",
       "359     [2671, 914, 4885, 3394, 747, 553, 41566, 3469,...  \n",
       "394     [33679, 3997, 1299, 56171, 116397, 2533, 2321,...  \n",
       "572     [38061, 434, 2991, 3448, 3510, 3981, 4128, 250...  "
      ]
     },
     "execution_count": 22,
     "metadata": {},
     "output_type": "execute_result"
    }
   ],
   "source": [
    "#make recommendations for all members in the test data\n",
    "\n",
    "recs = []\n",
    "for user in test.index:\n",
    "    random_predictions = ratings.movieId.sample(10).values.tolist()\n",
    "    recs.append(random_predictions)\n",
    "        \n",
    "test['random_predictions'] = recs\n",
    "test.head()"
   ]
  },
  {
   "cell_type": "markdown",
   "metadata": {},
   "source": [
    "# Recall"
   ]
  },
  {
   "cell_type": "code",
   "execution_count": 23,
   "metadata": {},
   "outputs": [],
   "source": [
    "actual = test.actual.values.tolist()\n",
    "cf_predictions = test.cf_predictions.values.tolist()\n",
    "pop_predictions = test.pop_predictions.values.tolist()\n",
    "random_predictions = test.random_predictions.values.tolist()"
   ]
  },
  {
   "cell_type": "code",
   "execution_count": 24,
   "metadata": {},
   "outputs": [
    {
     "data": {
      "text/plain": [
       "[0.0007115043261448315,\n",
       " 0.0011813196632255113,\n",
       " 0.0015596245566349804,\n",
       " 0.0018971549724899775,\n",
       " 0.0021888767608767485,\n",
       " 0.002431404800389665,\n",
       " 0.0026661641285071406,\n",
       " 0.002911371762311861,\n",
       " 0.0031362016163547207,\n",
       " 0.0033645291292464887]"
      ]
     },
     "execution_count": 24,
     "metadata": {},
     "output_type": "execute_result"
    }
   ],
   "source": [
    "pop_mark = []\n",
    "for K in np.arange(1, 11):\n",
    "    pop_mark.extend([recmetrics.mark(actual, pop_predictions, k=K)])\n",
    "pop_mark"
   ]
  },
  {
   "cell_type": "code",
   "execution_count": 25,
   "metadata": {},
   "outputs": [
    {
     "data": {
      "text/plain": [
       "[0.00026834903548434466,\n",
       " 0.00039590676001214335,\n",
       " 0.0004912922671089597,\n",
       " 0.0005711520923453073,\n",
       " 0.0006429117744289767,\n",
       " 0.000688511958634699,\n",
       " 0.0007438254860839299,\n",
       " 0.0007927883963338959,\n",
       " 0.0008381165667668639,\n",
       " 0.0008707169372023664]"
      ]
     },
     "execution_count": 25,
     "metadata": {},
     "output_type": "execute_result"
    }
   ],
   "source": [
    "random_mark = []\n",
    "for K in np.arange(1, 11):\n",
    "    random_mark.extend([recmetrics.mark(actual, random_predictions, k=K)])\n",
    "random_mark"
   ]
  },
  {
   "cell_type": "code",
   "execution_count": 26,
   "metadata": {},
   "outputs": [
    {
     "data": {
      "text/plain": [
       "[0.003075930658968026,\n",
       " 0.006151861317936052,\n",
       " 0.009227791976904078,\n",
       " 0.012303722635872105,\n",
       " 0.015379653294840128,\n",
       " 0.018455583953808155,\n",
       " 0.021531514612776175,\n",
       " 0.02460744527174421,\n",
       " 0.027683375930712233,\n",
       " 0.030759306589680256]"
      ]
     },
     "execution_count": 26,
     "metadata": {},
     "output_type": "execute_result"
    }
   ],
   "source": [
    "cf_mark = []\n",
    "for K in np.arange(1, 11):\n",
    "    cf_mark.extend([recmetrics.mark(actual, cf_predictions, k=K)])\n",
    "cf_mark"
   ]
  },
  {
   "cell_type": "markdown",
   "metadata": {},
   "source": [
    "# Mark Plot"
   ]
  },
  {
   "cell_type": "code",
   "execution_count": 27,
   "metadata": {},
   "outputs": [
    {
     "data": {
      "image/png": "[encoded data removed]",
      "text/plain": [
       "<Figure size 1080x504 with 1 Axes>"
      ]
     },
     "metadata": {
      "needs_background": "light"
     },
     "output_type": "display_data"
    }
   ],
   "source": [
    "mark_scores = [random_mark, pop_mark, cf_mark]\n",
    "index = range(1,10+1)\n",
    "names = ['Random Recommender', 'Popularity Recommender', 'Collaborative Filter']\n",
    "\n",
    "fig = plt.figure(figsize=(15, 7))\n",
    "recmetrics.MarkPlot(mark_scores, model_names=names, k_range=index)"
   ]
  },
  {
   "cell_type": "markdown",
   "metadata": {},
   "source": [
    "# Coverage"
   ]
  },
  {
   "cell_type": "code",
   "execution_count": 28,
   "metadata": {},
   "outputs": [],
   "source": [
    "catalog = ratings.movieId.unique().tolist()\n",
    "random_coverage = recmetrics.coverage(random_predictions, catalog)\n",
    "pop_coverage = recmetrics.coverage(pop_predictions, catalog)\n",
    "cf_coverage = recmetrics.coverage(cf_predictions, catalog)"
   ]
  },
  {
   "cell_type": "markdown",
   "metadata": {},
   "source": [
    "# Coverage Plot"
   ]
  },
  {
   "cell_type": "code",
   "execution_count": 29,
   "metadata": {},
   "outputs": [
    {
     "data": {
      "image/png": "[encoded data removed]",
      "text/plain": [
       "<Figure size 504x360 with 1 Axes>"
      ]
     },
     "metadata": {
      "needs_background": "light"
     },
     "output_type": "display_data"
    }
   ],
   "source": [
    "coverage_scores = [random_coverage, pop_coverage, cf_coverage]\n",
    "model_names = ['Random Recommender', 'Popularity Recommender', 'Collaborative Filter']\n",
    "\n",
    "fig = plt.figure(figsize=(7, 5))\n",
    "recmetrics.CoveragePlot(coverage_scores, model_names)"
   ]
  },
  {
   "cell_type": "markdown",
   "metadata": {},
   "source": [
    "# Personalization"
   ]
  },
  {
   "cell_type": "code",
   "execution_count": 30,
   "metadata": {},
   "outputs": [],
   "source": [
    "example_predictions = [\n",
    "    ['1', '2', 'C', 'D'],\n",
    "    ['4', '3', 'm', 'X'],\n",
    "    ['7', 'B', 't', 'X']\n",
    "]"
   ]
  },
  {
   "cell_type": "code",
   "execution_count": 31,
   "metadata": {},
   "outputs": [
    {
     "data": {
      "text/plain": [
       "0.9166666666666666"
      ]
     },
     "execution_count": 31,
     "metadata": {},
     "output_type": "execute_result"
    }
   ],
   "source": [
    "recmetrics.personalization(predicted=example_predictions)"
   ]
  },
  {
   "cell_type": "markdown",
   "metadata": {},
   "source": [
    "# Intra-list Similarity"
   ]
  },
  {
   "cell_type": "code",
   "execution_count": 32,
   "metadata": {},
   "outputs": [],
   "source": [
    "example_predictions = [\n",
    "    [3, 7, 5, 9],\n",
    "    [9, 6, 12, 623],\n",
    "    [7, 894, 6, 623]\n",
    "]"
   ]
  },
  {
   "cell_type": "code",
   "execution_count": 33,
   "metadata": {},
   "outputs": [],
   "source": [
    "feature_df = movies[['Action', 'Comedy', 'Romance']]"
   ]
  },
  {
   "cell_type": "code",
   "execution_count": 34,
   "metadata": {},
   "outputs": [
    {
     "data": {
      "text/plain": [
       "0.27777777777777773"
      ]
     },
     "execution_count": 34,
     "metadata": {},
     "output_type": "execute_result"
    }
   ],
   "source": [
    "recmetrics.intra_list_similarity(example_predictions, feature_df)"
   ]
  },
  {
   "cell_type": "markdown",
   "metadata": {},
   "source": [
    "# Classification Probability Plot"
   ]
  },
  {
   "cell_type": "code",
   "execution_count": 35,
   "metadata": {},
   "outputs": [
    {
     "data": {
      "text/html": [
       "<div>\n",
       "<style scoped>\n",
       "    .dataframe tbody tr th:only-of-type {\n",
       "        vertical-align: middle;\n",
       "    }\n",
       "\n",
       "    .dataframe tbody tr th {\n",
       "        vertical-align: top;\n",
       "    }\n",
       "\n",
       "    .dataframe thead th {\n",
       "        text-align: right;\n",
       "    }\n",
       "</style>\n",
       "<table border=\"1\" class=\"dataframe\">\n",
       "  <thead>\n",
       "    <tr style=\"text-align: right;\">\n",
       "      <th></th>\n",
       "      <th>probability</th>\n",
       "      <th>truth</th>\n",
       "    </tr>\n",
       "  </thead>\n",
       "  <tbody>\n",
       "    <tr>\n",
       "      <th>0</th>\n",
       "      <td>0.770020</td>\n",
       "      <td>1.0</td>\n",
       "    </tr>\n",
       "    <tr>\n",
       "      <th>1</th>\n",
       "      <td>0.739513</td>\n",
       "      <td>1.0</td>\n",
       "    </tr>\n",
       "    <tr>\n",
       "      <th>2</th>\n",
       "      <td>0.697432</td>\n",
       "      <td>1.0</td>\n",
       "    </tr>\n",
       "    <tr>\n",
       "      <th>3</th>\n",
       "      <td>0.651279</td>\n",
       "      <td>1.0</td>\n",
       "    </tr>\n",
       "    <tr>\n",
       "      <th>4</th>\n",
       "      <td>0.851955</td>\n",
       "      <td>1.0</td>\n",
       "    </tr>\n",
       "  </tbody>\n",
       "</table>\n",
       "</div>"
      ],
      "text/plain": [
       "   probability  truth\n",
       "0     0.770020    1.0\n",
       "1     0.739513    1.0\n",
       "2     0.697432    1.0\n",
       "3     0.651279    1.0\n",
       "4     0.851955    1.0"
      ]
     },
     "execution_count": 35,
     "metadata": {},
     "output_type": "execute_result"
    }
   ],
   "source": [
    "#make fake classification probability data\n",
    "class_one_probs = np.random.normal(loc=.7, scale=0.1, size=1000)\n",
    "class_zero_probs = np.random.normal(loc=.3, scale=0.1, size=1000)\n",
    "actual = [1] * 1000\n",
    "class_zero_actual = [0] * 1000\n",
    "actual.extend(class_zero_actual)\n",
    "\n",
    "pred_df = pd.DataFrame([np.concatenate((class_one_probs, class_zero_probs), axis=None), actual]).T\n",
    "pred_df.columns = [\"probability\", \"truth\"]\n",
    "pred_df.head()"
   ]
  },
  {
   "cell_type": "code",
   "execution_count": 36,
   "metadata": {},
   "outputs": [
    {
     "data": {
      "image/png": "[encoded data removed]",
      "text/plain": [
       "<Figure size 432x288 with 1 Axes>"
      ]
     },
     "metadata": {
      "needs_background": "light"
     },
     "output_type": "display_data"
    }
   ],
   "source": [
    "recmetrics.ClassDistributionPlot(pred_df, .6)"
   ]
  },
  {
   "cell_type": "code",
   "execution_count": null,
   "metadata": {},
   "outputs": [],
   "source": []
  }
 ],
 "metadata": {
  "kernelspec": {
   "display_name": "recmetricsfixed",
   "language": "python",
   "name": "recmetricsfixed"
  },
  "language_info": {
   "codemirror_mode": {
    "name": "ipython",
    "version": 2
   },
   "file_extension": ".py",
   "mimetype": "text/x-python",
   "name": "python",
   "nbconvert_exporter": "python",
   "pygments_lexer": "ipython2",
   "version": "2.7.15"
  },
  "toc": {
   "colors": {
    "hover_highlight": "#DAA520",
    "navigate_num": "#000000",
    "navigate_text": "#333333",
    "running_highlight": "#FF0000",
    "selected_highlight": "#FFD700",
    "sidebar_border": "#EEEEEE",
    "wrapper_background": "#FFFFFF"
   },
   "moveMenuLeft": true,
   "nav_menu": {
    "height": "171px",
    "width": "252px"
   },
   "navigate_menu": true,
   "number_sections": true,
   "sideBar": true,
   "skip_h1_title": false,
   "threshold": 4,
   "toc_cell": false,
   "toc_section_display": "block",
   "toc_window_display": false,
   "widenNotebook": false
  }
 },
 "nbformat": 4,
 "nbformat_minor": 2
}
