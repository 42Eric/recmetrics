{
 "cells": [
  {
   "cell_type": "code",
   "execution_count": 1,
   "metadata": {},
   "outputs": [],
   "source": [
    "import pandas as pd\n",
    "import numpy as np\n",
    "import recmetrics\n",
    "import matplotlib.pyplot as plt\n",
    "from surprise import Reader, SVD, Dataset\n",
    "from surprise.model_selection import train_test_split\n",
    "import ml_metrics as metrics"
   ]
  },
  {
   "cell_type": "markdown",
   "metadata": {},
   "source": [
    "# MovieLense Dataset\n",
    "Using the MovieLens 20M Dataset dataset for examples. You can download this data here: https://grouplens.org/datasets/movielens/20m/"
   ]
  },
  {
   "cell_type": "code",
   "execution_count": 2,
   "metadata": {},
   "outputs": [
    {
     "name": "stdout",
     "output_type": "stream",
     "text": [
      "(20000263, 4)\n"
     ]
    },
    {
     "data": {
      "text/html": [
       "<div>\n",
       "<style scoped>\n",
       "    .dataframe tbody tr th:only-of-type {\n",
       "        vertical-align: middle;\n",
       "    }\n",
       "\n",
       "    .dataframe tbody tr th {\n",
       "        vertical-align: top;\n",
       "    }\n",
       "\n",
       "    .dataframe thead th {\n",
       "        text-align: right;\n",
       "    }\n",
       "</style>\n",
       "<table border=\"1\" class=\"dataframe\">\n",
       "  <thead>\n",
       "    <tr style=\"text-align: right;\">\n",
       "      <th></th>\n",
       "      <th>userId</th>\n",
       "      <th>movieId</th>\n",
       "      <th>rating</th>\n",
       "      <th>timestamp</th>\n",
       "    </tr>\n",
       "  </thead>\n",
       "  <tbody>\n",
       "    <tr>\n",
       "      <th>0</th>\n",
       "      <td>1</td>\n",
       "      <td>2</td>\n",
       "      <td>3.5</td>\n",
       "      <td>1112486027</td>\n",
       "    </tr>\n",
       "    <tr>\n",
       "      <th>1</th>\n",
       "      <td>1</td>\n",
       "      <td>29</td>\n",
       "      <td>3.5</td>\n",
       "      <td>1112484676</td>\n",
       "    </tr>\n",
       "    <tr>\n",
       "      <th>2</th>\n",
       "      <td>1</td>\n",
       "      <td>32</td>\n",
       "      <td>3.5</td>\n",
       "      <td>1112484819</td>\n",
       "    </tr>\n",
       "    <tr>\n",
       "      <th>3</th>\n",
       "      <td>1</td>\n",
       "      <td>47</td>\n",
       "      <td>3.5</td>\n",
       "      <td>1112484727</td>\n",
       "    </tr>\n",
       "    <tr>\n",
       "      <th>4</th>\n",
       "      <td>1</td>\n",
       "      <td>50</td>\n",
       "      <td>3.5</td>\n",
       "      <td>1112484580</td>\n",
       "    </tr>\n",
       "  </tbody>\n",
       "</table>\n",
       "</div>"
      ],
      "text/plain": [
       "   userId  movieId  rating   timestamp\n",
       "0       1        2     3.5  1112486027\n",
       "1       1       29     3.5  1112484676\n",
       "2       1       32     3.5  1112484819\n",
       "3       1       47     3.5  1112484727\n",
       "4       1       50     3.5  1112484580"
      ]
     },
     "execution_count": 2,
     "metadata": {},
     "output_type": "execute_result"
    }
   ],
   "source": [
    "ratings = pd.read_csv('data/ml-20m/ratings.csv')\n",
    "ratings.reset_index(drop=True, inplace=True)\n",
    "print ratings.shape\n",
    "ratings.head()"
   ]
  },
  {
   "cell_type": "code",
   "execution_count": 3,
   "metadata": {},
   "outputs": [],
   "source": [
    "#only consider movies rated more than n times\n",
    "n=100\n",
    "movies = ratings.movieId.value_counts()\n",
    "movies = movies[movies>n].index.tolist()\n",
    "\n",
    "#only consider ratings from users who have rated over n movies\n",
    "n=10\n",
    "users = ratings.userId.value_counts()\n",
    "users = users[users>n].index.tolist()\n",
    "\n",
    "#sample down to a few of those users just to keep the dataset small\n",
    "users = pd.Series(users).sample(100).tolist()"
   ]
  },
  {
   "cell_type": "code",
   "execution_count": 4,
   "metadata": {},
   "outputs": [],
   "source": [
    "ratings = ratings.query('userId in @users')\n",
    "ratings = ratings.query('movieId in @movies')"
   ]
  },
  {
   "cell_type": "code",
   "execution_count": 5,
   "metadata": {},
   "outputs": [
    {
     "name": "stdout",
     "output_type": "stream",
     "text": [
      "(15508, 4)\n"
     ]
    },
    {
     "data": {
      "text/html": [
       "<div>\n",
       "<style scoped>\n",
       "    .dataframe tbody tr th:only-of-type {\n",
       "        vertical-align: middle;\n",
       "    }\n",
       "\n",
       "    .dataframe tbody tr th {\n",
       "        vertical-align: top;\n",
       "    }\n",
       "\n",
       "    .dataframe thead th {\n",
       "        text-align: right;\n",
       "    }\n",
       "</style>\n",
       "<table border=\"1\" class=\"dataframe\">\n",
       "  <thead>\n",
       "    <tr style=\"text-align: right;\">\n",
       "      <th></th>\n",
       "      <th>userId</th>\n",
       "      <th>movieId</th>\n",
       "      <th>rating</th>\n",
       "      <th>timestamp</th>\n",
       "    </tr>\n",
       "  </thead>\n",
       "  <tbody>\n",
       "    <tr>\n",
       "      <th>373452</th>\n",
       "      <td>2527</td>\n",
       "      <td>6</td>\n",
       "      <td>4.0</td>\n",
       "      <td>849024076</td>\n",
       "    </tr>\n",
       "    <tr>\n",
       "      <th>373453</th>\n",
       "      <td>2527</td>\n",
       "      <td>16</td>\n",
       "      <td>3.0</td>\n",
       "      <td>849024095</td>\n",
       "    </tr>\n",
       "    <tr>\n",
       "      <th>373454</th>\n",
       "      <td>2527</td>\n",
       "      <td>21</td>\n",
       "      <td>3.0</td>\n",
       "      <td>849024153</td>\n",
       "    </tr>\n",
       "  </tbody>\n",
       "</table>\n",
       "</div>"
      ],
      "text/plain": [
       "        userId  movieId  rating  timestamp\n",
       "373452    2527        6     4.0  849024076\n",
       "373453    2527       16     3.0  849024095\n",
       "373454    2527       21     3.0  849024153"
      ]
     },
     "execution_count": 5,
     "metadata": {},
     "output_type": "execute_result"
    }
   ],
   "source": [
    "print ratings.shape\n",
    "ratings.head(3)"
   ]
  },
  {
   "cell_type": "code",
   "execution_count": 6,
   "metadata": {},
   "outputs": [
    {
     "data": {
      "text/plain": [
       "4098"
      ]
     },
     "execution_count": 6,
     "metadata": {},
     "output_type": "execute_result"
    }
   ],
   "source": [
    "ratings.movieId.nunique()"
   ]
  },
  {
   "cell_type": "code",
   "execution_count": 7,
   "metadata": {},
   "outputs": [
    {
     "data": {
      "text/plain": [
       "100"
      ]
     },
     "execution_count": 7,
     "metadata": {},
     "output_type": "execute_result"
    }
   ],
   "source": [
    "ratings.userId.nunique()"
   ]
  },
  {
   "cell_type": "code",
   "execution_count": 8,
   "metadata": {},
   "outputs": [
    {
     "data": {
      "text/plain": [
       "4.0    4039\n",
       "3.0    3228\n",
       "5.0    2202\n",
       "3.5    1676\n",
       "4.5    1272\n",
       "2.0    1073\n",
       "2.5     833\n",
       "1.0     691\n",
       "1.5     276\n",
       "0.5     218\n",
       "Name: rating, dtype: int64"
      ]
     },
     "execution_count": 8,
     "metadata": {},
     "output_type": "execute_result"
    }
   ],
   "source": [
    "ratings.rating.value_counts()"
   ]
  },
  {
   "cell_type": "code",
   "execution_count": 9,
   "metadata": {},
   "outputs": [
    {
     "name": "stdout",
     "output_type": "stream",
     "text": [
      "(3091, 4)\n"
     ]
    },
    {
     "data": {
      "text/html": [
       "<div>\n",
       "<style scoped>\n",
       "    .dataframe tbody tr th:only-of-type {\n",
       "        vertical-align: middle;\n",
       "    }\n",
       "\n",
       "    .dataframe tbody tr th {\n",
       "        vertical-align: top;\n",
       "    }\n",
       "\n",
       "    .dataframe thead th {\n",
       "        text-align: right;\n",
       "    }\n",
       "</style>\n",
       "<table border=\"1\" class=\"dataframe\">\n",
       "  <thead>\n",
       "    <tr style=\"text-align: right;\">\n",
       "      <th></th>\n",
       "      <th>userId</th>\n",
       "      <th>movieId</th>\n",
       "      <th>rating</th>\n",
       "      <th>timestamp</th>\n",
       "    </tr>\n",
       "  </thead>\n",
       "  <tbody>\n",
       "    <tr>\n",
       "      <th>373466</th>\n",
       "      <td>2527</td>\n",
       "      <td>185</td>\n",
       "      <td>2.0</td>\n",
       "      <td>849023933</td>\n",
       "    </tr>\n",
       "    <tr>\n",
       "      <th>373469</th>\n",
       "      <td>2527</td>\n",
       "      <td>235</td>\n",
       "      <td>2.0</td>\n",
       "      <td>849024076</td>\n",
       "    </tr>\n",
       "    <tr>\n",
       "      <th>373476</th>\n",
       "      <td>2527</td>\n",
       "      <td>329</td>\n",
       "      <td>2.0</td>\n",
       "      <td>849023909</td>\n",
       "    </tr>\n",
       "  </tbody>\n",
       "</table>\n",
       "</div>"
      ],
      "text/plain": [
       "        userId  movieId  rating  timestamp\n",
       "373466    2527      185     2.0  849023933\n",
       "373469    2527      235     2.0  849024076\n",
       "373476    2527      329     2.0  849023909"
      ]
     },
     "execution_count": 9,
     "metadata": {},
     "output_type": "execute_result"
    }
   ],
   "source": [
    "bad_ratings = ratings.query('rating < 3')\n",
    "print bad_ratings.shape\n",
    "bad_ratings.head(3)"
   ]
  },
  {
   "cell_type": "markdown",
   "metadata": {},
   "source": [
    "## Long Tail Plot Example"
   ]
  },
  {
   "cell_type": "code",
   "execution_count": 10,
   "metadata": {},
   "outputs": [
    {
     "data": {
      "image/png": "[encoded data removed]",
      "text/plain": [
       "<Figure size 1080x504 with 1 Axes>"
      ]
     },
     "metadata": {
      "needs_background": "light"
     },
     "output_type": "display_data"
    }
   ],
   "source": [
    "import matplotlib.pyplot as plt\n",
    "\n",
    "fig = plt.figure(figsize=(15, 7))\n",
    "recmetrics.long_tail_plot(df=ratings, \n",
    "             item_id_column=\"movieId\", \n",
    "             interaction_type=\"movie ratings\", \n",
    "             percentage=0.5,\n",
    "             x_labels=False)"
   ]
  },
  {
   "cell_type": "markdown",
   "metadata": {},
   "source": [
    "# Collaborative Filter Recommender\n",
    "Creating a simple CF to demonstrate recommender metrics in action. I've implemented collaborative filtering using a SVD approach in the surprise package. The surprise package also takes care of the test train split. The collaborative filter transforms user-item interactions into latent space, and reconstructs the user-item matrix to impute ratings missing movie ratings. The predicted rating is the dot product between the user and movie vectors in latent space. "
   ]
  },
  {
   "cell_type": "code",
   "execution_count": 11,
   "metadata": {},
   "outputs": [],
   "source": [
    "#format data for surprise\n",
    "reader = Reader(rating_scale=(0, 5))\n",
    "data = Dataset.load_from_df(ratings[['userId', 'movieId', 'rating']], reader)\n",
    "trainset, testset = train_test_split(data, test_size=0.25)"
   ]
  },
  {
   "cell_type": "code",
   "execution_count": 12,
   "metadata": {},
   "outputs": [
    {
     "data": {
      "text/plain": [
       "<surprise.prediction_algorithms.matrix_factorization.SVD at 0x109b3ce50>"
      ]
     },
     "execution_count": 12,
     "metadata": {},
     "output_type": "execute_result"
    }
   ],
   "source": [
    "#train SVD recommender \n",
    "algo = SVD()\n",
    "algo.fit(trainset)"
   ]
  },
  {
   "cell_type": "code",
   "execution_count": 13,
   "metadata": {},
   "outputs": [
    {
     "data": {
      "text/html": [
       "<div>\n",
       "<style scoped>\n",
       "    .dataframe tbody tr th:only-of-type {\n",
       "        vertical-align: middle;\n",
       "    }\n",
       "\n",
       "    .dataframe tbody tr th {\n",
       "        vertical-align: top;\n",
       "    }\n",
       "\n",
       "    .dataframe thead th {\n",
       "        text-align: right;\n",
       "    }\n",
       "</style>\n",
       "<table border=\"1\" class=\"dataframe\">\n",
       "  <thead>\n",
       "    <tr style=\"text-align: right;\">\n",
       "      <th></th>\n",
       "      <th>userId</th>\n",
       "      <th>movieId</th>\n",
       "      <th>actual</th>\n",
       "      <th>cf_predictions</th>\n",
       "    </tr>\n",
       "  </thead>\n",
       "  <tbody>\n",
       "    <tr>\n",
       "      <th>0</th>\n",
       "      <td>34440</td>\n",
       "      <td>4876</td>\n",
       "      <td>2.5</td>\n",
       "      <td>2.907976</td>\n",
       "    </tr>\n",
       "    <tr>\n",
       "      <th>1</th>\n",
       "      <td>2527</td>\n",
       "      <td>349</td>\n",
       "      <td>3.0</td>\n",
       "      <td>3.608426</td>\n",
       "    </tr>\n",
       "    <tr>\n",
       "      <th>2</th>\n",
       "      <td>108684</td>\n",
       "      <td>1094</td>\n",
       "      <td>3.0</td>\n",
       "      <td>3.214184</td>\n",
       "    </tr>\n",
       "    <tr>\n",
       "      <th>3</th>\n",
       "      <td>135237</td>\n",
       "      <td>648</td>\n",
       "      <td>4.5</td>\n",
       "      <td>4.199899</td>\n",
       "    </tr>\n",
       "    <tr>\n",
       "      <th>4</th>\n",
       "      <td>82590</td>\n",
       "      <td>5902</td>\n",
       "      <td>4.0</td>\n",
       "      <td>3.829090</td>\n",
       "    </tr>\n",
       "  </tbody>\n",
       "</table>\n",
       "</div>"
      ],
      "text/plain": [
       "   userId  movieId  actual  cf_predictions\n",
       "0   34440     4876     2.5        2.907976\n",
       "1    2527      349     3.0        3.608426\n",
       "2  108684     1094     3.0        3.214184\n",
       "3  135237      648     4.5        4.199899\n",
       "4   82590     5902     4.0        3.829090"
      ]
     },
     "execution_count": 13,
     "metadata": {},
     "output_type": "execute_result"
    }
   ],
   "source": [
    "#make predictions on test set. \n",
    "#for test we only care about highly rated movies\n",
    "test = algo.test(testset)\n",
    "test = pd.DataFrame(test)\n",
    "test.drop(\"details\", inplace=True, axis=1)\n",
    "test.columns = ['userId', 'movieId', 'actual', 'cf_predictions']\n",
    "test_long = test.copy()\n",
    "test.head()"
   ]
  },
  {
   "cell_type": "code",
   "execution_count": 14,
   "metadata": {},
   "outputs": [
    {
     "data": {
      "text/plain": [
       "4.0    1037\n",
       "3.0     779\n",
       "5.0     584\n",
       "3.5     406\n",
       "4.5     325\n",
       "2.0     262\n",
       "2.5     204\n",
       "1.0     182\n",
       "1.5      56\n",
       "0.5      42\n",
       "Name: actual, dtype: int64"
      ]
     },
     "execution_count": 14,
     "metadata": {},
     "output_type": "execute_result"
    }
   ],
   "source": [
    "test.actual.value_counts()"
   ]
  },
  {
   "cell_type": "code",
   "execution_count": 15,
   "metadata": {},
   "outputs": [
    {
     "name": "stdout",
     "output_type": "stream",
     "text": [
      "0.9202066440882609\n",
      "0.959274019292\n"
     ]
    }
   ],
   "source": [
    "#evaluate model with MSE and RMSE\n",
    "print recmetrics.mse(test.actual, test.cf_predictions)\n",
    "print recmetrics.rmse(test.actual, test.cf_predictions)"
   ]
  },
  {
   "cell_type": "code",
   "execution_count": 16,
   "metadata": {},
   "outputs": [],
   "source": [
    "#create model (matrix of predicted values)\n",
    "cf_model = test.pivot_table(index='userId', columns='movieId', values='cf_predictions').fillna(0)"
   ]
  },
  {
   "cell_type": "code",
   "execution_count": 17,
   "metadata": {},
   "outputs": [],
   "source": [
    "#drop bad ratings for movies not in model\n",
    "movies_in_model = cf_model.columns.tolist()\n",
    "bad_ratings = bad_ratings.query(\"movieId in @movies_in_model\")"
   ]
  },
  {
   "cell_type": "code",
   "execution_count": 18,
   "metadata": {},
   "outputs": [],
   "source": [
    "def get_users_predictions(user_id, n, model):\n",
    "    recommended_items = pd.DataFrame(model.loc[user_id])\n",
    "    recommended_items.columns = [\"predicted_rating\"]\n",
    "    recommended_items = recommended_items.sort_values('predicted_rating', ascending=False)    \n",
    "    recommended_items = recommended_items.head(n)\n",
    "    return recommended_items.index.tolist(), recommended_items.predicted_rating.tolist()"
   ]
  },
  {
   "cell_type": "code",
   "execution_count": 19,
   "metadata": {},
   "outputs": [
    {
     "data": {
      "text/html": [
       "<div>\n",
       "<style scoped>\n",
       "    .dataframe tbody tr th:only-of-type {\n",
       "        vertical-align: middle;\n",
       "    }\n",
       "\n",
       "    .dataframe tbody tr th {\n",
       "        vertical-align: top;\n",
       "    }\n",
       "\n",
       "    .dataframe thead th {\n",
       "        text-align: right;\n",
       "    }\n",
       "</style>\n",
       "<table border=\"1\" class=\"dataframe\">\n",
       "  <thead>\n",
       "    <tr style=\"text-align: right;\">\n",
       "      <th></th>\n",
       "      <th>userId</th>\n",
       "      <th>movieId</th>\n",
       "      <th>actual</th>\n",
       "      <th>cf_predictions</th>\n",
       "    </tr>\n",
       "  </thead>\n",
       "  <tbody>\n",
       "    <tr>\n",
       "      <th>0</th>\n",
       "      <td>34440</td>\n",
       "      <td>4876</td>\n",
       "      <td>2.5</td>\n",
       "      <td>2.907976</td>\n",
       "    </tr>\n",
       "    <tr>\n",
       "      <th>1</th>\n",
       "      <td>2527</td>\n",
       "      <td>349</td>\n",
       "      <td>3.0</td>\n",
       "      <td>3.608426</td>\n",
       "    </tr>\n",
       "    <tr>\n",
       "      <th>2</th>\n",
       "      <td>108684</td>\n",
       "      <td>1094</td>\n",
       "      <td>3.0</td>\n",
       "      <td>3.214184</td>\n",
       "    </tr>\n",
       "    <tr>\n",
       "      <th>3</th>\n",
       "      <td>135237</td>\n",
       "      <td>648</td>\n",
       "      <td>4.5</td>\n",
       "      <td>4.199899</td>\n",
       "    </tr>\n",
       "    <tr>\n",
       "      <th>4</th>\n",
       "      <td>82590</td>\n",
       "      <td>5902</td>\n",
       "      <td>4.0</td>\n",
       "      <td>3.829090</td>\n",
       "    </tr>\n",
       "  </tbody>\n",
       "</table>\n",
       "</div>"
      ],
      "text/plain": [
       "   userId  movieId  actual  cf_predictions\n",
       "0   34440     4876     2.5        2.907976\n",
       "1    2527      349     3.0        3.608426\n",
       "2  108684     1094     3.0        3.214184\n",
       "3  135237      648     4.5        4.199899\n",
       "4   82590     5902     4.0        3.829090"
      ]
     },
     "execution_count": 19,
     "metadata": {},
     "output_type": "execute_result"
    }
   ],
   "source": [
    "test.head()"
   ]
  },
  {
   "cell_type": "code",
   "execution_count": 20,
   "metadata": {},
   "outputs": [
    {
     "name": "stderr",
     "output_type": "stream",
     "text": [
      "/Users/clongo/Documents/Work/prof_dev/recmetrics/venv/lib/python2.7/site-packages/ipykernel_launcher.py:3: FutureWarning: using a dict on a Series for aggregation\n",
      "is deprecated and will be removed in a future version\n",
      "  This is separate from the ipykernel package so we can avoid doing imports until\n"
     ]
    },
    {
     "data": {
      "text/html": [
       "<div>\n",
       "<style scoped>\n",
       "    .dataframe tbody tr th:only-of-type {\n",
       "        vertical-align: middle;\n",
       "    }\n",
       "\n",
       "    .dataframe tbody tr th {\n",
       "        vertical-align: top;\n",
       "    }\n",
       "\n",
       "    .dataframe thead th {\n",
       "        text-align: right;\n",
       "    }\n",
       "</style>\n",
       "<table border=\"1\" class=\"dataframe\">\n",
       "  <thead>\n",
       "    <tr style=\"text-align: right;\">\n",
       "      <th></th>\n",
       "      <th>actual</th>\n",
       "      <th>cf_predictions</th>\n",
       "      <th>cf_scores</th>\n",
       "    </tr>\n",
       "    <tr>\n",
       "      <th>userId</th>\n",
       "      <th></th>\n",
       "      <th></th>\n",
       "      <th></th>\n",
       "    </tr>\n",
       "  </thead>\n",
       "  <tbody>\n",
       "    <tr>\n",
       "      <th>2527</th>\n",
       "      <td>[608, 231, 296, 457, 266, 555, 527, 337, 50]</td>\n",
       "      <td>[527, 50, 296, 608, 349]</td>\n",
       "      <td>[4.18139633249, 4.02857187732, 3.67799441643, ...</td>\n",
       "    </tr>\n",
       "    <tr>\n",
       "      <th>3263</th>\n",
       "      <td>[1024, 1, 2, 53125, 37384, 8961, 1288, 1291, 6...</td>\n",
       "      <td>[1198, 593, 4226, 5418, 8961]</td>\n",
       "      <td>[4.07756424362, 3.92321584642, 3.89852662608, ...</td>\n",
       "    </tr>\n",
       "    <tr>\n",
       "      <th>4894</th>\n",
       "      <td>[34, 356, 1097, 783, 17, 661, 260]</td>\n",
       "      <td>[32, 260, 1233, 34, 356]</td>\n",
       "      <td>[4.81210102928, 4.8042249653, 4.67651894385, 4...</td>\n",
       "    </tr>\n",
       "    <tr>\n",
       "      <th>5434</th>\n",
       "      <td>[5952, 7361, 1258, 1643, 2959, 3793, 2580, 693...</td>\n",
       "      <td>[7361, 1258, 2959, 5952, 3793]</td>\n",
       "      <td>[3.49819177694, 3.4831907043, 3.40005244503, 3...</td>\n",
       "    </tr>\n",
       "    <tr>\n",
       "      <th>6204</th>\n",
       "      <td>[2144, 62081, 49286, 3623, 552, 586, 6383, 514...</td>\n",
       "      <td>[2144, 586, 62081, 49286, 33499]</td>\n",
       "      <td>[3.81674150953, 3.81456422539, 3.81144453219, ...</td>\n",
       "    </tr>\n",
       "  </tbody>\n",
       "</table>\n",
       "</div>"
      ],
      "text/plain": [
       "                                                   actual  \\\n",
       "userId                                                      \n",
       "2527         [608, 231, 296, 457, 266, 555, 527, 337, 50]   \n",
       "3263    [1024, 1, 2, 53125, 37384, 8961, 1288, 1291, 6...   \n",
       "4894                   [34, 356, 1097, 783, 17, 661, 260]   \n",
       "5434    [5952, 7361, 1258, 1643, 2959, 3793, 2580, 693...   \n",
       "6204    [2144, 62081, 49286, 3623, 552, 586, 6383, 514...   \n",
       "\n",
       "                          cf_predictions  \\\n",
       "userId                                     \n",
       "2527            [527, 50, 296, 608, 349]   \n",
       "3263       [1198, 593, 4226, 5418, 8961]   \n",
       "4894            [32, 260, 1233, 34, 356]   \n",
       "5434      [7361, 1258, 2959, 5952, 3793]   \n",
       "6204    [2144, 586, 62081, 49286, 33499]   \n",
       "\n",
       "                                                cf_scores  \n",
       "userId                                                     \n",
       "2527    [4.18139633249, 4.02857187732, 3.67799441643, ...  \n",
       "3263    [4.07756424362, 3.92321584642, 3.89852662608, ...  \n",
       "4894    [4.81210102928, 4.8042249653, 4.67651894385, 4...  \n",
       "5434    [3.49819177694, 3.4831907043, 3.40005244503, 3...  \n",
       "6204    [3.81674150953, 3.81456422539, 3.81144453219, ...  "
      ]
     },
     "execution_count": 20,
     "metadata": {},
     "output_type": "execute_result"
    }
   ],
   "source": [
    "#format test data\n",
    "test = test.query('actual > 3')\n",
    "test = test.copy().groupby('userId')['movieId'].agg({'actual': (lambda x: list(set(x)))})\n",
    "\n",
    "#make recommendations for all members in the test data\n",
    "recs = []\n",
    "rec_scores = []\n",
    "for user in test.index:\n",
    "    \n",
    "    cf_predictions, cf_scores = get_users_predictions(user, 5, cf_model)\n",
    "    recs.append(cf_predictions)\n",
    "    rec_scores.append(cf_scores)\n",
    "        \n",
    "test['cf_predictions'] = recs\n",
    "test['cf_scores'] = rec_scores\n",
    "test.head()"
   ]
  },
  {
   "cell_type": "markdown",
   "metadata": {},
   "source": [
    "# Popularity Recommender\n",
    "Creating a simple popularity recommender to demonstrate recommender metrics in action. The popularity recommender simply recommends the top 10 movies to every user."
   ]
  },
  {
   "cell_type": "code",
   "execution_count": 21,
   "metadata": {},
   "outputs": [
    {
     "data": {
      "text/html": [
       "<div>\n",
       "<style scoped>\n",
       "    .dataframe tbody tr th:only-of-type {\n",
       "        vertical-align: middle;\n",
       "    }\n",
       "\n",
       "    .dataframe tbody tr th {\n",
       "        vertical-align: top;\n",
       "    }\n",
       "\n",
       "    .dataframe thead th {\n",
       "        text-align: right;\n",
       "    }\n",
       "</style>\n",
       "<table border=\"1\" class=\"dataframe\">\n",
       "  <thead>\n",
       "    <tr style=\"text-align: right;\">\n",
       "      <th></th>\n",
       "      <th>actual</th>\n",
       "      <th>cf_predictions</th>\n",
       "      <th>cf_scores</th>\n",
       "      <th>pop_predictions</th>\n",
       "    </tr>\n",
       "    <tr>\n",
       "      <th>userId</th>\n",
       "      <th></th>\n",
       "      <th></th>\n",
       "      <th></th>\n",
       "      <th></th>\n",
       "    </tr>\n",
       "  </thead>\n",
       "  <tbody>\n",
       "    <tr>\n",
       "      <th>2527</th>\n",
       "      <td>[608, 231, 296, 457, 266, 555, 527, 337, 50]</td>\n",
       "      <td>[527, 50, 296, 608, 349]</td>\n",
       "      <td>[4.18139633249, 4.02857187732, 3.67799441643, ...</td>\n",
       "      <td>[593, 296, 356, 110, 260, 318, 2571, 1, 480, 1...</td>\n",
       "    </tr>\n",
       "    <tr>\n",
       "      <th>3263</th>\n",
       "      <td>[1024, 1, 2, 53125, 37384, 8961, 1288, 1291, 6...</td>\n",
       "      <td>[1198, 593, 4226, 5418, 8961]</td>\n",
       "      <td>[4.07756424362, 3.92321584642, 3.89852662608, ...</td>\n",
       "      <td>[593, 296, 356, 110, 260, 318, 2571, 1, 480, 1...</td>\n",
       "    </tr>\n",
       "    <tr>\n",
       "      <th>4894</th>\n",
       "      <td>[34, 356, 1097, 783, 17, 661, 260]</td>\n",
       "      <td>[32, 260, 1233, 34, 356]</td>\n",
       "      <td>[4.81210102928, 4.8042249653, 4.67651894385, 4...</td>\n",
       "      <td>[593, 296, 356, 110, 260, 318, 2571, 1, 480, 1...</td>\n",
       "    </tr>\n",
       "    <tr>\n",
       "      <th>5434</th>\n",
       "      <td>[5952, 7361, 1258, 1643, 2959, 3793, 2580, 693...</td>\n",
       "      <td>[7361, 1258, 2959, 5952, 3793]</td>\n",
       "      <td>[3.49819177694, 3.4831907043, 3.40005244503, 3...</td>\n",
       "      <td>[593, 296, 356, 110, 260, 318, 2571, 1, 480, 1...</td>\n",
       "    </tr>\n",
       "    <tr>\n",
       "      <th>6204</th>\n",
       "      <td>[2144, 62081, 49286, 3623, 552, 586, 6383, 514...</td>\n",
       "      <td>[2144, 586, 62081, 49286, 33499]</td>\n",
       "      <td>[3.81674150953, 3.81456422539, 3.81144453219, ...</td>\n",
       "      <td>[593, 296, 356, 110, 260, 318, 2571, 1, 480, 1...</td>\n",
       "    </tr>\n",
       "  </tbody>\n",
       "</table>\n",
       "</div>"
      ],
      "text/plain": [
       "                                                   actual  \\\n",
       "userId                                                      \n",
       "2527         [608, 231, 296, 457, 266, 555, 527, 337, 50]   \n",
       "3263    [1024, 1, 2, 53125, 37384, 8961, 1288, 1291, 6...   \n",
       "4894                   [34, 356, 1097, 783, 17, 661, 260]   \n",
       "5434    [5952, 7361, 1258, 1643, 2959, 3793, 2580, 693...   \n",
       "6204    [2144, 62081, 49286, 3623, 552, 586, 6383, 514...   \n",
       "\n",
       "                          cf_predictions  \\\n",
       "userId                                     \n",
       "2527            [527, 50, 296, 608, 349]   \n",
       "3263       [1198, 593, 4226, 5418, 8961]   \n",
       "4894            [32, 260, 1233, 34, 356]   \n",
       "5434      [7361, 1258, 2959, 5952, 3793]   \n",
       "6204    [2144, 586, 62081, 49286, 33499]   \n",
       "\n",
       "                                                cf_scores  \\\n",
       "userId                                                      \n",
       "2527    [4.18139633249, 4.02857187732, 3.67799441643, ...   \n",
       "3263    [4.07756424362, 3.92321584642, 3.89852662608, ...   \n",
       "4894    [4.81210102928, 4.8042249653, 4.67651894385, 4...   \n",
       "5434    [3.49819177694, 3.4831907043, 3.40005244503, 3...   \n",
       "6204    [3.81674150953, 3.81456422539, 3.81144453219, ...   \n",
       "\n",
       "                                          pop_predictions  \n",
       "userId                                                     \n",
       "2527    [593, 296, 356, 110, 260, 318, 2571, 1, 480, 1...  \n",
       "3263    [593, 296, 356, 110, 260, 318, 2571, 1, 480, 1...  \n",
       "4894    [593, 296, 356, 110, 260, 318, 2571, 1, 480, 1...  \n",
       "5434    [593, 296, 356, 110, 260, 318, 2571, 1, 480, 1...  \n",
       "6204    [593, 296, 356, 110, 260, 318, 2571, 1, 480, 1...  "
      ]
     },
     "execution_count": 21,
     "metadata": {},
     "output_type": "execute_result"
    }
   ],
   "source": [
    "#make recommendations for all members in the test data\n",
    "popularity_recs = ratings.movieId.value_counts().head(10).index.tolist()\n",
    "\n",
    "recs = []\n",
    "for user in test.index:\n",
    "    pop_predictions = popularity_recs\n",
    "    recs.append(pop_predictions)\n",
    "        \n",
    "test['pop_predictions'] = recs\n",
    "test.head()"
   ]
  },
  {
   "cell_type": "markdown",
   "metadata": {},
   "source": [
    "# Random Recommender\n",
    "Creating a simple random recommender to demonstrate recommender metrics in action. The random recommender simply recommends 10 random movies to every user."
   ]
  },
  {
   "cell_type": "code",
   "execution_count": 22,
   "metadata": {},
   "outputs": [
    {
     "data": {
      "text/html": [
       "<div>\n",
       "<style scoped>\n",
       "    .dataframe tbody tr th:only-of-type {\n",
       "        vertical-align: middle;\n",
       "    }\n",
       "\n",
       "    .dataframe tbody tr th {\n",
       "        vertical-align: top;\n",
       "    }\n",
       "\n",
       "    .dataframe thead th {\n",
       "        text-align: right;\n",
       "    }\n",
       "</style>\n",
       "<table border=\"1\" class=\"dataframe\">\n",
       "  <thead>\n",
       "    <tr style=\"text-align: right;\">\n",
       "      <th></th>\n",
       "      <th>actual</th>\n",
       "      <th>cf_predictions</th>\n",
       "      <th>cf_scores</th>\n",
       "      <th>pop_predictions</th>\n",
       "      <th>random_predictions</th>\n",
       "    </tr>\n",
       "    <tr>\n",
       "      <th>userId</th>\n",
       "      <th></th>\n",
       "      <th></th>\n",
       "      <th></th>\n",
       "      <th></th>\n",
       "      <th></th>\n",
       "    </tr>\n",
       "  </thead>\n",
       "  <tbody>\n",
       "    <tr>\n",
       "      <th>2527</th>\n",
       "      <td>[608, 231, 296, 457, 266, 555, 527, 337, 50]</td>\n",
       "      <td>[527, 50, 296, 608, 349]</td>\n",
       "      <td>[4.18139633249, 4.02857187732, 3.67799441643, ...</td>\n",
       "      <td>[593, 296, 356, 110, 260, 318, 2571, 1, 480, 1...</td>\n",
       "      <td>[50, 3911, 141, 318, 41997, 4437, 1288, 1376, ...</td>\n",
       "    </tr>\n",
       "    <tr>\n",
       "      <th>3263</th>\n",
       "      <td>[1024, 1, 2, 53125, 37384, 8961, 1288, 1291, 6...</td>\n",
       "      <td>[1198, 593, 4226, 5418, 8961]</td>\n",
       "      <td>[4.07756424362, 3.92321584642, 3.89852662608, ...</td>\n",
       "      <td>[593, 296, 356, 110, 260, 318, 2571, 1, 480, 1...</td>\n",
       "      <td>[2872, 2890, 3608, 2671, 68319, 4662, 4025, 13...</td>\n",
       "    </tr>\n",
       "    <tr>\n",
       "      <th>4894</th>\n",
       "      <td>[34, 356, 1097, 783, 17, 661, 260]</td>\n",
       "      <td>[32, 260, 1233, 34, 356]</td>\n",
       "      <td>[4.81210102928, 4.8042249653, 4.67651894385, 4...</td>\n",
       "      <td>[593, 296, 356, 110, 260, 318, 2571, 1, 480, 1...</td>\n",
       "      <td>[50, 3265, 1416, 2877, 590, 64839, 1214, 97752...</td>\n",
       "    </tr>\n",
       "    <tr>\n",
       "      <th>5434</th>\n",
       "      <td>[5952, 7361, 1258, 1643, 2959, 3793, 2580, 693...</td>\n",
       "      <td>[7361, 1258, 2959, 5952, 3793]</td>\n",
       "      <td>[3.49819177694, 3.4831907043, 3.40005244503, 3...</td>\n",
       "      <td>[593, 296, 356, 110, 260, 318, 2571, 1, 480, 1...</td>\n",
       "      <td>[296, 595, 2797, 3034, 46578, 62, 2643, 4975, ...</td>\n",
       "    </tr>\n",
       "    <tr>\n",
       "      <th>6204</th>\n",
       "      <td>[2144, 62081, 49286, 3623, 552, 586, 6383, 514...</td>\n",
       "      <td>[2144, 586, 62081, 49286, 33499]</td>\n",
       "      <td>[3.81674150953, 3.81456422539, 3.81144453219, ...</td>\n",
       "      <td>[593, 296, 356, 110, 260, 318, 2571, 1, 480, 1...</td>\n",
       "      <td>[5010, 1298, 7698, 26680, 8961, 1295, 208, 253...</td>\n",
       "    </tr>\n",
       "  </tbody>\n",
       "</table>\n",
       "</div>"
      ],
      "text/plain": [
       "                                                   actual  \\\n",
       "userId                                                      \n",
       "2527         [608, 231, 296, 457, 266, 555, 527, 337, 50]   \n",
       "3263    [1024, 1, 2, 53125, 37384, 8961, 1288, 1291, 6...   \n",
       "4894                   [34, 356, 1097, 783, 17, 661, 260]   \n",
       "5434    [5952, 7361, 1258, 1643, 2959, 3793, 2580, 693...   \n",
       "6204    [2144, 62081, 49286, 3623, 552, 586, 6383, 514...   \n",
       "\n",
       "                          cf_predictions  \\\n",
       "userId                                     \n",
       "2527            [527, 50, 296, 608, 349]   \n",
       "3263       [1198, 593, 4226, 5418, 8961]   \n",
       "4894            [32, 260, 1233, 34, 356]   \n",
       "5434      [7361, 1258, 2959, 5952, 3793]   \n",
       "6204    [2144, 586, 62081, 49286, 33499]   \n",
       "\n",
       "                                                cf_scores  \\\n",
       "userId                                                      \n",
       "2527    [4.18139633249, 4.02857187732, 3.67799441643, ...   \n",
       "3263    [4.07756424362, 3.92321584642, 3.89852662608, ...   \n",
       "4894    [4.81210102928, 4.8042249653, 4.67651894385, 4...   \n",
       "5434    [3.49819177694, 3.4831907043, 3.40005244503, 3...   \n",
       "6204    [3.81674150953, 3.81456422539, 3.81144453219, ...   \n",
       "\n",
       "                                          pop_predictions  \\\n",
       "userId                                                      \n",
       "2527    [593, 296, 356, 110, 260, 318, 2571, 1, 480, 1...   \n",
       "3263    [593, 296, 356, 110, 260, 318, 2571, 1, 480, 1...   \n",
       "4894    [593, 296, 356, 110, 260, 318, 2571, 1, 480, 1...   \n",
       "5434    [593, 296, 356, 110, 260, 318, 2571, 1, 480, 1...   \n",
       "6204    [593, 296, 356, 110, 260, 318, 2571, 1, 480, 1...   \n",
       "\n",
       "                                       random_predictions  \n",
       "userId                                                     \n",
       "2527    [50, 3911, 141, 318, 41997, 4437, 1288, 1376, ...  \n",
       "3263    [2872, 2890, 3608, 2671, 68319, 4662, 4025, 13...  \n",
       "4894    [50, 3265, 1416, 2877, 590, 64839, 1214, 97752...  \n",
       "5434    [296, 595, 2797, 3034, 46578, 62, 2643, 4975, ...  \n",
       "6204    [5010, 1298, 7698, 26680, 8961, 1295, 208, 253...  "
      ]
     },
     "execution_count": 22,
     "metadata": {},
     "output_type": "execute_result"
    }
   ],
   "source": [
    "#make recommendations for all members in the test data\n",
    "\n",
    "recs = []\n",
    "for user in test.index:\n",
    "    random_predictions = ratings.movieId.sample(10).values.tolist()\n",
    "    recs.append(random_predictions)\n",
    "        \n",
    "test['random_predictions'] = recs\n",
    "test.head()"
   ]
  },
  {
   "cell_type": "markdown",
   "metadata": {},
   "source": [
    "# MAPK and MARK"
   ]
  },
  {
   "cell_type": "code",
   "execution_count": 23,
   "metadata": {},
   "outputs": [
    {
     "data": {
      "image/png": "[encoded data removed]",
      "text/plain": [
       "<Figure size 1080x504 with 1 Axes>"
      ]
     },
     "metadata": {
      "needs_background": "light"
     },
     "output_type": "display_data"
    }
   ],
   "source": [
    "actual = test.actual.values.tolist()\n",
    "cf_predictions = test.cf_predictions.values.tolist()\n",
    "pop_predictions = test.pop_predictions.values.tolist()\n",
    "random_predictions = test.random_predictions.values.tolist()\n",
    "\n",
    "pop_mark = []\n",
    "for K in np.arange(1, 10):\n",
    "    pop_mark.extend([recmetrics.mark(actual, pop_predictions, k=K)])\n",
    "\n",
    "random_mark = []\n",
    "for K in np.arange(1, 10):\n",
    "    random_mark.extend([recmetrics.mark(actual, random_predictions, k=K)])\n",
    "\n",
    "cf_mark = []\n",
    "for K in np.arange(1, 10):\n",
    "    cf_mark.extend([recmetrics.mark(actual, cf_predictions, k=K)])\n",
    "\n",
    "mark_scores = [random_mark, pop_mark, cf_mark]\n",
    "index = range(1,10)\n",
    "names = ['Random Recommender', 'Popularity Recommender', 'Collaborative Filter']\n",
    "\n",
    "fig = plt.figure(figsize=(15, 7))\n",
    "recmetrics.mark_plot(mark_scores, model_names=names, k_range=index)"
   ]
  },
  {
   "cell_type": "code",
   "execution_count": 24,
   "metadata": {},
   "outputs": [
    {
     "data": {
      "image/png": "[encoded data removed]",
      "text/plain": [
       "<Figure size 1080x504 with 1 Axes>"
      ]
     },
     "metadata": {
      "needs_background": "light"
     },
     "output_type": "display_data"
    }
   ],
   "source": [
    "actual = test.actual.values.tolist()\n",
    "cf_predictions = test.cf_predictions.values.tolist()\n",
    "pop_predictions = test.pop_predictions.values.tolist()\n",
    "random_predictions = test.random_predictions.values.tolist()\n",
    "\n",
    "pop_mapk = []\n",
    "for K in np.arange(1, 10):\n",
    "    pop_mapk.extend([metrics.mapk(actual, pop_predictions, k=K)])\n",
    "\n",
    "random_mapk = []\n",
    "for K in np.arange(1, 10):\n",
    "    random_mapk.extend([metrics.mapk(actual, random_predictions, k=K)])\n",
    "\n",
    "cf_mapk = []\n",
    "for K in np.arange(1, 10):\n",
    "    cf_mapk.extend([metrics.mapk(actual, cf_predictions, k=K)])\n",
    "\n",
    "mapk_scores = [random_mapk, pop_mapk, cf_mapk]\n",
    "index = range(1,10)\n",
    "names = ['Random Recommender', 'Popularity Recommender', 'Collaborative Filter']\n",
    "\n",
    "fig = plt.figure(figsize=(15, 7))\n",
    "recmetrics.mapk_plot(mapk_scores, model_names=names, k_range=index)"
   ]
  },
  {
   "cell_type": "markdown",
   "metadata": {},
   "source": [
    "# Precision and Recall"
   ]
  },
  {
   "cell_type": "markdown",
   "metadata": {},
   "source": [
    "You can totally evaluate a recommende system using precison and recall, and it can offer some great insights. \n",
    "Because most recommendation use-cases present recommendations as an ordered list, it is still important to evaluate the accuracy of that order. \n",
    "The msot relevant items should be at the top. MARP and MAPK evalaut4e the oder of the list. \n",
    "However, it is still valuable to look at the precision and recall tradeoff over all recommendationws wihtout considering the order of the list.\n",
    "Consider a case where you plan to only show the top 5 recommendations on a single page. In that case, order may not matter since the user will see all 5, \n",
    "You simply want to make sure all 5 of those items are good. Lookign at the precison and recall tradeoff can do this. \n",
    "The procision recall tradeoff will also illustrate the ideal threshold for determining when to recommend an item. \n",
    "For example, ig all accurante4 recommendations have a recommended score greater than 3, then you should threshold your recommendations at 3.\n",
    "\n",
    "In this case, an item is recommended if it has a predicted score greater than 3. \n",
    "I am considering class0: movie was not watched, class 1: movie was watched and received a greater than 3 star rating.\n",
    "This class assignment could be done in any way. Maybe returned items are class 0, and kept items are class 1. or non-clicked linkes are class 0, clicked links are class 1.\n",
    "\n",
    "The thing that makes recommenders different/special from classical classification is that we don't know anything about the items the that the user did not interact with.\n",
    "Items that were not interacted with, for example a movie that was not watched, are not nessicarily items we should not recommend. We just don't have any data to test those recommendations against. \n",
    "In some cases, you will have some kind of negative feedvbadck like returns or negative revuews, you can construct a class 0 directly with those, and dissregard obervations that have no interactions to test against. \n",
    "If you don't have those, keep in mind a high score for an item not interacted with may not be an innacurate recommendation. "
   ]
  },
  {
   "cell_type": "code",
   "execution_count": 25,
   "metadata": {},
   "outputs": [
    {
     "data": {
      "text/plain": [
       "0.748"
      ]
     },
     "execution_count": 25,
     "metadata": {},
     "output_type": "execute_result"
    }
   ],
   "source": [
    "recmetrics.recommender_precision(test.cf_predictions, test.actual)"
   ]
  },
  {
   "cell_type": "code",
   "execution_count": 26,
   "metadata": {},
   "outputs": [
    {
     "data": {
      "text/plain": [
       "0.38336800000000004"
      ]
     },
     "execution_count": 26,
     "metadata": {},
     "output_type": "execute_result"
    }
   ],
   "source": [
    "recmetrics.recommender_recall(test.cf_predictions, test.actual)"
   ]
  },
  {
   "cell_type": "code",
   "execution_count": 27,
   "metadata": {},
   "outputs": [],
   "source": [
    "df_scores = pd.DataFrame([])\n",
    "for user in test.index:\n",
    "    df_user = pd.DataFrame(cf_model.loc[user])\n",
    "\n",
    "    #get scores for all movies\n",
    "    df_user.columns = [\"predicted\"]\n",
    "\n",
    "    #assign class 0 and class 1\n",
    "    df_user[\"truth\"] = np.nan\n",
    "    df_user.loc[test.loc[user].actual, \"truth\"] = 1\n",
    "    df_user.loc[bad_ratings.query('userId == @user').movieId.tolist(), \"truth\"] = 0\n",
    "\n",
    "    #drop movies that were not interacted with\n",
    "    df_user.dropna(inplace=True)\n",
    "    \n",
    "    df_scores = df_scores.append(df_user)\n",
    "    \n",
    "    df_scores = df_scores.query('predicted>0')\n",
    "    "
   ]
  },
  {
   "cell_type": "code",
   "execution_count": 28,
   "metadata": {},
   "outputs": [
    {
     "name": "stdout",
     "output_type": "stream",
     "text": [
      "(3098, 2)\n"
     ]
    },
    {
     "data": {
      "text/html": [
       "<div>\n",
       "<style scoped>\n",
       "    .dataframe tbody tr th:only-of-type {\n",
       "        vertical-align: middle;\n",
       "    }\n",
       "\n",
       "    .dataframe tbody tr th {\n",
       "        vertical-align: top;\n",
       "    }\n",
       "\n",
       "    .dataframe thead th {\n",
       "        text-align: right;\n",
       "    }\n",
       "</style>\n",
       "<table border=\"1\" class=\"dataframe\">\n",
       "  <thead>\n",
       "    <tr style=\"text-align: right;\">\n",
       "      <th></th>\n",
       "      <th>predicted</th>\n",
       "      <th>truth</th>\n",
       "    </tr>\n",
       "    <tr>\n",
       "      <th>movieId</th>\n",
       "      <th></th>\n",
       "      <th></th>\n",
       "    </tr>\n",
       "  </thead>\n",
       "  <tbody>\n",
       "    <tr>\n",
       "      <th>50</th>\n",
       "      <td>4.028572</td>\n",
       "      <td>1.0</td>\n",
       "    </tr>\n",
       "    <tr>\n",
       "      <th>231</th>\n",
       "      <td>2.628299</td>\n",
       "      <td>1.0</td>\n",
       "    </tr>\n",
       "    <tr>\n",
       "      <th>266</th>\n",
       "      <td>3.141898</td>\n",
       "      <td>1.0</td>\n",
       "    </tr>\n",
       "    <tr>\n",
       "      <th>296</th>\n",
       "      <td>3.677994</td>\n",
       "      <td>1.0</td>\n",
       "    </tr>\n",
       "    <tr>\n",
       "      <th>337</th>\n",
       "      <td>3.493669</td>\n",
       "      <td>1.0</td>\n",
       "    </tr>\n",
       "  </tbody>\n",
       "</table>\n",
       "</div>"
      ],
      "text/plain": [
       "         predicted  truth\n",
       "movieId                  \n",
       "50        4.028572    1.0\n",
       "231       2.628299    1.0\n",
       "266       3.141898    1.0\n",
       "296       3.677994    1.0\n",
       "337       3.493669    1.0"
      ]
     },
     "execution_count": 28,
     "metadata": {},
     "output_type": "execute_result"
    }
   ],
   "source": [
    "print df_scores.shape\n",
    "df_scores.head()"
   ]
  },
  {
   "cell_type": "code",
   "execution_count": 33,
   "metadata": {},
   "outputs": [
    {
     "data": {
      "image/png": "[encoded data removed]",
      "text/plain": [
       "<Figure size 720x432 with 1 Axes>"
      ]
     },
     "metadata": {
      "needs_background": "light"
     },
     "output_type": "display_data"
    }
   ],
   "source": [
    "recmetrics.class_separation_plot(df_scores,\n",
    "                                 threshold=3,\n",
    "                                 n_bins=75,\n",
    "                                 title = \"Predicted Moving Ratings Scores for Recommended Movies\")"
   ]
  },
  {
   "cell_type": "code",
   "execution_count": 34,
   "metadata": {},
   "outputs": [],
   "source": [
    "df_ratings = test_long[['actual', 'cf_predictions']].copy()\n",
    "df_ratings.columns = ['truth', 'predicted']\n",
    "df_ratings['truth'] = np.ceil(df_ratings.truth)"
   ]
  },
  {
   "cell_type": "code",
   "execution_count": 35,
   "metadata": {},
   "outputs": [
    {
     "data": {
      "text/plain": [
       "4.0    1443\n",
       "3.0     983\n",
       "5.0     909\n",
       "2.0     318\n",
       "1.0     224\n",
       "Name: truth, dtype: int64"
      ]
     },
     "execution_count": 35,
     "metadata": {},
     "output_type": "execute_result"
    }
   ],
   "source": [
    "df_ratings.truth.value_counts()"
   ]
  },
  {
   "cell_type": "code",
   "execution_count": 42,
   "metadata": {},
   "outputs": [
    {
     "data": {
      "image/png": "[encoded data removed]",
      "text/plain": [
       "<Figure size 720x432 with 1 Axes>"
      ]
     },
     "metadata": {
      "needs_background": "light"
     },
     "output_type": "display_data"
    }
   ],
   "source": [
    "recmetrics.class_separation_plot(df_ratings,\n",
    "                                 n_bins=75,\n",
    "                                 title = \"Predicted Moving Ratings Scores\")"
   ]
  },
  {
   "cell_type": "markdown",
   "metadata": {},
   "source": [
    "# Confusion Matrix"
   ]
  },
  {
   "cell_type": "code",
   "execution_count": 43,
   "metadata": {},
   "outputs": [],
   "source": [
    "import itertools\n",
    "from sklearn.metrics import confusion_matrix\n",
    "\n",
    "\n",
    "def make_confusion_matriz(y_true, y_pred):\n",
    "    cm = confusion_matrix(y_true, y_pred, labels=[1,0])\n",
    "    cm = np.round(cm.astype('float') / cm.sum(axis=1)[:, np.newaxis],4)*100\n",
    "\n",
    "    fmt = '.2f'\n",
    "    thresh = cm.max() / 2.\n",
    "    descriptions = np.array([[\"True Positive\", \"False Negative\"], [\"False Positive\", \"True Negatives\"]])\n",
    "    colors = np.array([[\"green\", \"red\"], [\"red\", \"green\"]])\n",
    "    plt.imshow([[0,0],[0,0]], interpolation='nearest', cmap=plt.cm.Greys)\n",
    "    for i, j in itertools.product(range(cm.shape[0]), range(cm.shape[1])):\n",
    "            plt.text(j, i, format(cm[i, j], fmt)+'%\\n' + descriptions[i, j],\n",
    "                     horizontalalignment=\"center\",\n",
    "                     color=colors[i,j])\n",
    "    plt.axhline(y=0.5, xmin=0, xmax=1, color=\"black\", linewidth=0.75)\n",
    "    plt.axvline(x=0.5, ymin=0, ymax=1, color=\"black\", linewidth=0.75)\n",
    "    plt.ylabel('True')\n",
    "    plt.xlabel('Predicted')\n",
    "    plt.title(\"Confusion Matrix\")\n",
    "    plt.xticks([0,1], [1,0], rotation=45)\n",
    "    plt.yticks([0,1], [1,0])\n",
    "\n",
    "    plt.show()"
   ]
  },
  {
   "cell_type": "code",
   "execution_count": 44,
   "metadata": {},
   "outputs": [
    {
     "data": {
      "image/png": "[encoded data removed]",
      "text/plain": [
       "<Figure size 432x288 with 1 Axes>"
      ]
     },
     "metadata": {
      "needs_background": "light"
     },
     "output_type": "display_data"
    }
   ],
   "source": [
    "#recommend items with scores greater than 3\n",
    "df_scores[\"recommended\"] = 0\n",
    "df_scores.loc[df_scores.predicted>3,\"recommended\"]=1\n",
    "df_scores.head()\n",
    "\n",
    "y_true = df_scores.truth\n",
    "y_pred = df_scores.recommended\n",
    "\n",
    "\n",
    "make_confusion_matriz(y_true, y_pred)"
   ]
  },
  {
   "cell_type": "markdown",
   "metadata": {},
   "source": [
    "# Rank Order Analysis "
   ]
  },
  {
   "cell_type": "code",
   "execution_count": 48,
   "metadata": {},
   "outputs": [
    {
     "data": {
      "text/html": [
       "<div>\n",
       "<style scoped>\n",
       "    .dataframe tbody tr th:only-of-type {\n",
       "        vertical-align: middle;\n",
       "    }\n",
       "\n",
       "    .dataframe tbody tr th {\n",
       "        vertical-align: top;\n",
       "    }\n",
       "\n",
       "    .dataframe thead th {\n",
       "        text-align: right;\n",
       "    }\n",
       "</style>\n",
       "<table border=\"1\" class=\"dataframe\">\n",
       "  <thead>\n",
       "    <tr style=\"text-align: right;\">\n",
       "      <th></th>\n",
       "      <th>predicted</th>\n",
       "      <th>truth</th>\n",
       "      <th>recommended</th>\n",
       "    </tr>\n",
       "    <tr>\n",
       "      <th>movieId</th>\n",
       "      <th></th>\n",
       "      <th></th>\n",
       "      <th></th>\n",
       "    </tr>\n",
       "  </thead>\n",
       "  <tbody>\n",
       "    <tr>\n",
       "      <th>50</th>\n",
       "      <td>4.028572</td>\n",
       "      <td>1.0</td>\n",
       "      <td>1</td>\n",
       "    </tr>\n",
       "    <tr>\n",
       "      <th>231</th>\n",
       "      <td>2.628299</td>\n",
       "      <td>1.0</td>\n",
       "      <td>0</td>\n",
       "    </tr>\n",
       "    <tr>\n",
       "      <th>266</th>\n",
       "      <td>3.141898</td>\n",
       "      <td>1.0</td>\n",
       "      <td>1</td>\n",
       "    </tr>\n",
       "    <tr>\n",
       "      <th>296</th>\n",
       "      <td>3.677994</td>\n",
       "      <td>1.0</td>\n",
       "      <td>1</td>\n",
       "    </tr>\n",
       "    <tr>\n",
       "      <th>337</th>\n",
       "      <td>3.493669</td>\n",
       "      <td>1.0</td>\n",
       "      <td>1</td>\n",
       "    </tr>\n",
       "  </tbody>\n",
       "</table>\n",
       "</div>"
      ],
      "text/plain": [
       "         predicted  truth  recommended\n",
       "movieId                               \n",
       "50        4.028572    1.0            1\n",
       "231       2.628299    1.0            0\n",
       "266       3.141898    1.0            1\n",
       "296       3.677994    1.0            1\n",
       "337       3.493669    1.0            1"
      ]
     },
     "execution_count": 48,
     "metadata": {},
     "output_type": "execute_result"
    }
   ],
   "source": [
    "df_scores.head()"
   ]
  },
  {
   "cell_type": "code",
   "execution_count": 51,
   "metadata": {},
   "outputs": [
    {
     "data": {
      "text/html": [
       "<div>\n",
       "<style scoped>\n",
       "    .dataframe tbody tr th:only-of-type {\n",
       "        vertical-align: middle;\n",
       "    }\n",
       "\n",
       "    .dataframe tbody tr th {\n",
       "        vertical-align: top;\n",
       "    }\n",
       "\n",
       "    .dataframe thead th {\n",
       "        text-align: right;\n",
       "    }\n",
       "</style>\n",
       "<table border=\"1\" class=\"dataframe\">\n",
       "  <thead>\n",
       "    <tr style=\"text-align: right;\">\n",
       "      <th></th>\n",
       "      <th>truth</th>\n",
       "      <th>predicted</th>\n",
       "    </tr>\n",
       "  </thead>\n",
       "  <tbody>\n",
       "    <tr>\n",
       "      <th>0</th>\n",
       "      <td>3.0</td>\n",
       "      <td>2.907976</td>\n",
       "    </tr>\n",
       "    <tr>\n",
       "      <th>1</th>\n",
       "      <td>3.0</td>\n",
       "      <td>3.608426</td>\n",
       "    </tr>\n",
       "    <tr>\n",
       "      <th>2</th>\n",
       "      <td>3.0</td>\n",
       "      <td>3.214184</td>\n",
       "    </tr>\n",
       "    <tr>\n",
       "      <th>3</th>\n",
       "      <td>5.0</td>\n",
       "      <td>4.199899</td>\n",
       "    </tr>\n",
       "    <tr>\n",
       "      <th>4</th>\n",
       "      <td>4.0</td>\n",
       "      <td>3.829090</td>\n",
       "    </tr>\n",
       "  </tbody>\n",
       "</table>\n",
       "</div>"
      ],
      "text/plain": [
       "   truth  predicted\n",
       "0    3.0   2.907976\n",
       "1    3.0   3.608426\n",
       "2    3.0   3.214184\n",
       "3    5.0   4.199899\n",
       "4    4.0   3.829090"
      ]
     },
     "execution_count": 51,
     "metadata": {},
     "output_type": "execute_result"
    }
   ],
   "source": [
    "df_ratings.head()"
   ]
  },
  {
   "cell_type": "code",
   "execution_count": null,
   "metadata": {},
   "outputs": [],
   "source": [
    "rank order analysis for recommenders. Predicted score, then % of movies watched by each quantile. "
   ]
  },
  {
   "cell_type": "markdown",
   "metadata": {},
   "source": [
    "# Interactions versus precision plot"
   ]
  },
  {
   "cell_type": "code",
   "execution_count": null,
   "metadata": {},
   "outputs": [],
   "source": [
    "How does the value of predictions relaate to # of interactions from the user? Plot precision by #of user-interactions. "
   ]
  },
  {
   "cell_type": "code",
   "execution_count": null,
   "metadata": {},
   "outputs": [],
   "source": []
  },
  {
   "cell_type": "markdown",
   "metadata": {},
   "source": [
    "# Popularity Bias"
   ]
  },
  {
   "cell_type": "code",
   "execution_count": null,
   "metadata": {},
   "outputs": [],
   "source": [
    "How popular are the items accuratly recommended"
   ]
  }
 ],
 "metadata": {
  "kernelspec": {
   "display_name": "recmetrics",
   "language": "python",
   "name": "recmetrics"
  },
  "language_info": {
   "codemirror_mode": {
    "name": "ipython",
    "version": 2
   },
   "file_extension": ".py",
   "mimetype": "text/x-python",
   "name": "python",
   "nbconvert_exporter": "python",
   "pygments_lexer": "ipython2",
   "version": "2.7.10"
  },
  "toc": {
   "colors": {
    "hover_highlight": "#DAA520",
    "navigate_num": "#000000",
    "navigate_text": "#333333",
    "running_highlight": "#FF0000",
    "selected_highlight": "#FFD700",
    "sidebar_border": "#EEEEEE",
    "wrapper_background": "#FFFFFF"
   },
   "moveMenuLeft": true,
   "nav_menu": {
    "height": "171px",
    "width": "252px"
   },
   "navigate_menu": true,
   "number_sections": true,
   "sideBar": true,
   "skip_h1_title": false,
   "threshold": 4,
   "toc_cell": false,
   "toc_section_display": "block",
   "toc_window_display": false,
   "widenNotebook": false
  }
 },
 "nbformat": 4,
 "nbformat_minor": 2
}
