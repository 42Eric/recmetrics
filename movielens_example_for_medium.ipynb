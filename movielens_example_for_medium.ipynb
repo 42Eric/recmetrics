{
 "cells": [
  {
   "cell_type": "code",
   "execution_count": 1,
   "metadata": {},
   "outputs": [],
   "source": [
    "import pandas as pd\n",
    "import numpy as np\n",
    "from recommender_metrics.plots import LongTailPlot, CoveragePlot, MarkPlot, MapkPlot\n",
    "from recommender_metrics.metrics import mark, coverage, personalization, intra_list_similarity\n",
    "import matplotlib.pyplot as plt"
   ]
  },
  {
   "cell_type": "markdown",
   "metadata": {},
   "source": [
    "# MovieLense Dataset\n",
    "Using the MovieLens 20M Dataset dataset for examples. You can download this data here: https://grouplens.org/datasets/movielens/20m/"
   ]
  },
  {
   "cell_type": "code",
   "execution_count": 2,
   "metadata": {},
   "outputs": [],
   "source": [
    "ratings = pd.read_csv('../movie_similarity_flask_api/data/ml-20m/ratings.csv')\n",
    "ratings = ratings.query('rating >=3')\n",
    "ratings.reset_index(drop=True, inplace=True)"
   ]
  },
  {
   "cell_type": "code",
   "execution_count": 3,
   "metadata": {},
   "outputs": [],
   "source": [
    "pop_movies = ratings.movieId.value_counts().head(10).index.tolist()"
   ]
  },
  {
   "cell_type": "code",
   "execution_count": 4,
   "metadata": {},
   "outputs": [],
   "source": [
    "#only consider ratings from users who have rated over n movies\n",
    "n=1000\n",
    "users = ratings.userId.value_counts()\n",
    "users = users[users>n].index.tolist()"
   ]
  },
  {
   "cell_type": "code",
   "execution_count": 5,
   "metadata": {},
   "outputs": [
    {
     "name": "stdout",
     "output_type": "stream",
     "text": [
      "(1317902, 4)\n"
     ]
    },
    {
     "data": {
      "text/html": [
       "<div>\n",
       "<style scoped>\n",
       "    .dataframe tbody tr th:only-of-type {\n",
       "        vertical-align: middle;\n",
       "    }\n",
       "\n",
       "    .dataframe tbody tr th {\n",
       "        vertical-align: top;\n",
       "    }\n",
       "\n",
       "    .dataframe thead th {\n",
       "        text-align: right;\n",
       "    }\n",
       "</style>\n",
       "<table border=\"1\" class=\"dataframe\">\n",
       "  <thead>\n",
       "    <tr style=\"text-align: right;\">\n",
       "      <th></th>\n",
       "      <th>userId</th>\n",
       "      <th>movieId</th>\n",
       "      <th>rating</th>\n",
       "      <th>timestamp</th>\n",
       "    </tr>\n",
       "  </thead>\n",
       "  <tbody>\n",
       "    <tr>\n",
       "      <th>15918</th>\n",
       "      <td>156</td>\n",
       "      <td>1</td>\n",
       "      <td>5.0</td>\n",
       "      <td>1037739266</td>\n",
       "    </tr>\n",
       "    <tr>\n",
       "      <th>15919</th>\n",
       "      <td>156</td>\n",
       "      <td>2</td>\n",
       "      <td>5.0</td>\n",
       "      <td>1040937649</td>\n",
       "    </tr>\n",
       "    <tr>\n",
       "      <th>15920</th>\n",
       "      <td>156</td>\n",
       "      <td>4</td>\n",
       "      <td>3.0</td>\n",
       "      <td>1038801803</td>\n",
       "    </tr>\n",
       "  </tbody>\n",
       "</table>\n",
       "</div>"
      ],
      "text/plain": [
       "       userId  movieId  rating   timestamp\n",
       "15918     156        1     5.0  1037739266\n",
       "15919     156        2     5.0  1040937649\n",
       "15920     156        4     3.0  1038801803"
      ]
     },
     "execution_count": 5,
     "metadata": {},
     "output_type": "execute_result"
    }
   ],
   "source": [
    "ratings = ratings.query('userId in @users')\n",
    "print ratings.shape\n",
    "ratings.head(3)"
   ]
  },
  {
   "cell_type": "code",
   "execution_count": 6,
   "metadata": {},
   "outputs": [
    {
     "data": {
      "text/html": [
       "<div>\n",
       "<style scoped>\n",
       "    .dataframe tbody tr th:only-of-type {\n",
       "        vertical-align: middle;\n",
       "    }\n",
       "\n",
       "    .dataframe tbody tr th {\n",
       "        vertical-align: top;\n",
       "    }\n",
       "\n",
       "    .dataframe thead th {\n",
       "        text-align: right;\n",
       "    }\n",
       "</style>\n",
       "<table border=\"1\" class=\"dataframe\">\n",
       "  <thead>\n",
       "    <tr style=\"text-align: right;\">\n",
       "      <th></th>\n",
       "      <th>(no genres listed)</th>\n",
       "      <th>Action</th>\n",
       "      <th>Adventure</th>\n",
       "      <th>Animation</th>\n",
       "      <th>Children</th>\n",
       "      <th>Comedy</th>\n",
       "      <th>Crime</th>\n",
       "      <th>Documentary</th>\n",
       "      <th>Drama</th>\n",
       "      <th>Fantasy</th>\n",
       "      <th>Film-Noir</th>\n",
       "      <th>Horror</th>\n",
       "      <th>IMAX</th>\n",
       "      <th>Musical</th>\n",
       "      <th>Mystery</th>\n",
       "      <th>Romance</th>\n",
       "      <th>Sci-Fi</th>\n",
       "      <th>Thriller</th>\n",
       "      <th>War</th>\n",
       "      <th>Western</th>\n",
       "    </tr>\n",
       "    <tr>\n",
       "      <th>movieId</th>\n",
       "      <th></th>\n",
       "      <th></th>\n",
       "      <th></th>\n",
       "      <th></th>\n",
       "      <th></th>\n",
       "      <th></th>\n",
       "      <th></th>\n",
       "      <th></th>\n",
       "      <th></th>\n",
       "      <th></th>\n",
       "      <th></th>\n",
       "      <th></th>\n",
       "      <th></th>\n",
       "      <th></th>\n",
       "      <th></th>\n",
       "      <th></th>\n",
       "      <th></th>\n",
       "      <th></th>\n",
       "      <th></th>\n",
       "      <th></th>\n",
       "    </tr>\n",
       "  </thead>\n",
       "  <tbody>\n",
       "    <tr>\n",
       "      <th>1</th>\n",
       "      <td>0</td>\n",
       "      <td>0</td>\n",
       "      <td>1</td>\n",
       "      <td>0</td>\n",
       "      <td>0</td>\n",
       "      <td>0</td>\n",
       "      <td>0</td>\n",
       "      <td>0</td>\n",
       "      <td>0</td>\n",
       "      <td>0</td>\n",
       "      <td>0</td>\n",
       "      <td>0</td>\n",
       "      <td>0</td>\n",
       "      <td>0</td>\n",
       "      <td>0</td>\n",
       "      <td>0</td>\n",
       "      <td>0</td>\n",
       "      <td>0</td>\n",
       "      <td>0</td>\n",
       "      <td>0</td>\n",
       "    </tr>\n",
       "    <tr>\n",
       "      <th>2</th>\n",
       "      <td>0</td>\n",
       "      <td>0</td>\n",
       "      <td>1</td>\n",
       "      <td>0</td>\n",
       "      <td>0</td>\n",
       "      <td>0</td>\n",
       "      <td>0</td>\n",
       "      <td>0</td>\n",
       "      <td>0</td>\n",
       "      <td>0</td>\n",
       "      <td>0</td>\n",
       "      <td>0</td>\n",
       "      <td>0</td>\n",
       "      <td>0</td>\n",
       "      <td>0</td>\n",
       "      <td>0</td>\n",
       "      <td>0</td>\n",
       "      <td>0</td>\n",
       "      <td>0</td>\n",
       "      <td>0</td>\n",
       "    </tr>\n",
       "    <tr>\n",
       "      <th>3</th>\n",
       "      <td>0</td>\n",
       "      <td>0</td>\n",
       "      <td>0</td>\n",
       "      <td>0</td>\n",
       "      <td>0</td>\n",
       "      <td>1</td>\n",
       "      <td>0</td>\n",
       "      <td>0</td>\n",
       "      <td>0</td>\n",
       "      <td>0</td>\n",
       "      <td>0</td>\n",
       "      <td>0</td>\n",
       "      <td>0</td>\n",
       "      <td>0</td>\n",
       "      <td>0</td>\n",
       "      <td>0</td>\n",
       "      <td>0</td>\n",
       "      <td>0</td>\n",
       "      <td>0</td>\n",
       "      <td>0</td>\n",
       "    </tr>\n",
       "    <tr>\n",
       "      <th>4</th>\n",
       "      <td>0</td>\n",
       "      <td>0</td>\n",
       "      <td>0</td>\n",
       "      <td>0</td>\n",
       "      <td>0</td>\n",
       "      <td>1</td>\n",
       "      <td>0</td>\n",
       "      <td>0</td>\n",
       "      <td>0</td>\n",
       "      <td>0</td>\n",
       "      <td>0</td>\n",
       "      <td>0</td>\n",
       "      <td>0</td>\n",
       "      <td>0</td>\n",
       "      <td>0</td>\n",
       "      <td>0</td>\n",
       "      <td>0</td>\n",
       "      <td>0</td>\n",
       "      <td>0</td>\n",
       "      <td>0</td>\n",
       "    </tr>\n",
       "    <tr>\n",
       "      <th>5</th>\n",
       "      <td>0</td>\n",
       "      <td>0</td>\n",
       "      <td>0</td>\n",
       "      <td>0</td>\n",
       "      <td>0</td>\n",
       "      <td>1</td>\n",
       "      <td>0</td>\n",
       "      <td>0</td>\n",
       "      <td>0</td>\n",
       "      <td>0</td>\n",
       "      <td>0</td>\n",
       "      <td>0</td>\n",
       "      <td>0</td>\n",
       "      <td>0</td>\n",
       "      <td>0</td>\n",
       "      <td>0</td>\n",
       "      <td>0</td>\n",
       "      <td>0</td>\n",
       "      <td>0</td>\n",
       "      <td>0</td>\n",
       "    </tr>\n",
       "  </tbody>\n",
       "</table>\n",
       "</div>"
      ],
      "text/plain": [
       "         (no genres listed)  Action  Adventure  Animation  Children  Comedy  \\\n",
       "movieId                                                                       \n",
       "1                         0       0          1          0         0       0   \n",
       "2                         0       0          1          0         0       0   \n",
       "3                         0       0          0          0         0       1   \n",
       "4                         0       0          0          0         0       1   \n",
       "5                         0       0          0          0         0       1   \n",
       "\n",
       "         Crime  Documentary  Drama  Fantasy  Film-Noir  Horror  IMAX  Musical  \\\n",
       "movieId                                                                         \n",
       "1            0            0      0        0          0       0     0        0   \n",
       "2            0            0      0        0          0       0     0        0   \n",
       "3            0            0      0        0          0       0     0        0   \n",
       "4            0            0      0        0          0       0     0        0   \n",
       "5            0            0      0        0          0       0     0        0   \n",
       "\n",
       "         Mystery  Romance  Sci-Fi  Thriller  War  Western  \n",
       "movieId                                                    \n",
       "1              0        0       0         0    0        0  \n",
       "2              0        0       0         0    0        0  \n",
       "3              0        0       0         0    0        0  \n",
       "4              0        0       0         0    0        0  \n",
       "5              0        0       0         0    0        0  "
      ]
     },
     "execution_count": 6,
     "metadata": {},
     "output_type": "execute_result"
    }
   ],
   "source": [
    "# get movie features\n",
    "\n",
    "rated_movies = ratings.movieId.tolist()\n",
    "movies = pd.read_csv('../movie_similarity_flask_api/data/ml-20m/movies.csv')\n",
    "movies = movies.query('movieId in @rated_movies')\n",
    "movies.set_index(\"movieId\", inplace=True, drop=True)\n",
    "\n",
    "movies = movies.genres.str.split(\"|\", expand=True)\n",
    "movies.reset_index(inplace=True)\n",
    "movies = pd.melt(movies, id_vars='movieId', value_vars=[0, 1, 2, 3, 4, 5, 6, 7, 8, 9])\n",
    "movies.set_index('movieId', inplace=True)\n",
    "\n",
    "movies = pd.get_dummies(movies.value)\n",
    "movies.head()"
   ]
  },
  {
   "cell_type": "code",
   "execution_count": 70,
   "metadata": {},
   "outputs": [
    {
     "data": {
      "text/html": [
       "<div>\n",
       "<style scoped>\n",
       "    .dataframe tbody tr th:only-of-type {\n",
       "        vertical-align: middle;\n",
       "    }\n",
       "\n",
       "    .dataframe tbody tr th {\n",
       "        vertical-align: top;\n",
       "    }\n",
       "\n",
       "    .dataframe thead th {\n",
       "        text-align: right;\n",
       "    }\n",
       "</style>\n",
       "<table border=\"1\" class=\"dataframe\">\n",
       "  <thead>\n",
       "    <tr style=\"text-align: right;\">\n",
       "      <th></th>\n",
       "      <th>Action</th>\n",
       "      <th>Romance</th>\n",
       "      <th>Western</th>\n",
       "      <th>Comedy</th>\n",
       "      <th>Crime</th>\n",
       "    </tr>\n",
       "    <tr>\n",
       "      <th>movieId</th>\n",
       "      <th></th>\n",
       "      <th></th>\n",
       "      <th></th>\n",
       "      <th></th>\n",
       "      <th></th>\n",
       "    </tr>\n",
       "  </thead>\n",
       "  <tbody>\n",
       "    <tr>\n",
       "      <th>131144</th>\n",
       "      <td>0</td>\n",
       "      <td>0</td>\n",
       "      <td>0</td>\n",
       "      <td>1</td>\n",
       "      <td>0</td>\n",
       "    </tr>\n",
       "    <tr>\n",
       "      <th>2890</th>\n",
       "      <td>1</td>\n",
       "      <td>0</td>\n",
       "      <td>0</td>\n",
       "      <td>0</td>\n",
       "      <td>0</td>\n",
       "    </tr>\n",
       "    <tr>\n",
       "      <th>2055</th>\n",
       "      <td>1</td>\n",
       "      <td>0</td>\n",
       "      <td>0</td>\n",
       "      <td>0</td>\n",
       "      <td>0</td>\n",
       "    </tr>\n",
       "    <tr>\n",
       "      <th>27642</th>\n",
       "      <td>0</td>\n",
       "      <td>0</td>\n",
       "      <td>0</td>\n",
       "      <td>0</td>\n",
       "      <td>1</td>\n",
       "    </tr>\n",
       "    <tr>\n",
       "      <th>7420</th>\n",
       "      <td>0</td>\n",
       "      <td>1</td>\n",
       "      <td>0</td>\n",
       "      <td>0</td>\n",
       "      <td>0</td>\n",
       "    </tr>\n",
       "  </tbody>\n",
       "</table>\n",
       "</div>"
      ],
      "text/plain": [
       "         Action  Romance  Western  Comedy  Crime\n",
       "movieId                                         \n",
       "131144        0        0        0       1      0\n",
       "2890          1        0        0       0      0\n",
       "2055          1        0        0       0      0\n",
       "27642         0        0        0       0      1\n",
       "7420          0        1        0       0      0"
      ]
     },
     "execution_count": 70,
     "metadata": {},
     "output_type": "execute_result"
    }
   ],
   "source": [
    "test = movies[['Action', 'Romance', 'Western', 'Comedy', 'Crime']]\n",
    "test = test[test.sum(axis=1)>0]\n",
    "test.sample(5)"
   ]
  },
  {
   "cell_type": "markdown",
   "metadata": {},
   "source": [
    "## Long Tail Plot Example"
   ]
  },
  {
   "cell_type": "code",
   "execution_count": 33,
   "metadata": {},
   "outputs": [
    {
     "data": {
      "image/png": "[encoded data removed]",
      "text/plain": [
       "<Figure size 1080x504 with 1 Axes>"
      ]
     },
     "metadata": {
      "needs_background": "light"
     },
     "output_type": "display_data"
    }
   ],
   "source": [
    "import matplotlib.pyplot as plt\n",
    "\n",
    "fig = plt.figure(figsize=(15, 7))\n",
    "    \n",
    "LongTailPlot(df=ratings, \n",
    "             item_id_column=\"movieId\", \n",
    "             interaction_type=\"movie ratings\", \n",
    "             percentage=0.8,\n",
    "             x_labels=False)"
   ]
  },
  {
   "cell_type": "markdown",
   "metadata": {},
   "source": [
    "## test/train split"
   ]
  },
  {
   "cell_type": "code",
   "execution_count": 8,
   "metadata": {},
   "outputs": [
    {
     "name": "stderr",
     "output_type": "stream",
     "text": [
      "/Users/clairelongo/Documents/Work/prof_dev/recommender_metrics/venv/lib/python2.7/site-packages/ipykernel_launcher.py:11: FutureWarning: using a dict on a Series for aggregation\n",
      "is deprecated and will be removed in a future version\n",
      "  # This is added back by InteractiveShellApp.init_path()\n"
     ]
    },
    {
     "data": {
      "text/html": [
       "<div>\n",
       "<style scoped>\n",
       "    .dataframe tbody tr th:only-of-type {\n",
       "        vertical-align: middle;\n",
       "    }\n",
       "\n",
       "    .dataframe tbody tr th {\n",
       "        vertical-align: top;\n",
       "    }\n",
       "\n",
       "    .dataframe thead th {\n",
       "        text-align: right;\n",
       "    }\n",
       "</style>\n",
       "<table border=\"1\" class=\"dataframe\">\n",
       "  <thead>\n",
       "    <tr style=\"text-align: right;\">\n",
       "      <th></th>\n",
       "      <th>actual</th>\n",
       "    </tr>\n",
       "    <tr>\n",
       "      <th>userId</th>\n",
       "      <th></th>\n",
       "    </tr>\n",
       "  </thead>\n",
       "  <tbody>\n",
       "    <tr>\n",
       "      <th>156</th>\n",
       "      <td>[5638, 6156, 3330, 3598, 3087, 4628, 2581, 412...</td>\n",
       "    </tr>\n",
       "    <tr>\n",
       "      <th>208</th>\n",
       "      <td>[517, 4103, 55820, 5135, 72720, 4117, 535, 338...</td>\n",
       "    </tr>\n",
       "    <tr>\n",
       "      <th>359</th>\n",
       "      <td>[4011, 37382, 3081, 1546, 1049, 3098, 541, 483...</td>\n",
       "    </tr>\n",
       "    <tr>\n",
       "      <th>394</th>\n",
       "      <td>[2054, 1035, 60943, 3091, 21, 4121, 2076, 541,...</td>\n",
       "    </tr>\n",
       "    <tr>\n",
       "      <th>572</th>\n",
       "      <td>[2, 39427, 54276, 1029, 37384, 33794, 42002, 5...</td>\n",
       "    </tr>\n",
       "  </tbody>\n",
       "</table>\n",
       "</div>"
      ],
      "text/plain": [
       "                                                   actual\n",
       "userId                                                   \n",
       "156     [5638, 6156, 3330, 3598, 3087, 4628, 2581, 412...\n",
       "208     [517, 4103, 55820, 5135, 72720, 4117, 535, 338...\n",
       "359     [4011, 37382, 3081, 1546, 1049, 3098, 541, 483...\n",
       "394     [2054, 1035, 60943, 3091, 21, 4121, 2076, 541,...\n",
       "572     [2, 39427, 54276, 1029, 37384, 33794, 42002, 5..."
      ]
     },
     "execution_count": 8,
     "metadata": {},
     "output_type": "execute_result"
    }
   ],
   "source": [
    "# the test data contains 100 movies from each user that are rated greater than 3 stars\n",
    "test_index = ratings.copy()\n",
    "test_index = test_index.groupby('userId')\n",
    "test_index = test_index.apply(lambda x: x.sample(min(100, len(x))))\n",
    "\n",
    "test_index.drop(axis=1, columns=\"userId\", inplace=True)\n",
    "test_index.reset_index(inplace=True, drop=False)\n",
    "test_index = test_index.level_1.values.tolist()\n",
    "\n",
    "test_df = ratings.loc[test_index]\n",
    "test = test_df.copy().groupby('userId')['movieId'].agg({'actual': (lambda x: list(set(x)))})\n",
    "test.head()"
   ]
  },
  {
   "cell_type": "code",
   "execution_count": 9,
   "metadata": {},
   "outputs": [
    {
     "data": {
      "text/html": [
       "<div>\n",
       "<style scoped>\n",
       "    .dataframe tbody tr th:only-of-type {\n",
       "        vertical-align: middle;\n",
       "    }\n",
       "\n",
       "    .dataframe tbody tr th {\n",
       "        vertical-align: top;\n",
       "    }\n",
       "\n",
       "    .dataframe thead th {\n",
       "        text-align: right;\n",
       "    }\n",
       "</style>\n",
       "<table border=\"1\" class=\"dataframe\">\n",
       "  <thead>\n",
       "    <tr style=\"text-align: right;\">\n",
       "      <th></th>\n",
       "      <th>userId</th>\n",
       "      <th>movieId</th>\n",
       "      <th>rating</th>\n",
       "      <th>timestamp</th>\n",
       "    </tr>\n",
       "  </thead>\n",
       "  <tbody>\n",
       "    <tr>\n",
       "      <th>15918</th>\n",
       "      <td>156</td>\n",
       "      <td>1</td>\n",
       "      <td>5.0</td>\n",
       "      <td>1037739266</td>\n",
       "    </tr>\n",
       "    <tr>\n",
       "      <th>15919</th>\n",
       "      <td>156</td>\n",
       "      <td>2</td>\n",
       "      <td>5.0</td>\n",
       "      <td>1040937649</td>\n",
       "    </tr>\n",
       "    <tr>\n",
       "      <th>15920</th>\n",
       "      <td>156</td>\n",
       "      <td>4</td>\n",
       "      <td>3.0</td>\n",
       "      <td>1038801803</td>\n",
       "    </tr>\n",
       "    <tr>\n",
       "      <th>15921</th>\n",
       "      <td>156</td>\n",
       "      <td>5</td>\n",
       "      <td>3.0</td>\n",
       "      <td>1040944583</td>\n",
       "    </tr>\n",
       "    <tr>\n",
       "      <th>15922</th>\n",
       "      <td>156</td>\n",
       "      <td>6</td>\n",
       "      <td>4.0</td>\n",
       "      <td>1037822117</td>\n",
       "    </tr>\n",
       "  </tbody>\n",
       "</table>\n",
       "</div>"
      ],
      "text/plain": [
       "       userId  movieId  rating   timestamp\n",
       "15918     156        1     5.0  1037739266\n",
       "15919     156        2     5.0  1040937649\n",
       "15920     156        4     3.0  1038801803\n",
       "15921     156        5     3.0  1040944583\n",
       "15922     156        6     4.0  1037822117"
      ]
     },
     "execution_count": 9,
     "metadata": {},
     "output_type": "execute_result"
    }
   ],
   "source": [
    "train_long = ratings[~ratings.index.isin(test_index)].dropna()\n",
    "train_long.head()"
   ]
  },
  {
   "cell_type": "markdown",
   "metadata": {},
   "source": [
    "# Popularity Recommender\n",
    "Creating a simple popularity recommender to demonstrate recommender metrics in action. The popularity recommender simply recommends the top 10 movies to every user."
   ]
  },
  {
   "cell_type": "code",
   "execution_count": 10,
   "metadata": {},
   "outputs": [
    {
     "data": {
      "text/html": [
       "<div>\n",
       "<style scoped>\n",
       "    .dataframe tbody tr th:only-of-type {\n",
       "        vertical-align: middle;\n",
       "    }\n",
       "\n",
       "    .dataframe tbody tr th {\n",
       "        vertical-align: top;\n",
       "    }\n",
       "\n",
       "    .dataframe thead th {\n",
       "        text-align: right;\n",
       "    }\n",
       "</style>\n",
       "<table border=\"1\" class=\"dataframe\">\n",
       "  <thead>\n",
       "    <tr style=\"text-align: right;\">\n",
       "      <th></th>\n",
       "      <th>actual</th>\n",
       "      <th>pop_predictions</th>\n",
       "    </tr>\n",
       "    <tr>\n",
       "      <th>userId</th>\n",
       "      <th></th>\n",
       "      <th></th>\n",
       "    </tr>\n",
       "  </thead>\n",
       "  <tbody>\n",
       "    <tr>\n",
       "      <th>156</th>\n",
       "      <td>[5638, 6156, 3330, 3598, 3087, 4628, 2581, 412...</td>\n",
       "      <td>[296, 318, 356, 593, 480, 260, 110, 589, 2571,...</td>\n",
       "    </tr>\n",
       "    <tr>\n",
       "      <th>208</th>\n",
       "      <td>[517, 4103, 55820, 5135, 72720, 4117, 535, 338...</td>\n",
       "      <td>[296, 318, 356, 593, 480, 260, 110, 589, 2571,...</td>\n",
       "    </tr>\n",
       "    <tr>\n",
       "      <th>359</th>\n",
       "      <td>[4011, 37382, 3081, 1546, 1049, 3098, 541, 483...</td>\n",
       "      <td>[296, 318, 356, 593, 480, 260, 110, 589, 2571,...</td>\n",
       "    </tr>\n",
       "    <tr>\n",
       "      <th>394</th>\n",
       "      <td>[2054, 1035, 60943, 3091, 21, 4121, 2076, 541,...</td>\n",
       "      <td>[296, 318, 356, 593, 480, 260, 110, 589, 2571,...</td>\n",
       "    </tr>\n",
       "    <tr>\n",
       "      <th>572</th>\n",
       "      <td>[2, 39427, 54276, 1029, 37384, 33794, 42002, 5...</td>\n",
       "      <td>[296, 318, 356, 593, 480, 260, 110, 589, 2571,...</td>\n",
       "    </tr>\n",
       "  </tbody>\n",
       "</table>\n",
       "</div>"
      ],
      "text/plain": [
       "                                                   actual  \\\n",
       "userId                                                      \n",
       "156     [5638, 6156, 3330, 3598, 3087, 4628, 2581, 412...   \n",
       "208     [517, 4103, 55820, 5135, 72720, 4117, 535, 338...   \n",
       "359     [4011, 37382, 3081, 1546, 1049, 3098, 541, 483...   \n",
       "394     [2054, 1035, 60943, 3091, 21, 4121, 2076, 541,...   \n",
       "572     [2, 39427, 54276, 1029, 37384, 33794, 42002, 5...   \n",
       "\n",
       "                                          pop_predictions  \n",
       "userId                                                     \n",
       "156     [296, 318, 356, 593, 480, 260, 110, 589, 2571,...  \n",
       "208     [296, 318, 356, 593, 480, 260, 110, 589, 2571,...  \n",
       "359     [296, 318, 356, 593, 480, 260, 110, 589, 2571,...  \n",
       "394     [296, 318, 356, 593, 480, 260, 110, 589, 2571,...  \n",
       "572     [296, 318, 356, 593, 480, 260, 110, 589, 2571,...  "
      ]
     },
     "execution_count": 10,
     "metadata": {},
     "output_type": "execute_result"
    }
   ],
   "source": [
    "#make recommendations for all members in the test data\n",
    "\n",
    "recs = []\n",
    "for user in test.index.tolist():\n",
    "    pop_predictions = pop_movies\n",
    "    recs.append(pop_predictions)\n",
    "        \n",
    "test['pop_predictions'] = recs\n",
    "test.head()"
   ]
  },
  {
   "cell_type": "code",
   "execution_count": 11,
   "metadata": {},
   "outputs": [],
   "source": [
    "actual = test.actual.values.tolist()\n",
    "pop_predictions = test.pop_predictions.values.tolist()"
   ]
  },
  {
   "cell_type": "markdown",
   "metadata": {},
   "source": [
    "# Random Recommender\n",
    "Creating a simple random recommender to demonstrate recommender metrics in action. The random recommender simply recommends 10 random movies to every user."
   ]
  },
  {
   "cell_type": "code",
   "execution_count": 83,
   "metadata": {},
   "outputs": [
    {
     "data": {
      "text/html": [
       "<div>\n",
       "<style scoped>\n",
       "    .dataframe tbody tr th:only-of-type {\n",
       "        vertical-align: middle;\n",
       "    }\n",
       "\n",
       "    .dataframe tbody tr th {\n",
       "        vertical-align: top;\n",
       "    }\n",
       "\n",
       "    .dataframe thead th {\n",
       "        text-align: right;\n",
       "    }\n",
       "</style>\n",
       "<table border=\"1\" class=\"dataframe\">\n",
       "  <thead>\n",
       "    <tr style=\"text-align: right;\">\n",
       "      <th></th>\n",
       "      <th>Action</th>\n",
       "      <th>Romance</th>\n",
       "      <th>Western</th>\n",
       "      <th>Comedy</th>\n",
       "      <th>Crime</th>\n",
       "      <th>random_predictions</th>\n",
       "    </tr>\n",
       "    <tr>\n",
       "      <th>movieId</th>\n",
       "      <th></th>\n",
       "      <th></th>\n",
       "      <th></th>\n",
       "      <th></th>\n",
       "      <th></th>\n",
       "      <th></th>\n",
       "    </tr>\n",
       "  </thead>\n",
       "  <tbody>\n",
       "    <tr>\n",
       "      <th>3</th>\n",
       "      <td>0</td>\n",
       "      <td>0</td>\n",
       "      <td>0</td>\n",
       "      <td>1</td>\n",
       "      <td>0</td>\n",
       "      <td>[108151, 102852, 32770, 7080, 6586, 27189, 905...</td>\n",
       "    </tr>\n",
       "    <tr>\n",
       "      <th>4</th>\n",
       "      <td>0</td>\n",
       "      <td>0</td>\n",
       "      <td>0</td>\n",
       "      <td>1</td>\n",
       "      <td>0</td>\n",
       "      <td>[31737, 108819, 26694, 89582, 44663, 88740, 73...</td>\n",
       "    </tr>\n",
       "    <tr>\n",
       "      <th>5</th>\n",
       "      <td>0</td>\n",
       "      <td>0</td>\n",
       "      <td>0</td>\n",
       "      <td>1</td>\n",
       "      <td>0</td>\n",
       "      <td>[2563, 104335, 3407, 4, 99050, 2605, 80812, 21...</td>\n",
       "    </tr>\n",
       "    <tr>\n",
       "      <th>6</th>\n",
       "      <td>1</td>\n",
       "      <td>0</td>\n",
       "      <td>0</td>\n",
       "      <td>0</td>\n",
       "      <td>0</td>\n",
       "      <td>[100591, 74698, 8607, 5722, 6201, 3087, 2364, ...</td>\n",
       "    </tr>\n",
       "    <tr>\n",
       "      <th>7</th>\n",
       "      <td>0</td>\n",
       "      <td>0</td>\n",
       "      <td>0</td>\n",
       "      <td>1</td>\n",
       "      <td>0</td>\n",
       "      <td>[3378, 52995, 6255, 88493, 113636, 106762, 323...</td>\n",
       "    </tr>\n",
       "  </tbody>\n",
       "</table>\n",
       "</div>"
      ],
      "text/plain": [
       "         Action  Romance  Western  Comedy  Crime  \\\n",
       "movieId                                            \n",
       "3             0        0        0       1      0   \n",
       "4             0        0        0       1      0   \n",
       "5             0        0        0       1      0   \n",
       "6             1        0        0       0      0   \n",
       "7             0        0        0       1      0   \n",
       "\n",
       "                                        random_predictions  \n",
       "movieId                                                     \n",
       "3        [108151, 102852, 32770, 7080, 6586, 27189, 905...  \n",
       "4        [31737, 108819, 26694, 89582, 44663, 88740, 73...  \n",
       "5        [2563, 104335, 3407, 4, 99050, 2605, 80812, 21...  \n",
       "6        [100591, 74698, 8607, 5722, 6201, 3087, 2364, ...  \n",
       "7        [3378, 52995, 6255, 88493, 113636, 106762, 323...  "
      ]
     },
     "execution_count": 83,
     "metadata": {},
     "output_type": "execute_result"
    }
   ],
   "source": [
    "#make recommendations for all members in the test data\n",
    "\n",
    "recs = []\n",
    "for user in test.index.tolist():\n",
    "    random_predictions = pd.Series(train_long.movieId.unique()).sample(10).values.tolist()\n",
    "    recs.append(random_predictions)\n",
    "        \n",
    "test['random_predictions'] = recs\n",
    "test.head()"
   ]
  },
  {
   "cell_type": "code",
   "execution_count": 84,
   "metadata": {},
   "outputs": [],
   "source": [
    "random_predictions = test.random_predictions.values.tolist()"
   ]
  },
  {
   "cell_type": "markdown",
   "metadata": {},
   "source": [
    "# Collaborative Filter Recommender\n",
    "Creating a simple CF to demonstrate recommender metrics in action. The collaborative filter transforms user-item interactions into latent space, and reconstructs the user-item matrix to impute ratings missing movie ratings. The predicted rating is the dot product between the user and movie vectors in latent space. "
   ]
  },
  {
   "cell_type": "code",
   "execution_count": 14,
   "metadata": {},
   "outputs": [
    {
     "data": {
      "text/html": [
       "<div>\n",
       "<style scoped>\n",
       "    .dataframe tbody tr th:only-of-type {\n",
       "        vertical-align: middle;\n",
       "    }\n",
       "\n",
       "    .dataframe tbody tr th {\n",
       "        vertical-align: top;\n",
       "    }\n",
       "\n",
       "    .dataframe thead th {\n",
       "        text-align: right;\n",
       "    }\n",
       "</style>\n",
       "<table border=\"1\" class=\"dataframe\">\n",
       "  <thead>\n",
       "    <tr style=\"text-align: right;\">\n",
       "      <th>movieId</th>\n",
       "      <th>1</th>\n",
       "      <th>2</th>\n",
       "      <th>3</th>\n",
       "      <th>4</th>\n",
       "      <th>5</th>\n",
       "      <th>6</th>\n",
       "      <th>7</th>\n",
       "      <th>8</th>\n",
       "      <th>9</th>\n",
       "      <th>10</th>\n",
       "      <th>...</th>\n",
       "      <th>131176</th>\n",
       "      <th>131231</th>\n",
       "      <th>131239</th>\n",
       "      <th>131241</th>\n",
       "      <th>131243</th>\n",
       "      <th>131248</th>\n",
       "      <th>131250</th>\n",
       "      <th>131252</th>\n",
       "      <th>131254</th>\n",
       "      <th>131256</th>\n",
       "    </tr>\n",
       "    <tr>\n",
       "      <th>userId</th>\n",
       "      <th></th>\n",
       "      <th></th>\n",
       "      <th></th>\n",
       "      <th></th>\n",
       "      <th></th>\n",
       "      <th></th>\n",
       "      <th></th>\n",
       "      <th></th>\n",
       "      <th></th>\n",
       "      <th></th>\n",
       "      <th></th>\n",
       "      <th></th>\n",
       "      <th></th>\n",
       "      <th></th>\n",
       "      <th></th>\n",
       "      <th></th>\n",
       "      <th></th>\n",
       "      <th></th>\n",
       "      <th></th>\n",
       "      <th></th>\n",
       "      <th></th>\n",
       "    </tr>\n",
       "  </thead>\n",
       "  <tbody>\n",
       "    <tr>\n",
       "      <th>156</th>\n",
       "      <td>5.0</td>\n",
       "      <td>5.0</td>\n",
       "      <td>0.0</td>\n",
       "      <td>3.0</td>\n",
       "      <td>3.0</td>\n",
       "      <td>4.0</td>\n",
       "      <td>4.0</td>\n",
       "      <td>0.0</td>\n",
       "      <td>3.0</td>\n",
       "      <td>4.0</td>\n",
       "      <td>...</td>\n",
       "      <td>0.0</td>\n",
       "      <td>0.0</td>\n",
       "      <td>0.0</td>\n",
       "      <td>0.0</td>\n",
       "      <td>0.0</td>\n",
       "      <td>0.0</td>\n",
       "      <td>0.0</td>\n",
       "      <td>0.0</td>\n",
       "      <td>0.0</td>\n",
       "      <td>0.0</td>\n",
       "    </tr>\n",
       "    <tr>\n",
       "      <th>208</th>\n",
       "      <td>4.0</td>\n",
       "      <td>0.0</td>\n",
       "      <td>0.0</td>\n",
       "      <td>0.0</td>\n",
       "      <td>0.0</td>\n",
       "      <td>0.0</td>\n",
       "      <td>0.0</td>\n",
       "      <td>0.0</td>\n",
       "      <td>0.0</td>\n",
       "      <td>0.0</td>\n",
       "      <td>...</td>\n",
       "      <td>0.0</td>\n",
       "      <td>0.0</td>\n",
       "      <td>0.0</td>\n",
       "      <td>0.0</td>\n",
       "      <td>0.0</td>\n",
       "      <td>0.0</td>\n",
       "      <td>0.0</td>\n",
       "      <td>0.0</td>\n",
       "      <td>0.0</td>\n",
       "      <td>0.0</td>\n",
       "    </tr>\n",
       "    <tr>\n",
       "      <th>359</th>\n",
       "      <td>5.0</td>\n",
       "      <td>0.0</td>\n",
       "      <td>0.0</td>\n",
       "      <td>0.0</td>\n",
       "      <td>0.0</td>\n",
       "      <td>5.0</td>\n",
       "      <td>0.0</td>\n",
       "      <td>0.0</td>\n",
       "      <td>0.0</td>\n",
       "      <td>4.0</td>\n",
       "      <td>...</td>\n",
       "      <td>0.0</td>\n",
       "      <td>0.0</td>\n",
       "      <td>0.0</td>\n",
       "      <td>0.0</td>\n",
       "      <td>0.0</td>\n",
       "      <td>0.0</td>\n",
       "      <td>0.0</td>\n",
       "      <td>0.0</td>\n",
       "      <td>0.0</td>\n",
       "      <td>0.0</td>\n",
       "    </tr>\n",
       "  </tbody>\n",
       "</table>\n",
       "<p>3 rows × 21796 columns</p>\n",
       "</div>"
      ],
      "text/plain": [
       "movieId  1       2       3       4       5       6       7       8       \\\n",
       "userId                                                                    \n",
       "156         5.0     5.0     0.0     3.0     3.0     4.0     4.0     0.0   \n",
       "208         4.0     0.0     0.0     0.0     0.0     0.0     0.0     0.0   \n",
       "359         5.0     0.0     0.0     0.0     0.0     5.0     0.0     0.0   \n",
       "\n",
       "movieId  9       10       ...    131176  131231  131239  131241  131243  \\\n",
       "userId                    ...                                             \n",
       "156         3.0     4.0   ...       0.0     0.0     0.0     0.0     0.0   \n",
       "208         0.0     0.0   ...       0.0     0.0     0.0     0.0     0.0   \n",
       "359         0.0     4.0   ...       0.0     0.0     0.0     0.0     0.0   \n",
       "\n",
       "movieId  131248  131250  131252  131254  131256  \n",
       "userId                                           \n",
       "156         0.0     0.0     0.0     0.0     0.0  \n",
       "208         0.0     0.0     0.0     0.0     0.0  \n",
       "359         0.0     0.0     0.0     0.0     0.0  \n",
       "\n",
       "[3 rows x 21796 columns]"
      ]
     },
     "execution_count": 14,
     "metadata": {},
     "output_type": "execute_result"
    }
   ],
   "source": [
    "train_pivot = train_long.pivot(index = 'userId', columns ='movieId', values = 'rating').fillna(0)\n",
    "user_index = train_pivot.index.tolist()\n",
    "movie_index = train_pivot.columns.tolist()\n",
    "train_pivot.head(3)"
   ]
  },
  {
   "cell_type": "code",
   "execution_count": 15,
   "metadata": {},
   "outputs": [],
   "source": [
    "from scipy.sparse import csr_matrix\n",
    "from scipy.sparse.linalg import svds\n",
    "\n",
    "#svd\n",
    "U, sigma, Vt = svds(train_pivot, k=100) # k is the number of factors\n",
    "eigvals = sigma**2 / np.cumsum(sigma)[-1]\n",
    "eigvals = eigvals[::-1]\n",
    "sigma = np.diag(sigma)\n",
    "\n",
    "#reconstruct ratings matrix\n",
    "cf_model = np.dot(np.dot(U, sigma), Vt) \n",
    "cf_model = pd.DataFrame(cf_model, index=user_index, columns=movie_index)"
   ]
  },
  {
   "cell_type": "code",
   "execution_count": 16,
   "metadata": {},
   "outputs": [
    {
     "data": {
      "text/html": [
       "<div>\n",
       "<style scoped>\n",
       "    .dataframe tbody tr th:only-of-type {\n",
       "        vertical-align: middle;\n",
       "    }\n",
       "\n",
       "    .dataframe tbody tr th {\n",
       "        vertical-align: top;\n",
       "    }\n",
       "\n",
       "    .dataframe thead th {\n",
       "        text-align: right;\n",
       "    }\n",
       "</style>\n",
       "<table border=\"1\" class=\"dataframe\">\n",
       "  <thead>\n",
       "    <tr style=\"text-align: right;\">\n",
       "      <th></th>\n",
       "      <th>1</th>\n",
       "      <th>2</th>\n",
       "      <th>3</th>\n",
       "      <th>4</th>\n",
       "      <th>5</th>\n",
       "      <th>6</th>\n",
       "      <th>7</th>\n",
       "      <th>8</th>\n",
       "      <th>9</th>\n",
       "      <th>10</th>\n",
       "      <th>...</th>\n",
       "      <th>131176</th>\n",
       "      <th>131231</th>\n",
       "      <th>131239</th>\n",
       "      <th>131241</th>\n",
       "      <th>131243</th>\n",
       "      <th>131248</th>\n",
       "      <th>131250</th>\n",
       "      <th>131252</th>\n",
       "      <th>131254</th>\n",
       "      <th>131256</th>\n",
       "    </tr>\n",
       "  </thead>\n",
       "  <tbody>\n",
       "    <tr>\n",
       "      <th>156</th>\n",
       "      <td>3.177957</td>\n",
       "      <td>4.396834</td>\n",
       "      <td>1.084615</td>\n",
       "      <td>2.239511</td>\n",
       "      <td>1.779075</td>\n",
       "      <td>3.151380</td>\n",
       "      <td>3.623664</td>\n",
       "      <td>1.045843</td>\n",
       "      <td>1.525501</td>\n",
       "      <td>3.444393</td>\n",
       "      <td>...</td>\n",
       "      <td>0.008127</td>\n",
       "      <td>-0.005610</td>\n",
       "      <td>-0.014378</td>\n",
       "      <td>-0.014378</td>\n",
       "      <td>-0.014378</td>\n",
       "      <td>-0.014378</td>\n",
       "      <td>-0.014378</td>\n",
       "      <td>-0.014378</td>\n",
       "      <td>-0.014378</td>\n",
       "      <td>-0.014378</td>\n",
       "    </tr>\n",
       "    <tr>\n",
       "      <th>208</th>\n",
       "      <td>3.492607</td>\n",
       "      <td>0.287707</td>\n",
       "      <td>-0.137562</td>\n",
       "      <td>0.480639</td>\n",
       "      <td>-0.127609</td>\n",
       "      <td>1.463084</td>\n",
       "      <td>0.496015</td>\n",
       "      <td>-0.056589</td>\n",
       "      <td>0.252973</td>\n",
       "      <td>0.044338</td>\n",
       "      <td>...</td>\n",
       "      <td>0.014313</td>\n",
       "      <td>0.034297</td>\n",
       "      <td>-0.025579</td>\n",
       "      <td>-0.025579</td>\n",
       "      <td>-0.025579</td>\n",
       "      <td>-0.025579</td>\n",
       "      <td>-0.025579</td>\n",
       "      <td>-0.025579</td>\n",
       "      <td>-0.025579</td>\n",
       "      <td>-0.025579</td>\n",
       "    </tr>\n",
       "    <tr>\n",
       "      <th>359</th>\n",
       "      <td>4.365899</td>\n",
       "      <td>1.595487</td>\n",
       "      <td>0.275698</td>\n",
       "      <td>0.026416</td>\n",
       "      <td>0.544452</td>\n",
       "      <td>4.149262</td>\n",
       "      <td>0.983877</td>\n",
       "      <td>0.012946</td>\n",
       "      <td>0.396064</td>\n",
       "      <td>1.988424</td>\n",
       "      <td>...</td>\n",
       "      <td>-0.007279</td>\n",
       "      <td>-0.038532</td>\n",
       "      <td>0.013371</td>\n",
       "      <td>0.013371</td>\n",
       "      <td>0.013371</td>\n",
       "      <td>0.013371</td>\n",
       "      <td>0.013371</td>\n",
       "      <td>0.013371</td>\n",
       "      <td>0.013371</td>\n",
       "      <td>0.013371</td>\n",
       "    </tr>\n",
       "    <tr>\n",
       "      <th>394</th>\n",
       "      <td>3.760275</td>\n",
       "      <td>0.463533</td>\n",
       "      <td>0.226879</td>\n",
       "      <td>-0.028666</td>\n",
       "      <td>-0.265353</td>\n",
       "      <td>1.611357</td>\n",
       "      <td>0.045185</td>\n",
       "      <td>-0.130933</td>\n",
       "      <td>0.182503</td>\n",
       "      <td>0.583177</td>\n",
       "      <td>...</td>\n",
       "      <td>-0.033707</td>\n",
       "      <td>-0.060559</td>\n",
       "      <td>-0.021201</td>\n",
       "      <td>-0.021201</td>\n",
       "      <td>-0.021201</td>\n",
       "      <td>-0.021201</td>\n",
       "      <td>-0.021201</td>\n",
       "      <td>-0.021201</td>\n",
       "      <td>-0.021201</td>\n",
       "      <td>-0.021201</td>\n",
       "    </tr>\n",
       "    <tr>\n",
       "      <th>572</th>\n",
       "      <td>3.737946</td>\n",
       "      <td>1.895750</td>\n",
       "      <td>2.554096</td>\n",
       "      <td>-0.251839</td>\n",
       "      <td>2.355477</td>\n",
       "      <td>1.016846</td>\n",
       "      <td>0.766895</td>\n",
       "      <td>0.053434</td>\n",
       "      <td>0.152712</td>\n",
       "      <td>1.325933</td>\n",
       "      <td>...</td>\n",
       "      <td>0.055071</td>\n",
       "      <td>-0.020463</td>\n",
       "      <td>-0.012843</td>\n",
       "      <td>-0.012843</td>\n",
       "      <td>-0.012843</td>\n",
       "      <td>-0.012843</td>\n",
       "      <td>-0.012843</td>\n",
       "      <td>-0.012843</td>\n",
       "      <td>-0.012843</td>\n",
       "      <td>-0.012843</td>\n",
       "    </tr>\n",
       "  </tbody>\n",
       "</table>\n",
       "<p>5 rows × 21796 columns</p>\n",
       "</div>"
      ],
      "text/plain": [
       "       1         2         3         4         5         6         7       \\\n",
       "156  3.177957  4.396834  1.084615  2.239511  1.779075  3.151380  3.623664   \n",
       "208  3.492607  0.287707 -0.137562  0.480639 -0.127609  1.463084  0.496015   \n",
       "359  4.365899  1.595487  0.275698  0.026416  0.544452  4.149262  0.983877   \n",
       "394  3.760275  0.463533  0.226879 -0.028666 -0.265353  1.611357  0.045185   \n",
       "572  3.737946  1.895750  2.554096 -0.251839  2.355477  1.016846  0.766895   \n",
       "\n",
       "       8         9         10        ...       131176    131231    131239  \\\n",
       "156  1.045843  1.525501  3.444393    ...     0.008127 -0.005610 -0.014378   \n",
       "208 -0.056589  0.252973  0.044338    ...     0.014313  0.034297 -0.025579   \n",
       "359  0.012946  0.396064  1.988424    ...    -0.007279 -0.038532  0.013371   \n",
       "394 -0.130933  0.182503  0.583177    ...    -0.033707 -0.060559 -0.021201   \n",
       "572  0.053434  0.152712  1.325933    ...     0.055071 -0.020463 -0.012843   \n",
       "\n",
       "       131241    131243    131248    131250    131252    131254    131256  \n",
       "156 -0.014378 -0.014378 -0.014378 -0.014378 -0.014378 -0.014378 -0.014378  \n",
       "208 -0.025579 -0.025579 -0.025579 -0.025579 -0.025579 -0.025579 -0.025579  \n",
       "359  0.013371  0.013371  0.013371  0.013371  0.013371  0.013371  0.013371  \n",
       "394 -0.021201 -0.021201 -0.021201 -0.021201 -0.021201 -0.021201 -0.021201  \n",
       "572 -0.012843 -0.012843 -0.012843 -0.012843 -0.012843 -0.012843 -0.012843  \n",
       "\n",
       "[5 rows x 21796 columns]"
      ]
     },
     "execution_count": 16,
     "metadata": {},
     "output_type": "execute_result"
    }
   ],
   "source": [
    "cf_model.head()"
   ]
  },
  {
   "cell_type": "code",
   "execution_count": 17,
   "metadata": {},
   "outputs": [],
   "source": [
    "def get_users_predictions(user_id, n, model, train_long):\n",
    "    recommended_items = pd.DataFrame(model.loc[user_id])\n",
    "    recommended_items.columns = [\"predicted_rating\"]\n",
    "    recommended_items = recommended_items.sort_values('predicted_rating', ascending=False)    \n",
    "    rated_items_from_train = train_long.query('userId == @user_id').movieId.tolist()\n",
    "    recommended_items = recommended_items[~recommended_items.index.isin(rated_items_from_train)]\n",
    "    recommended_items = recommended_items.head(n)\n",
    "    return recommended_items.index.tolist()"
   ]
  },
  {
   "cell_type": "code",
   "execution_count": 18,
   "metadata": {},
   "outputs": [
    {
     "data": {
      "text/plain": [
       "[2672, 3361, 3494, 4855, 3702, 4361, 1616, 1620, 2889, 1721]"
      ]
     },
     "execution_count": 18,
     "metadata": {},
     "output_type": "execute_result"
    }
   ],
   "source": [
    "get_users_predictions(156, 10, cf_model, train_long)"
   ]
  },
  {
   "cell_type": "code",
   "execution_count": 19,
   "metadata": {},
   "outputs": [
    {
     "data": {
      "text/html": [
       "<div>\n",
       "<style scoped>\n",
       "    .dataframe tbody tr th:only-of-type {\n",
       "        vertical-align: middle;\n",
       "    }\n",
       "\n",
       "    .dataframe tbody tr th {\n",
       "        vertical-align: top;\n",
       "    }\n",
       "\n",
       "    .dataframe thead th {\n",
       "        text-align: right;\n",
       "    }\n",
       "</style>\n",
       "<table border=\"1\" class=\"dataframe\">\n",
       "  <thead>\n",
       "    <tr style=\"text-align: right;\">\n",
       "      <th></th>\n",
       "      <th>actual</th>\n",
       "      <th>pop_predictions</th>\n",
       "      <th>random_predictions</th>\n",
       "      <th>cf_predictions</th>\n",
       "    </tr>\n",
       "    <tr>\n",
       "      <th>userId</th>\n",
       "      <th></th>\n",
       "      <th></th>\n",
       "      <th></th>\n",
       "      <th></th>\n",
       "    </tr>\n",
       "  </thead>\n",
       "  <tbody>\n",
       "    <tr>\n",
       "      <th>156</th>\n",
       "      <td>[5638, 6156, 3330, 3598, 3087, 4628, 2581, 412...</td>\n",
       "      <td>[296, 318, 356, 593, 480, 260, 110, 589, 2571,...</td>\n",
       "      <td>[1931, 3211, 100383, 4474, 337, 1037, 4034, 88...</td>\n",
       "      <td>[2672, 3361, 3494, 4855, 3702, 4361, 1616, 162...</td>\n",
       "    </tr>\n",
       "    <tr>\n",
       "      <th>208</th>\n",
       "      <td>[517, 4103, 55820, 5135, 72720, 4117, 535, 338...</td>\n",
       "      <td>[296, 318, 356, 593, 480, 260, 110, 589, 2571,...</td>\n",
       "      <td>[59315, 94896, 97304, 2650, 319, 7147, 3969, 1...</td>\n",
       "      <td>[3996, 515, 608, 1147, 1256, 2064, 1235, 1307,...</td>\n",
       "    </tr>\n",
       "    <tr>\n",
       "      <th>359</th>\n",
       "      <td>[4011, 37382, 3081, 1546, 1049, 3098, 541, 483...</td>\n",
       "      <td>[296, 318, 356, 593, 480, 260, 110, 589, 2571,...</td>\n",
       "      <td>[7748, 266, 6002, 78517, 2021, 3740, 81681, 10...</td>\n",
       "      <td>[47610, 36529, 1610, 6539, 2762, 1213, 34048, ...</td>\n",
       "    </tr>\n",
       "    <tr>\n",
       "      <th>394</th>\n",
       "      <td>[2054, 1035, 60943, 3091, 21, 4121, 2076, 541,...</td>\n",
       "      <td>[296, 318, 356, 593, 480, 260, 110, 589, 2571,...</td>\n",
       "      <td>[1372, 96966, 2580, 8977, 8978, 1004, 3916, 74...</td>\n",
       "      <td>[162, 1288, 111, 800, 1, 541, 2076, 903, 6440,...</td>\n",
       "    </tr>\n",
       "    <tr>\n",
       "      <th>572</th>\n",
       "      <td>[2, 39427, 54276, 1029, 37384, 33794, 42002, 5...</td>\n",
       "      <td>[296, 318, 356, 593, 480, 260, 110, 589, 2571,...</td>\n",
       "      <td>[2567, 8149, 1947, 30846, 58303, 2406, 6197, 1...</td>\n",
       "      <td>[33660, 33794, 3360, 6879, 1500, 32029, 440, 3...</td>\n",
       "    </tr>\n",
       "  </tbody>\n",
       "</table>\n",
       "</div>"
      ],
      "text/plain": [
       "                                                   actual  \\\n",
       "userId                                                      \n",
       "156     [5638, 6156, 3330, 3598, 3087, 4628, 2581, 412...   \n",
       "208     [517, 4103, 55820, 5135, 72720, 4117, 535, 338...   \n",
       "359     [4011, 37382, 3081, 1546, 1049, 3098, 541, 483...   \n",
       "394     [2054, 1035, 60943, 3091, 21, 4121, 2076, 541,...   \n",
       "572     [2, 39427, 54276, 1029, 37384, 33794, 42002, 5...   \n",
       "\n",
       "                                          pop_predictions  \\\n",
       "userId                                                      \n",
       "156     [296, 318, 356, 593, 480, 260, 110, 589, 2571,...   \n",
       "208     [296, 318, 356, 593, 480, 260, 110, 589, 2571,...   \n",
       "359     [296, 318, 356, 593, 480, 260, 110, 589, 2571,...   \n",
       "394     [296, 318, 356, 593, 480, 260, 110, 589, 2571,...   \n",
       "572     [296, 318, 356, 593, 480, 260, 110, 589, 2571,...   \n",
       "\n",
       "                                       random_predictions  \\\n",
       "userId                                                      \n",
       "156     [1931, 3211, 100383, 4474, 337, 1037, 4034, 88...   \n",
       "208     [59315, 94896, 97304, 2650, 319, 7147, 3969, 1...   \n",
       "359     [7748, 266, 6002, 78517, 2021, 3740, 81681, 10...   \n",
       "394     [1372, 96966, 2580, 8977, 8978, 1004, 3916, 74...   \n",
       "572     [2567, 8149, 1947, 30846, 58303, 2406, 6197, 1...   \n",
       "\n",
       "                                           cf_predictions  \n",
       "userId                                                     \n",
       "156     [2672, 3361, 3494, 4855, 3702, 4361, 1616, 162...  \n",
       "208     [3996, 515, 608, 1147, 1256, 2064, 1235, 1307,...  \n",
       "359     [47610, 36529, 1610, 6539, 2762, 1213, 34048, ...  \n",
       "394     [162, 1288, 111, 800, 1, 541, 2076, 903, 6440,...  \n",
       "572     [33660, 33794, 3360, 6879, 1500, 32029, 440, 3...  "
      ]
     },
     "execution_count": 19,
     "metadata": {},
     "output_type": "execute_result"
    }
   ],
   "source": [
    "#make recommendations for all members in the test data\n",
    "\n",
    "recs = []\n",
    "for user in user_index:\n",
    "    cf_predictions = get_users_predictions(user, 10, cf_model, train_long)\n",
    "    recs.append(cf_predictions)\n",
    "        \n",
    "test['cf_predictions'] = recs\n",
    "test.head()"
   ]
  },
  {
   "cell_type": "code",
   "execution_count": 20,
   "metadata": {},
   "outputs": [],
   "source": [
    "cf_predictions = test.cf_predictions.values.tolist()"
   ]
  },
  {
   "cell_type": "markdown",
   "metadata": {},
   "source": [
    "# Recall"
   ]
  },
  {
   "cell_type": "code",
   "execution_count": 85,
   "metadata": {},
   "outputs": [
    {
     "data": {
      "text/plain": [
       "[0.0006216505894962488,\n",
       " 0.0009378349410503752,\n",
       " 0.0011450518042157914,\n",
       " 0.0013620936048588782,\n",
       " 0.001529296177206145,\n",
       " 0.0016972132904608788,\n",
       " 0.0018380799265043637,\n",
       " 0.001961338233042413,\n",
       " 0.0020792374827744604,\n",
       " 0.002196064921145307]"
      ]
     },
     "execution_count": 85,
     "metadata": {},
     "output_type": "execute_result"
    }
   ],
   "source": [
    "pop_mark = []\n",
    "for K in np.arange(1, 11):\n",
    "    pop_mark.extend([mark(actual, pop_predictions, k=K)])\n",
    "pop_mark"
   ]
  },
  {
   "cell_type": "code",
   "execution_count": 86,
   "metadata": {},
   "outputs": [
    {
     "data": {
      "text/plain": [
       "[2.1436227224008577e-05,\n",
       " 4.823151125401929e-05,\n",
       " 6.609503394069311e-05,\n",
       " 7.681314755269738e-05,\n",
       " 8.753126116470168e-05,\n",
       " 8.753126116470168e-05,\n",
       " 0.00010131169295156435,\n",
       " 0.00010667074975756646,\n",
       " 0.00011619796185712583,\n",
       " 0.00012048520730192756]"
      ]
     },
     "execution_count": 86,
     "metadata": {},
     "output_type": "execute_result"
    }
   ],
   "source": [
    "random_mark = []\n",
    "for K in np.arange(1, 11):\n",
    "    random_mark.extend([mark(actual, random_predictions, k=K)])\n",
    "random_mark"
   ]
  },
  {
   "cell_type": "code",
   "execution_count": 87,
   "metadata": {},
   "outputs": [
    {
     "data": {
      "text/plain": [
       "[0.007931404072883171,\n",
       " 0.014560557341907823,\n",
       " 0.020741336191496963,\n",
       " 0.026092354412290103,\n",
       " 0.031155591282600925,\n",
       " 0.036046623794212224,\n",
       " 0.0406416322155872,\n",
       " 0.04504543714591946,\n",
       " 0.049318391772571836,\n",
       " 0.053168338182003776]"
      ]
     },
     "execution_count": 87,
     "metadata": {},
     "output_type": "execute_result"
    }
   ],
   "source": [
    "cf_mark = []\n",
    "for K in np.arange(1, 11):\n",
    "    cf_mark.extend([mark(actual, cf_predictions, k=K)])\n",
    "cf_mark"
   ]
  },
  {
   "cell_type": "code",
   "execution_count": 88,
   "metadata": {},
   "outputs": [
    {
     "data": {
      "image/png": "[encoded data removed]",
      "text/plain": [
       "<Figure size 1080x504 with 1 Axes>"
      ]
     },
     "metadata": {
      "needs_background": "light"
     },
     "output_type": "display_data"
    }
   ],
   "source": [
    "mark_scores = [random_mark, pop_mark, cf_mark]\n",
    "index = range(1,10+1)\n",
    "names = ['Random Recommender', 'Popularity Recommender', 'Collaborative Filter']\n",
    "\n",
    "fig = plt.figure(figsize=(15, 7))\n",
    "MarkPlot(mark_scores, model_names=names, k_range=index)"
   ]
  },
  {
   "cell_type": "markdown",
   "metadata": {},
   "source": [
    "# Precision"
   ]
  },
  {
   "cell_type": "code",
   "execution_count": 112,
   "metadata": {},
   "outputs": [],
   "source": [
    "import ml_metrics as metrics"
   ]
  },
  {
   "cell_type": "code",
   "execution_count": 113,
   "metadata": {},
   "outputs": [
    {
     "data": {
      "text/plain": [
       "[0.06216505894962487,\n",
       " 0.04689174705251876,\n",
       " 0.03816839347385972,\n",
       " 0.03405234012147195,\n",
       " 0.030585923544122904,\n",
       " 0.02828688817434798,\n",
       " 0.026258284664348052,\n",
       " 0.024516727913030164,\n",
       " 0.023102638697494002,\n",
       " 0.02196064921145307]"
      ]
     },
     "execution_count": 113,
     "metadata": {},
     "output_type": "execute_result"
    }
   ],
   "source": [
    "pop_mapk = []\n",
    "for K in np.arange(1, 11):\n",
    "    pop_mapk.extend([metrics.mapk(actual, pop_predictions, k=K)])\n",
    "pop_mapk"
   ]
  },
  {
   "cell_type": "code",
   "execution_count": 114,
   "metadata": {},
   "outputs": [
    {
     "data": {
      "text/plain": [
       "[0.0021436227224008574,\n",
       " 0.002411575562700965,\n",
       " 0.002203167798023103,\n",
       " 0.0019203286888174347,\n",
       " 0.0017506252232940334,\n",
       " 0.001458854352745028,\n",
       " 0.001447309899308062,\n",
       " 0.001333384371969581,\n",
       " 0.001291088465079176,\n",
       " 0.0012048520730192755]"
      ]
     },
     "execution_count": 114,
     "metadata": {},
     "output_type": "execute_result"
    }
   ],
   "source": [
    "random_mapk = []\n",
    "for K in np.arange(1, 11):\n",
    "    random_mapk.extend([metrics.mapk(actual, random_predictions, k=K)])\n",
    "random_mapk"
   ]
  },
  {
   "cell_type": "code",
   "execution_count": 115,
   "metadata": {},
   "outputs": [
    {
     "data": {
      "text/plain": [
       "[0.7931404072883173,\n",
       " 0.7280278670953912,\n",
       " 0.6913778730498986,\n",
       " 0.6523088603072525,\n",
       " 0.6231118256520185,\n",
       " 0.6007770632368702,\n",
       " 0.58059474593696,\n",
       " 0.5630679643239933,\n",
       " 0.5479821308063537,\n",
       " 0.5316833818200377]"
      ]
     },
     "execution_count": 115,
     "metadata": {},
     "output_type": "execute_result"
    }
   ],
   "source": [
    "cf_mapk = []\n",
    "for K in np.arange(1, 11):\n",
    "    cf_mapk.extend([metrics.mapk(actual, cf_predictions, k=K)])\n",
    "cf_mapk"
   ]
  },
  {
   "cell_type": "code",
   "execution_count": 116,
   "metadata": {},
   "outputs": [
    {
     "data": {
      "image/png": "[encoded data removed]",
      "text/plain": [
       "<Figure size 1080x504 with 1 Axes>"
      ]
     },
     "metadata": {
      "needs_background": "light"
     },
     "output_type": "display_data"
    }
   ],
   "source": [
    "mapk_scores = [random_mapk, pop_mapk, cf_mapk]\n",
    "index = range(1,10+1)\n",
    "names = ['Random Recommender', 'Popularity Recommender', 'Collaborative Filter']\n",
    "\n",
    "fig = plt.figure(figsize=(15, 7))\n",
    "MapkPlot(mapk_scores, model_names=names, k_range=index)"
   ]
  },
  {
   "cell_type": "markdown",
   "metadata": {},
   "source": [
    "# Coverage"
   ]
  },
  {
   "cell_type": "code",
   "execution_count": 94,
   "metadata": {},
   "outputs": [],
   "source": [
    "catalog = train_long.movieId.unique().tolist()\n",
    "random_coverage = coverage(random_predictions, catalog)\n",
    "pop_coverage = coverage(pop_predictions, catalog)\n",
    "cf_coverage = coverage(cf_predictions, catalog)"
   ]
  },
  {
   "cell_type": "code",
   "execution_count": 95,
   "metadata": {},
   "outputs": [
    {
     "data": {
      "image/png": "[encoded data removed]",
      "text/plain": [
       "<Figure size 504x360 with 1 Axes>"
      ]
     },
     "metadata": {
      "needs_background": "light"
     },
     "output_type": "display_data"
    }
   ],
   "source": [
    "coverage_scores = [pop_coverage, cf_coverage, random_coverage]\n",
    "model_names = ['Popularity Recommender', 'Collaborative Filter', 'Random Recommender']\n",
    "\n",
    "fig = plt.figure(figsize=(7, 5))\n",
    "CoveragePlot(coverage_scores, model_names)"
   ]
  },
  {
   "cell_type": "code",
   "execution_count": 96,
   "metadata": {},
   "outputs": [
    {
     "data": {
      "text/plain": [
       "[0.05, 8.42, 99.93]"
      ]
     },
     "execution_count": 96,
     "metadata": {},
     "output_type": "execute_result"
    }
   ],
   "source": [
    "coverage_scores"
   ]
  },
  {
   "cell_type": "markdown",
   "metadata": {},
   "source": [
    "# Personalization"
   ]
  },
  {
   "cell_type": "code",
   "execution_count": null,
   "metadata": {},
   "outputs": [],
   "source": [
    "random_personalization = personalization(predicted=random_predictions)\n",
    "np.round(random_personalization,4)"
   ]
  },
  {
   "cell_type": "code",
   "execution_count": null,
   "metadata": {},
   "outputs": [],
   "source": [
    "pop_personalization = personalization(predicted=pop_predictions)\n",
    "np.round(pop_personalization,4)"
   ]
  },
  {
   "cell_type": "code",
   "execution_count": null,
   "metadata": {},
   "outputs": [],
   "source": [
    "cf_personalization = personalization(predicted=cf_predictions)\n",
    "np.round(cf_personalization,4)"
   ]
  },
  {
   "cell_type": "markdown",
   "metadata": {},
   "source": [
    "# Intra-list Similarity"
   ]
  },
  {
   "cell_type": "code",
   "execution_count": null,
   "metadata": {},
   "outputs": [],
   "source": [
    "random_ils = intra_list_similarity(predicted=random_predictions, feature_df=movies)\n",
    "np.round(random_ils,4)"
   ]
  },
  {
   "cell_type": "code",
   "execution_count": null,
   "metadata": {},
   "outputs": [],
   "source": [
    "pop_ils = intra_list_similarity(predicted=pop_predictions, feature_df=movies)\n",
    "np.round(pop_ils,4)"
   ]
  },
  {
   "cell_type": "code",
   "execution_count": null,
   "metadata": {},
   "outputs": [],
   "source": [
    "cf_ils = intra_list_similarity(predicted=cf_predictions, feature_df=movies)\n",
    "np.round(cf_ils,4)"
   ]
  },
  {
   "cell_type": "code",
   "execution_count": null,
   "metadata": {},
   "outputs": [],
   "source": []
  }
 ],
 "metadata": {
  "kernelspec": {
   "display_name": "recommender_metrics",
   "language": "python",
   "name": "recommender_metrics"
  },
  "language_info": {
   "codemirror_mode": {
    "name": "ipython",
    "version": 2
   },
   "file_extension": ".py",
   "mimetype": "text/x-python",
   "name": "python",
   "nbconvert_exporter": "python",
   "pygments_lexer": "ipython2",
   "version": "2.7.15"
  },
  "toc": {
   "colors": {
    "hover_highlight": "#DAA520",
    "navigate_num": "#000000",
    "navigate_text": "#333333",
    "running_highlight": "#FF0000",
    "selected_highlight": "#FFD700",
    "sidebar_border": "#EEEEEE",
    "wrapper_background": "#FFFFFF"
   },
   "moveMenuLeft": true,
   "nav_menu": {
    "height": "171px",
    "width": "252px"
   },
   "navigate_menu": true,
   "number_sections": true,
   "sideBar": true,
   "skip_h1_title": false,
   "threshold": 4,
   "toc_cell": false,
   "toc_section_display": "block",
   "toc_window_display": false,
   "widenNotebook": false
  }
 },
 "nbformat": 4,
 "nbformat_minor": 2
}
